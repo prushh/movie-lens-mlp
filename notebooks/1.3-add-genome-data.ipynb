{
 "cells": [
  {
   "cell_type": "markdown",
   "metadata": {
    "collapsed": true,
    "pycharm": {
     "name": "#%% md\n"
    }
   },
   "source": [
    "# Add genome data"
   ]
  },
  {
   "cell_type": "markdown",
   "source": [
    "## Imports"
   ],
   "metadata": {
    "collapsed": false,
    "pycharm": {
     "name": "#%% md\n"
    }
   }
  },
  {
   "cell_type": "code",
   "execution_count": null,
   "outputs": [],
   "source": [
    "import os\n",
    "\n",
    "import pandas as pd\n",
    "\n",
    "from src.utils.const import DATA_DIR\n",
    "from src.utils.wrapper import fill_na, drop, reset_index"
   ],
   "metadata": {
    "collapsed": false,
    "pycharm": {
     "name": "#%%\n"
    }
   }
  },
  {
   "cell_type": "markdown",
   "source": [
    "### Useful path to data"
   ],
   "metadata": {
    "collapsed": false,
    "pycharm": {
     "name": "#%% md\n"
    }
   }
  },
  {
   "cell_type": "code",
   "execution_count": null,
   "outputs": [],
   "source": [
    "ROOT_DIR = os.path.join(os.getcwd(), '..')\n",
    "RAW_DIR = os.path.join(ROOT_DIR, DATA_DIR, 'raw')\n",
    "INTERIM_DIR = os.path.join(ROOT_DIR, DATA_DIR, 'interim')\n",
    "PROCESSED_DIR = os.path.join(ROOT_DIR, DATA_DIR, 'processed')"
   ],
   "metadata": {
    "collapsed": false,
    "pycharm": {
     "name": "#%%\n"
    }
   }
  },
  {
   "cell_type": "markdown",
   "source": [
    "## Import all interim .csv"
   ],
   "metadata": {
    "collapsed": false,
    "pycharm": {
     "name": "#%% md\n"
    }
   }
  },
  {
   "cell_type": "code",
   "execution_count": null,
   "outputs": [],
   "source": [
    "movies = pd.read_parquet(\n",
    "    os.path.join(INTERIM_DIR, 'movies.parquet')\n",
    ")\n",
    "\n",
    "tags = pd.read_parquet(\n",
    "    os.path.join(INTERIM_DIR, 'tags.parquet')\n",
    ")\n",
    "\n",
    "ratings = pd.read_parquet(\n",
    "    os.path.join(INTERIM_DIR, 'ratings.parquet')\n",
    ")\n",
    "\n",
    "tmdb = pd.read_parquet(\n",
    "    os.path.join(INTERIM_DIR, 'tmdb.parquet')\n",
    ")"
   ],
   "metadata": {
    "collapsed": false,
    "pycharm": {
     "name": "#%%\n"
    }
   }
  },
  {
   "cell_type": "markdown",
   "source": [
    "## genome-*.csv"
   ],
   "metadata": {
    "collapsed": false,
    "pycharm": {
     "name": "#%% md\n"
    }
   }
  },
  {
   "cell_type": "code",
   "execution_count": null,
   "outputs": [],
   "source": [
    "genome_scores = pd.read_csv(\n",
    "    os.path.join(RAW_DIR, 'genome-scores.csv'),\n",
    "    encoding='utf-8',\n",
    "    dtype={'movieId':'int32', 'tagId':'int32', 'relevance':'float32'}\n",
    ")\n",
    "\n",
    "genome_scores.info()"
   ],
   "metadata": {
    "collapsed": false,
    "pycharm": {
     "name": "#%%\n"
    }
   }
  },
  {
   "cell_type": "code",
   "execution_count": null,
   "outputs": [],
   "source": [
    "genome_tags = pd.read_csv(\n",
    "    os.path.join(RAW_DIR, 'genome-tags.csv'),\n",
    "    encoding='utf-8',\n",
    "    dtype={'tagId':'int32', 'tag':'string'}\n",
    ")\n",
    "\n",
    "genome_tags.info()"
   ],
   "metadata": {
    "collapsed": false,
    "pycharm": {
     "name": "#%%\n"
    }
   }
  },
  {
   "cell_type": "markdown",
   "source": [
    "### Pipe genome-*.csv"
   ],
   "metadata": {
    "collapsed": false,
    "pycharm": {
     "name": "#%% md\n"
    }
   }
  },
  {
   "cell_type": "code",
   "execution_count": null,
   "outputs": [],
   "source": [
    "tags_relevance = genome_scores. \\\n",
    "    pipe(pd.merge, genome_tags, on='tagId', how='left'). \\\n",
    "    pipe(pd.pivot, index='movieId', columns='tag', values='relevance'). \\\n",
    "    pipe(reset_index)"
   ],
   "metadata": {
    "collapsed": false,
    "pycharm": {
     "name": "#%%\n"
    }
   }
  },
  {
   "cell_type": "markdown",
   "source": [
    "## final.csv"
   ],
   "metadata": {
    "collapsed": false,
    "pycharm": {
     "name": "#%% md\n"
    }
   }
  },
  {
   "cell_type": "code",
   "execution_count": null,
   "outputs": [],
   "source": [
    "final = movies. \\\n",
    "    pipe(pd.merge, ratings, on='movieId', how='inner'). \\\n",
    "    pipe(pd.merge, tags, on='movieId', how='inner'). \\\n",
    "    pipe(fill_na, 'tag_count', 'zero'). \\\n",
    "    pipe(pd.merge, tmdb, on='movieId', how='inner'). \\\n",
    "    pipe(pd.merge, tags_relevance, on='movieId', how='inner'). \\\n",
    "    pipe(drop, 'movieId')\n",
    "\n",
    "final.info()"
   ],
   "metadata": {
    "collapsed": false,
    "pycharm": {
     "name": "#%%\n"
    }
   }
  },
  {
   "cell_type": "code",
   "execution_count": null,
   "outputs": [],
   "source": [
    "final.head()"
   ],
   "metadata": {
    "collapsed": false,
    "pycharm": {
     "name": "#%%\n"
    }
   }
  }
 ],
 "metadata": {
  "kernelspec": {
   "display_name": "Python 3",
   "language": "python",
   "name": "python3"
  },
  "language_info": {
   "codemirror_mode": {
    "name": "ipython",
    "version": 2
   },
   "file_extension": ".py",
   "mimetype": "text/x-python",
   "name": "python",
   "nbconvert_exporter": "python",
   "pygments_lexer": "ipython2",
   "version": "2.7.6"
  }
 },
 "nbformat": 4,
 "nbformat_minor": 0
}