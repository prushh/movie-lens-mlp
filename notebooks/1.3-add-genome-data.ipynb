{
 "cells": [
  {
   "cell_type": "markdown",
   "metadata": {
    "collapsed": true,
    "pycharm": {
     "name": "#%% md\n"
    }
   },
   "source": [
    "# Add genome data"
   ]
  },
  {
   "cell_type": "markdown",
   "source": [
    "## Imports"
   ],
   "metadata": {
    "collapsed": false,
    "pycharm": {
     "name": "#%% md\n"
    }
   }
  },
  {
   "cell_type": "code",
   "execution_count": 1,
   "outputs": [],
   "source": [
    "import os\n",
    "\n",
    "import pandas as pd\n",
    "from pandas import pivot\n",
    "\n",
    "from src.utils.const import DATA_DIR\n",
    "from src.utils.wrapper import fill_na, drop, reset_index"
   ],
   "metadata": {
    "collapsed": false,
    "pycharm": {
     "name": "#%%\n"
    }
   }
  },
  {
   "cell_type": "markdown",
   "source": [
    "### Useful path to data"
   ],
   "metadata": {
    "collapsed": false,
    "pycharm": {
     "name": "#%% md\n"
    }
   }
  },
  {
   "cell_type": "code",
   "execution_count": 2,
   "outputs": [],
   "source": [
    "ROOT_DIR = os.path.join(os.getcwd(), '..')\n",
    "RAW_DIR = os.path.join(ROOT_DIR, DATA_DIR, 'raw')\n",
    "INTERIM_DIR = os.path.join(ROOT_DIR, DATA_DIR, 'interim')\n",
    "PROCESSED_DIR = os.path.join(ROOT_DIR, DATA_DIR, 'processed')"
   ],
   "metadata": {
    "collapsed": false,
    "pycharm": {
     "name": "#%%\n"
    }
   }
  },
  {
   "cell_type": "markdown",
   "source": [
    "## Import all interim .csv"
   ],
   "metadata": {
    "collapsed": false,
    "pycharm": {
     "name": "#%% md\n"
    }
   }
  },
  {
   "cell_type": "code",
   "execution_count": 3,
   "outputs": [],
   "source": [
    "movies = pd.read_parquet(\n",
    "    os.path.join(INTERIM_DIR, 'movies.parquet')\n",
    ")\n",
    "\n",
    "tags = pd.read_parquet(\n",
    "    os.path.join(INTERIM_DIR, 'tags.parquet')\n",
    ")\n",
    "\n",
    "ratings = pd.read_parquet(\n",
    "    os.path.join(INTERIM_DIR, 'ratings.parquet')\n",
    ")\n",
    "\n",
    "tmdb = pd.read_parquet(\n",
    "    os.path.join(INTERIM_DIR, 'tmdb.parquet')\n",
    ")"
   ],
   "metadata": {
    "collapsed": false,
    "pycharm": {
     "name": "#%%\n"
    }
   }
  },
  {
   "cell_type": "markdown",
   "source": [
    "## genome-*.csv"
   ],
   "metadata": {
    "collapsed": false,
    "pycharm": {
     "name": "#%% md\n"
    }
   }
  },
  {
   "cell_type": "code",
   "execution_count": 4,
   "outputs": [
    {
     "name": "stdout",
     "output_type": "stream",
     "text": [
      "<class 'pandas.core.frame.DataFrame'>\n",
      "RangeIndex: 14862528 entries, 0 to 14862527\n",
      "Data columns (total 3 columns):\n",
      " #   Column     Dtype  \n",
      "---  ------     -----  \n",
      " 0   movieId    int32  \n",
      " 1   tagId      int32  \n",
      " 2   relevance  float32\n",
      "dtypes: float32(1), int32(2)\n",
      "memory usage: 170.1 MB\n"
     ]
    }
   ],
   "source": [
    "genome_scores = pd.read_csv(\n",
    "    os.path.join(RAW_DIR, 'genome-scores.csv'),\n",
    "    encoding='utf-8',\n",
    "    dtype={'movieId':'int32', 'tagId':'int32', 'relevance':'float32'}\n",
    ")\n",
    "\n",
    "genome_scores.info()"
   ],
   "metadata": {
    "collapsed": false,
    "pycharm": {
     "name": "#%%\n"
    }
   }
  },
  {
   "cell_type": "code",
   "execution_count": 5,
   "outputs": [
    {
     "name": "stdout",
     "output_type": "stream",
     "text": [
      "<class 'pandas.core.frame.DataFrame'>\n",
      "RangeIndex: 1128 entries, 0 to 1127\n",
      "Data columns (total 2 columns):\n",
      " #   Column  Non-Null Count  Dtype \n",
      "---  ------  --------------  ----- \n",
      " 0   tagId   1128 non-null   int32 \n",
      " 1   tag     1128 non-null   string\n",
      "dtypes: int32(1), string(1)\n",
      "memory usage: 13.3 KB\n"
     ]
    }
   ],
   "source": [
    "genome_tags = pd.read_csv(\n",
    "    os.path.join(RAW_DIR, 'genome-tags.csv'),\n",
    "    encoding='utf-8',\n",
    "    dtype={'tagId':'int32', 'tag':'string'}\n",
    ")\n",
    "\n",
    "genome_tags.info()"
   ],
   "metadata": {
    "collapsed": false,
    "pycharm": {
     "name": "#%%\n"
    }
   }
  },
  {
   "cell_type": "markdown",
   "source": [
    "### Pipe genomes-*.csv"
   ],
   "metadata": {
    "collapsed": false,
    "pycharm": {
     "name": "#%% md\n"
    }
   }
  },
  {
   "cell_type": "code",
   "execution_count": 6,
   "outputs": [],
   "source": [
    "tags_relevance = genome_scores. \\\n",
    "    pipe(pd.merge, genome_tags, on='tagId', how='left'). \\\n",
    "    pipe(pivot, index='movieId', columns='tag', values='relevance'). \\\n",
    "    pipe(reset_index)"
   ],
   "metadata": {
    "collapsed": false,
    "pycharm": {
     "name": "#%%\n"
    }
   }
  },
  {
   "cell_type": "markdown",
   "source": [
    "## final.csv"
   ],
   "metadata": {
    "collapsed": false,
    "pycharm": {
     "name": "#%% md\n"
    }
   }
  },
  {
   "cell_type": "code",
   "execution_count": 7,
   "outputs": [
    {
     "name": "stdout",
     "output_type": "stream",
     "text": [
      "<class 'pandas.core.frame.DataFrame'>\n",
      "Int64Index: 12987 entries, 0 to 12986\n",
      "Columns: 1153 entries, year to zombies\n",
      "dtypes: float32(1132), int32(21)\n",
      "memory usage: 57.2 MB\n"
     ]
    }
   ],
   "source": [
    "final = movies. \\\n",
    "    pipe(pd.merge, ratings, on='movieId', how='inner'). \\\n",
    "    pipe(pd.merge, tags, on='movieId', how='inner'). \\\n",
    "    pipe(fill_na, 'tag_count', 'zero'). \\\n",
    "    pipe(pd.merge, tmdb, on='movieId', how='inner'). \\\n",
    "    pipe(pd.merge, tags_relevance, on='movieId', how='inner'). \\\n",
    "    pipe(drop, 'movieId')\n",
    "\n",
    "final.info()"
   ],
   "metadata": {
    "collapsed": false,
    "pycharm": {
     "name": "#%%\n"
    }
   }
  },
  {
   "cell_type": "code",
   "execution_count": 8,
   "outputs": [
    {
     "data": {
      "text/plain": "     year  title_length  Action  Adventure  Animation  Children  Comedy  \\\n0  1995.0            16       0          1          1         1       1   \n1  1995.0            14       0          1          0         1       0   \n2  1995.0            23       0          0          0         0       1   \n3  1995.0            24       0          0          0         0       1   \n4  1995.0            34       0          0          0         0       1   \n\n   Crime  Documentary  Drama  ...  world politics  world war i  world war ii  \\\n0      0            0      0  ...         0.03775      0.02250       0.04075   \n1      0            0      0  ...         0.04775      0.02050       0.01650   \n2      0            0      0  ...         0.05800      0.02375       0.03550   \n3      0            0      1  ...         0.04900      0.03275       0.02125   \n4      0            0      0  ...         0.05375      0.02625       0.02050   \n\n   writer's life  writers  writing    wuxia     wwii   zombie  zombies  \n0        0.03175  0.12950  0.04550  0.02000  0.03850  0.09125  0.02225  \n1        0.02450  0.13050  0.02700  0.01825  0.01225  0.09925  0.01850  \n2        0.02125  0.12775  0.03250  0.01625  0.02125  0.09525  0.01750  \n3        0.03675  0.15925  0.05225  0.01500  0.01600  0.09175  0.01500  \n4        0.02125  0.17725  0.02050  0.01500  0.01550  0.08875  0.01575  \n\n[5 rows x 1153 columns]",
      "text/html": "<div>\n<style scoped>\n    .dataframe tbody tr th:only-of-type {\n        vertical-align: middle;\n    }\n\n    .dataframe tbody tr th {\n        vertical-align: top;\n    }\n\n    .dataframe thead th {\n        text-align: right;\n    }\n</style>\n<table border=\"1\" class=\"dataframe\">\n  <thead>\n    <tr style=\"text-align: right;\">\n      <th></th>\n      <th>year</th>\n      <th>title_length</th>\n      <th>Action</th>\n      <th>Adventure</th>\n      <th>Animation</th>\n      <th>Children</th>\n      <th>Comedy</th>\n      <th>Crime</th>\n      <th>Documentary</th>\n      <th>Drama</th>\n      <th>...</th>\n      <th>world politics</th>\n      <th>world war i</th>\n      <th>world war ii</th>\n      <th>writer's life</th>\n      <th>writers</th>\n      <th>writing</th>\n      <th>wuxia</th>\n      <th>wwii</th>\n      <th>zombie</th>\n      <th>zombies</th>\n    </tr>\n  </thead>\n  <tbody>\n    <tr>\n      <th>0</th>\n      <td>1995.0</td>\n      <td>16</td>\n      <td>0</td>\n      <td>1</td>\n      <td>1</td>\n      <td>1</td>\n      <td>1</td>\n      <td>0</td>\n      <td>0</td>\n      <td>0</td>\n      <td>...</td>\n      <td>0.03775</td>\n      <td>0.02250</td>\n      <td>0.04075</td>\n      <td>0.03175</td>\n      <td>0.12950</td>\n      <td>0.04550</td>\n      <td>0.02000</td>\n      <td>0.03850</td>\n      <td>0.09125</td>\n      <td>0.02225</td>\n    </tr>\n    <tr>\n      <th>1</th>\n      <td>1995.0</td>\n      <td>14</td>\n      <td>0</td>\n      <td>1</td>\n      <td>0</td>\n      <td>1</td>\n      <td>0</td>\n      <td>0</td>\n      <td>0</td>\n      <td>0</td>\n      <td>...</td>\n      <td>0.04775</td>\n      <td>0.02050</td>\n      <td>0.01650</td>\n      <td>0.02450</td>\n      <td>0.13050</td>\n      <td>0.02700</td>\n      <td>0.01825</td>\n      <td>0.01225</td>\n      <td>0.09925</td>\n      <td>0.01850</td>\n    </tr>\n    <tr>\n      <th>2</th>\n      <td>1995.0</td>\n      <td>23</td>\n      <td>0</td>\n      <td>0</td>\n      <td>0</td>\n      <td>0</td>\n      <td>1</td>\n      <td>0</td>\n      <td>0</td>\n      <td>0</td>\n      <td>...</td>\n      <td>0.05800</td>\n      <td>0.02375</td>\n      <td>0.03550</td>\n      <td>0.02125</td>\n      <td>0.12775</td>\n      <td>0.03250</td>\n      <td>0.01625</td>\n      <td>0.02125</td>\n      <td>0.09525</td>\n      <td>0.01750</td>\n    </tr>\n    <tr>\n      <th>3</th>\n      <td>1995.0</td>\n      <td>24</td>\n      <td>0</td>\n      <td>0</td>\n      <td>0</td>\n      <td>0</td>\n      <td>1</td>\n      <td>0</td>\n      <td>0</td>\n      <td>1</td>\n      <td>...</td>\n      <td>0.04900</td>\n      <td>0.03275</td>\n      <td>0.02125</td>\n      <td>0.03675</td>\n      <td>0.15925</td>\n      <td>0.05225</td>\n      <td>0.01500</td>\n      <td>0.01600</td>\n      <td>0.09175</td>\n      <td>0.01500</td>\n    </tr>\n    <tr>\n      <th>4</th>\n      <td>1995.0</td>\n      <td>34</td>\n      <td>0</td>\n      <td>0</td>\n      <td>0</td>\n      <td>0</td>\n      <td>1</td>\n      <td>0</td>\n      <td>0</td>\n      <td>0</td>\n      <td>...</td>\n      <td>0.05375</td>\n      <td>0.02625</td>\n      <td>0.02050</td>\n      <td>0.02125</td>\n      <td>0.17725</td>\n      <td>0.02050</td>\n      <td>0.01500</td>\n      <td>0.01550</td>\n      <td>0.08875</td>\n      <td>0.01575</td>\n    </tr>\n  </tbody>\n</table>\n<p>5 rows × 1153 columns</p>\n</div>"
     },
     "execution_count": 8,
     "metadata": {},
     "output_type": "execute_result"
    }
   ],
   "source": [
    "final.head()"
   ],
   "metadata": {
    "collapsed": false,
    "pycharm": {
     "name": "#%%\n"
    }
   }
  }
 ],
 "metadata": {
  "kernelspec": {
   "display_name": "Python 3",
   "language": "python",
   "name": "python3"
  },
  "language_info": {
   "codemirror_mode": {
    "name": "ipython",
    "version": 2
   },
   "file_extension": ".py",
   "mimetype": "text/x-python",
   "name": "python",
   "nbconvert_exporter": "python",
   "pygments_lexer": "ipython2",
   "version": "2.7.6"
  }
 },
 "nbformat": 4,
 "nbformat_minor": 0
}