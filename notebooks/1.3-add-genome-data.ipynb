{
 "cells": [
  {
   "cell_type": "markdown",
   "metadata": {
    "collapsed": true,
    "pycharm": {
     "name": "#%% md\n"
    }
   },
   "source": [
    "# Add genome data"
   ]
  },
  {
   "cell_type": "markdown",
   "source": [
    "## Imports"
   ],
   "metadata": {
    "collapsed": false,
    "pycharm": {
     "name": "#%% md\n"
    }
   }
  },
  {
   "cell_type": "code",
   "execution_count": 1,
   "outputs": [],
   "source": [
    "import os\n",
    "\n",
    "import pandas as pd\n",
    "from pandas import pivot\n",
    "\n",
    "from src.utils.const import DATA_DIR\n",
    "from src.utils.wrapper import fill_na, drop, reset_index"
   ],
   "metadata": {
    "collapsed": false,
    "pycharm": {
     "name": "#%%\n"
    }
   }
  },
  {
   "cell_type": "markdown",
   "source": [
    "### Useful path to data"
   ],
   "metadata": {
    "collapsed": false,
    "pycharm": {
     "name": "#%% md\n"
    }
   }
  },
  {
   "cell_type": "code",
   "execution_count": 2,
   "outputs": [],
   "source": [
    "ROOT_DIR = os.path.join(os.getcwd(), '..')\n",
    "RAW_DIR = os.path.join(ROOT_DIR, DATA_DIR, 'raw')\n",
    "INTERIM_DIR = os.path.join(ROOT_DIR, DATA_DIR, 'interim')\n",
    "PROCESSED_DIR = os.path.join(ROOT_DIR, DATA_DIR, 'processed')"
   ],
   "metadata": {
    "collapsed": false,
    "pycharm": {
     "name": "#%%\n"
    }
   }
  },
  {
   "cell_type": "markdown",
   "source": [
    "## Import all interim .csv"
   ],
   "metadata": {
    "collapsed": false,
    "pycharm": {
     "name": "#%% md\n"
    }
   }
  },
  {
   "cell_type": "code",
   "execution_count": 3,
   "outputs": [],
   "source": [
    "movies = pd.read_parquet(\n",
    "    os.path.join(INTERIM_DIR, 'movies.parquet')\n",
    ")\n",
    "\n",
    "tags = pd.read_parquet(\n",
    "    os.path.join(INTERIM_DIR, 'tags.parquet')\n",
    ")\n",
    "\n",
    "ratings = pd.read_parquet(\n",
    "    os.path.join(INTERIM_DIR, 'ratings.parquet')\n",
    ")\n",
    "\n",
    "tmdb = pd.read_parquet(\n",
    "    os.path.join(INTERIM_DIR, 'tmdb.parquet')\n",
    ")"
   ],
   "metadata": {
    "collapsed": false,
    "pycharm": {
     "name": "#%%\n"
    }
   }
  },
  {
   "cell_type": "markdown",
   "source": [
    "## genome-*.csv"
   ],
   "metadata": {
    "collapsed": false,
    "pycharm": {
     "name": "#%% md\n"
    }
   }
  },
  {
   "cell_type": "code",
   "execution_count": 4,
   "outputs": [
    {
     "name": "stdout",
     "output_type": "stream",
     "text": [
      "<class 'pandas.core.frame.DataFrame'>\n",
      "RangeIndex: 14862528 entries, 0 to 14862527\n",
      "Data columns (total 3 columns):\n",
      " #   Column     Dtype  \n",
      "---  ------     -----  \n",
      " 0   movieId    int32  \n",
      " 1   tagId      int32  \n",
      " 2   relevance  float32\n",
      "dtypes: float32(1), int32(2)\n",
      "memory usage: 170.1 MB\n"
     ]
    }
   ],
   "source": [
    "genome_scores = pd.read_csv(\n",
    "    os.path.join(RAW_DIR, 'genome-scores.csv'),\n",
    "    encoding='utf-8',\n",
    "    dtype={'movieId':'int32', 'tagId':'int32', 'relevance':'float32'}\n",
    ")\n",
    "\n",
    "genome_scores.info()"
   ],
   "metadata": {
    "collapsed": false,
    "pycharm": {
     "name": "#%%\n"
    }
   }
  },
  {
   "cell_type": "code",
   "execution_count": 5,
   "outputs": [
    {
     "name": "stdout",
     "output_type": "stream",
     "text": [
      "<class 'pandas.core.frame.DataFrame'>\n",
      "RangeIndex: 1128 entries, 0 to 1127\n",
      "Data columns (total 2 columns):\n",
      " #   Column  Non-Null Count  Dtype \n",
      "---  ------  --------------  ----- \n",
      " 0   tagId   1128 non-null   int32 \n",
      " 1   tag     1128 non-null   string\n",
      "dtypes: int32(1), string(1)\n",
      "memory usage: 13.3 KB\n"
     ]
    }
   ],
   "source": [
    "genome_tags = pd.read_csv(\n",
    "    os.path.join(RAW_DIR, 'genome-tags.csv'),\n",
    "    encoding='utf-8',\n",
    "    dtype={'tagId':'int32', 'tag':'string'}\n",
    ")\n",
    "\n",
    "genome_tags.info()"
   ],
   "metadata": {
    "collapsed": false,
    "pycharm": {
     "name": "#%%\n"
    }
   }
  },
  {
   "cell_type": "code",
   "execution_count": 6,
   "outputs": [
    {
     "data": {
      "text/plain": "      tagId           tag\n0         1           007\n1         2  007 (series)\n2         3  18th century\n3         4         1920s\n4         5         1930s\n...     ...           ...\n1123   1124       writing\n1124   1125         wuxia\n1125   1126          wwii\n1126   1127        zombie\n1127   1128       zombies\n\n[1128 rows x 2 columns]",
      "text/html": "<div>\n<style scoped>\n    .dataframe tbody tr th:only-of-type {\n        vertical-align: middle;\n    }\n\n    .dataframe tbody tr th {\n        vertical-align: top;\n    }\n\n    .dataframe thead th {\n        text-align: right;\n    }\n</style>\n<table border=\"1\" class=\"dataframe\">\n  <thead>\n    <tr style=\"text-align: right;\">\n      <th></th>\n      <th>tagId</th>\n      <th>tag</th>\n    </tr>\n  </thead>\n  <tbody>\n    <tr>\n      <th>0</th>\n      <td>1</td>\n      <td>007</td>\n    </tr>\n    <tr>\n      <th>1</th>\n      <td>2</td>\n      <td>007 (series)</td>\n    </tr>\n    <tr>\n      <th>2</th>\n      <td>3</td>\n      <td>18th century</td>\n    </tr>\n    <tr>\n      <th>3</th>\n      <td>4</td>\n      <td>1920s</td>\n    </tr>\n    <tr>\n      <th>4</th>\n      <td>5</td>\n      <td>1930s</td>\n    </tr>\n    <tr>\n      <th>...</th>\n      <td>...</td>\n      <td>...</td>\n    </tr>\n    <tr>\n      <th>1123</th>\n      <td>1124</td>\n      <td>writing</td>\n    </tr>\n    <tr>\n      <th>1124</th>\n      <td>1125</td>\n      <td>wuxia</td>\n    </tr>\n    <tr>\n      <th>1125</th>\n      <td>1126</td>\n      <td>wwii</td>\n    </tr>\n    <tr>\n      <th>1126</th>\n      <td>1127</td>\n      <td>zombie</td>\n    </tr>\n    <tr>\n      <th>1127</th>\n      <td>1128</td>\n      <td>zombies</td>\n    </tr>\n  </tbody>\n</table>\n<p>1128 rows × 2 columns</p>\n</div>"
     },
     "execution_count": 6,
     "metadata": {},
     "output_type": "execute_result"
    }
   ],
   "source": [
    "genome_tags"
   ],
   "metadata": {
    "collapsed": false,
    "pycharm": {
     "name": "#%%\n"
    }
   }
  },
  {
   "cell_type": "markdown",
   "source": [
    "### Pipe genomes-*.csv"
   ],
   "metadata": {
    "collapsed": false,
    "pycharm": {
     "name": "#%% md\n"
    }
   }
  },
  {
   "cell_type": "code",
   "execution_count": null,
   "outputs": [],
   "source": [
    "tags_relevance = genome_scores. \\\n",
    "    pipe(pd.merge, genome_tags, on='tagId', how='left'). \\\n",
    "    pipe(pivot, index='movieId', columns='tag', values='relevance'). \\\n",
    "    pipe(reset_index)"
   ],
   "metadata": {
    "collapsed": false,
    "pycharm": {
     "name": "#%%\n",
     "is_executing": true
    }
   }
  },
  {
   "cell_type": "markdown",
   "source": [
    "## final.csv"
   ],
   "metadata": {
    "collapsed": false,
    "pycharm": {
     "name": "#%% md\n"
    }
   }
  },
  {
   "cell_type": "code",
   "execution_count": null,
   "outputs": [],
   "source": [
    "final = movies. \\\n",
    "    pipe(pd.merge, ratings, on='movieId', how='inner'). \\\n",
    "    pipe(pd.merge, tags, on='movieId', how='inner'). \\\n",
    "    pipe(fill_na, 'tag_count', 'zero'). \\\n",
    "    pipe(pd.merge, tmdb, on='movieId', how='inner'). \\\n",
    "    pipe(pd.merge, tags_relevance, on='movieId', how='inner'). \\\n",
    "    pipe(drop, 'movieId')\n",
    "\n",
    "final.info()"
   ],
   "metadata": {
    "collapsed": false,
    "pycharm": {
     "name": "#%%\n",
     "is_executing": true
    }
   }
  },
  {
   "cell_type": "code",
   "execution_count": null,
   "outputs": [],
   "source": [
    "final.head()"
   ],
   "metadata": {
    "collapsed": false,
    "pycharm": {
     "name": "#%%\n",
     "is_executing": true
    }
   }
  }
 ],
 "metadata": {
  "kernelspec": {
   "display_name": "Python 3",
   "language": "python",
   "name": "python3"
  },
  "language_info": {
   "codemirror_mode": {
    "name": "ipython",
    "version": 2
   },
   "file_extension": ".py",
   "mimetype": "text/x-python",
   "name": "python",
   "nbconvert_exporter": "python",
   "pygments_lexer": "ipython2",
   "version": "2.7.6"
  }
 },
 "nbformat": 4,
 "nbformat_minor": 0
}