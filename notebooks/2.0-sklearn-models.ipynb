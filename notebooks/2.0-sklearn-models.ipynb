{
 "cells": [
  {
   "cell_type": "markdown",
   "source": [
    "# Sklearn models"
   ],
   "metadata": {
    "collapsed": false,
    "pycharm": {
     "name": "#%% md\n"
    }
   }
  },
  {
   "cell_type": "markdown",
   "source": [
    "In this notebook, a usage demo of all the chosen scikit-learn models is presented. In particular, the following have been added to those in the task:\n",
    "- DecisionTreeClassifier\n",
    "- QuadraticDiscriminantAnalysis\n",
    "\n",
    "Furthermore, in this demo the saving of results will be ignored to avoid overwriting the outputs."
   ],
   "metadata": {
    "collapsed": false,
    "pycharm": {
     "name": "#%% md\n"
    }
   }
  },
  {
   "cell_type": "markdown",
   "source": [
    "## Imports"
   ],
   "metadata": {
    "collapsed": false,
    "pycharm": {
     "name": "#%% md\n"
    }
   }
  },
  {
   "cell_type": "code",
   "execution_count": null,
   "outputs": [],
   "source": [
    "import os\n",
    "import warnings\n",
    "from typing import Dict\n",
    "\n",
    "import numpy as np\n",
    "import pandas as pd\n",
    "from sklearn.model_selection import StratifiedKFold, GridSearchCV\n",
    "\n",
    "from src.models.config import best_param_grid_model\n",
    "from src.models.sklearn_models import balance, preprocess, test_eval, save_fold_model\n",
    "from src.utils.const import DATA_DIR, SEED, NUM_BINS\n",
    "from src.utils.util_models import fix_random"
   ],
   "metadata": {
    "collapsed": false,
    "pycharm": {
     "name": "#%%\n"
    }
   }
  },
  {
   "cell_type": "code",
   "execution_count": null,
   "outputs": [],
   "source": [
    "warnings.filterwarnings('ignore', category=UserWarning)"
   ],
   "metadata": {
    "collapsed": false,
    "pycharm": {
     "name": "#%%\n"
    }
   }
  },
  {
   "cell_type": "markdown",
   "source": [
    "### Useful path to data"
   ],
   "metadata": {
    "collapsed": false,
    "pycharm": {
     "name": "#%% md\n"
    }
   }
  },
  {
   "cell_type": "code",
   "execution_count": null,
   "outputs": [],
   "source": [
    "ROOT_DIR = os.path.join(os.getcwd(), '..')\n",
    "PROCESSED_DIR = os.path.join(ROOT_DIR, DATA_DIR, 'processed')"
   ],
   "metadata": {
    "collapsed": false,
    "pycharm": {
     "name": "#%%\n"
    }
   }
  },
  {
   "cell_type": "markdown",
   "source": [
    "### Fix random seed"
   ],
   "metadata": {
    "collapsed": false,
    "pycharm": {
     "name": "#%% md\n"
    }
   }
  },
  {
   "cell_type": "code",
   "execution_count": null,
   "outputs": [],
   "source": [
    "fix_random(SEED)"
   ],
   "metadata": {
    "collapsed": false,
    "pycharm": {
     "name": "#%%\n"
    }
   }
  },
  {
   "cell_type": "markdown",
   "source": [
    "## Import final dataset"
   ],
   "metadata": {
    "collapsed": false,
    "pycharm": {
     "name": "#%% md\n"
    }
   }
  },
  {
   "cell_type": "code",
   "execution_count": null,
   "outputs": [],
   "source": [
    "final_stored = pd.read_parquet(os.path.join(PROCESSED_DIR, 'final.parquet'))\n",
    "final = (final_stored\n",
    "         .assign(rating_discrete=pd.cut(final_stored.loc[:, 'rating_mean'], bins=NUM_BINS, labels=False))\n",
    "         .astype({'rating_discrete': 'int32'})\n",
    "         .drop(columns=['rating_mean']))"
   ],
   "metadata": {
    "collapsed": false,
    "pycharm": {
     "name": "#%%\n"
    }
   }
  },
  {
   "cell_type": "markdown",
   "source": [
    "## Train & Test"
   ],
   "metadata": {
    "collapsed": false,
    "pycharm": {
     "name": "#%% md\n"
    }
   }
  },
  {
   "cell_type": "markdown",
   "source": [
    "Trains and tests are performed in the following function. To verify that a certain configuration works well with different test sets and to perform hyperparameter optimization, 5-fold cross validation was implemented internally and externally. The internal one in the sklearn models is handled by the GridSearchCV, which performs the hyperparameter search automatically. Finally, the ` test_eval` function loads the previously saved model and evaluates its performance metrics, also printing the multiclass roc plot when it's possible.\n"
   ],
   "metadata": {
    "collapsed": false,
    "pycharm": {
     "name": "#%% md\n"
    }
   }
  },
  {
   "cell_type": "code",
   "execution_count": null,
   "outputs": [],
   "source": [
    "def train_test(df: pd.DataFrame, model_group: str, model_idx: int, param_grid: Dict):\n",
    "    data = df.loc[:, df.columns != 'rating_discrete']\n",
    "    target = df['rating_discrete']\n",
    "\n",
    "    N_SPLITS = 5\n",
    "\n",
    "    cv_outer = StratifiedKFold(n_splits=N_SPLITS, shuffle=True)\n",
    "\n",
    "    correct_param_grid = [param_grid[model_group][model_idx]]\n",
    "\n",
    "    for model_name, estimator, param_grid in correct_param_grid:\n",
    "        outer_results = []\n",
    "        outer_f1_results = []\n",
    "        for fold, (train_idx, test_idx) in enumerate(cv_outer.split(data, y=target), 1):\n",
    "            print(f'Fold {fold}')\n",
    "            train_data, test_data = data.iloc[train_idx, :], data.iloc[test_idx, :]\n",
    "            train_target, test_target = target[train_idx], target[test_idx]\n",
    "\n",
    "            cv_inner = StratifiedKFold(n_splits=N_SPLITS, shuffle=True)\n",
    "\n",
    "            train_data_smt, train_target_smt = balance(train_data, train_target)\n",
    "            train_data_proc, test_data_proc = preprocess(train_data_smt, test_data)\n",
    "\n",
    "            search = GridSearchCV(estimator=estimator,\n",
    "                                  param_grid=param_grid,\n",
    "                                  scoring='f1_weighted',\n",
    "                                  cv=cv_inner,\n",
    "                                  refit=True,\n",
    "                                  return_train_score=True,\n",
    "                                  n_jobs=-1,\n",
    "                                  verbose=3)\n",
    "\n",
    "            search.fit(train_data_proc, train_target_smt)\n",
    "            print(f\"[train] f1-score={search.cv_results_['mean_train_score'][0]} - [val] f1-score={search.cv_results_['mean_test_score'][0]}\")\n",
    "\n",
    "            best_model = search.best_estimator_\n",
    "            save_fold_model(fold, model_name, best_model, notebook=True)\n",
    "\n",
    "            acc, loss, f1_test = test_eval(fold, model_name, test_data_proc, test_target, notebook=True)\n",
    "            outer_results.append(acc)\n",
    "            outer_f1_results.append(f1_test)\n",
    "\n",
    "            print(f'[test] loss={loss:3f}, acc={acc:3f} ,f1-score={f1_test:3f}, cfg={search.best_params_}')\n",
    "\n",
    "        print(\n",
    "            f'[{model_name}] [mean_test] Mean accuracy: {np.mean(outer_results):3f} - Mean f1-score: {np.mean(outer_f1_results):3f}')"
   ],
   "metadata": {
    "collapsed": false,
    "pycharm": {
     "name": "#%%\n"
    }
   }
  },
  {
   "cell_type": "markdown",
   "source": [
    "Since this is a demo, it was decided to use only the best configuration of each model as the hyperparameter space."
   ],
   "metadata": {
    "collapsed": false,
    "pycharm": {
     "name": "#%% md\n"
    }
   }
  },
  {
   "cell_type": "markdown",
   "source": [
    "## Tree methods"
   ],
   "metadata": {
    "collapsed": false,
    "pycharm": {
     "name": "#%% md\n"
    }
   }
  },
  {
   "cell_type": "markdown",
   "source": [
    "### RandomForestClassifier"
   ],
   "metadata": {
    "collapsed": false,
    "pycharm": {
     "name": "#%% md\n"
    }
   }
  },
  {
   "cell_type": "code",
   "execution_count": null,
   "outputs": [],
   "source": [
    "train_test(final, 'tree_based', 0, best_param_grid_model)"
   ],
   "metadata": {
    "collapsed": false,
    "pycharm": {
     "name": "#%%\n"
    }
   }
  },
  {
   "cell_type": "markdown",
   "source": [
    "### DecisionTreeClassifier"
   ],
   "metadata": {
    "collapsed": false,
    "pycharm": {
     "name": "#%% md\n"
    }
   }
  },
  {
   "cell_type": "code",
   "execution_count": null,
   "outputs": [],
   "source": [
    "train_test(final, 'tree_based', 1, best_param_grid_model)"
   ],
   "metadata": {
    "collapsed": false,
    "pycharm": {
     "name": "#%%\n",
     "is_executing": true
    }
   }
  },
  {
   "cell_type": "markdown",
   "source": [
    "## Naive Bayes methods"
   ],
   "metadata": {
    "collapsed": false,
    "pycharm": {
     "name": "#%% md\n"
    }
   }
  },
  {
   "cell_type": "markdown",
   "source": [
    "### GaussianNB"
   ],
   "metadata": {
    "collapsed": false,
    "pycharm": {
     "name": "#%% md\n"
    }
   }
  },
  {
   "cell_type": "code",
   "execution_count": null,
   "outputs": [],
   "source": [
    "train_test(final, 'naive_bayes', 0, best_param_grid_model)"
   ],
   "metadata": {
    "collapsed": false,
    "pycharm": {
     "name": "#%%\n"
    }
   }
  },
  {
   "cell_type": "markdown",
   "source": [
    "### QuadraticDiscriminantAnalysis"
   ],
   "metadata": {
    "collapsed": false,
    "pycharm": {
     "name": "#%% md\n"
    }
   }
  },
  {
   "cell_type": "code",
   "execution_count": null,
   "outputs": [],
   "source": [
    "train_test(final, 'naive_bayes', 1, best_param_grid_model)"
   ],
   "metadata": {
    "collapsed": false,
    "pycharm": {
     "name": "#%%\n"
    }
   }
  },
  {
   "cell_type": "markdown",
   "source": [
    "## SVM"
   ],
   "metadata": {
    "collapsed": false,
    "pycharm": {
     "name": "#%% md\n"
    }
   }
  },
  {
   "cell_type": "markdown",
   "source": [
    "### SVC"
   ],
   "metadata": {
    "collapsed": false,
    "pycharm": {
     "name": "#%% md\n"
    }
   }
  },
  {
   "cell_type": "code",
   "execution_count": null,
   "outputs": [],
   "source": [
    "train_test(final, 'svm', 0, best_param_grid_model)"
   ],
   "metadata": {
    "collapsed": false,
    "pycharm": {
     "name": "#%%\n"
    }
   }
  }
 ],
 "metadata": {
  "kernelspec": {
   "display_name": "Python 3",
   "language": "python",
   "name": "python3"
  },
  "language_info": {
   "codemirror_mode": {
    "name": "ipython",
    "version": 2
   },
   "file_extension": ".py",
   "mimetype": "text/x-python",
   "name": "python",
   "nbconvert_exporter": "python",
   "pygments_lexer": "ipython2",
   "version": "2.7.6"
  }
 },
 "nbformat": 4,
 "nbformat_minor": 0
}