{
 "cells": [
  {
   "cell_type": "markdown",
   "source": [
    "# Sklearn models"
   ],
   "metadata": {
    "collapsed": false,
    "pycharm": {
     "name": "#%% md\n"
    }
   }
  },
  {
   "cell_type": "markdown",
   "source": [
    "In this notebook, a usage demo of all the chosen scikit-learn models is presented. In particular DecisionTreeClassifier has been added to those in the task requests.\n",
    "\n",
    "Furthermore, in this demo the saving of results will be ignored to avoid overwriting the outputs."
   ],
   "metadata": {
    "collapsed": false,
    "pycharm": {
     "name": "#%% md\n"
    }
   }
  },
  {
   "cell_type": "markdown",
   "source": [
    "## Imports"
   ],
   "metadata": {
    "collapsed": false,
    "pycharm": {
     "name": "#%% md\n"
    }
   }
  },
  {
   "cell_type": "code",
   "execution_count": 1,
   "outputs": [],
   "source": [
    "import os\n",
    "import warnings\n",
    "from typing import Dict\n",
    "\n",
    "import numpy as np\n",
    "import pandas as pd\n",
    "from imblearn.over_sampling import SMOTE\n",
    "from imblearn.pipeline import Pipeline\n",
    "from sklearn.model_selection import StratifiedKFold, GridSearchCV\n",
    "from sklearn.preprocessing import MinMaxScaler\n",
    "\n",
    "from src.models.config import best_param_grid_model\n",
    "from src.models.sklearn_models import test_eval, save_fold_model\n",
    "from src.utils.const import DATA_DIR, SEED, NUM_BINS\n",
    "from src.utils.util_models import fix_random"
   ],
   "metadata": {
    "collapsed": false,
    "pycharm": {
     "name": "#%%\n"
    }
   }
  },
  {
   "cell_type": "code",
   "execution_count": 2,
   "outputs": [],
   "source": [
    "warnings.filterwarnings('ignore', category=UserWarning)"
   ],
   "metadata": {
    "collapsed": false,
    "pycharm": {
     "name": "#%%\n"
    }
   }
  },
  {
   "cell_type": "markdown",
   "source": [
    "### Useful path to data"
   ],
   "metadata": {
    "collapsed": false,
    "pycharm": {
     "name": "#%% md\n"
    }
   }
  },
  {
   "cell_type": "code",
   "execution_count": 3,
   "outputs": [],
   "source": [
    "ROOT_DIR = os.path.join(os.getcwd(), '..')\n",
    "PROCESSED_DIR = os.path.join(ROOT_DIR, DATA_DIR, 'processed')"
   ],
   "metadata": {
    "collapsed": false,
    "pycharm": {
     "name": "#%%\n"
    }
   }
  },
  {
   "cell_type": "markdown",
   "source": [
    "### Fix random seed"
   ],
   "metadata": {
    "collapsed": false,
    "pycharm": {
     "name": "#%% md\n"
    }
   }
  },
  {
   "cell_type": "code",
   "execution_count": 4,
   "outputs": [],
   "source": [
    "fix_random(SEED)"
   ],
   "metadata": {
    "collapsed": false,
    "pycharm": {
     "name": "#%%\n"
    }
   }
  },
  {
   "cell_type": "markdown",
   "source": [
    "## Import final dataset"
   ],
   "metadata": {
    "collapsed": false,
    "pycharm": {
     "name": "#%% md\n"
    }
   }
  },
  {
   "cell_type": "code",
   "execution_count": 5,
   "outputs": [],
   "source": [
    "final_stored = pd.read_parquet(os.path.join(PROCESSED_DIR, 'final.parquet'))\n",
    "final = (final_stored\n",
    "         .assign(rating_discrete=pd.cut(final_stored.loc[:, 'rating_mean'], bins=NUM_BINS, labels=False))\n",
    "         .astype({'rating_discrete': 'int32'})\n",
    "         .drop(columns=['rating_mean']))"
   ],
   "metadata": {
    "collapsed": false,
    "pycharm": {
     "name": "#%%\n"
    }
   }
  },
  {
   "cell_type": "markdown",
   "source": [
    "## Train & Test"
   ],
   "metadata": {
    "collapsed": false,
    "pycharm": {
     "name": "#%% md\n"
    }
   }
  },
  {
   "cell_type": "markdown",
   "source": [
    "Trains and tests are performed in the following function. To verify that a certain configuration works well with different test sets and to perform hyperparameter optimization, 5-fold cross validation was implemented internally and externally. The internal one in the sklearn models is handled by the GridSearchCV, which performs the hyperparameter search automatically. Finally, the ` test_eval` function loads the previously saved model and evaluates its performance metrics.\n"
   ],
   "metadata": {
    "collapsed": false,
    "pycharm": {
     "name": "#%% md\n"
    }
   }
  },
  {
   "cell_type": "code",
   "execution_count": 6,
   "outputs": [],
   "source": [
    "def train_test(df: pd.DataFrame, model_group: str, model_idx: int, param_grid: Dict):\n",
    "    data = df.loc[:, df.columns != 'rating_discrete']\n",
    "    target = df['rating_discrete']\n",
    "\n",
    "    n_splits = 5\n",
    "\n",
    "    cv_outer = StratifiedKFold(n_splits=n_splits, shuffle=True)\n",
    "\n",
    "    correct_param_grid = [param_grid[model_group][model_idx]]\n",
    "\n",
    "    for model_name, estimator, param_grid in correct_param_grid:\n",
    "        outer_results = []\n",
    "        outer_f1_results = []\n",
    "        for fold, (train_idx, test_idx) in enumerate(cv_outer.split(data, y=target), 1):\n",
    "            print(f'Fold {fold}')\n",
    "            train_data, test_data = data.iloc[train_idx, :], data.iloc[test_idx, :]\n",
    "            train_target, test_target = target[train_idx], target[test_idx]\n",
    "\n",
    "            k_neighbors = (np.min(train_target.value_counts()) * 4) / 5\n",
    "            k_neighbors_approx = int(np.floor(k_neighbors)) - 1\n",
    "\n",
    "            steps = [\n",
    "                ('over', SMOTE(k_neighbors=k_neighbors_approx)),\n",
    "                ('scaling', MinMaxScaler()),\n",
    "                ('model', estimator)\n",
    "            ]\n",
    "\n",
    "            pipeline = Pipeline(steps=steps)\n",
    "\n",
    "            cv_inner = StratifiedKFold(n_splits=n_splits, shuffle=True)\n",
    "\n",
    "            search = GridSearchCV(estimator=pipeline,\n",
    "                                  param_grid=param_grid,\n",
    "                                  scoring='f1_weighted',\n",
    "                                  cv=cv_inner,\n",
    "                                  refit=True,\n",
    "                                  return_train_score=True,\n",
    "                                  n_jobs=-1,\n",
    "                                  verbose=3)\n",
    "\n",
    "            search.fit(train_data, train_target)\n",
    "            print(f\"[train] f1-score={search.cv_results_['mean_train_score'][0]} - [val] f1-score={search.cv_results_['mean_test_score'][0]}\")\n",
    "\n",
    "            best_model = search.best_estimator_\n",
    "            save_fold_model(fold, model_name, best_model, notebook=True)\n",
    "\n",
    "            acc, loss, f1_test = test_eval(fold, model_name, test_data, test_target, notebook=True)\n",
    "            outer_results.append(acc)\n",
    "            outer_f1_results.append(f1_test)\n",
    "\n",
    "            print(f'[test] loss={loss:3f}, acc={acc:3f} ,f1-score={f1_test:3f}, cfg={search.best_params_}')\n",
    "\n",
    "        print(\n",
    "            f'[{model_name}] [mean_test] Mean accuracy: {np.mean(outer_results):3f} - Mean f1-score: {np.mean(outer_f1_results):3f}')"
   ],
   "metadata": {
    "collapsed": false,
    "pycharm": {
     "name": "#%%\n"
    }
   }
  },
  {
   "cell_type": "markdown",
   "source": [
    "Since this is a demo, it was decided to use only the best configuration of each model as the hyperparameter space."
   ],
   "metadata": {
    "collapsed": false,
    "pycharm": {
     "name": "#%% md\n"
    }
   }
  },
  {
   "cell_type": "markdown",
   "source": [
    "## Tree methods"
   ],
   "metadata": {
    "collapsed": false,
    "pycharm": {
     "name": "#%% md\n"
    }
   }
  },
  {
   "cell_type": "markdown",
   "source": [
    "### RandomForestClassifier"
   ],
   "metadata": {
    "collapsed": false,
    "pycharm": {
     "name": "#%% md\n"
    }
   }
  },
  {
   "cell_type": "code",
   "execution_count": 7,
   "outputs": [
    {
     "name": "stdout",
     "output_type": "stream",
     "text": [
      "Fold 1\n",
      "Fitting 5 folds for each of 1 candidates, totalling 5 fits\n",
      "[train] f1-score=0.9647755840141343 - [val] f1-score=0.7542962549733164\n",
      "[test] loss=0.242966, acc=0.757034 ,f1-score=0.756145, cfg={'model__max_depth': 10, 'model__max_features': 'sqrt', 'model__n_estimators': 700}\n",
      "Fold 2\n",
      "Fitting 5 folds for each of 1 candidates, totalling 5 fits\n",
      "[train] f1-score=0.9601059944112533 - [val] f1-score=0.7497175598252221\n",
      "[test] loss=0.240684, acc=0.759316 ,f1-score=0.758474, cfg={'model__max_depth': 10, 'model__max_features': 'sqrt', 'model__n_estimators': 700}\n",
      "Fold 3\n",
      "Fitting 5 folds for each of 1 candidates, totalling 5 fits\n",
      "[train] f1-score=0.9628100688627288 - [val] f1-score=0.7529944664185985\n",
      "[test] loss=0.245340, acc=0.754660 ,f1-score=0.754512, cfg={'model__max_depth': 10, 'model__max_features': 'sqrt', 'model__n_estimators': 700}\n",
      "Fold 4\n",
      "Fitting 5 folds for each of 1 candidates, totalling 5 fits\n",
      "[train] f1-score=0.9621767014452969 - [val] f1-score=0.7539738827720461\n",
      "[test] loss=0.253328, acc=0.746672 ,f1-score=0.746252, cfg={'model__max_depth': 10, 'model__max_features': 'sqrt', 'model__n_estimators': 700}\n",
      "Fold 5\n",
      "Fitting 5 folds for each of 1 candidates, totalling 5 fits\n",
      "[train] f1-score=0.9640417915952714 - [val] f1-score=0.7520848653293027\n",
      "[test] loss=0.240396, acc=0.759604 ,f1-score=0.759590, cfg={'model__max_depth': 10, 'model__max_features': 'sqrt', 'model__n_estimators': 700}\n",
      "[random_forest_classifier] [mean_test] Mean accuracy: 0.755457 - Mean f1-score: 0.754995\n"
     ]
    }
   ],
   "source": [
    "train_test(final, 'tree_based', 0, best_param_grid_model)"
   ],
   "metadata": {
    "collapsed": false,
    "pycharm": {
     "name": "#%%\n"
    }
   }
  },
  {
   "cell_type": "markdown",
   "source": [
    "### DecisionTreeClassifier"
   ],
   "metadata": {
    "collapsed": false,
    "pycharm": {
     "name": "#%% md\n"
    }
   }
  },
  {
   "cell_type": "code",
   "execution_count": 8,
   "outputs": [
    {
     "name": "stdout",
     "output_type": "stream",
     "text": [
      "Fold 1\n",
      "Fitting 5 folds for each of 1 candidates, totalling 5 fits\n",
      "[train] f1-score=0.7971648550017153 - [val] f1-score=0.6595023342039948\n",
      "[test] loss=0.313688, acc=0.686312 ,f1-score=0.688095, cfg={'model__criterion': 'gini', 'model__max_depth': 10}\n",
      "Fold 2\n",
      "Fitting 5 folds for each of 1 candidates, totalling 5 fits\n",
      "[train] f1-score=0.7888871206585344 - [val] f1-score=0.665936980965929\n",
      "[test] loss=0.335741, acc=0.664259 ,f1-score=0.663943, cfg={'model__criterion': 'gini', 'model__max_depth': 10}\n",
      "Fold 3\n",
      "Fitting 5 folds for each of 1 candidates, totalling 5 fits\n",
      "[train] f1-score=0.7884672932846353 - [val] f1-score=0.6730207260357671\n",
      "[test] loss=0.330164, acc=0.669836 ,f1-score=0.670767, cfg={'model__criterion': 'gini', 'model__max_depth': 10}\n",
      "Fold 4\n",
      "Fitting 5 folds for each of 1 candidates, totalling 5 fits\n",
      "[train] f1-score=0.8220645351555069 - [val] f1-score=0.6701473447726369\n",
      "[test] loss=0.339673, acc=0.660327 ,f1-score=0.661487, cfg={'model__criterion': 'gini', 'model__max_depth': 10}\n",
      "Fold 5\n",
      "Fitting 5 folds for each of 1 candidates, totalling 5 fits\n",
      "[train] f1-score=0.8009027388510053 - [val] f1-score=0.6648015206829351\n",
      "[test] loss=0.334348, acc=0.665652 ,f1-score=0.666473, cfg={'model__criterion': 'gini', 'model__max_depth': 10}\n",
      "[decision_tree_classifier] [mean_test] Mean accuracy: 0.669277 - Mean f1-score: 0.670153\n"
     ]
    }
   ],
   "source": [
    "train_test(final, 'tree_based', 1, best_param_grid_model)"
   ],
   "metadata": {
    "collapsed": false,
    "pycharm": {
     "name": "#%%\n"
    }
   }
  },
  {
   "cell_type": "markdown",
   "source": [
    "## Naive Bayes methods"
   ],
   "metadata": {
    "collapsed": false,
    "pycharm": {
     "name": "#%% md\n"
    }
   }
  },
  {
   "cell_type": "markdown",
   "source": [
    "### GaussianNB"
   ],
   "metadata": {
    "collapsed": false,
    "pycharm": {
     "name": "#%% md\n"
    }
   }
  },
  {
   "cell_type": "code",
   "execution_count": 9,
   "outputs": [
    {
     "name": "stdout",
     "output_type": "stream",
     "text": [
      "Fold 1\n",
      "Fitting 5 folds for each of 1 candidates, totalling 5 fits\n",
      "[train] f1-score=0.5095377203746801 - [val] f1-score=0.4496615788650139\n",
      "[test] loss=0.552471, acc=0.447529 ,f1-score=0.449454, cfg={'model__var_smoothing': 1.873817422860383e-06}\n",
      "Fold 2\n",
      "Fitting 5 folds for each of 1 candidates, totalling 5 fits\n",
      "[train] f1-score=0.5170005290581624 - [val] f1-score=0.4551310919642086\n",
      "[test] loss=0.541825, acc=0.458175 ,f1-score=0.455238, cfg={'model__var_smoothing': 1.873817422860383e-06}\n",
      "Fold 3\n",
      "Fitting 5 folds for each of 1 candidates, totalling 5 fits\n",
      "[train] f1-score=0.5141008726457633 - [val] f1-score=0.45234112269550114\n",
      "[test] loss=0.550780, acc=0.449220 ,f1-score=0.449401, cfg={'model__var_smoothing': 1.873817422860383e-06}\n",
      "Fold 4\n",
      "Fitting 5 folds for each of 1 candidates, totalling 5 fits\n",
      "[train] f1-score=0.5061942639452535 - [val] f1-score=0.44574310242581383\n",
      "[test] loss=0.564854, acc=0.435146 ,f1-score=0.436418, cfg={'model__var_smoothing': 1.873817422860383e-06}\n",
      "Fold 5\n",
      "Fitting 5 folds for each of 1 candidates, totalling 5 fits\n",
      "[train] f1-score=0.5080652078161549 - [val] f1-score=0.4501878972656804\n",
      "[test] loss=0.558007, acc=0.441993 ,f1-score=0.442157, cfg={'model__var_smoothing': 1.873817422860383e-06}\n",
      "[gaussian_nb] [mean_test] Mean accuracy: 0.446413 - Mean f1-score: 0.446533\n"
     ]
    }
   ],
   "source": [
    "train_test(final, 'naive_bayes', 0, best_param_grid_model)"
   ],
   "metadata": {
    "collapsed": false,
    "pycharm": {
     "name": "#%%\n"
    }
   }
  },
  {
   "cell_type": "markdown",
   "source": [
    "## SVM"
   ],
   "metadata": {
    "collapsed": false,
    "pycharm": {
     "name": "#%% md\n"
    }
   }
  },
  {
   "cell_type": "markdown",
   "source": [
    "### SVC"
   ],
   "metadata": {
    "collapsed": false,
    "pycharm": {
     "name": "#%% md\n"
    }
   }
  },
  {
   "cell_type": "code",
   "execution_count": 11,
   "outputs": [
    {
     "name": "stdout",
     "output_type": "stream",
     "text": [
      "Fold 1\n",
      "Fitting 5 folds for each of 1 candidates, totalling 5 fits\n",
      "[train] f1-score=0.9999762318968998 - [val] f1-score=0.8304085616437821\n",
      "[test] loss=0.167300, acc=0.832700 ,f1-score=0.832594, cfg={'model__C': 100, 'model__gamma': 0.01, 'model__kernel': 'rbf'}\n",
      "Fold 2\n",
      "Fitting 5 folds for each of 1 candidates, totalling 5 fits\n",
      "[train] f1-score=1.0 - [val] f1-score=0.8253218735548261\n",
      "[test] loss=0.171483, acc=0.828517 ,f1-score=0.827915, cfg={'model__C': 100, 'model__gamma': 0.01, 'model__kernel': 'rbf'}\n",
      "Fold 3\n",
      "Fitting 5 folds for each of 1 candidates, totalling 5 fits\n",
      "[train] f1-score=1.0 - [val] f1-score=0.820245231309849\n",
      "[test] loss=0.156714, acc=0.843286 ,f1-score=0.842672, cfg={'model__C': 100, 'model__gamma': 0.01, 'model__kernel': 'rbf'}\n",
      "Fold 4\n",
      "Fitting 5 folds for each of 1 candidates, totalling 5 fits\n",
      "[train] f1-score=0.9999762318957363 - [val] f1-score=0.8282374019669956\n",
      "[test] loss=0.172309, acc=0.827691 ,f1-score=0.827299, cfg={'model__C': 100, 'model__gamma': 0.01, 'model__kernel': 'rbf'}\n",
      "Fold 5\n",
      "Fitting 5 folds for each of 1 candidates, totalling 5 fits\n",
      "[train] f1-score=1.0 - [val] f1-score=0.8313760907302596\n",
      "[test] loss=0.166984, acc=0.833016 ,f1-score=0.832199, cfg={'model__C': 100, 'model__gamma': 0.01, 'model__kernel': 'rbf'}\n",
      "[svc] [mean_test] Mean accuracy: 0.833042 - Mean f1-score: 0.832536\n"
     ]
    }
   ],
   "source": [
    "train_test(final, 'svm', 0, best_param_grid_model)"
   ],
   "metadata": {
    "collapsed": false,
    "pycharm": {
     "name": "#%%\n"
    }
   }
  }
 ],
 "metadata": {
  "kernelspec": {
   "display_name": "Python 3",
   "language": "python",
   "name": "python3"
  },
  "language_info": {
   "codemirror_mode": {
    "name": "ipython",
    "version": 2
   },
   "file_extension": ".py",
   "mimetype": "text/x-python",
   "name": "python",
   "nbconvert_exporter": "python",
   "pygments_lexer": "ipython2",
   "version": "2.7.6"
  }
 },
 "nbformat": 4,
 "nbformat_minor": 0
}