{
 "cells": [
  {
   "cell_type": "markdown",
   "metadata": {
    "collapsed": true,
    "pycharm": {
     "name": "#%% md\n"
    }
   },
   "source": [
    "# Genome dataset"
   ]
  },
  {
   "cell_type": "markdown",
   "source": [
    "The tag genome is a data structure that contains tag relevance scores for movies. The structure is a dense matrix where each movie in the genome has a value for every tag in the genome. We decided to add these two datasets at a later stage because the results of the model were not very satisfactory."
   ],
   "metadata": {
    "collapsed": false,
    "pycharm": {
     "name": "#%% md\n"
    }
   }
  },
  {
   "cell_type": "markdown",
   "source": [
    "### Imports"
   ],
   "metadata": {
    "collapsed": false,
    "pycharm": {
     "name": "#%% md\n"
    }
   }
  },
  {
   "cell_type": "code",
   "execution_count": 22,
   "outputs": [],
   "source": [
    "import os\n",
    "\n",
    "import pandas as pd\n",
    "\n",
    "from src.utils.const import DATA_DIR"
   ],
   "metadata": {
    "collapsed": false,
    "pycharm": {
     "name": "#%%\n"
    }
   }
  },
  {
   "cell_type": "markdown",
   "source": [
    "### Useful path to data"
   ],
   "metadata": {
    "collapsed": false,
    "pycharm": {
     "name": "#%% md\n"
    }
   }
  },
  {
   "cell_type": "code",
   "execution_count": 23,
   "outputs": [],
   "source": [
    "ROOT_DIR = os.path.join(os.getcwd(), '..')\n",
    "RAW_DIR = os.path.join(ROOT_DIR, DATA_DIR, 'raw')"
   ],
   "metadata": {
    "collapsed": false,
    "pycharm": {
     "name": "#%%\n"
    }
   }
  },
  {
   "cell_type": "markdown",
   "source": [
    "## Data Acquisition"
   ],
   "metadata": {
    "collapsed": false,
    "pycharm": {
     "name": "#%% md\n"
    }
   }
  },
  {
   "cell_type": "markdown",
   "source": [
    "We are assumed that the notebooks are explored in order, so these two datasets should already be stored inside the raw folder."
   ],
   "metadata": {
    "collapsed": false,
    "pycharm": {
     "name": "#%% md\n"
    }
   }
  },
  {
   "cell_type": "markdown",
   "source": [
    "## Data Pre-processing"
   ],
   "metadata": {
    "collapsed": false,
    "pycharm": {
     "name": "#%% md\n"
    }
   }
  },
  {
   "cell_type": "markdown",
   "source": [
    "If we want to use these datasets, we have to create a new `DataFrame()` that for each sample contains the values of all the __tags__ with respect to the __movieId__. For this reason we have first to read the _genome-scores_ and _genome-tags_."
   ],
   "metadata": {
    "collapsed": false,
    "pycharm": {
     "name": "#%% md\n"
    }
   }
  },
  {
   "cell_type": "markdown",
   "source": [
    "### genome-scores.csv"
   ],
   "metadata": {
    "collapsed": false,
    "pycharm": {
     "name": "#%% md\n"
    }
   }
  },
  {
   "cell_type": "code",
   "execution_count": 24,
   "outputs": [
    {
     "name": "stdout",
     "output_type": "stream",
     "text": [
      "<class 'pandas.core.frame.DataFrame'>\n",
      "RangeIndex: 14862528 entries, 0 to 14862527\n",
      "Data columns (total 3 columns):\n",
      " #   Column     Dtype  \n",
      "---  ------     -----  \n",
      " 0   movieId    int32  \n",
      " 1   tagId      int32  \n",
      " 2   relevance  float32\n",
      "dtypes: float32(1), int32(2)\n",
      "memory usage: 170.1 MB\n"
     ]
    }
   ],
   "source": [
    "# Read\n",
    "genome_scores = pd.read_csv(\n",
    "    os.path.join(RAW_DIR, 'genome-scores.csv'),\n",
    "    encoding='utf-8',\n",
    "    dtype={'movieId':'int32', 'tagId':'int32', 'relevance':'float32'}\n",
    ")\n",
    "\n",
    "genome_scores.info()"
   ],
   "metadata": {
    "collapsed": false,
    "pycharm": {
     "name": "#%%\n"
    }
   }
  },
  {
   "cell_type": "markdown",
   "source": [
    "### genome-tags.csv"
   ],
   "metadata": {
    "collapsed": false,
    "pycharm": {
     "name": "#%% md\n"
    }
   }
  },
  {
   "cell_type": "code",
   "execution_count": 25,
   "outputs": [
    {
     "name": "stdout",
     "output_type": "stream",
     "text": [
      "<class 'pandas.core.frame.DataFrame'>\n",
      "RangeIndex: 1128 entries, 0 to 1127\n",
      "Data columns (total 2 columns):\n",
      " #   Column  Non-Null Count  Dtype \n",
      "---  ------  --------------  ----- \n",
      " 0   tagId   1128 non-null   int32 \n",
      " 1   tag     1128 non-null   string\n",
      "dtypes: int32(1), string(1)\n",
      "memory usage: 13.3 KB\n"
     ]
    }
   ],
   "source": [
    "# Read\n",
    "genome_tags = pd.read_csv(\n",
    "    os.path.join(RAW_DIR, 'genome-tags.csv'),\n",
    "    encoding='utf-8',\n",
    "    dtype={'tagId':'int32', 'tag':'string'}\n",
    ")\n",
    "\n",
    "genome_tags.info()"
   ],
   "metadata": {
    "collapsed": false,
    "pycharm": {
     "name": "#%%\n"
    }
   }
  },
  {
   "cell_type": "markdown",
   "source": [
    "### Merge"
   ],
   "metadata": {
    "collapsed": false,
    "pycharm": {
     "name": "#%% md\n"
    }
   }
  },
  {
   "cell_type": "markdown",
   "source": [
    "The next step calculates the left union between the two datasets."
   ],
   "metadata": {
    "collapsed": false,
    "pycharm": {
     "name": "#%% md\n"
    }
   }
  },
  {
   "cell_type": "code",
   "execution_count": 26,
   "outputs": [],
   "source": [
    "tags_relevance = genome_scores.merge(genome_tags, on='tagId', how='left')"
   ],
   "metadata": {
    "collapsed": false,
    "pycharm": {
     "name": "#%%\n"
    }
   }
  },
  {
   "cell_type": "code",
   "execution_count": 27,
   "outputs": [
    {
     "data": {
      "text/plain": "   movieId  tagId  relevance           tag\n0        1      1    0.02900           007\n1        1      2    0.02375  007 (series)\n2        1      3    0.05425  18th century\n3        1      4    0.06875         1920s\n4        1      5    0.16000         1930s",
      "text/html": "<div>\n<style scoped>\n    .dataframe tbody tr th:only-of-type {\n        vertical-align: middle;\n    }\n\n    .dataframe tbody tr th {\n        vertical-align: top;\n    }\n\n    .dataframe thead th {\n        text-align: right;\n    }\n</style>\n<table border=\"1\" class=\"dataframe\">\n  <thead>\n    <tr style=\"text-align: right;\">\n      <th></th>\n      <th>movieId</th>\n      <th>tagId</th>\n      <th>relevance</th>\n      <th>tag</th>\n    </tr>\n  </thead>\n  <tbody>\n    <tr>\n      <th>0</th>\n      <td>1</td>\n      <td>1</td>\n      <td>0.02900</td>\n      <td>007</td>\n    </tr>\n    <tr>\n      <th>1</th>\n      <td>1</td>\n      <td>2</td>\n      <td>0.02375</td>\n      <td>007 (series)</td>\n    </tr>\n    <tr>\n      <th>2</th>\n      <td>1</td>\n      <td>3</td>\n      <td>0.05425</td>\n      <td>18th century</td>\n    </tr>\n    <tr>\n      <th>3</th>\n      <td>1</td>\n      <td>4</td>\n      <td>0.06875</td>\n      <td>1920s</td>\n    </tr>\n    <tr>\n      <th>4</th>\n      <td>1</td>\n      <td>5</td>\n      <td>0.16000</td>\n      <td>1930s</td>\n    </tr>\n  </tbody>\n</table>\n</div>"
     },
     "execution_count": 27,
     "metadata": {},
     "output_type": "execute_result"
    }
   ],
   "source": [
    "tags_relevance.head()"
   ],
   "metadata": {
    "collapsed": false,
    "pycharm": {
     "name": "#%%\n"
    }
   }
  },
  {
   "cell_type": "markdown",
   "source": [
    "Thanks to the `pivot()` function we can obtain exactly what we wanted. Now, we have for each __movieId__, all the __tags__ with their relevance."
   ],
   "metadata": {
    "collapsed": false,
    "pycharm": {
     "name": "#%% md\n"
    }
   }
  },
  {
   "cell_type": "code",
   "execution_count": 28,
   "outputs": [],
   "source": [
    "tags_relevance=(tags_relevance\n",
    "                .pivot(index='movieId', columns='tag', values='relevance')\n",
    "                .reset_index()\n",
    "                .astype({'movieId': 'int32'}))"
   ],
   "metadata": {
    "collapsed": false,
    "pycharm": {
     "name": "#%%\n"
    }
   }
  },
  {
   "cell_type": "code",
   "execution_count": 29,
   "outputs": [
    {
     "data": {
      "text/plain": "tag  movieId         007             007 (series)    18th century    \\\n0                 1         0.02900         0.02375         0.05425   \n1                 2         0.03625         0.03625         0.08275   \n2                 3         0.04150         0.04950         0.03000   \n3                 4         0.03350         0.03675         0.04275   \n4                 5         0.04050         0.05175         0.03600   \n\ntag  1920s           1930s           1950s           1960s           \\\n0           0.06875         0.16000         0.19525         0.07600   \n1           0.08175         0.10200         0.06900         0.05775   \n2           0.09525         0.04525         0.05925         0.04000   \n3           0.02625         0.05250         0.03025         0.02425   \n4           0.04625         0.05500         0.08000         0.02150   \n\ntag  1970s           1980s           ...  world politics  world war i     \\\n0           0.25200         0.22750  ...         0.03775         0.02250   \n1           0.10100         0.08225  ...         0.04775         0.02050   \n2           0.14150         0.04075  ...         0.05800         0.02375   \n3           0.07475         0.03750  ...         0.04900         0.03275   \n4           0.07375         0.02825  ...         0.05375         0.02625   \n\ntag  world war ii    writer's life   writers         writing         \\\n0           0.04075         0.03175         0.12950         0.04550   \n1           0.01650         0.02450         0.13050         0.02700   \n2           0.03550         0.02125         0.12775         0.03250   \n3           0.02125         0.03675         0.15925         0.05225   \n4           0.02050         0.02125         0.17725         0.02050   \n\ntag  wuxia           wwii            zombie          zombies         \n0           0.02000         0.03850         0.09125         0.02225  \n1           0.01825         0.01225         0.09925         0.01850  \n2           0.01625         0.02125         0.09525         0.01750  \n3           0.01500         0.01600         0.09175         0.01500  \n4           0.01500         0.01550         0.08875         0.01575  \n\n[5 rows x 1129 columns]",
      "text/html": "<div>\n<style scoped>\n    .dataframe tbody tr th:only-of-type {\n        vertical-align: middle;\n    }\n\n    .dataframe tbody tr th {\n        vertical-align: top;\n    }\n\n    .dataframe thead th {\n        text-align: right;\n    }\n</style>\n<table border=\"1\" class=\"dataframe\">\n  <thead>\n    <tr style=\"text-align: right;\">\n      <th>tag</th>\n      <th>movieId</th>\n      <th>007</th>\n      <th>007 (series)</th>\n      <th>18th century</th>\n      <th>1920s</th>\n      <th>1930s</th>\n      <th>1950s</th>\n      <th>1960s</th>\n      <th>1970s</th>\n      <th>1980s</th>\n      <th>...</th>\n      <th>world politics</th>\n      <th>world war i</th>\n      <th>world war ii</th>\n      <th>writer's life</th>\n      <th>writers</th>\n      <th>writing</th>\n      <th>wuxia</th>\n      <th>wwii</th>\n      <th>zombie</th>\n      <th>zombies</th>\n    </tr>\n  </thead>\n  <tbody>\n    <tr>\n      <th>0</th>\n      <td>1</td>\n      <td>0.02900</td>\n      <td>0.02375</td>\n      <td>0.05425</td>\n      <td>0.06875</td>\n      <td>0.16000</td>\n      <td>0.19525</td>\n      <td>0.07600</td>\n      <td>0.25200</td>\n      <td>0.22750</td>\n      <td>...</td>\n      <td>0.03775</td>\n      <td>0.02250</td>\n      <td>0.04075</td>\n      <td>0.03175</td>\n      <td>0.12950</td>\n      <td>0.04550</td>\n      <td>0.02000</td>\n      <td>0.03850</td>\n      <td>0.09125</td>\n      <td>0.02225</td>\n    </tr>\n    <tr>\n      <th>1</th>\n      <td>2</td>\n      <td>0.03625</td>\n      <td>0.03625</td>\n      <td>0.08275</td>\n      <td>0.08175</td>\n      <td>0.10200</td>\n      <td>0.06900</td>\n      <td>0.05775</td>\n      <td>0.10100</td>\n      <td>0.08225</td>\n      <td>...</td>\n      <td>0.04775</td>\n      <td>0.02050</td>\n      <td>0.01650</td>\n      <td>0.02450</td>\n      <td>0.13050</td>\n      <td>0.02700</td>\n      <td>0.01825</td>\n      <td>0.01225</td>\n      <td>0.09925</td>\n      <td>0.01850</td>\n    </tr>\n    <tr>\n      <th>2</th>\n      <td>3</td>\n      <td>0.04150</td>\n      <td>0.04950</td>\n      <td>0.03000</td>\n      <td>0.09525</td>\n      <td>0.04525</td>\n      <td>0.05925</td>\n      <td>0.04000</td>\n      <td>0.14150</td>\n      <td>0.04075</td>\n      <td>...</td>\n      <td>0.05800</td>\n      <td>0.02375</td>\n      <td>0.03550</td>\n      <td>0.02125</td>\n      <td>0.12775</td>\n      <td>0.03250</td>\n      <td>0.01625</td>\n      <td>0.02125</td>\n      <td>0.09525</td>\n      <td>0.01750</td>\n    </tr>\n    <tr>\n      <th>3</th>\n      <td>4</td>\n      <td>0.03350</td>\n      <td>0.03675</td>\n      <td>0.04275</td>\n      <td>0.02625</td>\n      <td>0.05250</td>\n      <td>0.03025</td>\n      <td>0.02425</td>\n      <td>0.07475</td>\n      <td>0.03750</td>\n      <td>...</td>\n      <td>0.04900</td>\n      <td>0.03275</td>\n      <td>0.02125</td>\n      <td>0.03675</td>\n      <td>0.15925</td>\n      <td>0.05225</td>\n      <td>0.01500</td>\n      <td>0.01600</td>\n      <td>0.09175</td>\n      <td>0.01500</td>\n    </tr>\n    <tr>\n      <th>4</th>\n      <td>5</td>\n      <td>0.04050</td>\n      <td>0.05175</td>\n      <td>0.03600</td>\n      <td>0.04625</td>\n      <td>0.05500</td>\n      <td>0.08000</td>\n      <td>0.02150</td>\n      <td>0.07375</td>\n      <td>0.02825</td>\n      <td>...</td>\n      <td>0.05375</td>\n      <td>0.02625</td>\n      <td>0.02050</td>\n      <td>0.02125</td>\n      <td>0.17725</td>\n      <td>0.02050</td>\n      <td>0.01500</td>\n      <td>0.01550</td>\n      <td>0.08875</td>\n      <td>0.01575</td>\n    </tr>\n  </tbody>\n</table>\n<p>5 rows × 1129 columns</p>\n</div>"
     },
     "execution_count": 29,
     "metadata": {},
     "output_type": "execute_result"
    }
   ],
   "source": [
    "tags_relevance.head()"
   ],
   "metadata": {
    "collapsed": false,
    "pycharm": {
     "name": "#%%\n"
    }
   }
  },
  {
   "cell_type": "code",
   "execution_count": 30,
   "outputs": [
    {
     "name": "stdout",
     "output_type": "stream",
     "text": [
      "<class 'pandas.core.frame.DataFrame'>\n",
      "RangeIndex: 13176 entries, 0 to 13175\n",
      "Columns: 1129 entries, movieId to zombies\n",
      "dtypes: float32(1128), int32(1)\n",
      "memory usage: 56.7 MB\n"
     ]
    }
   ],
   "source": [
    "tags_relevance.info()"
   ],
   "metadata": {
    "collapsed": false,
    "pycharm": {
     "name": "#%%\n"
    }
   }
  },
  {
   "cell_type": "code",
   "execution_count": 31,
   "outputs": [
    {
     "name": "stdout",
     "output_type": "stream",
     "text": [
      "Merged genomes dimensionality: (13176, 1129)\n"
     ]
    }
   ],
   "source": [
    "print(f'Merged genomes dimensionality: {tags_relevance.shape}')"
   ],
   "metadata": {
    "collapsed": false,
    "pycharm": {
     "name": "#%%\n"
    }
   }
  },
  {
   "cell_type": "markdown",
   "source": [
    "At the end, we can see that the cardinality of this dataset is smaller than the movies' dataset. We will drop all the samples that are not linked with `tags_relevance` in the next notebook."
   ],
   "metadata": {
    "collapsed": false,
    "pycharm": {
     "name": "#%% md\n"
    }
   }
  }
 ],
 "metadata": {
  "kernelspec": {
   "display_name": "Python 3",
   "language": "python",
   "name": "python3"
  },
  "language_info": {
   "codemirror_mode": {
    "name": "ipython",
    "version": 2
   },
   "file_extension": ".py",
   "mimetype": "text/x-python",
   "name": "python",
   "nbconvert_exporter": "python",
   "pygments_lexer": "ipython2",
   "version": "2.7.6"
  }
 },
 "nbformat": 4,
 "nbformat_minor": 0
}