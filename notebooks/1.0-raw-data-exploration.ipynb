{
 "cells": [
  {
   "cell_type": "markdown",
   "source": [
    "# Raw data exploration"
   ],
   "metadata": {
    "collapsed": false,
    "pycharm": {
     "name": "#%% md\n"
    }
   }
  },
  {
   "cell_type": "markdown",
   "source": [
    "We chose ___TASK 1: Classification of Tabular Data___ from the list of projects.\n",
    "\n",
    "In this notebook we will download the resource from the given [URL](https://grouplens.org/datasets/movielens/), in particular we are interested in the _[ml-latest.zip](https://files.grouplens.org/datasets/movielens/ml-latest.zip)_ archive that contains the following files:\n",
    "\n",
    "- _genome-scores.csv_\n",
    "- _genome-tags.csv_\n",
    "- _links.csv_\n",
    "- _movies.csv_\n",
    "- _ratings.csv_\n",
    "- _tags.csv_\n",
    "\n",
    "After the __acquisition__ phase we will explore the content of each dataset, and we will perform some __pre-processing__ on them if necessary."
   ],
   "metadata": {
    "collapsed": false,
    "pycharm": {
     "name": "#%% md\n"
    }
   }
  },
  {
   "cell_type": "markdown",
   "source": [
    "## Imports"
   ],
   "metadata": {
    "collapsed": false,
    "pycharm": {
     "name": "#%% md\n"
    }
   }
  },
  {
   "cell_type": "code",
   "execution_count": 1,
   "outputs": [],
   "source": [
    "%reload_ext autoreload\n",
    "%autoreload 2\n",
    "%matplotlib inline"
   ],
   "metadata": {
    "collapsed": false,
    "pycharm": {
     "name": "#%%\n"
    }
   }
  },
  {
   "cell_type": "code",
   "execution_count": 2,
   "outputs": [],
   "source": [
    "import os\n",
    "\n",
    "import pandas as pd\n",
    "from sklearn.preprocessing import MultiLabelBinarizer\n",
    "\n",
    "from src.data.acquisition import retrieve_movie_lens\n",
    "from src.utils.const import DATA_DIR, RAW_CSV_NAMES, MOVIE_LENS_URL\n",
    "from src.visualization.visualize import histplot"
   ],
   "metadata": {
    "collapsed": false,
    "pycharm": {
     "name": "#%%\n"
    }
   }
  },
  {
   "cell_type": "markdown",
   "source": [
    "### Useful path to data"
   ],
   "metadata": {
    "collapsed": false,
    "pycharm": {
     "name": "#%% md\n"
    }
   }
  },
  {
   "cell_type": "code",
   "execution_count": 3,
   "outputs": [],
   "source": [
    "ROOT_DIR = os.path.join(os.getcwd(), '..')\n",
    "RAW_DIR = os.path.join(ROOT_DIR, DATA_DIR, 'raw')"
   ],
   "metadata": {
    "collapsed": false,
    "pycharm": {
     "name": "#%%\n"
    }
   }
  },
  {
   "cell_type": "markdown",
   "source": [
    "## Data Acquisition"
   ],
   "metadata": {
    "collapsed": false,
    "pycharm": {
     "name": "#%% md\n"
    }
   }
  },
  {
   "cell_type": "markdown",
   "source": [
    "We start by retrieving the all the raw datasets thanks to the function `retrieve_movie_lens(...) -> bool` that downloads the _.zip_ archive and decompress it inside the _data/raw_ folder. If all the _.csv_ files are already stored the function will do nothing."
   ],
   "metadata": {
    "collapsed": false,
    "pycharm": {
     "name": "#%% md\n"
    }
   }
  },
  {
   "cell_type": "code",
   "execution_count": 4,
   "outputs": [
    {
     "name": "stdout",
     "output_type": "stream",
     "text": [
      "No needed to download raw MovieLens data.\n",
      "------------------------------\n"
     ]
    }
   ],
   "source": [
    "if not retrieve_movie_lens(MOVIE_LENS_URL, RAW_DIR, RAW_CSV_NAMES):\n",
    "    pass"
   ],
   "metadata": {
    "collapsed": false,
    "pycharm": {
     "name": "#%%\n"
    }
   }
  },
  {
   "cell_type": "markdown",
   "source": [
    "Now we are ready for the exploration, each of the following section is divided by dataset file name and has a small introduction taken from the [documentation](https://files.grouplens.org/datasets/movielens/ml-latest-README.html)."
   ],
   "metadata": {
    "collapsed": false,
    "pycharm": {
     "name": "#%% md\n"
    }
   }
  },
  {
   "cell_type": "markdown",
   "source": [
    "## movies.csv"
   ],
   "metadata": {
    "collapsed": false,
    "pycharm": {
     "name": "#%% md\n"
    }
   }
  },
  {
   "cell_type": "markdown",
   "source": [
    "Each line of this file after the header row represents one movie, where each one has __movieId__, __title__ and __genres__ as features. The __genres__ feature are a pipe-separated list from a fixed set of genres."
   ],
   "metadata": {
    "collapsed": false,
    "pycharm": {
     "name": "#%% md\n"
    }
   }
  },
  {
   "cell_type": "code",
   "execution_count": 5,
   "outputs": [],
   "source": [
    "movies = pd.read_csv(\n",
    "    os.path.join(RAW_DIR, 'movies.csv'),\n",
    "    encoding='utf-8'\n",
    ")"
   ],
   "metadata": {
    "collapsed": false,
    "pycharm": {
     "name": "#%%\n"
    }
   }
  },
  {
   "cell_type": "code",
   "execution_count": 6,
   "outputs": [
    {
     "name": "stdout",
     "output_type": "stream",
     "text": [
      "Movies dimensionality: (58098, 3)\n"
     ]
    }
   ],
   "source": [
    "print(f'Movies dimensionality: {movies.shape}')"
   ],
   "metadata": {
    "collapsed": false,
    "pycharm": {
     "name": "#%%\n"
    }
   }
  },
  {
   "cell_type": "markdown",
   "source": [
    "### Data Pre-processing"
   ],
   "metadata": {
    "collapsed": false,
    "pycharm": {
     "name": "#%% md\n"
    }
   }
  },
  {
   "cell_type": "code",
   "execution_count": 7,
   "outputs": [
    {
     "name": "stdout",
     "output_type": "stream",
     "text": [
      "<class 'pandas.core.frame.DataFrame'>\n",
      "RangeIndex: 58098 entries, 0 to 58097\n",
      "Data columns (total 3 columns):\n",
      " #   Column   Non-Null Count  Dtype \n",
      "---  ------   --------------  ----- \n",
      " 0   movieId  58098 non-null  int64 \n",
      " 1   title    58098 non-null  object\n",
      " 2   genres   58098 non-null  object\n",
      "dtypes: int64(1), object(2)\n",
      "memory usage: 1.3+ MB\n"
     ]
    }
   ],
   "source": [
    "movies.info()"
   ],
   "metadata": {
    "collapsed": false,
    "pycharm": {
     "name": "#%%\n"
    }
   }
  },
  {
   "cell_type": "code",
   "execution_count": 8,
   "outputs": [
    {
     "data": {
      "text/plain": "   movieId                               title  \\\n0        1                    Toy Story (1995)   \n1        2                      Jumanji (1995)   \n2        3             Grumpier Old Men (1995)   \n3        4            Waiting to Exhale (1995)   \n4        5  Father of the Bride Part II (1995)   \n\n                                        genres  \n0  Adventure|Animation|Children|Comedy|Fantasy  \n1                   Adventure|Children|Fantasy  \n2                               Comedy|Romance  \n3                         Comedy|Drama|Romance  \n4                                       Comedy  ",
      "text/html": "<div>\n<style scoped>\n    .dataframe tbody tr th:only-of-type {\n        vertical-align: middle;\n    }\n\n    .dataframe tbody tr th {\n        vertical-align: top;\n    }\n\n    .dataframe thead th {\n        text-align: right;\n    }\n</style>\n<table border=\"1\" class=\"dataframe\">\n  <thead>\n    <tr style=\"text-align: right;\">\n      <th></th>\n      <th>movieId</th>\n      <th>title</th>\n      <th>genres</th>\n    </tr>\n  </thead>\n  <tbody>\n    <tr>\n      <th>0</th>\n      <td>1</td>\n      <td>Toy Story (1995)</td>\n      <td>Adventure|Animation|Children|Comedy|Fantasy</td>\n    </tr>\n    <tr>\n      <th>1</th>\n      <td>2</td>\n      <td>Jumanji (1995)</td>\n      <td>Adventure|Children|Fantasy</td>\n    </tr>\n    <tr>\n      <th>2</th>\n      <td>3</td>\n      <td>Grumpier Old Men (1995)</td>\n      <td>Comedy|Romance</td>\n    </tr>\n    <tr>\n      <th>3</th>\n      <td>4</td>\n      <td>Waiting to Exhale (1995)</td>\n      <td>Comedy|Drama|Romance</td>\n    </tr>\n    <tr>\n      <th>4</th>\n      <td>5</td>\n      <td>Father of the Bride Part II (1995)</td>\n      <td>Comedy</td>\n    </tr>\n  </tbody>\n</table>\n</div>"
     },
     "execution_count": 8,
     "metadata": {},
     "output_type": "execute_result"
    }
   ],
   "source": [
    "movies.head()"
   ],
   "metadata": {
    "collapsed": false,
    "pycharm": {
     "name": "#%%\n"
    }
   }
  },
  {
   "cell_type": "markdown",
   "source": [
    "As we can see the types of some features are not correct, and in particular __movieId__ is over-sized for the range of values that it takes. We apply the right type for each feature."
   ],
   "metadata": {
    "collapsed": false,
    "pycharm": {
     "name": "#%% md\n"
    }
   }
  },
  {
   "cell_type": "code",
   "execution_count": 9,
   "outputs": [
    {
     "name": "stdout",
     "output_type": "stream",
     "text": [
      "<class 'pandas.core.frame.DataFrame'>\n",
      "RangeIndex: 58098 entries, 0 to 58097\n",
      "Data columns (total 3 columns):\n",
      " #   Column   Non-Null Count  Dtype   \n",
      "---  ------   --------------  -----   \n",
      " 0   movieId  58098 non-null  int32   \n",
      " 1   title    58098 non-null  string  \n",
      " 2   genres   58098 non-null  category\n",
      "dtypes: category(1), int32(1), string(1)\n",
      "memory usage: 871.8 KB\n"
     ]
    }
   ],
   "source": [
    "movies = movies.astype(dtype={'movieId': 'int32', 'title': 'string', 'genres': 'category'})\n",
    "movies.info()"
   ],
   "metadata": {
    "collapsed": false,
    "pycharm": {
     "name": "#%%\n"
    }
   }
  },
  {
   "cell_type": "markdown",
   "source": [
    "This step is useful to decrease the size of the dataset in memory and improves the performance of futures operations. For these reasons we are going to perform the cast every time that is needed.\n",
    "\n",
    "In order to understand better the nature of each single feature we try to discover more details."
   ],
   "metadata": {
    "collapsed": false,
    "pycharm": {
     "name": "#%% md\n"
    }
   }
  },
  {
   "cell_type": "code",
   "execution_count": 10,
   "outputs": [
    {
     "data": {
      "text/plain": "0                      Toy Story (1995)\n1                        Jumanji (1995)\n2               Grumpier Old Men (1995)\n3              Waiting to Exhale (1995)\n4    Father of the Bride Part II (1995)\nName: title, dtype: string"
     },
     "execution_count": 10,
     "metadata": {},
     "output_type": "execute_result"
    }
   ],
   "source": [
    "movies['title'].head()"
   ],
   "metadata": {
    "collapsed": false,
    "pycharm": {
     "name": "#%%\n"
    }
   }
  },
  {
   "cell_type": "markdown",
   "source": [
    "Analyzing the __title__ feature we noticed that we can extract two information:\n",
    "- at the end of the title the launch year is provided\n",
    "- since we are not going to use any NLP model, we transform the title into its string length"
   ],
   "metadata": {
    "collapsed": false,
    "pycharm": {
     "name": "#%% md\n"
    }
   }
  },
  {
   "cell_type": "code",
   "execution_count": 11,
   "outputs": [
    {
     "name": "stdout",
     "output_type": "stream",
     "text": [
      "<class 'pandas.core.frame.DataFrame'>\n",
      "RangeIndex: 58098 entries, 0 to 58097\n",
      "Data columns (total 5 columns):\n",
      " #   Column        Non-Null Count  Dtype   \n",
      "---  ------        --------------  -----   \n",
      " 0   movieId       58098 non-null  int32   \n",
      " 1   title         58098 non-null  string  \n",
      " 2   genres        58098 non-null  category\n",
      " 3   year          57771 non-null  string  \n",
      " 4   title_length  58098 non-null  Int64   \n",
      "dtypes: Int64(1), category(1), int32(1), string(2)\n",
      "memory usage: 1.8 MB\n"
     ]
    }
   ],
   "source": [
    "regex_year = '.*\\\\((\\\\d{4})\\\\).*'\n",
    "movies['year'] = movies['title'].str.extract(pat=regex_year, expand=False)\n",
    "movies['title_length'] = movies['title'].str.len()\n",
    "movies.info()"
   ],
   "metadata": {
    "collapsed": false,
    "pycharm": {
     "name": "#%%\n"
    }
   }
  },
  {
   "cell_type": "markdown",
   "source": [],
   "metadata": {
    "collapsed": false,
    "pycharm": {
     "name": "#%% md\n"
    }
   }
  },
  {
   "cell_type": "code",
   "execution_count": 12,
   "outputs": [],
   "source": [
    "movies = movies.astype(dtype={'year': 'float32', 'title_length': 'int32'})"
   ],
   "metadata": {
    "collapsed": false,
    "pycharm": {
     "name": "#%%\n"
    }
   }
  },
  {
   "cell_type": "code",
   "execution_count": 13,
   "outputs": [
    {
     "name": "stdout",
     "output_type": "stream",
     "text": [
      "Movies dimensionality after title analysis: (58098, 5)\n"
     ]
    }
   ],
   "source": [
    "print(f'Movies dimensionality after title analysis: {movies.shape}')"
   ],
   "metadata": {
    "collapsed": false,
    "pycharm": {
     "name": "#%%\n"
    }
   }
  },
  {
   "cell_type": "markdown",
   "source": [
    "Analyzing the __genres__ feature we decided to encode each genre as a new feature. If in a row a genre is listed, the feature related to the genre will be 1, otherwise 0."
   ],
   "metadata": {
    "collapsed": false,
    "pycharm": {
     "name": "#%% md\n"
    }
   }
  },
  {
   "cell_type": "code",
   "execution_count": 14,
   "outputs": [],
   "source": [
    "def encode_genre(df: pd.DataFrame) -> pd.DataFrame:\n",
    "    genres = df['genres'].str.split('|')\n",
    "    mlb = MultiLabelBinarizer()\n",
    "    encoded_genre = pd.DataFrame(\n",
    "        mlb.fit_transform(genres),\n",
    "        index=df['movieId'],\n",
    "        columns=mlb.classes_\n",
    "    )\n",
    "    return pd.merge(df, encoded_genre, on='movieId', how='inner')"
   ],
   "metadata": {
    "collapsed": false,
    "pycharm": {
     "name": "#%%\n"
    }
   }
  },
  {
   "cell_type": "code",
   "execution_count": 15,
   "outputs": [
    {
     "name": "stdout",
     "output_type": "stream",
     "text": [
      "<class 'pandas.core.frame.DataFrame'>\n",
      "Int64Index: 58098 entries, 0 to 58097\n",
      "Data columns (total 25 columns):\n",
      " #   Column              Non-Null Count  Dtype   \n",
      "---  ------              --------------  -----   \n",
      " 0   movieId             58098 non-null  int32   \n",
      " 1   title               58098 non-null  string  \n",
      " 2   genres              58098 non-null  category\n",
      " 3   year                57771 non-null  float32 \n",
      " 4   title_length        58098 non-null  int32   \n",
      " 5   (no genres listed)  58098 non-null  int32   \n",
      " 6   Action              58098 non-null  int32   \n",
      " 7   Adventure           58098 non-null  int32   \n",
      " 8   Animation           58098 non-null  int32   \n",
      " 9   Children            58098 non-null  int32   \n",
      " 10  Comedy              58098 non-null  int32   \n",
      " 11  Crime               58098 non-null  int32   \n",
      " 12  Documentary         58098 non-null  int32   \n",
      " 13  Drama               58098 non-null  int32   \n",
      " 14  Fantasy             58098 non-null  int32   \n",
      " 15  Film-Noir           58098 non-null  int32   \n",
      " 16  Horror              58098 non-null  int32   \n",
      " 17  IMAX                58098 non-null  int32   \n",
      " 18  Musical             58098 non-null  int32   \n",
      " 19  Mystery             58098 non-null  int32   \n",
      " 20  Romance             58098 non-null  int32   \n",
      " 21  Sci-Fi              58098 non-null  int32   \n",
      " 22  Thriller            58098 non-null  int32   \n",
      " 23  War                 58098 non-null  int32   \n",
      " 24  Western             58098 non-null  int32   \n",
      "dtypes: category(1), float32(1), int32(22), string(1)\n",
      "memory usage: 6.2 MB\n"
     ]
    }
   ],
   "source": [
    "movies = encode_genre(movies)\n",
    "movies.info()"
   ],
   "metadata": {
    "collapsed": false,
    "pycharm": {
     "name": "#%%\n"
    }
   }
  },
  {
   "cell_type": "code",
   "execution_count": 16,
   "outputs": [
    {
     "name": "stdout",
     "output_type": "stream",
     "text": [
      "Movies dimensionality after genres encoding: (58098, 25)\n"
     ]
    }
   ],
   "source": [
    "print(f'Movies dimensionality after genres encoding: {movies.shape}')"
   ],
   "metadata": {
    "collapsed": false,
    "pycharm": {
     "name": "#%%\n"
    }
   }
  },
  {
   "cell_type": "markdown",
   "source": [
    "### Data Cleaning"
   ],
   "metadata": {
    "collapsed": false,
    "pycharm": {
     "name": "#%% md\n"
    }
   }
  },
  {
   "cell_type": "markdown",
   "source": [
    "After the pre-processing phase we can now check if there are any NaN values, duplicates or rows with no information (eg. movies with no genre)."
   ],
   "metadata": {
    "collapsed": false,
    "pycharm": {
     "name": "#%% md\n"
    }
   }
  },
  {
   "cell_type": "markdown",
   "source": [
    "#### NaN values"
   ],
   "metadata": {
    "collapsed": false,
    "pycharm": {
     "name": "#%% md\n"
    }
   }
  },
  {
   "cell_type": "code",
   "execution_count": 17,
   "outputs": [
    {
     "data": {
      "text/plain": "movieId                 0\ntitle                   0\ngenres                  0\nyear                  327\ntitle_length            0\n(no genres listed)      0\nAction                  0\nAdventure               0\nAnimation               0\nChildren                0\nComedy                  0\nCrime                   0\nDocumentary             0\nDrama                   0\nFantasy                 0\nFilm-Noir               0\nHorror                  0\nIMAX                    0\nMusical                 0\nMystery                 0\nRomance                 0\nSci-Fi                  0\nThriller                0\nWar                     0\nWestern                 0\ndtype: int64"
     },
     "execution_count": 17,
     "metadata": {},
     "output_type": "execute_result"
    }
   ],
   "source": [
    "movies.isna().sum()"
   ],
   "metadata": {
    "collapsed": false,
    "pycharm": {
     "name": "#%%\n"
    }
   }
  },
  {
   "cell_type": "markdown",
   "source": [
    "The __year__ feature has _327_ NaN values, in order to fill these values we have to check the distribution of the data."
   ],
   "metadata": {
    "collapsed": false,
    "pycharm": {
     "name": "#%% md\n"
    }
   }
  },
  {
   "cell_type": "code",
   "execution_count": 18,
   "outputs": [
    {
     "data": {
      "text/plain": "<Figure size 864x576 with 1 Axes>",
      "image/png": "[encoded data removed]"
     },
     "metadata": {},
     "output_type": "display_data"
    }
   ],
   "source": [
    "histplot(movies['year'],\n",
    "         title='Distribution of year',\n",
    "         xlabel='year',\n",
    "         ylabel='frequency',\n",
    "         stat='frequency',\n",
    "         discrete=True,\n",
    "         kde=True)"
   ],
   "metadata": {
    "collapsed": false,
    "pycharm": {
     "name": "#%%\n"
    }
   }
  },
  {
   "cell_type": "markdown",
   "source": [
    "As we can see the distribution is skewed to the right, so we can fill the missing years' values with the median of the data."
   ],
   "metadata": {
    "collapsed": false,
    "pycharm": {
     "name": "#%% md\n"
    }
   }
  },
  {
   "cell_type": "code",
   "execution_count": 19,
   "outputs": [
    {
     "name": "stdout",
     "output_type": "stream",
     "text": [
      "Median of year data: 2001.0\n"
     ]
    }
   ],
   "source": [
    "median_year = movies['year'].median()\n",
    "print(f\"Median of year data: {median_year}\")"
   ],
   "metadata": {
    "collapsed": false,
    "pycharm": {
     "name": "#%%\n"
    }
   }
  },
  {
   "cell_type": "code",
   "execution_count": 20,
   "outputs": [],
   "source": [
    "movies = movies.fillna(value={'year': median_year})\n",
    "movies = movies.astype(dtype={'year': 'int32'})"
   ],
   "metadata": {
    "collapsed": false,
    "pycharm": {
     "name": "#%%\n"
    }
   }
  },
  {
   "cell_type": "code",
   "execution_count": 21,
   "outputs": [
    {
     "data": {
      "text/plain": "movieId               0\ntitle                 0\ngenres                0\nyear                  0\ntitle_length          0\n(no genres listed)    0\nAction                0\nAdventure             0\nAnimation             0\nChildren              0\nComedy                0\nCrime                 0\nDocumentary           0\nDrama                 0\nFantasy               0\nFilm-Noir             0\nHorror                0\nIMAX                  0\nMusical               0\nMystery               0\nRomance               0\nSci-Fi                0\nThriller              0\nWar                   0\nWestern               0\ndtype: int64"
     },
     "execution_count": 21,
     "metadata": {},
     "output_type": "execute_result"
    }
   ],
   "source": [
    "movies.isna().sum()"
   ],
   "metadata": {
    "collapsed": false,
    "pycharm": {
     "name": "#%%\n"
    }
   }
  },
  {
   "cell_type": "markdown",
   "source": [
    "#### Duplicates"
   ],
   "metadata": {
    "collapsed": false,
    "pycharm": {
     "name": "#%% md\n"
    }
   }
  },
  {
   "cell_type": "code",
   "execution_count": 22,
   "outputs": [
    {
     "name": "stdout",
     "output_type": "stream",
     "text": [
      "Duplicated samples: 0\n"
     ]
    }
   ],
   "source": [
    "print(f'Duplicated samples: {movies[movies.duplicated()].shape[0]}')"
   ],
   "metadata": {
    "collapsed": false,
    "pycharm": {
     "name": "#%%\n"
    }
   }
  },
  {
   "cell_type": "markdown",
   "source": [
    "There are no duplicates, so we can go on with the cleaning process."
   ],
   "metadata": {
    "collapsed": false,
    "pycharm": {
     "name": "#%% md\n"
    }
   }
  },
  {
   "cell_type": "markdown",
   "source": [
    "#### No information about genres"
   ],
   "metadata": {
    "collapsed": false,
    "pycharm": {
     "name": "#%% md\n"
    }
   }
  },
  {
   "cell_type": "markdown",
   "source": [
    "Inside the set of the given genres there is also _(no genres listed)_ that provide no additional information about the film. For this reason we decide to discard the films with this genre."
   ],
   "metadata": {
    "collapsed": false,
    "pycharm": {
     "name": "#%% md\n"
    }
   }
  },
  {
   "cell_type": "code",
   "execution_count": 23,
   "outputs": [
    {
     "name": "stdout",
     "output_type": "stream",
     "text": [
      "Movies with no genres listed: 4266\n"
     ]
    }
   ],
   "source": [
    "print(f\"Movies with no genres listed: {movies[movies['(no genres listed)'] == 1].shape[0]}\")"
   ],
   "metadata": {
    "collapsed": false,
    "pycharm": {
     "name": "#%%\n"
    }
   }
  },
  {
   "cell_type": "code",
   "execution_count": 24,
   "outputs": [],
   "source": [
    "def remove_no_genres(df: pd.DataFrame) -> pd.DataFrame:\n",
    "    df_no_genre = df[df['(no genres listed)'] == 1].index\n",
    "    return df.drop(index=df_no_genre)"
   ],
   "metadata": {
    "collapsed": false,
    "pycharm": {
     "name": "#%%\n"
    }
   }
  },
  {
   "cell_type": "code",
   "execution_count": 25,
   "outputs": [
    {
     "name": "stdout",
     "output_type": "stream",
     "text": [
      "Movies dimensionality after drop films with no genres: (53832, 25)\n"
     ]
    }
   ],
   "source": [
    "movies = remove_no_genres(movies)\n",
    "print(f'Movies dimensionality after drop films with no genres: {movies.shape}')"
   ],
   "metadata": {
    "collapsed": false,
    "pycharm": {
     "name": "#%%\n"
    }
   }
  },
  {
   "cell_type": "markdown",
   "source": [
    "#### Drop elaborated features"
   ],
   "metadata": {
    "collapsed": false,
    "pycharm": {
     "name": "#%% md\n"
    }
   }
  },
  {
   "cell_type": "markdown",
   "source": [
    "We are now ready to drop no longer useful features like __title__, __genres__ and __(no genres listed)__."
   ],
   "metadata": {
    "collapsed": false,
    "pycharm": {
     "name": "#%% md\n"
    }
   }
  },
  {
   "cell_type": "code",
   "execution_count": 26,
   "outputs": [],
   "source": [
    "movies = movies.drop(columns=['title', 'genres', '(no genres listed)'])"
   ],
   "metadata": {
    "collapsed": false,
    "pycharm": {
     "name": "#%%\n"
    }
   }
  },
  {
   "cell_type": "code",
   "execution_count": 35,
   "outputs": [
    {
     "name": "stdout",
     "output_type": "stream",
     "text": [
      "Movies dimensionality after features drop: (53832, 22)\n"
     ]
    }
   ],
   "source": [
    "movies_shape_linear_exploration = movies.shape\n",
    "print(f'Movies dimensionality after features drop: {movies_shape_linear_exploration}')"
   ],
   "metadata": {
    "collapsed": false,
    "pycharm": {
     "name": "#%%\n"
    }
   }
  },
  {
   "cell_type": "markdown",
   "source": [
    "### Summary"
   ],
   "metadata": {
    "collapsed": false,
    "pycharm": {
     "name": "#%% md\n"
    }
   }
  },
  {
   "cell_type": "markdown",
   "source": [
    "Finally, we can summarize each operation. We looked for the pandas best practices, and we found out that a good method to work with _DataFrame_ is to use the [Method Chaining](https://tomaugspurger.github.io/method-chaining.html)."
   ],
   "metadata": {
    "collapsed": false,
    "pycharm": {
     "name": "#%% md\n"
    }
   }
  },
  {
   "cell_type": "code",
   "execution_count": 28,
   "outputs": [],
   "source": [
    "# Read\n",
    "movies = pd.read_csv(os.path.join(RAW_DIR, 'movies.csv'),\n",
    "                     dtype={'movieId': 'int32', 'title': 'string', 'genres': 'category'},\n",
    "                     encoding='utf-8')\n",
    "\n",
    "# Pre-processing\n",
    "movies = (movies\n",
    "          .assign(year=movies['title'].str.extract(pat=regex_year, expand=False),\n",
    "                  title_length=movies['title'].str.len())\n",
    "          .astype({'year': 'float32', 'title_length': 'int32'})\n",
    "          .pipe(encode_genre))\n",
    "\n",
    "# Cleaning\n",
    "movies = (movies\n",
    "          .fillna({'year': movies['year'].median()})\n",
    "          .astype({'year': 'int32'})\n",
    "          .pipe(remove_no_genres)\n",
    "          .drop(columns=['title', 'genres', '(no genres listed)']))"
   ],
   "metadata": {
    "collapsed": false,
    "pycharm": {
     "name": "#%%\n"
    }
   }
  },
  {
   "cell_type": "code",
   "execution_count": 39,
   "outputs": [
    {
     "name": "stdout",
     "output_type": "stream",
     "text": [
      "Final Movies dimensionality: (53832, 22)\n",
      "Match: True\n"
     ]
    }
   ],
   "source": [
    "print(f'Final Movies dimensionality: {movies.shape}')\n",
    "print(f'Match: {movies.shape == movies_shape_linear_exploration}')"
   ],
   "metadata": {
    "collapsed": false,
    "pycharm": {
     "name": "#%%\n"
    }
   }
  },
  {
   "cell_type": "markdown",
   "source": [
    "## TODO: tags.csv, ratings.csv"
   ],
   "metadata": {
    "collapsed": false,
    "pycharm": {
     "name": "#%% md\n"
    }
   }
  },
  {
   "cell_type": "markdown",
   "source": [
    "### tags.csv"
   ],
   "metadata": {
    "collapsed": false,
    "pycharm": {
     "name": "#%% md\n"
    }
   }
  },
  {
   "cell_type": "code",
   "execution_count": 30,
   "outputs": [
    {
     "name": "stdout",
     "output_type": "stream",
     "text": [
      "<class 'pandas.core.frame.DataFrame'>\n",
      "RangeIndex: 1108997 entries, 0 to 1108996\n",
      "Data columns (total 2 columns):\n",
      " #   Column   Non-Null Count    Dtype \n",
      "---  ------   --------------    ----- \n",
      " 0   movieId  1108997 non-null  int32 \n",
      " 1   tag      1108981 non-null  string\n",
      "dtypes: int32(1), string(1)\n",
      "memory usage: 12.7 MB\n"
     ]
    }
   ],
   "source": [
    "tags = pd.read_csv(\n",
    "    os.path.join(RAW_DIR, 'tags.csv'),\n",
    "    encoding='utf-8',\n",
    "    usecols=['movieId', 'tag'],\n",
    "    dtype={'movieId': 'int32', 'tag': 'string'}\n",
    ")\n",
    "\n",
    "tags.info()"
   ],
   "metadata": {
    "collapsed": false,
    "pycharm": {
     "name": "#%%\n"
    }
   }
  },
  {
   "cell_type": "markdown",
   "source": [
    "#### Pipe tags"
   ],
   "metadata": {
    "collapsed": false,
    "pycharm": {
     "name": "#%% md\n"
    }
   }
  },
  {
   "cell_type": "code",
   "execution_count": 31,
   "outputs": [
    {
     "name": "stdout",
     "output_type": "stream",
     "text": [
      "<class 'pandas.core.frame.DataFrame'>\n",
      "RangeIndex: 45981 entries, 0 to 45980\n",
      "Data columns (total 2 columns):\n",
      " #   Column     Non-Null Count  Dtype\n",
      "---  ------     --------------  -----\n",
      " 0   movieId    45981 non-null  int32\n",
      " 1   tag_count  45981 non-null  int32\n",
      "dtypes: int32(2)\n",
      "memory usage: 359.4 KB\n"
     ]
    }
   ],
   "source": [
    "tags = (tags\n",
    "        .groupby(by='movieId', as_index=False)['tag'].agg('count')\n",
    "        .rename(columns={'tag': 'tag_count'})\n",
    "        .astype({'movieId': 'int32', 'tag_count': 'int32'}))\n",
    "\n",
    "tags.info()"
   ],
   "metadata": {
    "collapsed": false,
    "pycharm": {
     "name": "#%%\n"
    }
   }
  },
  {
   "cell_type": "markdown",
   "source": [
    "### ratings.csv"
   ],
   "metadata": {
    "collapsed": false,
    "pycharm": {
     "name": "#%% md\n"
    }
   }
  },
  {
   "cell_type": "code",
   "execution_count": 32,
   "outputs": [
    {
     "name": "stdout",
     "output_type": "stream",
     "text": [
      "<class 'pandas.core.frame.DataFrame'>\n",
      "RangeIndex: 27753444 entries, 0 to 27753443\n",
      "Data columns (total 2 columns):\n",
      " #   Column   Dtype  \n",
      "---  ------   -----  \n",
      " 0   movieId  int32  \n",
      " 1   rating   float32\n",
      "dtypes: float32(1), int32(1)\n",
      "memory usage: 211.7 MB\n"
     ]
    }
   ],
   "source": [
    "ratings = pd.read_csv(\n",
    "    os.path.join(RAW_DIR, 'ratings.csv'),\n",
    "    encoding='utf-8',\n",
    "    usecols=['movieId', 'rating'],\n",
    "    dtype={'movieId': 'int32', 'rating': 'float32'}\n",
    ")\n",
    "\n",
    "ratings.info()"
   ],
   "metadata": {
    "collapsed": false,
    "pycharm": {
     "name": "#%%\n"
    }
   }
  },
  {
   "cell_type": "markdown",
   "source": [
    "#### Pipe ratings"
   ],
   "metadata": {
    "collapsed": false,
    "pycharm": {
     "name": "#%% md\n"
    }
   }
  },
  {
   "cell_type": "code",
   "execution_count": 33,
   "outputs": [
    {
     "name": "stdout",
     "output_type": "stream",
     "text": [
      "<class 'pandas.core.frame.DataFrame'>\n",
      "RangeIndex: 53889 entries, 0 to 53888\n",
      "Data columns (total 3 columns):\n",
      " #   Column        Non-Null Count  Dtype  \n",
      "---  ------        --------------  -----  \n",
      " 0   movieId       53889 non-null  int32  \n",
      " 1   rating_count  53889 non-null  int32  \n",
      " 2   rating_mean   53889 non-null  float32\n",
      "dtypes: float32(1), int32(2)\n",
      "memory usage: 631.6 KB\n"
     ]
    }
   ],
   "source": [
    "ratings = (ratings\n",
    "           .groupby(by='movieId')['rating'].agg(['count', 'mean'])\n",
    "           .reset_index()\n",
    "           .rename(columns={'count': 'rating_count', 'mean': 'rating_mean'})\n",
    "           .astype({'movieId': 'int32', 'rating_count': 'int32'}))\n",
    "\n",
    "ratings.info()"
   ],
   "metadata": {
    "collapsed": false,
    "pycharm": {
     "name": "#%%\n"
    }
   }
  }
 ],
 "metadata": {
  "kernelspec": {
   "display_name": "Python 3",
   "language": "python",
   "name": "python3"
  },
  "language_info": {
   "codemirror_mode": {
    "name": "ipython",
    "version": 2
   },
   "file_extension": ".py",
   "mimetype": "text/x-python",
   "name": "python",
   "nbconvert_exporter": "python",
   "pygments_lexer": "ipython2",
   "version": "2.7.6"
  }
 },
 "nbformat": 4,
 "nbformat_minor": 0
}