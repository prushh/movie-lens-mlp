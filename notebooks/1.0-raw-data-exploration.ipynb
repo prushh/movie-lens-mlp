{
 "cells": [
  {
   "cell_type": "markdown",
   "source": [
    "# Raw data exploration"
   ],
   "metadata": {
    "collapsed": false,
    "pycharm": {
     "name": "#%% md\n"
    }
   }
  },
  {
   "cell_type": "markdown",
   "source": [
    "### Imports"
   ],
   "metadata": {
    "collapsed": false,
    "pycharm": {
     "name": "#%% md\n"
    }
   }
  },
  {
   "cell_type": "code",
   "execution_count": null,
   "outputs": [],
   "source": [
    "import os\n",
    "import pandas as pd\n",
    "from sklearn.preprocessing import MultiLabelBinarizer\n",
    "\n",
    "from src.utils.const import DATA_DIR"
   ],
   "metadata": {
    "collapsed": false,
    "pycharm": {
     "name": "#%%\n"
    }
   }
  },
  {
   "cell_type": "markdown",
   "source": [
    "### Useful path to data"
   ],
   "metadata": {
    "collapsed": false,
    "pycharm": {
     "name": "#%% md\n"
    }
   }
  },
  {
   "cell_type": "code",
   "execution_count": null,
   "outputs": [],
   "source": [
    "ROOT_DIR = os.path.join(os.getcwd(), '..')\n",
    "RAW_DIR = os.path.join(ROOT_DIR, DATA_DIR, 'raw')"
   ],
   "metadata": {
    "collapsed": false,
    "pycharm": {
     "name": "#%%\n"
    }
   }
  },
  {
   "cell_type": "markdown",
   "source": [
    "### movies.csv"
   ],
   "metadata": {
    "collapsed": false,
    "pycharm": {
     "name": "#%% md\n"
    }
   }
  },
  {
   "cell_type": "code",
   "execution_count": null,
   "outputs": [],
   "source": [
    "movies = pd.read_csv(\n",
    "    os.path.join(RAW_DIR, 'movies.csv'),\n",
    "    encoding='utf-8',\n",
    "    dtype={'movieId': 'int32', 'title': 'string', 'genres': 'category'}\n",
    ")\n",
    "\n",
    "movies.info()"
   ],
   "metadata": {
    "collapsed": false,
    "pycharm": {
     "name": "#%%\n"
    }
   }
  },
  {
   "cell_type": "markdown",
   "source": [
    "#### Specific movies functions used in pipe"
   ],
   "metadata": {
    "collapsed": false,
    "pycharm": {
     "name": "#%% md\n"
    }
   }
  },
  {
   "cell_type": "code",
   "execution_count": null,
   "outputs": [],
   "source": [
    "def encode_genre(df: pd.DataFrame) -> pd.DataFrame:\n",
    "    genres = df['genres'].str.split('|')\n",
    "    mlb = MultiLabelBinarizer()\n",
    "    encoded_genre = pd.DataFrame(\n",
    "        mlb.fit_transform(genres),\n",
    "        index=df['movieId'],\n",
    "        columns=mlb.classes_\n",
    "    )\n",
    "    return pd.merge(df, encoded_genre, on='movieId', how='inner')\n",
    "\n",
    "\n",
    "def remove_no_genres(df: pd.DataFrame) -> pd.DataFrame:\n",
    "    df_no_genre = df[df['(no genres listed)'] == 1].index\n",
    "    return df.drop(index=df_no_genre)"
   ],
   "metadata": {
    "collapsed": false,
    "pycharm": {
     "name": "#%%\n"
    }
   }
  },
  {
   "cell_type": "markdown",
   "source": [
    "#### Pipe movies"
   ],
   "metadata": {
    "collapsed": false,
    "pycharm": {
     "name": "#%% md\n"
    }
   }
  },
  {
   "cell_type": "code",
   "execution_count": null,
   "outputs": [],
   "source": [
    "# Preprocessing\n",
    "regex_year = '.*\\\\((\\\\d{4})\\\\).*'\n",
    "movies = (movies\n",
    "          .assign(year=movies['title'].str.extract(pat=regex_year, expand=False),\n",
    "                  title_length=movies['title'].str.len())\n",
    "          .astype({'year': 'float32', 'title_length': 'int32'})\n",
    "          .pipe(encode_genre))\n",
    "\n",
    "# Cleaning\n",
    "movies = (movies\n",
    "          .fillna({'year': movies['year'].median()})\n",
    "          .pipe(remove_no_genres)\n",
    "          .drop(columns=['title', 'genres', '(no genres listed)']))\n",
    "\n",
    "movies.info()"
   ],
   "metadata": {
    "collapsed": false,
    "pycharm": {
     "name": "#%%\n"
    }
   }
  },
  {
   "cell_type": "markdown",
   "source": [
    "### tags.csv"
   ],
   "metadata": {
    "collapsed": false,
    "pycharm": {
     "name": "#%% md\n"
    }
   }
  },
  {
   "cell_type": "code",
   "execution_count": null,
   "outputs": [],
   "source": [
    "tags = pd.read_csv(\n",
    "    os.path.join(RAW_DIR, 'tags.csv'),\n",
    "    encoding='utf-8',\n",
    "    usecols=['movieId', 'tag'],\n",
    "    dtype={'movieId': 'int32', 'tag': 'string'}\n",
    ")\n",
    "\n",
    "tags.info()"
   ],
   "metadata": {
    "collapsed": false,
    "pycharm": {
     "name": "#%%\n"
    }
   }
  },
  {
   "cell_type": "markdown",
   "source": [
    "#### Pipe tags"
   ],
   "metadata": {
    "collapsed": false,
    "pycharm": {
     "name": "#%% md\n"
    }
   }
  },
  {
   "cell_type": "code",
   "execution_count": null,
   "outputs": [],
   "source": [
    "tags = (tags\n",
    "        .groupby(by='movieId', as_index=False)['tag'].agg('count')\n",
    "        .rename(columns={'tag': 'tag_count'})\n",
    "        .astype({'movieId': 'int32', 'tag_count': 'int32'}))\n",
    "\n",
    "tags.info()"
   ],
   "metadata": {
    "collapsed": false,
    "pycharm": {
     "name": "#%%\n"
    }
   }
  },
  {
   "cell_type": "markdown",
   "source": [
    "### ratings.csv"
   ],
   "metadata": {
    "collapsed": false,
    "pycharm": {
     "name": "#%% md\n"
    }
   }
  },
  {
   "cell_type": "code",
   "execution_count": null,
   "outputs": [],
   "source": [
    "ratings = pd.read_csv(\n",
    "    os.path.join(RAW_DIR, 'ratings.csv'),\n",
    "    encoding='utf-8',\n",
    "    usecols=['movieId', 'rating'],\n",
    "    dtype={'movieId': 'int32', 'rating': 'float32'}\n",
    ")\n",
    "\n",
    "ratings.info()"
   ],
   "metadata": {
    "collapsed": false,
    "pycharm": {
     "name": "#%%\n"
    }
   }
  },
  {
   "cell_type": "markdown",
   "source": [
    "#### Pipe ratings"
   ],
   "metadata": {
    "collapsed": false,
    "pycharm": {
     "name": "#%% md\n"
    }
   }
  },
  {
   "cell_type": "code",
   "execution_count": null,
   "outputs": [],
   "source": [
    "ratings = (ratings\n",
    "           .groupby(by='movieId')['rating'].agg(['count', 'mean'])\n",
    "           .reset_index()\n",
    "           .rename(columns={'count': 'rating_count', 'mean': 'rating_mean'})\n",
    "           .astype({'movieId': 'int32', 'rating_count': 'int32'}))\n",
    "\n",
    "ratings.info()"
   ],
   "metadata": {
    "collapsed": false,
    "pycharm": {
     "name": "#%%\n"
    }
   }
  }
 ],
 "metadata": {
  "kernelspec": {
   "display_name": "Python 3",
   "language": "python",
   "name": "python3"
  },
  "language_info": {
   "codemirror_mode": {
    "name": "ipython",
    "version": 2
   },
   "file_extension": ".py",
   "mimetype": "text/x-python",
   "name": "python",
   "nbconvert_exporter": "python",
   "pygments_lexer": "ipython2",
   "version": "2.7.6"
  }
 },
 "nbformat": 4,
 "nbformat_minor": 0
}