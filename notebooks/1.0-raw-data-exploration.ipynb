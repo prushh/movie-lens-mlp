{
 "cells": [
  {
   "cell_type": "markdown",
   "source": [
    "# Raw data exploration"
   ],
   "metadata": {
    "collapsed": false
   }
  },
  {
   "cell_type": "markdown",
   "source": [
    "### Imports"
   ],
   "metadata": {
    "collapsed": false
   }
  },
  {
   "cell_type": "code",
   "execution_count": 1,
   "outputs": [],
   "source": [
    "import os\n",
    "import pandas as pd\n",
    "from typing import List, Dict\n",
    "from sklearn.preprocessing import MultiLabelBinarizer\n",
    "\n",
    "from src.utils.util import overview_data\n",
    "from src.utils.const import DATA_DIR, DROP"
   ],
   "metadata": {
    "collapsed": false,
    "pycharm": {
     "name": "#%%\n"
    }
   }
  },
  {
   "cell_type": "markdown",
   "source": [
    "### Path to raw data"
   ],
   "metadata": {
    "collapsed": false
   }
  },
  {
   "cell_type": "code",
   "execution_count": 2,
   "metadata": {
    "collapsed": true
   },
   "outputs": [],
   "source": [
    "ROOT_DIR = os.path.join(os.getcwd(), '..')\n",
    "RAW_DIR = os.path.join(ROOT_DIR, DATA_DIR, 'raw')"
   ]
  },
  {
   "cell_type": "markdown",
   "source": [
    "## Generic useful function"
   ],
   "metadata": {
    "collapsed": false
   }
  },
  {
   "cell_type": "code",
   "execution_count": 3,
   "outputs": [],
   "source": [
    "def drop_na(df: pd.DataFrame) -> pd.DataFrame:\n",
    "    df.dropna(inplace=True)\n",
    "    return df\n",
    "\n",
    "\n",
    "def drop(df: pd.DataFrame, columns: List[str]) -> pd.DataFrame:\n",
    "    df.drop(columns=columns, inplace=True)\n",
    "    return df\n",
    "\n",
    "\n",
    "def fill_na(df: pd.DataFrame, column: str, use_median: bool) -> pd.DataFrame:\n",
    "    if use_median:\n",
    "        median = df[column].median()\n",
    "        df[column].fillna(median, inplace=True)\n",
    "        return df\n",
    "    mean = df[column].mean()\n",
    "    df[column].fillna(mean, inplace=True)\n",
    "    return df\n",
    "\n",
    "\n",
    "def convert_to(df: pd.DataFrame, column: str, _type: str) -> pd.DataFrame:\n",
    "    df[column] = df[column].astype(_type)\n",
    "    return df\n",
    "\n",
    "\n",
    "def rename(df: pd.DataFrame, _dict: Dict[str, str]) -> pd.DataFrame:\n",
    "    df.rename(columns=_dict, inplace=True)\n",
    "    return df\n",
    "\n",
    "\n",
    "def reset_index(df: pd.DataFrame) -> pd.DataFrame:\n",
    "    df.reset_index(inplace=True)\n",
    "    return df\n",
    "\n",
    "\n",
    "def extract_feature_count(df: pd.DataFrame, by: str, column: str) -> pd.DataFrame:\n",
    "    column_suffix = f'{column}_count'\n",
    "    df_feature_count = pd.DataFrame(\n",
    "        df.groupby(by=by, as_index=False)[column]\n",
    "            .count()\n",
    "            .rename(columns={column: column_suffix})\n",
    "    )\n",
    "    return df_feature_count\n",
    "\n",
    "\n",
    "def extract_feature_mean(df: pd.DataFrame, by: str, column: str) -> pd.DataFrame:\n",
    "    column_suffix = f'{column}_mean'\n",
    "    df_feature_mean = pd.DataFrame(\n",
    "        df.groupby(by=by, as_index=False)[column]\n",
    "            .mean()\n",
    "            .rename(columns={column: column_suffix})\n",
    "    )\n",
    "    return df_feature_mean\n",
    "\n",
    "\n",
    "def extract_stat_feature(df: pd.DataFrame, by: List[str], column: str, stat: List[str]) -> pd.DataFrame:\n",
    "    df_stat = pd.DataFrame(\n",
    "        df.groupby(by, as_index=False)[column].agg(stat)\n",
    "    )\n",
    "    return df_stat"
   ],
   "metadata": {
    "collapsed": false,
    "pycharm": {
     "name": "#%%\n"
    }
   }
  },
  {
   "cell_type": "markdown",
   "source": [
    "### movies.csv"
   ],
   "metadata": {
    "collapsed": false
   }
  },
  {
   "cell_type": "code",
   "execution_count": 4,
   "outputs": [
    {
     "name": "stdout",
     "output_type": "stream",
     "text": [
      "Shape: (58098, 3)\n",
      "Columns: ['movieId' 'title' 'genres']\n"
     ]
    }
   ],
   "source": [
    "movies = pd.read_csv(os.path.join(RAW_DIR, 'movies.csv'), encoding='utf-8',\n",
    "                     dtype={'title': 'string', 'genres': 'category'})\n",
    "overview_data(movies)"
   ],
   "metadata": {
    "collapsed": false,
    "pycharm": {
     "name": "#%%\n"
    }
   }
  },
  {
   "cell_type": "markdown",
   "source": [
    "#### Specific movies functions used in pipe"
   ],
   "metadata": {
    "collapsed": false
   }
  },
  {
   "cell_type": "code",
   "execution_count": 5,
   "outputs": [],
   "source": [
    "def extract_year_from_title(df: pd.DataFrame) -> pd.DataFrame:\n",
    "    regex = '.*\\((\\d{4})\\).*'\n",
    "    df['year'] = df['title'].str.extract(pat=regex, expand=False)\n",
    "    return df\n",
    "\n",
    "\n",
    "def extract_title_length(df: pd.DataFrame) -> pd.DataFrame:\n",
    "    df['title_length'] = df['title'].str.len()\n",
    "    return df\n",
    "\n",
    "\n",
    "def encode_genre(df: pd.DataFrame) -> pd.DataFrame:\n",
    "    genres = df['genres'].str.split('|')\n",
    "    mlb = MultiLabelBinarizer()\n",
    "    encoded_genre = pd.DataFrame(\n",
    "        mlb.fit_transform(genres),\n",
    "        index=df['movieId'],\n",
    "        columns=mlb.classes_\n",
    "    )\n",
    "    df = pd.merge(df, encoded_genre, on='movieId', how='inner')\n",
    "    return df\n",
    "\n",
    "\n",
    "def remove_no_genres(df: pd.DataFrame) -> pd.DataFrame:\n",
    "    df_no_genre = df[df['(no genres listed)'] == 1].index\n",
    "    df.drop(index=df_no_genre, inplace=True)\n",
    "    if DROP:\n",
    "        print(f'Number of films without any genres to be dropped: {df_no_genre.shape[0]}')\n",
    "    return df"
   ],
   "metadata": {
    "collapsed": false,
    "pycharm": {
     "name": "#%%\n"
    }
   }
  },
  {
   "cell_type": "markdown",
   "source": [
    "#### Pipe movies"
   ],
   "metadata": {
    "collapsed": false
   }
  },
  {
   "cell_type": "code",
   "execution_count": 6,
   "outputs": [
    {
     "name": "stdout",
     "output_type": "stream",
     "text": [
      "<class 'pandas.core.frame.DataFrame'>\n",
      "Int64Index: 53832 entries, 0 to 58097\n",
      "Data columns (total 23 columns):\n",
      " #   Column              Non-Null Count  Dtype  \n",
      "---  ------              --------------  -----  \n",
      " 0   movieId             53832 non-null  int64  \n",
      " 1   year                53832 non-null  float32\n",
      " 2   title_length        53832 non-null  Int64  \n",
      " 3   (no genres listed)  53832 non-null  int32  \n",
      " 4   Action              53832 non-null  int32  \n",
      " 5   Adventure           53832 non-null  int32  \n",
      " 6   Animation           53832 non-null  int32  \n",
      " 7   Children            53832 non-null  int32  \n",
      " 8   Comedy              53832 non-null  int32  \n",
      " 9   Crime               53832 non-null  int32  \n",
      " 10  Documentary         53832 non-null  int32  \n",
      " 11  Drama               53832 non-null  int32  \n",
      " 12  Fantasy             53832 non-null  int32  \n",
      " 13  Film-Noir           53832 non-null  int32  \n",
      " 14  Horror              53832 non-null  int32  \n",
      " 15  IMAX                53832 non-null  int32  \n",
      " 16  Musical             53832 non-null  int32  \n",
      " 17  Mystery             53832 non-null  int32  \n",
      " 18  Romance             53832 non-null  int32  \n",
      " 19  Sci-Fi              53832 non-null  int32  \n",
      " 20  Thriller            53832 non-null  int32  \n",
      " 21  War                 53832 non-null  int32  \n",
      " 22  Western             53832 non-null  int32  \n",
      "dtypes: Int64(1), float32(1), int32(20), int64(1)\n",
      "memory usage: 5.6 MB\n"
     ]
    }
   ],
   "source": [
    "movies = movies. \\\n",
    "    pipe(extract_year_from_title). \\\n",
    "    pipe(convert_to, 'year', 'float32'). \\\n",
    "    pipe(fill_na, 'year', True). \\\n",
    "    pipe(extract_title_length). \\\n",
    "    pipe(encode_genre). \\\n",
    "    pipe(remove_no_genres). \\\n",
    "    pipe(drop, ['title', 'genres'])\n",
    "\n",
    "movies.info()"
   ],
   "metadata": {
    "collapsed": false,
    "pycharm": {
     "name": "#%%\n"
    }
   }
  },
  {
   "cell_type": "markdown",
   "source": [
    "### tags.csv"
   ],
   "metadata": {
    "collapsed": false
   }
  },
  {
   "cell_type": "code",
   "execution_count": 7,
   "outputs": [
    {
     "name": "stdout",
     "output_type": "stream",
     "text": [
      "Shape: (1108997, 2)\n",
      "Columns: ['movieId' 'tag']\n"
     ]
    }
   ],
   "source": [
    "tags = pd.read_csv(os.path.join(RAW_DIR, 'tags.csv'), encoding='utf-8', usecols=['movieId', 'tag'],\n",
    "                   dtype={'tag': 'string'})\n",
    "overview_data(tags)"
   ],
   "metadata": {
    "collapsed": false,
    "pycharm": {
     "name": "#%%\n"
    }
   }
  },
  {
   "cell_type": "markdown",
   "source": [
    "#### Pipe tags"
   ],
   "metadata": {
    "collapsed": false
   }
  },
  {
   "cell_type": "code",
   "execution_count": 8,
   "outputs": [
    {
     "name": "stdout",
     "output_type": "stream",
     "text": [
      "<class 'pandas.core.frame.DataFrame'>\n",
      "RangeIndex: 45981 entries, 0 to 45980\n",
      "Data columns (total 2 columns):\n",
      " #   Column     Non-Null Count  Dtype\n",
      "---  ------     --------------  -----\n",
      " 0   movieId    45981 non-null  int64\n",
      " 1   tag_count  45981 non-null  int64\n",
      "dtypes: int64(2)\n",
      "memory usage: 718.6 KB\n"
     ]
    }
   ],
   "source": [
    "tags = tags. \\\n",
    "    pipe(drop_na). \\\n",
    "    pipe(extract_feature_count, 'movieId', 'tag')\n",
    "\n",
    "tags.info()"
   ],
   "metadata": {
    "collapsed": false,
    "pycharm": {
     "name": "#%%\n"
    }
   }
  },
  {
   "cell_type": "markdown",
   "source": [
    "### ratings.csv"
   ],
   "metadata": {
    "collapsed": false
   }
  },
  {
   "cell_type": "code",
   "execution_count": 9,
   "outputs": [
    {
     "name": "stdout",
     "output_type": "stream",
     "text": [
      "Shape: (27753444, 2)\n",
      "Columns: ['movieId' 'rating']\n"
     ]
    }
   ],
   "source": [
    "ratings = pd.read_csv(os.path.join(RAW_DIR, 'ratings.csv'), encoding='utf-8', usecols=['movieId', 'rating'])\n",
    "overview_data(ratings)"
   ],
   "metadata": {
    "collapsed": false,
    "pycharm": {
     "name": "#%%\n"
    }
   }
  },
  {
   "cell_type": "markdown",
   "source": [
    "#### Pipe ratings"
   ],
   "metadata": {
    "collapsed": false
   }
  },
  {
   "cell_type": "code",
   "execution_count": 10,
   "outputs": [
    {
     "name": "stdout",
     "output_type": "stream",
     "text": [
      "<class 'pandas.core.frame.DataFrame'>\n",
      "RangeIndex: 53889 entries, 0 to 53888\n",
      "Data columns (total 3 columns):\n",
      " #   Column        Non-Null Count  Dtype  \n",
      "---  ------        --------------  -----  \n",
      " 0   movieId       53889 non-null  int64  \n",
      " 1   rating_count  53889 non-null  int64  \n",
      " 2   rating_mean   53889 non-null  float64\n",
      "dtypes: float64(1), int64(2)\n",
      "memory usage: 1.2 MB\n"
     ]
    }
   ],
   "source": [
    "ratings = ratings. \\\n",
    "    pipe(extract_stat_feature, ['movieId'], 'rating', ['count', 'mean']). \\\n",
    "    pipe(reset_index). \\\n",
    "    pipe(rename, {'count':'rating_count', 'mean':'rating_mean'})\n",
    "\n",
    "ratings.info()"
   ],
   "metadata": {
    "collapsed": false,
    "pycharm": {
     "name": "#%%\n"
    }
   }
  },
  {
   "cell_type": "markdown",
   "source": [
    "### After"
   ],
   "metadata": {
    "collapsed": false
   }
  },
  {
   "cell_type": "code",
   "execution_count": null,
   "outputs": [],
   "source": [
    "links = pd.read_csv(os.path.join(RAW_DIR, 'links.csv'), encoding='utf-8')"
   ],
   "metadata": {
    "collapsed": false,
    "pycharm": {
     "name": "#%%\n"
    }
   }
  }
 ],
 "metadata": {
  "kernelspec": {
   "display_name": "Python 3",
   "language": "python",
   "name": "python3"
  },
  "language_info": {
   "codemirror_mode": {
    "name": "ipython",
    "version": 2
   },
   "file_extension": ".py",
   "mimetype": "text/x-python",
   "name": "python",
   "nbconvert_exporter": "python",
   "pygments_lexer": "ipython2",
   "version": "2.7.6"
  }
 },
 "nbformat": 4,
 "nbformat_minor": 0
}