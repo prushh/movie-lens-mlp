{
 "cells": [
  {
   "cell_type": "markdown",
   "source": [
    "# Raw data exploration"
   ],
   "metadata": {
    "collapsed": false,
    "pycharm": {
     "name": "#%% md\n"
    }
   }
  },
  {
   "cell_type": "markdown",
   "source": [
    "We chose ___TASK 1: Classification of Tabular Data___ from the list of projects.\n",
    "\n",
    "In this notebook we will download the resource from the given [URL](https://grouplens.org/datasets/movielens/), in particular we are interested in the _[ml-latest.zip](https://files.grouplens.org/datasets/movielens/ml-latest.zip)_ archive that contains the following files:\n",
    "\n",
    "- _genome-scores.csv_\n",
    "- _genome-tags.csv_\n",
    "- _links.csv_\n",
    "- _movies.csv_\n",
    "- _ratings.csv_\n",
    "- _tags.csv_\n",
    "\n",
    "After the __acquisition__ phase we will explore the content of each dataset, and we will perform if necessary some __pre-processing__ on them."
   ],
   "metadata": {
    "collapsed": false,
    "pycharm": {
     "name": "#%% md\n"
    }
   }
  },
  {
   "cell_type": "markdown",
   "source": [
    "## Imports"
   ],
   "metadata": {
    "collapsed": false,
    "pycharm": {
     "name": "#%% md\n"
    }
   }
  },
  {
   "cell_type": "code",
   "execution_count": 13,
   "outputs": [],
   "source": [
    "import os\n",
    "\n",
    "import pandas as pd\n",
    "from sklearn.preprocessing import MultiLabelBinarizer\n",
    "\n",
    "from src.data.acquisition import retrieve_movie_lens\n",
    "from src.utils.const import DATA_DIR, RAW_CSV_NAMES, MOVIE_LENS_URL\n",
    "from src.visualization.visualize import histplot"
   ],
   "metadata": {
    "collapsed": false,
    "pycharm": {
     "name": "#%%\n"
    }
   }
  },
  {
   "cell_type": "markdown",
   "source": [
    "### Extensions"
   ],
   "metadata": {
    "collapsed": false,
    "pycharm": {
     "name": "#%% md\n"
    }
   }
  },
  {
   "cell_type": "code",
   "execution_count": 14,
   "outputs": [],
   "source": [
    "%matplotlib inline\n",
    "%reload_ext autoreload\n",
    "%autoreload 2"
   ],
   "metadata": {
    "collapsed": false,
    "pycharm": {
     "name": "#%%\n"
    }
   }
  },
  {
   "cell_type": "markdown",
   "source": [
    "### Useful path to data"
   ],
   "metadata": {
    "collapsed": false,
    "pycharm": {
     "name": "#%% md\n"
    }
   }
  },
  {
   "cell_type": "code",
   "execution_count": 15,
   "outputs": [],
   "source": [
    "ROOT_DIR = os.path.join(os.getcwd(), '..')\n",
    "RAW_DIR = os.path.join(ROOT_DIR, DATA_DIR, 'raw')"
   ],
   "metadata": {
    "collapsed": false,
    "pycharm": {
     "name": "#%%\n"
    }
   }
  },
  {
   "cell_type": "markdown",
   "source": [
    "## Data Acquisition"
   ],
   "metadata": {
    "collapsed": false,
    "pycharm": {
     "name": "#%% md\n"
    }
   }
  },
  {
   "cell_type": "markdown",
   "source": [
    "We start by retrieving all the raw datasets thanks to the function `retrieve_movie_lens(...) -> bool` that downloads the _.zip_ archive and decompress it inside the _data/raw_ folder. If all the _.csv_ files are already stored the function will do nothing."
   ],
   "metadata": {
    "collapsed": false,
    "pycharm": {
     "name": "#%% md\n"
    }
   }
  },
  {
   "cell_type": "code",
   "execution_count": 16,
   "outputs": [
    {
     "name": "stdout",
     "output_type": "stream",
     "text": [
      "No needed to download raw MovieLens data.\n",
      "------------------------------\n"
     ]
    }
   ],
   "source": [
    "if not retrieve_movie_lens(MOVIE_LENS_URL, RAW_DIR, RAW_CSV_NAMES):\n",
    "    pass"
   ],
   "metadata": {
    "collapsed": false,
    "pycharm": {
     "name": "#%%\n"
    }
   }
  },
  {
   "cell_type": "markdown",
   "source": [
    "Now we are ready for the exploration, each of the following section is divided by dataset file name and has a small introduction taken from the [documentation](https://files.grouplens.org/datasets/movielens/ml-latest-README.html)."
   ],
   "metadata": {
    "collapsed": false,
    "pycharm": {
     "name": "#%% md\n"
    }
   }
  },
  {
   "cell_type": "markdown",
   "source": [
    "## movies.csv"
   ],
   "metadata": {
    "collapsed": false,
    "pycharm": {
     "name": "#%% md\n"
    }
   }
  },
  {
   "cell_type": "markdown",
   "source": [
    "Each line of this file after the header row represents one movie, where each one has __movieId__, __title__ and __genres__ as features. The __genres__ feature are a pipe-separated list from a fixed set of genres."
   ],
   "metadata": {
    "collapsed": false,
    "pycharm": {
     "name": "#%% md\n"
    }
   }
  },
  {
   "cell_type": "code",
   "execution_count": 17,
   "outputs": [],
   "source": [
    "movies = pd.read_csv(\n",
    "    os.path.join(RAW_DIR, 'movies.csv'),\n",
    "    encoding='utf-8'\n",
    ")"
   ],
   "metadata": {
    "collapsed": false,
    "pycharm": {
     "name": "#%%\n"
    }
   }
  },
  {
   "cell_type": "code",
   "execution_count": 18,
   "outputs": [
    {
     "name": "stdout",
     "output_type": "stream",
     "text": [
      "Movies dimensionality: (58098, 3)\n"
     ]
    }
   ],
   "source": [
    "print(f'Movies dimensionality: {movies.shape}')"
   ],
   "metadata": {
    "collapsed": false,
    "pycharm": {
     "name": "#%%\n"
    }
   }
  },
  {
   "cell_type": "markdown",
   "source": [
    "### Data Pre-processing"
   ],
   "metadata": {
    "collapsed": false,
    "pycharm": {
     "name": "#%% md\n"
    }
   }
  },
  {
   "cell_type": "code",
   "execution_count": 19,
   "outputs": [
    {
     "name": "stdout",
     "output_type": "stream",
     "text": [
      "<class 'pandas.core.frame.DataFrame'>\n",
      "RangeIndex: 58098 entries, 0 to 58097\n",
      "Data columns (total 3 columns):\n",
      " #   Column   Non-Null Count  Dtype \n",
      "---  ------   --------------  ----- \n",
      " 0   movieId  58098 non-null  int64 \n",
      " 1   title    58098 non-null  object\n",
      " 2   genres   58098 non-null  object\n",
      "dtypes: int64(1), object(2)\n",
      "memory usage: 1.3+ MB\n"
     ]
    }
   ],
   "source": [
    "movies.info()"
   ],
   "metadata": {
    "collapsed": false,
    "pycharm": {
     "name": "#%%\n"
    }
   }
  },
  {
   "cell_type": "code",
   "execution_count": 20,
   "outputs": [
    {
     "data": {
      "text/plain": "   movieId                               title  \\\n0        1                    Toy Story (1995)   \n1        2                      Jumanji (1995)   \n2        3             Grumpier Old Men (1995)   \n3        4            Waiting to Exhale (1995)   \n4        5  Father of the Bride Part II (1995)   \n\n                                        genres  \n0  Adventure|Animation|Children|Comedy|Fantasy  \n1                   Adventure|Children|Fantasy  \n2                               Comedy|Romance  \n3                         Comedy|Drama|Romance  \n4                                       Comedy  ",
      "text/html": "<div>\n<style scoped>\n    .dataframe tbody tr th:only-of-type {\n        vertical-align: middle;\n    }\n\n    .dataframe tbody tr th {\n        vertical-align: top;\n    }\n\n    .dataframe thead th {\n        text-align: right;\n    }\n</style>\n<table border=\"1\" class=\"dataframe\">\n  <thead>\n    <tr style=\"text-align: right;\">\n      <th></th>\n      <th>movieId</th>\n      <th>title</th>\n      <th>genres</th>\n    </tr>\n  </thead>\n  <tbody>\n    <tr>\n      <th>0</th>\n      <td>1</td>\n      <td>Toy Story (1995)</td>\n      <td>Adventure|Animation|Children|Comedy|Fantasy</td>\n    </tr>\n    <tr>\n      <th>1</th>\n      <td>2</td>\n      <td>Jumanji (1995)</td>\n      <td>Adventure|Children|Fantasy</td>\n    </tr>\n    <tr>\n      <th>2</th>\n      <td>3</td>\n      <td>Grumpier Old Men (1995)</td>\n      <td>Comedy|Romance</td>\n    </tr>\n    <tr>\n      <th>3</th>\n      <td>4</td>\n      <td>Waiting to Exhale (1995)</td>\n      <td>Comedy|Drama|Romance</td>\n    </tr>\n    <tr>\n      <th>4</th>\n      <td>5</td>\n      <td>Father of the Bride Part II (1995)</td>\n      <td>Comedy</td>\n    </tr>\n  </tbody>\n</table>\n</div>"
     },
     "execution_count": 20,
     "metadata": {},
     "output_type": "execute_result"
    }
   ],
   "source": [
    "movies.head()"
   ],
   "metadata": {
    "collapsed": false,
    "pycharm": {
     "name": "#%%\n"
    }
   }
  },
  {
   "cell_type": "markdown",
   "source": [
    "As we can see the types of some features are not correct, and in particular __movieId__ is over-sized for the range of values that it takes. We apply the right type for each feature."
   ],
   "metadata": {
    "collapsed": false,
    "pycharm": {
     "name": "#%% md\n"
    }
   }
  },
  {
   "cell_type": "code",
   "execution_count": 21,
   "outputs": [
    {
     "name": "stdout",
     "output_type": "stream",
     "text": [
      "<class 'pandas.core.frame.DataFrame'>\n",
      "RangeIndex: 58098 entries, 0 to 58097\n",
      "Data columns (total 3 columns):\n",
      " #   Column   Non-Null Count  Dtype   \n",
      "---  ------   --------------  -----   \n",
      " 0   movieId  58098 non-null  int32   \n",
      " 1   title    58098 non-null  string  \n",
      " 2   genres   58098 non-null  category\n",
      "dtypes: category(1), int32(1), string(1)\n",
      "memory usage: 871.8 KB\n"
     ]
    }
   ],
   "source": [
    "movies = movies.astype(dtype={'movieId': 'int32', 'title': 'string', 'genres': 'category'})\n",
    "movies.info()"
   ],
   "metadata": {
    "collapsed": false,
    "pycharm": {
     "name": "#%%\n"
    }
   }
  },
  {
   "cell_type": "markdown",
   "source": [
    "This step is useful to decrease the size of the dataset in memory and improves the performance of futures operations. For these reasons we are going to perform the cast every time that is needed.\n",
    "\n",
    "In order to understand better the nature of each single feature we try to discover more details."
   ],
   "metadata": {
    "collapsed": false,
    "pycharm": {
     "name": "#%% md\n"
    }
   }
  },
  {
   "cell_type": "code",
   "execution_count": 34,
   "outputs": [
    {
     "data": {
      "text/plain": "0                      Toy Story (1995)\n1                        Jumanji (1995)\n2               Grumpier Old Men (1995)\n3              Waiting to Exhale (1995)\n4    Father of the Bride Part II (1995)\nName: title, dtype: string"
     },
     "execution_count": 34,
     "metadata": {},
     "output_type": "execute_result"
    }
   ],
   "source": [
    "movies['title'].head()"
   ],
   "metadata": {
    "collapsed": false,
    "pycharm": {
     "name": "#%%\n"
    }
   }
  },
  {
   "cell_type": "markdown",
   "source": [
    "Analyzing the feature __title__ we noticed that we can extract two information:\n",
    "- at the end of the title the launch year is provided\n",
    "- since we are not going to use any NLP model, we transform the title into its string length"
   ],
   "metadata": {
    "collapsed": false,
    "pycharm": {
     "name": "#%% md\n"
    }
   }
  },
  {
   "cell_type": "code",
   "execution_count": 35,
   "outputs": [
    {
     "name": "stdout",
     "output_type": "stream",
     "text": [
      "<class 'pandas.core.frame.DataFrame'>\n",
      "RangeIndex: 58098 entries, 0 to 58097\n",
      "Data columns (total 5 columns):\n",
      " #   Column        Non-Null Count  Dtype   \n",
      "---  ------        --------------  -----   \n",
      " 0   movieId       58098 non-null  int32   \n",
      " 1   title         58098 non-null  string  \n",
      " 2   genres        58098 non-null  category\n",
      " 3   year          57771 non-null  string  \n",
      " 4   title_length  58098 non-null  Int64   \n",
      "dtypes: Int64(1), category(1), int32(1), string(2)\n",
      "memory usage: 1.8 MB\n"
     ]
    }
   ],
   "source": [
    "regex_year = '.*\\\\((\\\\d{4})\\\\).*'\n",
    "movies['year'] = movies['title'].str.extract(pat=regex_year, expand=False)\n",
    "# regex_year = '\\((\\d{4})\\)'\n",
    "# movies['year'] = pd.to_datetime(movies['year'], format='%Y')\n",
    "movies['title_length'] = movies['title'].str.len()\n",
    "movies.info()"
   ],
   "metadata": {
    "collapsed": false,
    "pycharm": {
     "name": "#%%\n"
    }
   }
  },
  {
   "cell_type": "code",
   "execution_count": 36,
   "outputs": [],
   "source": [
    "movies = movies.astype(dtype={'year': 'float32', 'title_length': 'int32'})"
   ],
   "metadata": {
    "collapsed": false,
    "pycharm": {
     "name": "#%%\n"
    }
   }
  },
  {
   "cell_type": "markdown",
   "source": [
    "The feature __year__ is usually seen as an _integer_, to avoid the __IntCastingNaNError__ exception caused by the presence of NaN values we cast it to _float_."
   ],
   "metadata": {
    "collapsed": false,
    "pycharm": {
     "name": "#%% md\n"
    }
   }
  },
  {
   "cell_type": "code",
   "execution_count": null,
   "outputs": [],
   "source": [
    "print(f'Movies dimensionality after title analysis: {movies.shape}')"
   ],
   "metadata": {
    "collapsed": false,
    "pycharm": {
     "name": "#%%\n"
    }
   }
  },
  {
   "cell_type": "markdown",
   "source": [
    "Analyzing the feature __genres__ we decided to encode each genre as a new feature. If in a row a genre is listed, the feature related to the genre will be 1, otherwise 0."
   ],
   "metadata": {
    "collapsed": false,
    "pycharm": {
     "name": "#%% md\n"
    }
   }
  },
  {
   "cell_type": "code",
   "execution_count": null,
   "outputs": [],
   "source": [
    "def encode_genre(df: pd.DataFrame) -> pd.DataFrame:\n",
    "    genres = df['genres'].str.split('|')\n",
    "    mlb = MultiLabelBinarizer()\n",
    "    encoded_genre = pd.DataFrame(\n",
    "        mlb.fit_transform(genres),\n",
    "        index=df['movieId'],\n",
    "        columns=mlb.classes_\n",
    "    )\n",
    "    return pd.merge(df, encoded_genre, on='movieId', how='inner')"
   ],
   "metadata": {
    "collapsed": false,
    "pycharm": {
     "name": "#%%\n"
    }
   }
  },
  {
   "cell_type": "code",
   "execution_count": null,
   "outputs": [],
   "source": [
    "movies = encode_genre(movies)\n",
    "movies.info()"
   ],
   "metadata": {
    "collapsed": false,
    "pycharm": {
     "name": "#%%\n"
    }
   }
  },
  {
   "cell_type": "code",
   "execution_count": null,
   "outputs": [],
   "source": [
    "print(f'Movies dimensionality after genres encoding: {movies.shape}')"
   ],
   "metadata": {
    "collapsed": false,
    "pycharm": {
     "name": "#%%\n"
    }
   }
  },
  {
   "cell_type": "markdown",
   "source": [
    "### Data Cleaning"
   ],
   "metadata": {
    "collapsed": false,
    "pycharm": {
     "name": "#%% md\n"
    }
   }
  },
  {
   "cell_type": "markdown",
   "source": [
    "After the pre-processing phase we can now check if there are any NaN values, duplicates or rows with no information (eg. movies with no genre)."
   ],
   "metadata": {
    "collapsed": false,
    "pycharm": {
     "name": "#%% md\n"
    }
   }
  },
  {
   "cell_type": "markdown",
   "source": [
    "#### NaN values"
   ],
   "metadata": {
    "collapsed": false,
    "pycharm": {
     "name": "#%% md\n"
    }
   }
  },
  {
   "cell_type": "code",
   "execution_count": null,
   "outputs": [],
   "source": [
    "movies.isna().sum()"
   ],
   "metadata": {
    "collapsed": false,
    "pycharm": {
     "name": "#%%\n"
    }
   }
  },
  {
   "cell_type": "markdown",
   "source": [
    "The __year__ feature has _327_ NaN values, in order to fill these values we have to check the distribution of the data."
   ],
   "metadata": {
    "collapsed": false,
    "pycharm": {
     "name": "#%% md\n"
    }
   }
  },
  {
   "cell_type": "code",
   "execution_count": null,
   "outputs": [],
   "source": [
    "histplot(movies['year'],\n",
    "         title='Probability distribution of year',\n",
    "         xlabel='year',\n",
    "         ylabel='probability',\n",
    "         stat='probability',\n",
    "         discrete=True,\n",
    "         kde=True)"
   ],
   "metadata": {
    "collapsed": false,
    "pycharm": {
     "name": "#%%\n"
    }
   }
  },
  {
   "cell_type": "markdown",
   "source": [
    "As we can see the distribution is skewed to the right, so we can fill the missing years' values with the median of the data."
   ],
   "metadata": {
    "collapsed": false,
    "pycharm": {
     "name": "#%% md\n"
    }
   }
  },
  {
   "cell_type": "code",
   "execution_count": null,
   "outputs": [],
   "source": [
    "median_year = movies['year'].median()\n",
    "print(f\"Median of year data: {median_year}\")"
   ],
   "metadata": {
    "collapsed": false,
    "pycharm": {
     "name": "#%%\n"
    }
   }
  },
  {
   "cell_type": "code",
   "execution_count": null,
   "outputs": [],
   "source": [
    "movies = movies.fillna(value={'year': median_year})\n",
    "movies = movies.astype(dtype={'year': 'int32'})"
   ],
   "metadata": {
    "collapsed": false,
    "pycharm": {
     "name": "#%%\n"
    }
   }
  },
  {
   "cell_type": "code",
   "execution_count": null,
   "outputs": [],
   "source": [
    "movies.isna().sum()"
   ],
   "metadata": {
    "collapsed": false,
    "pycharm": {
     "name": "#%%\n"
    }
   }
  },
  {
   "cell_type": "markdown",
   "source": [
    "#### Duplicates"
   ],
   "metadata": {
    "collapsed": false,
    "pycharm": {
     "name": "#%% md\n"
    }
   }
  },
  {
   "cell_type": "code",
   "execution_count": null,
   "outputs": [],
   "source": [
    "print(f'Duplicated samples: {movies[movies.duplicated()].shape[0]}')"
   ],
   "metadata": {
    "collapsed": false,
    "pycharm": {
     "name": "#%%\n"
    }
   }
  },
  {
   "cell_type": "markdown",
   "source": [
    "There are no duplicates, so we can go on with the cleaning process."
   ],
   "metadata": {
    "collapsed": false,
    "pycharm": {
     "name": "#%% md\n"
    }
   }
  },
  {
   "cell_type": "markdown",
   "source": [
    "#### No information about genres"
   ],
   "metadata": {
    "collapsed": false,
    "pycharm": {
     "name": "#%% md\n"
    }
   }
  },
  {
   "cell_type": "markdown",
   "source": [
    "Inside the set of the given genres there is also _(no genres listed)_ that provide no additional information about the film. For this reason we decide to discard the films with this genre."
   ],
   "metadata": {
    "collapsed": false,
    "pycharm": {
     "name": "#%% md\n"
    }
   }
  },
  {
   "cell_type": "code",
   "execution_count": null,
   "outputs": [],
   "source": [
    "print(f\"Movies with no genres listed: {movies[movies['(no genres listed)'] == 1].shape[0]}\")"
   ],
   "metadata": {
    "collapsed": false,
    "pycharm": {
     "name": "#%%\n"
    }
   }
  },
  {
   "cell_type": "code",
   "execution_count": null,
   "outputs": [],
   "source": [
    "def remove_no_genres(df: pd.DataFrame) -> pd.DataFrame:\n",
    "    df_no_genre = df[df['(no genres listed)'] == 1].index\n",
    "    return df.drop(index=df_no_genre)"
   ],
   "metadata": {
    "collapsed": false,
    "pycharm": {
     "name": "#%%\n"
    }
   }
  },
  {
   "cell_type": "code",
   "execution_count": null,
   "outputs": [],
   "source": [
    "movies = remove_no_genres(movies)\n",
    "print(f'Movies dimensionality after drop films with no genres: {movies.shape}')"
   ],
   "metadata": {
    "collapsed": false,
    "pycharm": {
     "name": "#%%\n"
    }
   }
  },
  {
   "cell_type": "markdown",
   "source": [
    "#### Drop elaborated features"
   ],
   "metadata": {
    "collapsed": false,
    "pycharm": {
     "name": "#%% md\n"
    }
   }
  },
  {
   "cell_type": "markdown",
   "source": [
    "We are now ready to drop no longer useful features like __title__, __genres__ and __(no genres listed)__."
   ],
   "metadata": {
    "collapsed": false,
    "pycharm": {
     "name": "#%% md\n"
    }
   }
  },
  {
   "cell_type": "code",
   "execution_count": null,
   "outputs": [],
   "source": [
    "movies = movies.drop(columns=['title', 'genres', '(no genres listed)'])"
   ],
   "metadata": {
    "collapsed": false,
    "pycharm": {
     "name": "#%%\n"
    }
   }
  },
  {
   "cell_type": "code",
   "execution_count": null,
   "outputs": [],
   "source": [
    "movies_shape_linear_exploration = movies.shape\n",
    "print(f'Movies dimensionality after features drop: {movies_shape_linear_exploration}')"
   ],
   "metadata": {
    "collapsed": false,
    "pycharm": {
     "name": "#%%\n"
    }
   }
  },
  {
   "cell_type": "markdown",
   "source": [
    "### Summary"
   ],
   "metadata": {
    "collapsed": false,
    "pycharm": {
     "name": "#%% md\n"
    }
   }
  },
  {
   "cell_type": "markdown",
   "source": [
    "Finally, we can summarize each operation. We looked for the pandas best practices, and we found out that a good method to work with _DataFrame_ is to use the [Method Chaining](https://tomaugspurger.github.io/method-chaining.html)."
   ],
   "metadata": {
    "collapsed": false,
    "pycharm": {
     "name": "#%% md\n"
    }
   }
  },
  {
   "cell_type": "code",
   "execution_count": null,
   "outputs": [],
   "source": [
    "# Read\n",
    "movies = pd.read_csv(os.path.join(RAW_DIR, 'movies.csv'),\n",
    "                     dtype={'movieId': 'int32', 'title': 'string', 'genres': 'category'},\n",
    "                     encoding='utf-8')\n",
    "\n",
    "# Pre-processing\n",
    "movies = (movies\n",
    "          .assign(year=movies['title'].str.extract(pat=regex_year, expand=False),\n",
    "                  title_length=movies['title'].str.len())\n",
    "          .astype({'year': 'float32', 'title_length': 'int32'})\n",
    "          .pipe(encode_genre))\n",
    "\n",
    "# Cleaning\n",
    "movies = (movies\n",
    "          .fillna({'year': movies['year'].median()})\n",
    "          .astype({'year': 'int32'})\n",
    "          .pipe(remove_no_genres)\n",
    "          .drop(columns=['title', 'genres', '(no genres listed)']))"
   ],
   "metadata": {
    "collapsed": false,
    "pycharm": {
     "name": "#%%\n"
    }
   }
  },
  {
   "cell_type": "code",
   "execution_count": null,
   "outputs": [],
   "source": [
    "print(f'Final Movies dimensionality: {movies.shape}')\n",
    "print(f'Match: {movies.shape == movies_shape_linear_exploration}')"
   ],
   "metadata": {
    "collapsed": false,
    "pycharm": {
     "name": "#%%\n"
    }
   }
  },
  {
   "cell_type": "markdown",
   "source": [
    "## tags.csv"
   ],
   "metadata": {
    "collapsed": false,
    "pycharm": {
     "name": "#%% md\n"
    }
   }
  },
  {
   "cell_type": "markdown",
   "source": [
    "Each line of this file after the header row represents one tag applied to one movie by one user, where each one has __userId__, __movieId__, __tag__, and __timestamp__ as features. Each __tag__ is typically a single word or short phrase and the meaning of a particular tag is determined by each user. Each __timestamp__ represent seconds since midnight Coordinated Universal Time (UTC) of January 1, 1970."
   ],
   "metadata": {
    "collapsed": false,
    "pycharm": {
     "name": "#%% md\n"
    }
   }
  },
  {
   "cell_type": "code",
   "execution_count": 37,
   "outputs": [],
   "source": [
    "tags = pd.read_csv(\n",
    "    os.path.join(RAW_DIR, 'tags.csv'),\n",
    "    encoding='utf-8'\n",
    ")"
   ],
   "metadata": {
    "collapsed": false,
    "pycharm": {
     "name": "#%%\n"
    }
   }
  },
  {
   "cell_type": "code",
   "execution_count": 38,
   "outputs": [
    {
     "name": "stdout",
     "output_type": "stream",
     "text": [
      "Tags dimensionality: (1108997, 4)\n"
     ]
    }
   ],
   "source": [
    "print(f'Tags dimensionality: {tags.shape}')"
   ],
   "metadata": {
    "collapsed": false,
    "pycharm": {
     "name": "#%%\n"
    }
   }
  },
  {
   "cell_type": "markdown",
   "source": [
    "### Data Pre-processing"
   ],
   "metadata": {
    "collapsed": false,
    "pycharm": {
     "name": "#%% md\n"
    }
   }
  },
  {
   "cell_type": "code",
   "execution_count": 39,
   "outputs": [
    {
     "name": "stdout",
     "output_type": "stream",
     "text": [
      "<class 'pandas.core.frame.DataFrame'>\n",
      "RangeIndex: 1108997 entries, 0 to 1108996\n",
      "Data columns (total 4 columns):\n",
      " #   Column     Non-Null Count    Dtype \n",
      "---  ------     --------------    ----- \n",
      " 0   userId     1108997 non-null  int64 \n",
      " 1   movieId    1108997 non-null  int64 \n",
      " 2   tag        1108981 non-null  object\n",
      " 3   timestamp  1108997 non-null  int64 \n",
      "dtypes: int64(3), object(1)\n",
      "memory usage: 33.8+ MB\n"
     ]
    }
   ],
   "source": [
    "tags.info()"
   ],
   "metadata": {
    "collapsed": false,
    "pycharm": {
     "name": "#%%\n"
    }
   }
  },
  {
   "cell_type": "code",
   "execution_count": 40,
   "outputs": [
    {
     "data": {
      "text/plain": "   userId  movieId           tag   timestamp\n0      14      110          epic  1443148538\n1      14      110      Medieval  1443148532\n2      14      260        sci-fi  1442169410\n3      14      260  space action  1442169421\n4      14      318  imdb top 250  1442615195",
      "text/html": "<div>\n<style scoped>\n    .dataframe tbody tr th:only-of-type {\n        vertical-align: middle;\n    }\n\n    .dataframe tbody tr th {\n        vertical-align: top;\n    }\n\n    .dataframe thead th {\n        text-align: right;\n    }\n</style>\n<table border=\"1\" class=\"dataframe\">\n  <thead>\n    <tr style=\"text-align: right;\">\n      <th></th>\n      <th>userId</th>\n      <th>movieId</th>\n      <th>tag</th>\n      <th>timestamp</th>\n    </tr>\n  </thead>\n  <tbody>\n    <tr>\n      <th>0</th>\n      <td>14</td>\n      <td>110</td>\n      <td>epic</td>\n      <td>1443148538</td>\n    </tr>\n    <tr>\n      <th>1</th>\n      <td>14</td>\n      <td>110</td>\n      <td>Medieval</td>\n      <td>1443148532</td>\n    </tr>\n    <tr>\n      <th>2</th>\n      <td>14</td>\n      <td>260</td>\n      <td>sci-fi</td>\n      <td>1442169410</td>\n    </tr>\n    <tr>\n      <th>3</th>\n      <td>14</td>\n      <td>260</td>\n      <td>space action</td>\n      <td>1442169421</td>\n    </tr>\n    <tr>\n      <th>4</th>\n      <td>14</td>\n      <td>318</td>\n      <td>imdb top 250</td>\n      <td>1442615195</td>\n    </tr>\n  </tbody>\n</table>\n</div>"
     },
     "execution_count": 40,
     "metadata": {},
     "output_type": "execute_result"
    }
   ],
   "source": [
    "tags.head()"
   ],
   "metadata": {
    "collapsed": false,
    "pycharm": {
     "name": "#%%\n"
    }
   }
  },
  {
   "cell_type": "code",
   "execution_count": 43,
   "outputs": [
    {
     "name": "stdout",
     "output_type": "stream",
     "text": [
      "<class 'pandas.core.frame.DataFrame'>\n",
      "RangeIndex: 1108997 entries, 0 to 1108996\n",
      "Data columns (total 4 columns):\n",
      " #   Column     Non-Null Count    Dtype \n",
      "---  ------     --------------    ----- \n",
      " 0   userId     1108997 non-null  int32 \n",
      " 1   movieId    1108997 non-null  int32 \n",
      " 2   tag        1108981 non-null  string\n",
      " 3   timestamp  1108997 non-null  int64 \n",
      "dtypes: int32(2), int64(1), string(1)\n",
      "memory usage: 25.4 MB\n"
     ]
    }
   ],
   "source": [
    "tags = tags.astype(dtype={'userId': 'int32', 'movieId': 'int32', 'tag': 'string'})\n",
    "tags.info()"
   ],
   "metadata": {
    "collapsed": false,
    "pycharm": {
     "name": "#%%\n"
    }
   }
  },
  {
   "cell_type": "markdown",
   "source": [
    "AFTER"
   ],
   "metadata": {
    "collapsed": false,
    "pycharm": {
     "name": "#%% md\n"
    }
   }
  },
  {
   "cell_type": "code",
   "execution_count": null,
   "outputs": [],
   "source": [
    "tags = pd.read_csv(\n",
    "    os.path.join(RAW_DIR, 'tags.csv'),\n",
    "    encoding='utf-8',\n",
    "    usecols=['movieId', 'tag'],\n",
    "    dtype={'movieId': 'int32', 'tag': 'string'}\n",
    ")\n",
    "\n",
    "tags.info()"
   ],
   "metadata": {
    "collapsed": false,
    "pycharm": {
     "name": "#%%\n"
    }
   }
  },
  {
   "cell_type": "markdown",
   "source": [
    "#### Pipe tags"
   ],
   "metadata": {
    "collapsed": false,
    "pycharm": {
     "name": "#%% md\n"
    }
   }
  },
  {
   "cell_type": "code",
   "execution_count": null,
   "outputs": [],
   "source": [
    "tags = (tags\n",
    "        .groupby(by='movieId', as_index=False)['tag'].agg('count')\n",
    "        .rename(columns={'tag': 'tag_count'})\n",
    "        .astype({'movieId': 'int32', 'tag_count': 'int32'}))\n",
    "\n",
    "tags.info()"
   ],
   "metadata": {
    "collapsed": false,
    "pycharm": {
     "name": "#%%\n"
    }
   }
  },
  {
   "cell_type": "markdown",
   "source": [
    "### ratings.csv"
   ],
   "metadata": {
    "collapsed": false,
    "pycharm": {
     "name": "#%% md\n"
    }
   }
  },
  {
   "cell_type": "code",
   "execution_count": null,
   "outputs": [],
   "source": [
    "ratings = pd.read_csv(\n",
    "    os.path.join(RAW_DIR, 'ratings.csv'),\n",
    "    encoding='utf-8',\n",
    "    usecols=['movieId', 'rating'],\n",
    "    dtype={'movieId': 'int32', 'rating': 'float32'}\n",
    ")\n",
    "\n",
    "ratings.info()"
   ],
   "metadata": {
    "collapsed": false,
    "pycharm": {
     "name": "#%%\n"
    }
   }
  },
  {
   "cell_type": "markdown",
   "source": [
    "#### Pipe ratings"
   ],
   "metadata": {
    "collapsed": false,
    "pycharm": {
     "name": "#%% md\n"
    }
   }
  },
  {
   "cell_type": "code",
   "execution_count": null,
   "outputs": [],
   "source": [
    "ratings = (ratings\n",
    "           .groupby(by='movieId')['rating'].agg(['count', 'mean'])\n",
    "           .reset_index()\n",
    "           .rename(columns={'count': 'rating_count', 'mean': 'rating_mean'})\n",
    "           .astype({'movieId': 'int32', 'rating_count': 'int32'}))\n",
    "\n",
    "ratings.info()"
   ],
   "metadata": {
    "collapsed": false,
    "pycharm": {
     "name": "#%%\n"
    }
   }
  }
 ],
 "metadata": {
  "kernelspec": {
   "display_name": "Python 3",
   "language": "python",
   "name": "python3"
  },
  "language_info": {
   "codemirror_mode": {
    "name": "ipython",
    "version": 2
   },
   "file_extension": ".py",
   "mimetype": "text/x-python",
   "name": "python",
   "nbconvert_exporter": "python",
   "pygments_lexer": "ipython2",
   "version": "2.7.6"
  }
 },
 "nbformat": 4,
 "nbformat_minor": 0
}