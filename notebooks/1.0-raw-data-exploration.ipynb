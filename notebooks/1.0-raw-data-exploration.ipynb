{
 "cells": [
  {
   "cell_type": "markdown",
   "source": [
    "# Raw data exploration"
   ],
   "metadata": {
    "collapsed": false
   }
  },
  {
   "cell_type": "markdown",
   "source": [
    "### Imports"
   ],
   "metadata": {
    "collapsed": false
   }
  },
  {
   "cell_type": "code",
   "execution_count": 2,
   "outputs": [],
   "source": [
    "import os\n",
    "import pandas as pd\n",
    "from sklearn.preprocessing import MultiLabelBinarizer\n",
    "\n",
    "from src.utils.const import DATA_DIR, DROP"
   ],
   "metadata": {
    "collapsed": false,
    "pycharm": {
     "name": "#%%\n"
    }
   }
  },
  {
   "cell_type": "markdown",
   "source": [
    "### Useful path to data"
   ],
   "metadata": {
    "collapsed": false
   }
  },
  {
   "cell_type": "code",
   "execution_count": 3,
   "metadata": {
    "collapsed": true
   },
   "outputs": [],
   "source": [
    "ROOT_DIR = os.path.join(os.getcwd(), '..')\n",
    "RAW_DIR = os.path.join(ROOT_DIR, DATA_DIR, 'raw')\n",
    "INTERIM_DIR = os.path.join(ROOT_DIR, DATA_DIR, 'interim')"
   ]
  },
  {
   "cell_type": "markdown",
   "source": [
    "## Generic useful function"
   ],
   "metadata": {
    "collapsed": false
   }
  },
  {
   "cell_type": "code",
   "execution_count": 4,
   "outputs": [],
   "source": [
    "from src.utils.wrapper import drop, drop_na, rename, reset_index, fill_na, convert_to, extract_stat_feature, apply"
   ],
   "metadata": {
    "collapsed": false,
    "pycharm": {
     "name": "#%%\n"
    }
   }
  },
  {
   "cell_type": "markdown",
   "source": [
    "### movies.csv"
   ],
   "metadata": {
    "collapsed": false
   }
  },
  {
   "cell_type": "code",
   "execution_count": 5,
   "outputs": [
    {
     "name": "stdout",
     "output_type": "stream",
     "text": [
      "<class 'pandas.core.frame.DataFrame'>\n",
      "RangeIndex: 58098 entries, 0 to 58097\n",
      "Data columns (total 3 columns):\n",
      " #   Column   Non-Null Count  Dtype   \n",
      "---  ------   --------------  -----   \n",
      " 0   movieId  58098 non-null  int64   \n",
      " 1   title    58098 non-null  string  \n",
      " 2   genres   58098 non-null  category\n",
      "dtypes: category(1), int64(1), string(1)\n",
      "memory usage: 1.1 MB\n"
     ]
    }
   ],
   "source": [
    "movies = pd.read_csv(os.path.join(RAW_DIR, 'movies.csv'), encoding='utf-8',\n",
    "                     dtype={'title': 'string', 'genres': 'category'})\n",
    "movies.info()"
   ],
   "metadata": {
    "collapsed": false,
    "pycharm": {
     "name": "#%%\n"
    }
   }
  },
  {
   "cell_type": "markdown",
   "source": [
    "#### Specific movies functions used in pipe"
   ],
   "metadata": {
    "collapsed": false
   }
  },
  {
   "cell_type": "code",
   "execution_count": 6,
   "outputs": [],
   "source": [
    "def extract_year_from_title(df: pd.DataFrame) -> pd.DataFrame:\n",
    "    regex = '.*\\((\\d{4})\\).*'\n",
    "    df['year'] = df['title'].str.extract(pat=regex, expand=False)\n",
    "    return df\n",
    "\n",
    "\n",
    "def extract_title_length(df: pd.DataFrame) -> pd.DataFrame:\n",
    "    df['title_length'] = df['title'].str.len()\n",
    "    return df\n",
    "\n",
    "\n",
    "def encode_genre(df: pd.DataFrame) -> pd.DataFrame:\n",
    "    genres = df['genres'].str.split('|')\n",
    "    mlb = MultiLabelBinarizer()\n",
    "    encoded_genre = pd.DataFrame(\n",
    "        mlb.fit_transform(genres),\n",
    "        index=df['movieId'],\n",
    "        columns=mlb.classes_\n",
    "    )\n",
    "    df = pd.merge(df, encoded_genre, on='movieId', how='inner')\n",
    "    return df\n",
    "\n",
    "\n",
    "def remove_no_genres(df: pd.DataFrame) -> pd.DataFrame:\n",
    "    df_no_genre = df[df['(no genres listed)'] == 1].index\n",
    "    df.drop(index=df_no_genre, inplace=True)\n",
    "    if DROP:\n",
    "        print(f'Number of films without any genres to be dropped: {df_no_genre.shape[0]}')\n",
    "    return df"
   ],
   "metadata": {
    "collapsed": false,
    "pycharm": {
     "name": "#%%\n"
    }
   }
  },
  {
   "cell_type": "markdown",
   "source": [
    "#### Pipe movies"
   ],
   "metadata": {
    "collapsed": false
   }
  },
  {
   "cell_type": "code",
   "execution_count": 7,
   "outputs": [
    {
     "name": "stdout",
     "output_type": "stream",
     "text": [
      "<class 'pandas.core.frame.DataFrame'>\n",
      "Int64Index: 53832 entries, 0 to 58097\n",
      "Data columns (total 23 columns):\n",
      " #   Column              Non-Null Count  Dtype  \n",
      "---  ------              --------------  -----  \n",
      " 0   movieId             53832 non-null  int64  \n",
      " 1   year                53832 non-null  float32\n",
      " 2   title_length        53832 non-null  Int64  \n",
      " 3   (no genres listed)  53832 non-null  int32  \n",
      " 4   Action              53832 non-null  int32  \n",
      " 5   Adventure           53832 non-null  int32  \n",
      " 6   Animation           53832 non-null  int32  \n",
      " 7   Children            53832 non-null  int32  \n",
      " 8   Comedy              53832 non-null  int32  \n",
      " 9   Crime               53832 non-null  int32  \n",
      " 10  Documentary         53832 non-null  int32  \n",
      " 11  Drama               53832 non-null  int32  \n",
      " 12  Fantasy             53832 non-null  int32  \n",
      " 13  Film-Noir           53832 non-null  int32  \n",
      " 14  Horror              53832 non-null  int32  \n",
      " 15  IMAX                53832 non-null  int32  \n",
      " 16  Musical             53832 non-null  int32  \n",
      " 17  Mystery             53832 non-null  int32  \n",
      " 18  Romance             53832 non-null  int32  \n",
      " 19  Sci-Fi              53832 non-null  int32  \n",
      " 20  Thriller            53832 non-null  int32  \n",
      " 21  War                 53832 non-null  int32  \n",
      " 22  Western             53832 non-null  int32  \n",
      "dtypes: Int64(1), float32(1), int32(20), int64(1)\n",
      "memory usage: 5.6 MB\n"
     ]
    }
   ],
   "source": [
    "movies = movies. \\\n",
    "    pipe(extract_year_from_title). \\\n",
    "    pipe(convert_to, 'year', 'float32'). \\\n",
    "    pipe(fill_na, 'year', True). \\\n",
    "    pipe(extract_title_length). \\\n",
    "    pipe(encode_genre). \\\n",
    "    pipe(remove_no_genres). \\\n",
    "    pipe(drop, ['title', 'genres'])\n",
    "\n",
    "movies.info()"
   ],
   "metadata": {
    "collapsed": false,
    "pycharm": {
     "name": "#%%\n"
    }
   }
  },
  {
   "cell_type": "markdown",
   "source": [
    "#### Save movies.csv to interim"
   ],
   "metadata": {
    "collapsed": false
   }
  },
  {
   "cell_type": "code",
   "execution_count": 8,
   "outputs": [],
   "source": [
    "filepath = os.path.join(INTERIM_DIR, 'movies.csv')\n",
    "if not os.path.exists(filepath):\n",
    "    movies.to_csv(filepath, encoding='utf-8', index=False)"
   ],
   "metadata": {
    "collapsed": false,
    "pycharm": {
     "name": "#%%\n"
    }
   }
  },
  {
   "cell_type": "markdown",
   "source": [
    "### tags.csv"
   ],
   "metadata": {
    "collapsed": false
   }
  },
  {
   "cell_type": "code",
   "execution_count": 9,
   "outputs": [
    {
     "name": "stdout",
     "output_type": "stream",
     "text": [
      "<class 'pandas.core.frame.DataFrame'>\n",
      "RangeIndex: 1108997 entries, 0 to 1108996\n",
      "Data columns (total 2 columns):\n",
      " #   Column   Non-Null Count    Dtype \n",
      "---  ------   --------------    ----- \n",
      " 0   movieId  1108997 non-null  int64 \n",
      " 1   tag      1108981 non-null  string\n",
      "dtypes: int64(1), string(1)\n",
      "memory usage: 16.9 MB\n"
     ]
    }
   ],
   "source": [
    "tags = pd.read_csv(os.path.join(RAW_DIR, 'tags.csv'), encoding='utf-8', usecols=['movieId', 'tag'],\n",
    "                   dtype={'tag': 'string'})\n",
    "tags.info()"
   ],
   "metadata": {
    "collapsed": false,
    "pycharm": {
     "name": "#%%\n"
    }
   }
  },
  {
   "cell_type": "markdown",
   "source": [
    "#### Pipe tags"
   ],
   "metadata": {
    "collapsed": false
   }
  },
  {
   "cell_type": "code",
   "execution_count": 10,
   "outputs": [
    {
     "name": "stdout",
     "output_type": "stream",
     "text": [
      "<class 'pandas.core.frame.DataFrame'>\n",
      "RangeIndex: 45981 entries, 0 to 45980\n",
      "Data columns (total 2 columns):\n",
      " #   Column     Non-Null Count  Dtype\n",
      "---  ------     --------------  -----\n",
      " 0   movieId    45981 non-null  int64\n",
      " 1   tag_count  45981 non-null  int64\n",
      "dtypes: int64(2)\n",
      "memory usage: 718.6 KB\n"
     ]
    }
   ],
   "source": [
    "tags = tags. \\\n",
    "    pipe(drop_na). \\\n",
    "    pipe(extract_stat_feature, ['movieId'], 'tag', ['count']). \\\n",
    "    pipe(reset_index). \\\n",
    "    pipe(rename, {'count':'tag_count'})\n",
    "\n",
    "tags.info()"
   ],
   "metadata": {
    "collapsed": false,
    "pycharm": {
     "name": "#%%\n"
    }
   }
  },
  {
   "cell_type": "markdown",
   "source": [
    "#### Save tags.csv to interim"
   ],
   "metadata": {
    "collapsed": false
   }
  },
  {
   "cell_type": "code",
   "execution_count": 11,
   "outputs": [],
   "source": [
    "filepath = os.path.join(INTERIM_DIR, 'tags.csv')\n",
    "if not os.path.exists(filepath):\n",
    "    tags.to_csv(filepath, encoding='utf-8', index=False)"
   ],
   "metadata": {
    "collapsed": false,
    "pycharm": {
     "name": "#%%\n"
    }
   }
  },
  {
   "cell_type": "markdown",
   "source": [
    "### ratings.csv"
   ],
   "metadata": {
    "collapsed": false
   }
  },
  {
   "cell_type": "code",
   "execution_count": 12,
   "outputs": [
    {
     "name": "stdout",
     "output_type": "stream",
     "text": [
      "<class 'pandas.core.frame.DataFrame'>\n",
      "RangeIndex: 27753444 entries, 0 to 27753443\n",
      "Data columns (total 2 columns):\n",
      " #   Column   Dtype  \n",
      "---  ------   -----  \n",
      " 0   movieId  int64  \n",
      " 1   rating   float64\n",
      "dtypes: float64(1), int64(1)\n",
      "memory usage: 423.5 MB\n"
     ]
    }
   ],
   "source": [
    "ratings = pd.read_csv(os.path.join(RAW_DIR, 'ratings.csv'), encoding='utf-8', usecols=['movieId', 'rating'])\n",
    "ratings.info()"
   ],
   "metadata": {
    "collapsed": false,
    "pycharm": {
     "name": "#%%\n"
    }
   }
  },
  {
   "cell_type": "markdown",
   "source": [
    "#### Pipe ratings"
   ],
   "metadata": {
    "collapsed": false
   }
  },
  {
   "cell_type": "code",
   "execution_count": 13,
   "outputs": [
    {
     "name": "stdout",
     "output_type": "stream",
     "text": [
      "<class 'pandas.core.frame.DataFrame'>\n",
      "RangeIndex: 53889 entries, 0 to 53888\n",
      "Data columns (total 3 columns):\n",
      " #   Column        Non-Null Count  Dtype  \n",
      "---  ------        --------------  -----  \n",
      " 0   movieId       53889 non-null  int64  \n",
      " 1   rating_count  53889 non-null  int64  \n",
      " 2   rating_mean   53889 non-null  float64\n",
      "dtypes: float64(1), int64(2)\n",
      "memory usage: 1.2 MB\n"
     ]
    }
   ],
   "source": [
    "ratings = ratings. \\\n",
    "    pipe(extract_stat_feature, ['movieId'], 'rating', ['count', 'mean']). \\\n",
    "    pipe(reset_index). \\\n",
    "    pipe(rename, {'count':'rating_count', 'mean':'rating_mean'})\n",
    "\n",
    "ratings.info()"
   ],
   "metadata": {
    "collapsed": false,
    "pycharm": {
     "name": "#%%\n"
    }
   }
  },
  {
   "cell_type": "markdown",
   "source": [
    "#### Save ratings.csv to interim"
   ],
   "metadata": {
    "collapsed": false
   }
  },
  {
   "cell_type": "code",
   "execution_count": 14,
   "outputs": [],
   "source": [
    "filepath = os.path.join(INTERIM_DIR, 'ratings.csv')\n",
    "if not os.path.exists(filepath):\n",
    "    ratings.to_csv(filepath, encoding='utf-8', index=False)"
   ],
   "metadata": {
    "collapsed": false,
    "pycharm": {
     "name": "#%%\n"
    }
   }
  },
  {
   "cell_type": "markdown",
   "source": [
    "### links.csv"
   ],
   "metadata": {
    "collapsed": false
   }
  },
  {
   "cell_type": "code",
   "execution_count": 15,
   "outputs": [
    {
     "name": "stdout",
     "output_type": "stream",
     "text": [
      "<class 'pandas.core.frame.DataFrame'>\n",
      "RangeIndex: 58098 entries, 0 to 58097\n",
      "Data columns (total 2 columns):\n",
      " #   Column   Non-Null Count  Dtype \n",
      "---  ------   --------------  ----- \n",
      " 0   movieId  58098 non-null  int64 \n",
      " 1   imdbId   58098 non-null  string\n",
      "dtypes: int64(1), string(1)\n",
      "memory usage: 907.9 KB\n"
     ]
    }
   ],
   "source": [
    "links = pd.read_csv(os.path.join(RAW_DIR, 'links.csv'), encoding='utf-8', dtype={'imdbId': 'string'}, usecols=['movieId', 'imdbId'])\n",
    "links.info()"
   ],
   "metadata": {
    "collapsed": false,
    "pycharm": {
     "name": "#%%\n"
    }
   }
  },
  {
   "cell_type": "markdown",
   "source": [
    "#### Pipe links"
   ],
   "metadata": {
    "collapsed": false
   }
  },
  {
   "cell_type": "code",
   "execution_count": 16,
   "outputs": [
    {
     "name": "stdout",
     "output_type": "stream",
     "text": [
      "<class 'pandas.core.frame.DataFrame'>\n",
      "RangeIndex: 58098 entries, 0 to 58097\n",
      "Data columns (total 2 columns):\n",
      " #   Column   Non-Null Count  Dtype \n",
      "---  ------   --------------  ----- \n",
      " 0   movieId  58098 non-null  int64 \n",
      " 1   imdbId   58098 non-null  string\n",
      "dtypes: int64(1), string(1)\n",
      "memory usage: 907.9 KB\n"
     ]
    }
   ],
   "source": [
    "links = links. \\\n",
    "    pipe(apply, 'imdbId', lambda x: f'tt{x}'). \\\n",
    "    pipe(convert_to, 'imdbId', 'string')\n",
    "\n",
    "links.info()"
   ],
   "metadata": {
    "collapsed": false,
    "pycharm": {
     "name": "#%%\n"
    }
   }
  },
  {
   "cell_type": "markdown",
   "source": [
    "#### Save links.csv to interim"
   ],
   "metadata": {
    "collapsed": false
   }
  },
  {
   "cell_type": "code",
   "execution_count": 17,
   "outputs": [],
   "source": [
    "filepath = os.path.join(INTERIM_DIR, 'links.csv')\n",
    "if not os.path.exists(filepath):\n",
    "    links.to_csv(filepath, encoding='utf-8', index=False)"
   ],
   "metadata": {
    "collapsed": false,
    "pycharm": {
     "name": "#%%\n"
    }
   }
  }
 ],
 "metadata": {
  "kernelspec": {
   "display_name": "Python 3",
   "language": "python",
   "name": "python3"
  },
  "language_info": {
   "codemirror_mode": {
    "name": "ipython",
    "version": 2
   },
   "file_extension": ".py",
   "mimetype": "text/x-python",
   "name": "python",
   "nbconvert_exporter": "python",
   "pygments_lexer": "ipython2",
   "version": "2.7.6"
  }
 },
 "nbformat": 4,
 "nbformat_minor": 0
}