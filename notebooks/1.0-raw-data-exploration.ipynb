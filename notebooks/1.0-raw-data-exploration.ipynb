{
 "cells": [
  {
   "cell_type": "markdown",
   "source": [
    "# Raw data exploration"
   ],
   "metadata": {
    "collapsed": false
   }
  },
  {
   "cell_type": "markdown",
   "source": [
    "### Imports"
   ],
   "metadata": {
    "collapsed": false
   }
  },
  {
   "cell_type": "code",
   "execution_count": 9,
   "outputs": [],
   "source": [
    "import os\n",
    "import pandas as pd\n",
    "\n",
    "from src.utils.const import DATA_DIR"
   ],
   "metadata": {
    "collapsed": false,
    "pycharm": {
     "name": "#%%\n"
    }
   }
  },
  {
   "cell_type": "markdown",
   "source": [
    "### Path to raw data"
   ],
   "metadata": {
    "collapsed": false
   }
  },
  {
   "cell_type": "code",
   "execution_count": 10,
   "metadata": {
    "collapsed": true
   },
   "outputs": [],
   "source": [
    "ROOT_DIR = os.path.join(os.getcwd(), '..')\n",
    "RAW_DIR = os.path.join(ROOT_DIR, DATA_DIR, 'raw')"
   ]
  },
  {
   "cell_type": "markdown",
   "source": [
    "### movies.csv"
   ],
   "metadata": {
    "collapsed": false
   }
  },
  {
   "cell_type": "code",
   "execution_count": 16,
   "outputs": [
    {
     "name": "stdout",
     "output_type": "stream",
     "text": [
      "<class 'pandas.core.frame.DataFrame'>\n",
      "RangeIndex: 58098 entries, 0 to 58097\n",
      "Data columns (total 3 columns):\n",
      " #   Column   Non-Null Count  Dtype \n",
      "---  ------   --------------  ----- \n",
      " 0   movieId  58098 non-null  int64 \n",
      " 1   title    58098 non-null  string\n",
      " 2   genres   58098 non-null  string\n",
      "dtypes: int64(1), string(2)\n",
      "memory usage: 1.3 MB\n",
      "None\n",
      "         (no genres listed)  Action  Adventure  Animation  Children  Comedy  \\\n",
      "movieId                                                                       \n",
      "1                         0       0          1          1         1       1   \n",
      "2                         0       0          1          0         1       0   \n",
      "3                         0       0          0          0         0       1   \n",
      "4                         0       0          0          0         0       1   \n",
      "5                         0       0          0          0         0       1   \n",
      "...                     ...     ...        ...        ...       ...     ...   \n",
      "193876                    1       0          0          0         0       0   \n",
      "193878                    0       0          0          0         0       1   \n",
      "193880                    0       0          0          0         0       0   \n",
      "193882                    0       0          1          0         0       0   \n",
      "193886                    0       1          0          0         0       0   \n",
      "\n",
      "         Crime  Documentary  Drama  Fantasy  Film-Noir  Horror  IMAX  Musical  \\\n",
      "movieId                                                                         \n",
      "1            0            0      0        1          0       0     0        0   \n",
      "2            0            0      0        1          0       0     0        0   \n",
      "3            0            0      0        0          0       0     0        0   \n",
      "4            0            0      1        0          0       0     0        0   \n",
      "5            0            0      0        0          0       0     0        0   \n",
      "...        ...          ...    ...      ...        ...     ...   ...      ...   \n",
      "193876       0            0      0        0          0       0     0        0   \n",
      "193878       0            0      0        0          0       0     0        0   \n",
      "193880       0            0      1        0          0       0     0        0   \n",
      "193882       0            0      1        0          0       1     0        0   \n",
      "193886       1            0      1        0          0       0     0        0   \n",
      "\n",
      "         Mystery  Romance  Sci-Fi  Thriller  War  Western  \n",
      "movieId                                                    \n",
      "1              0        0       0         0    0        0  \n",
      "2              0        0       0         0    0        0  \n",
      "3              0        1       0         0    0        0  \n",
      "4              0        1       0         0    0        0  \n",
      "5              0        0       0         0    0        0  \n",
      "...          ...      ...     ...       ...  ...      ...  \n",
      "193876         0        0       0         0    0        0  \n",
      "193878         0        0       0         0    0        0  \n",
      "193880         0        0       0         0    0        0  \n",
      "193882         0        0       1         0    0        0  \n",
      "193886         0        0       0         0    0        0  \n",
      "\n",
      "[58098 rows x 20 columns]\n",
      "<class 'pandas.core.frame.DataFrame'>\n",
      "Int64Index: 58098 entries, 0 to 58097\n",
      "Data columns (total 23 columns):\n",
      " #   Column              Non-Null Count  Dtype \n",
      "---  ------              --------------  ----- \n",
      " 0   movieId             58098 non-null  int64 \n",
      " 1   title               58098 non-null  string\n",
      " 2   genres              58098 non-null  string\n",
      " 3   (no genres listed)  58098 non-null  int32 \n",
      " 4   Action              58098 non-null  int32 \n",
      " 5   Adventure           58098 non-null  int32 \n",
      " 6   Animation           58098 non-null  int32 \n",
      " 7   Children            58098 non-null  int32 \n",
      " 8   Comedy              58098 non-null  int32 \n",
      " 9   Crime               58098 non-null  int32 \n",
      " 10  Documentary         58098 non-null  int32 \n",
      " 11  Drama               58098 non-null  int32 \n",
      " 12  Fantasy             58098 non-null  int32 \n",
      " 13  Film-Noir           58098 non-null  int32 \n",
      " 14  Horror              58098 non-null  int32 \n",
      " 15  IMAX                58098 non-null  int32 \n",
      " 16  Musical             58098 non-null  int32 \n",
      " 17  Mystery             58098 non-null  int32 \n",
      " 18  Romance             58098 non-null  int32 \n",
      " 19  Sci-Fi              58098 non-null  int32 \n",
      " 20  Thriller            58098 non-null  int32 \n",
      " 21  War                 58098 non-null  int32 \n",
      " 22  Western             58098 non-null  int32 \n",
      "dtypes: int32(20), int64(1), string(2)\n",
      "memory usage: 6.2 MB\n",
      "None\n"
     ]
    }
   ],
   "source": [
    "movies = pd.read_csv(os.path.join(RAW_DIR, 'movies.csv'), encoding='utf-8', dtype={'title':'string', 'genres':'category'})"
   ],
   "metadata": {
    "collapsed": false,
    "pycharm": {
     "name": "#%%\n"
    }
   }
  },
  {
   "cell_type": "code",
   "execution_count": 12,
   "outputs": [],
   "source": [
    "links = pd.read_csv(os.path.join(RAW_DIR, 'links.csv'), encoding='utf-8')\n",
    "tags = pd.read_csv(os.path.join(RAW_DIR, 'tags.csv'), encoding='utf-8')\n",
    "ratings = pd.read_csv(os.path.join(RAW_DIR, 'ratings.csv'), encoding='utf-8')"
   ],
   "metadata": {
    "collapsed": false,
    "pycharm": {
     "name": "#%%\n"
    }
   }
  }
 ],
 "metadata": {
  "kernelspec": {
   "display_name": "Python 3",
   "language": "python",
   "name": "python3"
  },
  "language_info": {
   "codemirror_mode": {
    "name": "ipython",
    "version": 2
   },
   "file_extension": ".py",
   "mimetype": "text/x-python",
   "name": "python",
   "nbconvert_exporter": "python",
   "pygments_lexer": "ipython2",
   "version": "2.7.6"
  }
 },
 "nbformat": 4,
 "nbformat_minor": 0
}