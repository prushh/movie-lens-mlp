{
 "cells": [
  {
   "cell_type": "markdown",
   "source": [
    "# External data exploration"
   ],
   "metadata": {
    "collapsed": false,
    "pycharm": {
     "name": "#%% md\n"
    }
   }
  },
  {
   "cell_type": "markdown",
   "source": [
    "In this notebook we will download two external datasets from:\n",
    " - IMDb (_title-basic.csv_)\n",
    " - TMDB (_tmdb.csv_)\n",
    "\n",
    "The first one is directly available at [datasets.imdbws.com](https://datasets.imdbws.com/) while the latter was created by making calls to the API provided by [TMDB](https://www.themoviedb.org/documentation/api). In particular, we are interest on gather the runtime of each film."
   ],
   "metadata": {
    "collapsed": false,
    "pycharm": {
     "name": "#%% md\n"
    }
   }
  },
  {
   "cell_type": "markdown",
   "source": [
    "### Imports"
   ],
   "metadata": {
    "collapsed": false,
    "pycharm": {
     "name": "#%% md\n"
    }
   }
  },
  {
   "cell_type": "code",
   "execution_count": 111,
   "metadata": {
    "collapsed": true,
    "pycharm": {
     "name": "#%%\n"
    }
   },
   "outputs": [],
   "source": [
    "import os\n",
    "\n",
    "import pandas as pd\n",
    "import numpy as np\n",
    "\n",
    "from src.data.acquisition import retrieve_imdb, retrieve_tmdb\n",
    "from src.utils.const import DATA_DIR, IMDB_URL, EXTERNAL_IMDB_CSV_NAMES, EXTERNAL_TMDB_CSV_NAMES\n",
    "from src.visualization.visualize import histplot"
   ]
  },
  {
   "cell_type": "markdown",
   "source": [
    "### Useful path to data"
   ],
   "metadata": {
    "collapsed": false,
    "pycharm": {
     "name": "#%% md\n"
    }
   }
  },
  {
   "cell_type": "code",
   "execution_count": 112,
   "outputs": [],
   "source": [
    "ROOT_DIR = os.path.join(os.getcwd(), '..')\n",
    "RAW_DIR = os.path.join(ROOT_DIR, DATA_DIR, 'raw')\n",
    "EXTERNAL_DIR = os.path.join(ROOT_DIR, DATA_DIR, 'external')\n",
    "INTERIM_DIR = os.path.join(ROOT_DIR, DATA_DIR, 'interim')"
   ],
   "metadata": {
    "collapsed": false,
    "pycharm": {
     "name": "#%%\n"
    }
   }
  },
  {
   "cell_type": "markdown",
   "source": [
    "## Data Acquisition"
   ],
   "metadata": {
    "collapsed": false,
    "pycharm": {
     "name": "#%% md\n"
    }
   }
  },
  {
   "cell_type": "markdown",
   "source": [
    "As we have seen in the previous notebook, the download of the first dataset occurs with the same pattern using th function `retrieve_idmb(...) -> bool`. It downloads the _.gz_ archive and decompress it inside the data/external folder."
   ],
   "metadata": {
    "collapsed": false,
    "pycharm": {
     "name": "#%% md\n"
    }
   }
  },
  {
   "cell_type": "code",
   "execution_count": 113,
   "outputs": [
    {
     "name": "stdout",
     "output_type": "stream",
     "text": [
      "No needed to download external IMDB data.\n",
      "------------------------------\n"
     ]
    }
   ],
   "source": [
    "if not retrieve_imdb(IMDB_URL, EXTERNAL_DIR, EXTERNAL_IMDB_CSV_NAMES):\n",
    "    pass"
   ],
   "metadata": {
    "collapsed": false,
    "pycharm": {
     "name": "#%%\n"
    }
   }
  },
  {
   "cell_type": "markdown",
   "source": [
    "With the second dataset, it is possible to proceed in two ways:\n",
    "- create DataFrame with API calls and specified features\n",
    "- download the uploaded csv file in the GitHub repository [release](https://github.com/prushh/movie-lens-mlp/releases/tag/api-dataset)\n",
    "\n",
    "If API call method is chosen (`USE_API` flag in `const.py`), the links dataset is needed to retrieve each single film using the __tmdbId__."
   ],
   "metadata": {
    "collapsed": false,
    "pycharm": {
     "name": "#%% md\n"
    }
   }
  },
  {
   "cell_type": "code",
   "execution_count": 114,
   "outputs": [
    {
     "name": "stdout",
     "output_type": "stream",
     "text": [
      "No needed to download external TMDB data.\n",
      "------------------------------\n"
     ]
    }
   ],
   "source": [
    "# Retrieve TMDB dataset by API requests, links DataFrame is needed for tmdbId feature\n",
    "links = pd.read_csv(\n",
    "    os.path.join(RAW_DIR, 'links.csv'),\n",
    "    encoding='utf-8',\n",
    "    usecols=['movieId', 'tmdbId'],\n",
    "    dtype={'movieId': 'int32', 'tmdbId': 'float32'}\n",
    ")\n",
    "\n",
    "# Specify features to retrieve from https://developers.themoviedb.org/3/movies/get-movie-details\n",
    "features = {'imdb_id', 'budget', 'revenue', 'adult', 'runtime'}\n",
    "if not retrieve_tmdb(links, EXTERNAL_DIR, EXTERNAL_TMDB_CSV_NAMES, features):\n",
    "    pass"
   ],
   "metadata": {
    "collapsed": false,
    "pycharm": {
     "name": "#%%\n"
    }
   }
  },
  {
   "cell_type": "markdown",
   "source": [
    "In particular from these datasets we are interested to gather the runtime of each film, for this reason some features will be discarded at priori."
   ],
   "metadata": {
    "collapsed": false,
    "pycharm": {
     "name": "#%% md\n"
    }
   }
  },
  {
   "cell_type": "markdown",
   "source": [
    "## title-basic.csv (IMDb)"
   ],
   "metadata": {
    "collapsed": false,
    "pycharm": {
     "name": "#%% md\n"
    }
   }
  },
  {
   "cell_type": "markdown",
   "source": [
    "Title-basics is one of the many dataset that imdb let us available. As we said before, the only information that we take are the __runtime__ and the __tconst__."
   ],
   "metadata": {
    "collapsed": false,
    "pycharm": {
     "name": "#%% md\n"
    }
   }
  },
  {
   "cell_type": "code",
   "execution_count": 115,
   "outputs": [
    {
     "name": "stdout",
     "output_type": "stream",
     "text": [
      "<class 'pandas.core.frame.DataFrame'>\n",
      "RangeIndex: 8905593 entries, 0 to 8905592\n",
      "Data columns (total 9 columns):\n",
      " #   Column          Dtype \n",
      "---  ------          ----- \n",
      " 0   tconst          object\n",
      " 1   titleType       object\n",
      " 2   primaryTitle    object\n",
      " 3   originalTitle   object\n",
      " 4   isAdult         object\n",
      " 5   startYear       object\n",
      " 6   endYear         object\n",
      " 7   runtimeMinutes  object\n",
      " 8   genres          object\n",
      "dtypes: object(9)\n",
      "memory usage: 611.5+ MB\n"
     ]
    }
   ],
   "source": [
    "imdb = pd.read_csv(\n",
    "    os.path.join(EXTERNAL_DIR, 'title-basics.csv'),\n",
    "    encoding='utf-8',\n",
    "    low_memory=False\n",
    ")\n",
    "\n",
    "imdb.info()"
   ],
   "metadata": {
    "collapsed": false,
    "pycharm": {
     "name": "#%%\n"
    }
   }
  },
  {
   "cell_type": "code",
   "execution_count": 116,
   "outputs": [
    {
     "name": "stdout",
     "output_type": "stream",
     "text": [
      "IMDb dimensionality: (8905593, 9)\n"
     ]
    }
   ],
   "source": [
    "print(f'IMDb dimensionality: {imdb.shape}')"
   ],
   "metadata": {
    "collapsed": false,
    "pycharm": {
     "name": "#%%\n"
    }
   }
  },
  {
   "cell_type": "markdown",
   "source": [
    "### Data Pre-processing / Cleaning"
   ],
   "metadata": {
    "collapsed": false,
    "pycharm": {
     "name": "#%% md\n"
    }
   }
  },
  {
   "cell_type": "code",
   "execution_count": 117,
   "outputs": [
    {
     "name": "stdout",
     "output_type": "stream",
     "text": [
      "<class 'pandas.core.frame.DataFrame'>\n",
      "RangeIndex: 8905593 entries, 0 to 8905592\n",
      "Data columns (total 2 columns):\n",
      " #   Column          Dtype \n",
      "---  ------          ----- \n",
      " 0   tconst          string\n",
      " 1   runtimeMinutes  object\n",
      "dtypes: object(1), string(1)\n",
      "memory usage: 135.9+ MB\n"
     ]
    }
   ],
   "source": [
    "imdb = imdb[['tconst', 'runtimeMinutes']].astype({'tconst': 'string'})\n",
    "imdb.info()"
   ],
   "metadata": {
    "collapsed": false,
    "pycharm": {
     "name": "#%%\n"
    }
   }
  },
  {
   "cell_type": "markdown",
   "source": [
    "The cardinality of this dataset is bigger than ours. From the IMDb dataset we have the data of all the films that are stored inside IMDb's database. For this reason, in the next steps we will let only the samples that represent a film on the MovieLens dataset."
   ],
   "metadata": {
    "collapsed": false,
    "pycharm": {
     "name": "#%% md\n"
    }
   }
  },
  {
   "cell_type": "code",
   "execution_count": 118,
   "outputs": [
    {
     "data": {
      "text/plain": "       tconst runtimeMinutes\n0   tt0000001              1\n1   tt0000002              5\n2   tt0000003              4\n3   tt0000004             12\n4   tt0000005              1\n5   tt0000006              1\n6   tt0000007              1\n7   tt0000008              1\n8   tt0000009             40\n9   tt0000010              1\n10  tt0000011              1\n11  tt0000012              1\n12  tt0000013              1\n13  tt0000014              1\n14  tt0000015              2\n15  tt0000016              1\n16  tt0000017              1\n17  tt0000018              1\n18  tt0000019             \\N\n19  tt0000020              1",
      "text/html": "<div>\n<style scoped>\n    .dataframe tbody tr th:only-of-type {\n        vertical-align: middle;\n    }\n\n    .dataframe tbody tr th {\n        vertical-align: top;\n    }\n\n    .dataframe thead th {\n        text-align: right;\n    }\n</style>\n<table border=\"1\" class=\"dataframe\">\n  <thead>\n    <tr style=\"text-align: right;\">\n      <th></th>\n      <th>tconst</th>\n      <th>runtimeMinutes</th>\n    </tr>\n  </thead>\n  <tbody>\n    <tr>\n      <th>0</th>\n      <td>tt0000001</td>\n      <td>1</td>\n    </tr>\n    <tr>\n      <th>1</th>\n      <td>tt0000002</td>\n      <td>5</td>\n    </tr>\n    <tr>\n      <th>2</th>\n      <td>tt0000003</td>\n      <td>4</td>\n    </tr>\n    <tr>\n      <th>3</th>\n      <td>tt0000004</td>\n      <td>12</td>\n    </tr>\n    <tr>\n      <th>4</th>\n      <td>tt0000005</td>\n      <td>1</td>\n    </tr>\n    <tr>\n      <th>5</th>\n      <td>tt0000006</td>\n      <td>1</td>\n    </tr>\n    <tr>\n      <th>6</th>\n      <td>tt0000007</td>\n      <td>1</td>\n    </tr>\n    <tr>\n      <th>7</th>\n      <td>tt0000008</td>\n      <td>1</td>\n    </tr>\n    <tr>\n      <th>8</th>\n      <td>tt0000009</td>\n      <td>40</td>\n    </tr>\n    <tr>\n      <th>9</th>\n      <td>tt0000010</td>\n      <td>1</td>\n    </tr>\n    <tr>\n      <th>10</th>\n      <td>tt0000011</td>\n      <td>1</td>\n    </tr>\n    <tr>\n      <th>11</th>\n      <td>tt0000012</td>\n      <td>1</td>\n    </tr>\n    <tr>\n      <th>12</th>\n      <td>tt0000013</td>\n      <td>1</td>\n    </tr>\n    <tr>\n      <th>13</th>\n      <td>tt0000014</td>\n      <td>1</td>\n    </tr>\n    <tr>\n      <th>14</th>\n      <td>tt0000015</td>\n      <td>2</td>\n    </tr>\n    <tr>\n      <th>15</th>\n      <td>tt0000016</td>\n      <td>1</td>\n    </tr>\n    <tr>\n      <th>16</th>\n      <td>tt0000017</td>\n      <td>1</td>\n    </tr>\n    <tr>\n      <th>17</th>\n      <td>tt0000018</td>\n      <td>1</td>\n    </tr>\n    <tr>\n      <th>18</th>\n      <td>tt0000019</td>\n      <td>\\N</td>\n    </tr>\n    <tr>\n      <th>19</th>\n      <td>tt0000020</td>\n      <td>1</td>\n    </tr>\n  </tbody>\n</table>\n</div>"
     },
     "execution_count": 118,
     "metadata": {},
     "output_type": "execute_result"
    }
   ],
   "source": [
    "imdb.head(20)"
   ],
   "metadata": {
    "collapsed": false,
    "pycharm": {
     "name": "#%%\n"
    }
   }
  },
  {
   "cell_type": "markdown",
   "source": [
    "### Manage invalid values"
   ],
   "metadata": {
    "collapsed": false,
    "pycharm": {
     "name": "#%% md\n"
    }
   }
  },
  {
   "cell_type": "markdown",
   "source": [
    "We are now looking for all the rows that contains an invalid runtime in order to replace these values with NaN. For example, in the previous output we have at index 18, a runtimeMinutes that contains '\\N'."
   ],
   "metadata": {
    "collapsed": false,
    "pycharm": {
     "name": "#%% md\n"
    }
   }
  },
  {
   "cell_type": "code",
   "execution_count": 119,
   "outputs": [
    {
     "data": {
      "text/plain": "(6507123, 2)"
     },
     "execution_count": 119,
     "metadata": {},
     "output_type": "execute_result"
    }
   ],
   "source": [
    "imdb[imdb['runtimeMinutes'].str.contains('[\\\\]*[a-zA-Z|\\\\-]+') == True].shape"
   ],
   "metadata": {
    "collapsed": false,
    "pycharm": {
     "name": "#%%\n"
    }
   }
  },
  {
   "cell_type": "markdown",
   "source": [
    "Now we've founded a way to select these rows, we can replace these invalid values with NaN."
   ],
   "metadata": {
    "collapsed": false,
    "pycharm": {
     "name": "#%% md\n"
    }
   }
  },
  {
   "cell_type": "code",
   "execution_count": 120,
   "outputs": [
    {
     "name": "stdout",
     "output_type": "stream",
     "text": [
      "<class 'pandas.core.frame.DataFrame'>\n",
      "RangeIndex: 8905593 entries, 0 to 8905592\n",
      "Data columns (total 2 columns):\n",
      " #   Column   Dtype  \n",
      "---  ------   -----  \n",
      " 0   tconst   string \n",
      " 1   runtime  float32\n",
      "dtypes: float32(1), string(1)\n",
      "memory usage: 101.9 MB\n"
     ]
    }
   ],
   "source": [
    "imdb = (imdb\n",
    "        .replace(regex={'runtimeMinutes': '[\\\\]*[a-zA-Z|\\\\-]+'}, value={'runtimeMinutes': np.nan})\n",
    "        .rename(columns={'runtimeMinutes': 'runtime'})\n",
    "        .astype({'runtime': 'float32'}))\n",
    "\n",
    "imdb.info()"
   ],
   "metadata": {
    "collapsed": false,
    "pycharm": {
     "name": "#%%\n"
    }
   }
  },
  {
   "cell_type": "markdown",
   "source": [
    "### Summary"
   ],
   "metadata": {
    "collapsed": false,
    "pycharm": {
     "name": "#%% md\n"
    }
   }
  },
  {
   "cell_type": "code",
   "execution_count": 121,
   "outputs": [
    {
     "name": "stdout",
     "output_type": "stream",
     "text": [
      "<class 'pandas.core.frame.DataFrame'>\n",
      "RangeIndex: 8905593 entries, 0 to 8905592\n",
      "Data columns (total 2 columns):\n",
      " #   Column   Dtype  \n",
      "---  ------   -----  \n",
      " 0   tconst   string \n",
      " 1   runtime  float32\n",
      "dtypes: float32(1), string(1)\n",
      "memory usage: 101.9 MB\n"
     ]
    }
   ],
   "source": [
    "# Read\n",
    "imdb = pd.read_csv(\n",
    "    os.path.join(EXTERNAL_DIR, 'title-basics.csv'),\n",
    "    encoding='utf-8',\n",
    "    usecols=['tconst', 'runtimeMinutes'],\n",
    "    dtype={'tconst': 'string'}\n",
    ")\n",
    "\n",
    "# Pre-processing & Cleaning\n",
    "imdb = (imdb\n",
    "        .replace(regex={'runtimeMinutes': '[\\\\]*[a-zA-Z|\\\\-]+'}, value={'runtimeMinutes': np.nan})\n",
    "        .rename(columns={'runtimeMinutes': 'runtime'})\n",
    "        .astype({'runtime': 'float32'}))\n",
    "\n",
    "imdb.info()"
   ],
   "metadata": {
    "collapsed": false,
    "pycharm": {
     "name": "#%%\n"
    }
   }
  },
  {
   "cell_type": "markdown",
   "source": [
    "## TMDB (tmdb.csv)"
   ],
   "metadata": {
    "collapsed": false,
    "pycharm": {
     "name": "#%% md\n"
    }
   }
  },
  {
   "cell_type": "markdown",
   "source": [
    "In order to gather some information from TMDB, we made a query for each film of the movies dataset to the TMDB database through its API. We only downloaded the information about the films that are contained in the movies dataset. Since we are interested to know the run time of the film, we used only this feature plus the ones that are needed to identify the movie."
   ],
   "metadata": {
    "collapsed": false,
    "pycharm": {
     "name": "#%% md\n"
    }
   }
  },
  {
   "cell_type": "code",
   "execution_count": 122,
   "outputs": [
    {
     "name": "stdout",
     "output_type": "stream",
     "text": [
      "<class 'pandas.core.frame.DataFrame'>\n",
      "RangeIndex: 58098 entries, 0 to 58097\n",
      "Data columns (total 4 columns):\n",
      " #   Column   Non-Null Count  Dtype  \n",
      "---  ------   --------------  -----  \n",
      " 0   movieId  58098 non-null  int32  \n",
      " 1   tmdbId   57917 non-null  float32\n",
      " 2   runtime  57110 non-null  float32\n",
      " 3   imdb_id  57156 non-null  string \n",
      "dtypes: float32(2), int32(1), string(1)\n",
      "memory usage: 1.1 MB\n"
     ]
    }
   ],
   "source": [
    "# Read\n",
    "tmdb = pd.read_csv(\n",
    "    os.path.join(EXTERNAL_DIR, 'tmdb.csv'),\n",
    "    encoding='utf-8',\n",
    "    usecols=['movieId', 'tmdbId', 'imdb_id', 'runtime'],\n",
    "    dtype={'movieId': 'int32', 'imdb_id': 'string', 'tmdbId': 'float32', 'runtime': 'float32'}\n",
    ")\n",
    "\n",
    "tmdb.info()"
   ],
   "metadata": {
    "collapsed": false,
    "pycharm": {
     "name": "#%%\n"
    }
   }
  },
  {
   "cell_type": "markdown",
   "source": [
    "## Merge TMDB and IMDb"
   ],
   "metadata": {
    "collapsed": false,
    "pycharm": {
     "name": "#%% md\n"
    }
   }
  },
  {
   "cell_type": "markdown",
   "source": [
    "Finally, we can throw away all the rows that doesn't regard our dataset. This is done merging the IDMb dataset with the TMDB one, that contains only the rows that came from the movies dataset."
   ],
   "metadata": {
    "collapsed": false,
    "pycharm": {
     "name": "#%% md\n"
    }
   }
  },
  {
   "cell_type": "code",
   "execution_count": 123,
   "outputs": [],
   "source": [
    "tmdb_imdb = tmdb.merge(imdb, how='left', left_on='imdb_id', right_on='tconst')"
   ],
   "metadata": {
    "collapsed": false,
    "pycharm": {
     "name": "#%%\n"
    }
   }
  },
  {
   "cell_type": "markdown",
   "source": [
    "### Data Cleaning"
   ],
   "metadata": {
    "collapsed": false,
    "pycharm": {
     "name": "#%% md\n"
    }
   }
  },
  {
   "cell_type": "markdown",
   "source": [
    "#### Choose a runtime that is not NaN or 0"
   ],
   "metadata": {
    "collapsed": false,
    "pycharm": {
     "name": "#%% md\n"
    }
   }
  },
  {
   "cell_type": "markdown",
   "source": [
    "Thanks to the fact that we have the runtimes from two different sources, after the merge this two datasets, we can choose the runtime that is not 0 or NaN."
   ],
   "metadata": {
    "collapsed": false,
    "pycharm": {
     "name": "#%% md\n"
    }
   }
  },
  {
   "cell_type": "code",
   "execution_count": 124,
   "outputs": [],
   "source": [
    "def extract_correct_runtime(df: pd.DataFrame) -> pd.DataFrame:\n",
    "    df['runtime'] = df['runtime_x'].mask((df['runtime_x'].isna()) | (df['runtime_x'] == 0), df['runtime_y'])\n",
    "    return df"
   ],
   "metadata": {
    "collapsed": false,
    "pycharm": {
     "name": "#%%\n"
    }
   }
  },
  {
   "cell_type": "code",
   "execution_count": 125,
   "outputs": [],
   "source": [
    "tmdb_imdb = tmdb_imdb.pipe(extract_correct_runtime)"
   ],
   "metadata": {
    "collapsed": false,
    "pycharm": {
     "name": "#%%\n"
    }
   }
  },
  {
   "cell_type": "markdown",
   "source": [
    "#### Checking NaN values"
   ],
   "metadata": {
    "collapsed": false,
    "pycharm": {
     "name": "#%% md\n"
    }
   }
  },
  {
   "cell_type": "code",
   "execution_count": 126,
   "outputs": [
    {
     "data": {
      "text/plain": "(972, 7)"
     },
     "execution_count": 126,
     "metadata": {},
     "output_type": "execute_result"
    }
   ],
   "source": [
    "tmdb_imdb[tmdb_imdb['runtime'].isna()].shape"
   ],
   "metadata": {
    "collapsed": false,
    "pycharm": {
     "name": "#%%\n"
    }
   }
  },
  {
   "cell_type": "markdown",
   "source": [
    "Since we still have some NaN values on the runtime feature, we need to understand with which value we can replace the NaN values."
   ],
   "metadata": {
    "collapsed": false,
    "pycharm": {
     "name": "#%% md\n"
    }
   }
  },
  {
   "cell_type": "code",
   "execution_count": 127,
   "outputs": [
    {
     "data": {
      "text/plain": "<Figure size 1152x576 with 1 Axes>",
      "image/png": "[encoded data removed]"
     },
     "metadata": {},
     "output_type": "display_data"
    }
   ],
   "source": [
    "histplot(tmdb_imdb['runtime'],\n",
    "         title='Probability distribution of runtime',\n",
    "         xlabel='year',\n",
    "         ylabel='probability',\n",
    "         stat='probability',\n",
    "         discrete=True,\n",
    "         kde=True)"
   ],
   "metadata": {
    "collapsed": false,
    "pycharm": {
     "name": "#%%\n"
    }
   }
  },
  {
   "cell_type": "markdown",
   "source": [
    "The runtime of the films has a skewed distribution. For this reason, we replace the NaN values with the median."
   ],
   "metadata": {
    "collapsed": false,
    "pycharm": {
     "name": "#%% md\n"
    }
   }
  },
  {
   "cell_type": "code",
   "execution_count": 128,
   "outputs": [
    {
     "name": "stdout",
     "output_type": "stream",
     "text": [
      "<class 'pandas.core.frame.DataFrame'>\n",
      "Int64Index: 58098 entries, 0 to 58097\n",
      "Data columns (total 2 columns):\n",
      " #   Column   Non-Null Count  Dtype  \n",
      "---  ------   --------------  -----  \n",
      " 0   movieId  58098 non-null  int32  \n",
      " 1   runtime  58098 non-null  float32\n",
      "dtypes: float32(1), int32(1)\n",
      "memory usage: 907.8 KB\n"
     ]
    }
   ],
   "source": [
    "# Cleaning\n",
    "tmdb_imdb = (tmdb_imdb\n",
    "        .fillna({'runtime': tmdb_imdb['runtime'].median()})\n",
    "        .drop(columns=['tmdbId', 'imdb_id', 'tconst', 'runtime_x', 'runtime_y']))\n",
    "\n",
    "tmdb_imdb.info()"
   ],
   "metadata": {
    "collapsed": false,
    "pycharm": {
     "name": "#%%\n"
    }
   }
  },
  {
   "cell_type": "markdown",
   "source": [
    "#### Summary"
   ],
   "metadata": {
    "collapsed": false,
    "pycharm": {
     "name": "#%% md\n"
    }
   }
  },
  {
   "cell_type": "code",
   "execution_count": 129,
   "outputs": [
    {
     "name": "stdout",
     "output_type": "stream",
     "text": [
      "<class 'pandas.core.frame.DataFrame'>\n",
      "Int64Index: 58098 entries, 0 to 58097\n",
      "Data columns (total 2 columns):\n",
      " #   Column   Non-Null Count  Dtype  \n",
      "---  ------   --------------  -----  \n",
      " 0   movieId  58098 non-null  int32  \n",
      " 1   runtime  58098 non-null  float32\n",
      "dtypes: float32(1), int32(1)\n",
      "memory usage: 907.8 KB\n"
     ]
    }
   ],
   "source": [
    "# Merge\n",
    "tmdb_imdb = tmdb.merge(imdb, how='left', left_on='imdb_id', right_on='tconst')\n",
    "\n",
    "# Pre-processing & Cleaning\n",
    "tmdb_imdb = (tmdb_imdb\n",
    "        .pipe(extract_correct_runtime)\n",
    "        .fillna({'runtime': tmdb_imdb['runtime'].median()})\n",
    "        .drop(columns=['tmdbId', 'imdb_id', 'tconst', 'runtime_x', 'runtime_y']))\n",
    "\n",
    "tmdb_imdb.info()"
   ],
   "metadata": {
    "collapsed": false,
    "pycharm": {
     "name": "#%%\n"
    }
   }
  }
 ],
 "metadata": {
  "kernelspec": {
   "display_name": "Python 3",
   "language": "python",
   "name": "python3"
  },
  "language_info": {
   "codemirror_mode": {
    "name": "ipython",
    "version": 2
   },
   "file_extension": ".py",
   "mimetype": "text/x-python",
   "name": "python",
   "nbconvert_exporter": "python",
   "pygments_lexer": "ipython2",
   "version": "2.7.6"
  }
 },
 "nbformat": 4,
 "nbformat_minor": 0
}