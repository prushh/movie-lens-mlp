{
 "cells": [
  {
   "cell_type": "markdown",
   "source": [
    "# External data exploration"
   ],
   "metadata": {
    "collapsed": false
   }
  },
  {
   "cell_type": "markdown",
   "source": [
    "### Imports"
   ],
   "metadata": {
    "collapsed": false
   }
  },
  {
   "cell_type": "code",
   "execution_count": 34,
   "metadata": {
    "collapsed": true,
    "pycharm": {
     "name": "#%%\n"
    }
   },
   "outputs": [],
   "source": [
    "import os\n",
    "from typing import List\n",
    "\n",
    "import pandas as pd\n",
    "import numpy as np\n",
    "\n",
    "from src.utils.const import DATA_DIR\n",
    "from src.utils.util import overview_data"
   ]
  },
  {
   "cell_type": "markdown",
   "source": [
    "### Path to raw data"
   ],
   "metadata": {
    "collapsed": false
   }
  },
  {
   "cell_type": "code",
   "execution_count": 2,
   "outputs": [],
   "source": [
    "ROOT_DIR = os.path.join(os.getcwd(), '..')\n",
    "EXTERNAL_DIR = os.path.join(ROOT_DIR, DATA_DIR, 'external')\n",
    "INTERIM_DIR = os.path.join(ROOT_DIR, DATA_DIR, 'interim')\n",
    "RAW_DIR = os.path.join(ROOT_DIR, DATA_DIR, 'raw')"
   ],
   "metadata": {
    "collapsed": false,
    "pycharm": {
     "name": "#%%\n"
    }
   }
  },
  {
   "cell_type": "markdown",
   "source": [
    "### title-basics.csv"
   ],
   "metadata": {
    "collapsed": false
   }
  },
  {
   "cell_type": "code",
   "execution_count": 3,
   "outputs": [],
   "source": [
    "imdb = pd.read_csv(os.path.join(EXTERNAL_DIR, 'title-basics.csv'), dtype={'tconst': 'string'}, encoding='utf-8',\n",
    "                   usecols=['tconst', 'runtimeMinutes'])"
   ],
   "metadata": {
    "collapsed": false,
    "pycharm": {
     "name": "#%%\n"
    }
   }
  },
  {
   "cell_type": "code",
   "execution_count": 4,
   "outputs": [
    {
     "name": "stdout",
     "output_type": "stream",
     "text": [
      "<class 'pandas.core.frame.DataFrame'>\n",
      "RangeIndex: 8830142 entries, 0 to 8830141\n",
      "Data columns (total 2 columns):\n",
      " #   Column          Dtype \n",
      "---  ------          ----- \n",
      " 0   tconst          string\n",
      " 1   runtimeMinutes  object\n",
      "dtypes: object(1), string(1)\n",
      "memory usage: 134.7+ MB\n"
     ]
    }
   ],
   "source": [
    "imdb.info()"
   ],
   "metadata": {
    "collapsed": false,
    "pycharm": {
     "name": "#%%\n"
    }
   }
  },
  {
   "cell_type": "code",
   "execution_count": 5,
   "outputs": [],
   "source": [
    "imdb['runtimeMinutes'].replace(regex='([\\\\]*[a-zA-Z|\\-]+)', value=np.nan, inplace=True)"
   ],
   "metadata": {
    "collapsed": false,
    "pycharm": {
     "name": "#%%\n"
    }
   }
  },
  {
   "cell_type": "code",
   "execution_count": 6,
   "outputs": [
    {
     "data": {
      "text/plain": "6450086"
     },
     "execution_count": 6,
     "metadata": {},
     "output_type": "execute_result"
    }
   ],
   "source": [
    "imdb[imdb['runtimeMinutes'].isna()].shape[0]"
   ],
   "metadata": {
    "collapsed": false,
    "pycharm": {
     "name": "#%%\n"
    }
   }
  },
  {
   "cell_type": "code",
   "execution_count": 7,
   "outputs": [
    {
     "data": {
      "text/plain": "0           1.0\n1           5.0\n2           4.0\n3          12.0\n4           1.0\n           ... \n8830137     NaN\n8830138     NaN\n8830139     NaN\n8830140    27.0\n8830141    10.0\nName: runtimeMinutes, Length: 8830142, dtype: float32"
     },
     "execution_count": 7,
     "metadata": {},
     "output_type": "execute_result"
    }
   ],
   "source": [
    "imdb['runtimeMinutes'].astype('float32')"
   ],
   "metadata": {
    "collapsed": false,
    "pycharm": {
     "name": "#%%\n"
    }
   }
  },
  {
   "cell_type": "code",
   "execution_count": 8,
   "outputs": [],
   "source": [
    "imdb.rename(columns={'runtimeMinutes': 'runtime'}, inplace=True)"
   ],
   "metadata": {
    "collapsed": false,
    "pycharm": {
     "name": "#%%\n"
    }
   }
  },
  {
   "cell_type": "code",
   "execution_count": 9,
   "outputs": [],
   "source": [
    "filepath = os.path.join(INTERIM_DIR, 'imdb.csv')\n",
    "if not os.path.exists(filepath):\n",
    "    imdb.to_csv(filepath, encoding='utf-8')"
   ],
   "metadata": {
    "collapsed": false,
    "pycharm": {
     "name": "#%%\n"
    }
   }
  },
  {
   "cell_type": "code",
   "execution_count": 10,
   "outputs": [],
   "source": [
    "imdb = pd.read_csv(os.path.join(INTERIM_DIR, 'imdb.csv'), dtype={'tconst': 'string', 'runtime': 'float32'},\n",
    "                   encoding='utf-8',\n",
    "                   usecols=['tconst', 'runtime'])"
   ],
   "metadata": {
    "collapsed": false,
    "pycharm": {
     "name": "#%%\n"
    }
   }
  },
  {
   "cell_type": "markdown",
   "source": [
    "### tmdb-features.csv"
   ],
   "metadata": {
    "collapsed": false
   }
  },
  {
   "cell_type": "code",
   "execution_count": 11,
   "outputs": [],
   "source": [
    "tmdb = pd.read_csv(os.path.join(EXTERNAL_DIR, 'tmdb-features.csv'), encoding='utf-8',\n",
    "                   usecols=['movieId', 'tmdbId', 'runtime'])"
   ],
   "metadata": {
    "collapsed": false,
    "pycharm": {
     "name": "#%%\n"
    }
   }
  },
  {
   "cell_type": "markdown",
   "source": [
    "### Add to tmdb-features imdbId"
   ],
   "metadata": {
    "collapsed": false
   }
  },
  {
   "cell_type": "code",
   "execution_count": 17,
   "outputs": [
    {
     "name": "stdout",
     "output_type": "stream",
     "text": [
      "Shape: (58098, 3)\n",
      "Columns: ['movieId' 'imdbId' 'tmdbId']\n"
     ]
    }
   ],
   "source": [
    "links = pd.read_csv(os.path.join(RAW_DIR, 'links.csv'), encoding='utf-8', dtype={'imdbId': 'string'})\n",
    "links['imdbId'] = links['imdbId'].apply(lambda x: f\"tt{x}\")\n",
    "links = links[['movieId', 'imdbId']]"
   ],
   "metadata": {
    "collapsed": false,
    "pycharm": {
     "name": "#%%\n"
    }
   }
  },
  {
   "cell_type": "code",
   "execution_count": 18,
   "outputs": [
    {
     "name": "stdout",
     "output_type": "stream",
     "text": [
      "<class 'pandas.core.frame.DataFrame'>\n",
      "Int64Index: 58098 entries, 0 to 58097\n",
      "Data columns (total 4 columns):\n",
      " #   Column   Non-Null Count  Dtype  \n",
      "---  ------   --------------  -----  \n",
      " 0   movieId  58098 non-null  int64  \n",
      " 1   tmdbId   57917 non-null  float64\n",
      " 2   runtime  58035 non-null  float64\n",
      " 3   imdbId   58098 non-null  object \n",
      "dtypes: float64(2), int64(1), object(1)\n",
      "memory usage: 2.2+ MB\n",
      "Shape: (58098, 4)\n",
      "Columns: ['movieId' 'tmdbId' 'runtime' 'imdbId']\n"
     ]
    }
   ],
   "source": [
    "tmdb_new = pd.merge(tmdb, links, on='movieId', how='left')\n",
    "tmdb_new.info()"
   ],
   "metadata": {
    "collapsed": false,
    "pycharm": {
     "name": "#%%\n"
    }
   }
  },
  {
   "cell_type": "code",
   "execution_count": 20,
   "outputs": [],
   "source": [
    "filepath = os.path.join(INTERIM_DIR, 'tmdb-features.csv')\n",
    "if not os.path.exists(filepath):\n",
    "    tmdb_new.to_csv(filepath, encoding='utf-8')"
   ],
   "metadata": {
    "collapsed": false,
    "pycharm": {
     "name": "#%%\n"
    }
   }
  },
  {
   "cell_type": "markdown",
   "source": [
    "### Pipe tmdb missing runtime"
   ],
   "metadata": {
    "collapsed": false
   }
  },
  {
   "cell_type": "code",
   "execution_count": 35,
   "outputs": [
    {
     "name": "stdout",
     "output_type": "stream",
     "text": [
      "<class 'pandas.core.frame.DataFrame'>\n",
      "RangeIndex: 58098 entries, 0 to 58097\n",
      "Data columns (total 4 columns):\n",
      " #   Column   Non-Null Count  Dtype  \n",
      "---  ------   --------------  -----  \n",
      " 0   movieId  58098 non-null  int64  \n",
      " 1   tmdbId   57917 non-null  float64\n",
      " 2   runtime  58035 non-null  float64\n",
      " 3   imdbId   58098 non-null  object \n",
      "dtypes: float64(2), int64(1), object(1)\n",
      "memory usage: 1.8+ MB\n",
      "shape before merge1724\n",
      "shape after merge1724\n",
      "<class 'pandas.core.frame.DataFrame'>\n",
      "Int64Index: 58098 entries, 0 to 1723\n",
      "Data columns (total 4 columns):\n",
      " #   Column   Non-Null Count  Dtype  \n",
      "---  ------   --------------  -----  \n",
      " 0   movieId  58098 non-null  int64  \n",
      " 1   tmdbId   57917 non-null  float64\n",
      " 2   runtime  58098 non-null  float64\n",
      " 3   imdbId   58098 non-null  object \n",
      "dtypes: float64(2), int64(1), object(1)\n",
      "memory usage: 2.2+ MB\n"
     ]
    }
   ],
   "source": [
    "def fill_na(df: pd.DataFrame, column: str, use_median: bool) -> pd.DataFrame:\n",
    "    if use_median:\n",
    "        median = df[column].median()\n",
    "        df[column].fillna(median, inplace=True)\n",
    "        return df\n",
    "    mean = df[column].mean()\n",
    "    df[column].fillna(mean, inplace=True)\n",
    "    return df\n",
    "\n",
    "def drop(df: pd.DataFrame, columns: List[str]) -> pd.DataFrame:\n",
    "    df.drop(columns=columns, inplace=True)\n",
    "    return df\n",
    "\n",
    "def extract_runtime(df: pd.DataFrame, imdb: pd.DataFrame) -> pd.DataFrame:\n",
    "    # Partition of the dataframe with Nan or 0 on runtime column\n",
    "    missing_runtime = df[(df['runtime'] == 0) | (df['runtime'].isna())].copy()\n",
    "\n",
    "    # Drop from the tmdb all the rows that are nan since are saved in missing_runtime\n",
    "    local_tmdb = df.set_index('movieId')\n",
    "    local_tmdb.drop(index=missing_runtime['movieId'], inplace=True)\n",
    "    missing_runtime.drop(columns='runtime', inplace=True)\n",
    "    missing_runtime = pd.merge(missing_runtime, imdb, left_on='imdbId', right_on='tconst',how='left')\n",
    "\n",
    "    # Merge the missing_runtime with the gathered values to the tmdb dataset\n",
    "    local_tmdb.reset_index(inplace=True)\n",
    "    local_tmdb.rename(columns={'index': 'movieId'}, inplace=True)\n",
    "    df = pd.concat([local_tmdb, missing_runtime])\n",
    "\n",
    "    # TODO: Apply Standardization on the training set\n",
    "    return df\n",
    "\n",
    "\n",
    "tmdb = pd.read_csv(os.path.join(INTERIM_DIR, 'tmdb-features.csv'), encoding='utf-8',\n",
    "                   usecols=['movieId', 'tmdbId', 'imdbId', 'runtime'])\n",
    "tmdb.info()\n",
    "tmdb=tmdb.pipe(extract_runtime, imdb).\\\n",
    "    pipe(fill_na,'runtime',True).\\\n",
    "    pipe(drop,['tconst'])\n",
    "tmdb.info()"
   ],
   "metadata": {
    "collapsed": false,
    "pycharm": {
     "name": "#%%\n"
    }
   }
  }
 ],
 "metadata": {
  "kernelspec": {
   "display_name": "Python 3",
   "language": "python",
   "name": "python3"
  },
  "language_info": {
   "codemirror_mode": {
    "name": "ipython",
    "version": 2
   },
   "file_extension": ".py",
   "mimetype": "text/x-python",
   "name": "python",
   "nbconvert_exporter": "python",
   "pygments_lexer": "ipython2",
   "version": "2.7.6"
  }
 },
 "nbformat": 4,
 "nbformat_minor": 0
}