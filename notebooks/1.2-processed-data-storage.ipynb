{
 "cells": [
  {
   "cell_type": "markdown",
   "metadata": {
    "collapsed": true,
    "pycharm": {
     "name": "#%% md\n"
    }
   },
   "source": [
    "# Processed data storage"
   ]
  },
  {
   "cell_type": "markdown",
   "source": [
    "## Imports"
   ],
   "metadata": {
    "collapsed": false,
    "pycharm": {
     "name": "#%% md\n"
    }
   }
  },
  {
   "cell_type": "code",
   "execution_count": 2,
   "outputs": [],
   "source": [
    "import os\n",
    "\n",
    "import pandas as pd\n",
    "\n",
    "from src.utils.const import DATA_DIR\n",
    "from src.utils.wrapper import fill_na"
   ],
   "metadata": {
    "collapsed": false,
    "pycharm": {
     "name": "#%%\n"
    }
   }
  },
  {
   "cell_type": "markdown",
   "source": [
    "### Useful path to data"
   ],
   "metadata": {
    "collapsed": false,
    "pycharm": {
     "name": "#%% md\n"
    }
   }
  },
  {
   "cell_type": "code",
   "execution_count": 3,
   "outputs": [],
   "source": [
    "ROOT_DIR = os.path.join(os.getcwd(), '..')\n",
    "INTERIM_DIR = os.path.join(ROOT_DIR, DATA_DIR, 'interim')\n",
    "PROCESSED_DIR = os.path.join(ROOT_DIR, DATA_DIR, 'processed')"
   ],
   "metadata": {
    "collapsed": false,
    "pycharm": {
     "name": "#%%\n"
    }
   }
  },
  {
   "cell_type": "markdown",
   "source": [
    "## Import all interim .csv"
   ],
   "metadata": {
    "collapsed": false,
    "pycharm": {
     "name": "#%% md\n"
    }
   }
  },
  {
   "cell_type": "code",
   "execution_count": 4,
   "outputs": [],
   "source": [
    "movies = pd.read_parquet(\n",
    "    os.path.join(INTERIM_DIR, 'movies.parquet')\n",
    ")\n",
    "\n",
    "tags = pd.read_parquet(\n",
    "    os.path.join(INTERIM_DIR, 'tags.parquet')\n",
    ")\n",
    "\n",
    "ratings = pd.read_parquet(\n",
    "    os.path.join(INTERIM_DIR, 'ratings.parquet')\n",
    ")\n",
    "\n",
    "tmdb = pd.read_parquet(\n",
    "    os.path.join(INTERIM_DIR, 'tmdb.parquet')\n",
    ")"
   ],
   "metadata": {
    "collapsed": false,
    "pycharm": {
     "name": "#%%\n"
    }
   }
  },
  {
   "cell_type": "markdown",
   "source": [
    "## final.csv"
   ],
   "metadata": {
    "collapsed": false,
    "pycharm": {
     "name": "#%% md\n"
    }
   }
  },
  {
   "cell_type": "code",
   "execution_count": 5,
   "outputs": [
    {
     "name": "stdout",
     "output_type": "stream",
     "text": [
      "<class 'pandas.core.frame.DataFrame'>\n",
      "Int64Index: 50157 entries, 0 to 50156\n",
      "Data columns (total 26 columns):\n",
      " #   Column        Non-Null Count  Dtype  \n",
      "---  ------        --------------  -----  \n",
      " 0   movieId       50157 non-null  int32  \n",
      " 1   year          50157 non-null  float32\n",
      " 2   title_length  50157 non-null  int32  \n",
      " 3   Action        50157 non-null  int32  \n",
      " 4   Adventure     50157 non-null  int32  \n",
      " 5   Animation     50157 non-null  int32  \n",
      " 6   Children      50157 non-null  int32  \n",
      " 7   Comedy        50157 non-null  int32  \n",
      " 8   Crime         50157 non-null  int32  \n",
      " 9   Documentary   50157 non-null  int32  \n",
      " 10  Drama         50157 non-null  int32  \n",
      " 11  Fantasy       50157 non-null  int32  \n",
      " 12  Film-Noir     50157 non-null  int32  \n",
      " 13  Horror        50157 non-null  int32  \n",
      " 14  IMAX          50157 non-null  int32  \n",
      " 15  Musical       50157 non-null  int32  \n",
      " 16  Mystery       50157 non-null  int32  \n",
      " 17  Romance       50157 non-null  int32  \n",
      " 18  Sci-Fi        50157 non-null  int32  \n",
      " 19  Thriller      50157 non-null  int32  \n",
      " 20  War           50157 non-null  int32  \n",
      " 21  Western       50157 non-null  int32  \n",
      " 22  rating_count  50157 non-null  int32  \n",
      " 23  rating_mean   50157 non-null  float32\n",
      " 24  tag_count     50157 non-null  float32\n",
      " 25  runtime       50157 non-null  float32\n",
      "dtypes: float32(4), int32(22)\n",
      "memory usage: 5.4 MB\n"
     ]
    }
   ],
   "source": [
    "final = movies. \\\n",
    "    pipe(pd.merge, ratings, on='movieId', how='inner'). \\\n",
    "    pipe(pd.merge, tags, on='movieId', how='left'). \\\n",
    "    pipe(fill_na, 'tag_count', 'zero'). \\\n",
    "    pipe(pd.merge, tmdb, on='movieId', how='inner')\n",
    "\n",
    "final.info()"
   ],
   "metadata": {
    "collapsed": false,
    "pycharm": {
     "name": "#%%\n"
    }
   }
  }
 ],
 "metadata": {
  "kernelspec": {
   "display_name": "Python 3",
   "language": "python",
   "name": "python3"
  },
  "language_info": {
   "codemirror_mode": {
    "name": "ipython",
    "version": 2
   },
   "file_extension": ".py",
   "mimetype": "text/x-python",
   "name": "python",
   "nbconvert_exporter": "python",
   "pygments_lexer": "ipython2",
   "version": "2.7.6"
  }
 },
 "nbformat": 4,
 "nbformat_minor": 0
}