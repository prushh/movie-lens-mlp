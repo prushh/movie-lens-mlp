{
 "cells": [
  {
   "cell_type": "markdown",
   "metadata": {
    "collapsed": true,
    "pycharm": {
     "name": "#%% md\n"
    }
   },
   "source": [
    "# Processed data storage"
   ]
  },
  {
   "cell_type": "markdown",
   "source": [
    "## Imports"
   ],
   "metadata": {
    "collapsed": false
   }
  },
  {
   "cell_type": "code",
   "execution_count": 3,
   "outputs": [],
   "source": [
    "import os\n",
    "\n",
    "import pandas as pd\n",
    "\n",
    "from src.utils.const import DATA_DIR"
   ],
   "metadata": {
    "collapsed": false,
    "pycharm": {
     "name": "#%%\n"
    }
   }
  },
  {
   "cell_type": "markdown",
   "source": [
    "### Useful path to data"
   ],
   "metadata": {
    "collapsed": false
   }
  },
  {
   "cell_type": "code",
   "execution_count": 4,
   "outputs": [],
   "source": [
    "ROOT_DIR = os.path.join(os.getcwd(), '..')\n",
    "INTERIM_DIR = os.path.join(ROOT_DIR, DATA_DIR, 'interim')\n",
    "PROCESSED_DIR = os.path.join(ROOT_DIR, DATA_DIR, 'processed')"
   ],
   "metadata": {
    "collapsed": false,
    "pycharm": {
     "name": "#%%\n"
    }
   }
  },
  {
   "cell_type": "markdown",
   "source": [
    "## Import all interim .csv"
   ],
   "metadata": {
    "collapsed": false
   }
  },
  {
   "cell_type": "code",
   "execution_count": 5,
   "outputs": [],
   "source": [
    "movies = pd.read_csv(\n",
    "    os.path.join(INTERIM_DIR, 'movies.csv'),\n",
    "    encoding='utf-8',\n",
    "    dtype={'movieId': 'uint16', 'year': 'float32', 'title_length': 'int32'}\n",
    ")\n",
    "\n",
    "tags = pd.read_csv(\n",
    "    os.path.join(INTERIM_DIR, 'tags.csv'),\n",
    "    encoding='utf-8',\n",
    "    dtype={'movieId': 'uint16', 'tag_count': 'int32'}\n",
    ")\n",
    "\n",
    "ratings = pd.read_csv(\n",
    "    os.path.join(INTERIM_DIR, 'ratings.csv'),\n",
    "    encoding='utf-8',\n",
    "    dtype={'movieId': 'uint16', 'rating_count': 'int32', 'rating_mean': 'float32'}\n",
    ")\n",
    "\n",
    "imdb = pd.read_csv(\n",
    "    os.path.join(INTERIM_DIR, 'title-basics.csv'),\n",
    "    encoding='utf-8',\n",
    "    usecols=['tconst', 'runtime'],\n",
    "    dtype={'tconst': 'string', 'runtime': 'float32'}\n",
    ")\n",
    "\n",
    "tmdb = pd.read_csv(\n",
    "    os.path.join(INTERIM_DIR, 'tmdb.csv'),\n",
    "    encoding='utf-8',\n",
    "    usecols=['movieId', 'tmdbId', 'imdb_id', 'runtime'],\n",
    "    dtype={'movieId': 'uint16', 'imdb_id': 'string', 'tmdbId': 'float32', 'runtime': 'float32'}\n",
    ")"
   ],
   "metadata": {
    "collapsed": false,
    "pycharm": {
     "name": "#%%\n"
    }
   }
  },
  {
   "cell_type": "code",
   "execution_count": 9,
   "outputs": [
    {
     "name": "stdout",
     "output_type": "stream",
     "text": [
      "<class 'pandas.core.frame.DataFrame'>\n",
      "RangeIndex: 83737 entries, 0 to 83736\n",
      "Data columns (total 22 columns):\n",
      " #   Column        Non-Null Count  Dtype  \n",
      "---  ------        --------------  -----  \n",
      " 0   movieId       83737 non-null  uint16 \n",
      " 1   year          83737 non-null  float32\n",
      " 2   title_length  83737 non-null  int32  \n",
      " 3   Action        83737 non-null  int64  \n",
      " 4   Adventure     83737 non-null  int64  \n",
      " 5   Animation     83737 non-null  int64  \n",
      " 6   Children      83737 non-null  int64  \n",
      " 7   Comedy        83737 non-null  int64  \n",
      " 8   Crime         83737 non-null  int64  \n",
      " 9   Documentary   83737 non-null  int64  \n",
      " 10  Drama         83737 non-null  int64  \n",
      " 11  Fantasy       83737 non-null  int64  \n",
      " 12  Film-Noir     83737 non-null  int64  \n",
      " 13  Horror        83737 non-null  int64  \n",
      " 14  IMAX          83737 non-null  int64  \n",
      " 15  Musical       83737 non-null  int64  \n",
      " 16  Mystery       83737 non-null  int64  \n",
      " 17  Romance       83737 non-null  int64  \n",
      " 18  Sci-Fi        83737 non-null  int64  \n",
      " 19  Thriller      83737 non-null  int64  \n",
      " 20  War           83737 non-null  int64  \n",
      " 21  Western       83737 non-null  int64  \n",
      "dtypes: float32(1), int32(1), int64(19), uint16(1)\n",
      "memory usage: 12.9 MB\n"
     ]
    }
   ],
   "source": [
    "movies.info()"
   ],
   "metadata": {
    "collapsed": false,
    "pycharm": {
     "name": "#%%\n"
    }
   }
  },
  {
   "cell_type": "markdown",
   "source": [
    "## final.csv"
   ],
   "metadata": {
    "collapsed": false
   }
  },
  {
   "cell_type": "code",
   "execution_count": 8,
   "outputs": [
    {
     "name": "stdout",
     "output_type": "stream",
     "text": [
      "<class 'pandas.core.frame.DataFrame'>\n",
      "Int64Index: 81551 entries, 0 to 81550\n",
      "Data columns (total 24 columns):\n",
      " #   Column        Non-Null Count  Dtype  \n",
      "---  ------        --------------  -----  \n",
      " 0   movieId       81551 non-null  uint16 \n",
      " 1   year          81551 non-null  float32\n",
      " 2   title_length  81551 non-null  int32  \n",
      " 3   Action        81551 non-null  int64  \n",
      " 4   Adventure     81551 non-null  int64  \n",
      " 5   Animation     81551 non-null  int64  \n",
      " 6   Children      81551 non-null  int64  \n",
      " 7   Comedy        81551 non-null  int64  \n",
      " 8   Crime         81551 non-null  int64  \n",
      " 9   Documentary   81551 non-null  int64  \n",
      " 10  Drama         81551 non-null  int64  \n",
      " 11  Fantasy       81551 non-null  int64  \n",
      " 12  Film-Noir     81551 non-null  int64  \n",
      " 13  Horror        81551 non-null  int64  \n",
      " 14  IMAX          81551 non-null  int64  \n",
      " 15  Musical       81551 non-null  int64  \n",
      " 16  Mystery       81551 non-null  int64  \n",
      " 17  Romance       81551 non-null  int64  \n",
      " 18  Sci-Fi        81551 non-null  int64  \n",
      " 19  Thriller      81551 non-null  int64  \n",
      " 20  War           81551 non-null  int64  \n",
      " 21  Western       81551 non-null  int64  \n",
      " 22  rating_count  81551 non-null  int32  \n",
      " 23  rating_mean   81551 non-null  float32\n",
      "dtypes: float32(2), int32(2), int64(19), uint16(1)\n",
      "memory usage: 13.8 MB\n"
     ]
    }
   ],
   "source": [
    "final = movies.copy(). \\\n",
    "    pipe(pd.merge, ratings, on='movieId', how='inner')\n",
    "\n",
    "final.info()"
   ],
   "metadata": {
    "collapsed": false,
    "pycharm": {
     "name": "#%%\n"
    }
   }
  }
 ],
 "metadata": {
  "kernelspec": {
   "display_name": "Python 3",
   "language": "python",
   "name": "python3"
  },
  "language_info": {
   "codemirror_mode": {
    "name": "ipython",
    "version": 2
   },
   "file_extension": ".py",
   "mimetype": "text/x-python",
   "name": "python",
   "nbconvert_exporter": "python",
   "pygments_lexer": "ipython2",
   "version": "2.7.6"
  }
 },
 "nbformat": 4,
 "nbformat_minor": 0
}