{
 "cells": [
  {
   "cell_type": "markdown",
   "source": [
    "# Performance analysis"
   ],
   "metadata": {
    "collapsed": false,
    "pycharm": {
     "name": "#%% md\n"
    }
   }
  },
  {
   "cell_type": "markdown",
   "source": [
    "In this notebook all the results obtained will be reported, with particular reference to the best configuration for each model."
   ],
   "metadata": {
    "collapsed": false,
    "pycharm": {
     "name": "#%% md\n"
    }
   }
  },
  {
   "cell_type": "markdown",
   "source": [
    "## Imports"
   ],
   "metadata": {
    "collapsed": false,
    "pycharm": {
     "name": "#%% md\n"
    }
   }
  },
  {
   "cell_type": "code",
   "execution_count": 1,
   "outputs": [],
   "source": [
    "import os.path\n",
    "\n",
    "import pandas as pd\n",
    "\n",
    "from src.utils.const import MODEL_RESULTS_CSV, NETWORK_RESULT_CSV\n",
    "from src.utils.util_notebook import calculate_statistics_sklearn_train, summary_statistics_model, \\\n",
    "    calculate_statistics_sklearn, find_max_f1_cfg, calculate_statistics_mlp_train, find_best_conf, add_value_array\n",
    "from src.visualization.visualize import barplot_multiple_columns"
   ],
   "metadata": {
    "collapsed": false,
    "pycharm": {
     "name": "#%%\n"
    }
   }
  },
  {
   "cell_type": "markdown",
   "source": [
    "### Useful path to data"
   ],
   "metadata": {
    "collapsed": false,
    "pycharm": {
     "name": "#%% md\n"
    }
   }
  },
  {
   "cell_type": "code",
   "execution_count": 2,
   "outputs": [],
   "source": [
    "RESULTS_FOLDER = os.path.join('..', MODEL_RESULTS_CSV)\n",
    "MLP_RESULTS_FOLDER = os.path.join('..', NETWORK_RESULT_CSV)"
   ],
   "metadata": {
    "collapsed": false,
    "pycharm": {
     "name": "#%%\n"
    }
   }
  },
  {
   "cell_type": "markdown",
   "source": [
    "## Read output csv"
   ],
   "metadata": {
    "collapsed": false,
    "pycharm": {
     "name": "#%% md\n"
    }
   }
  },
  {
   "cell_type": "code",
   "execution_count": 3,
   "outputs": [],
   "source": [
    "mlp_all = pd.read_csv(os.path.join(MLP_RESULTS_FOLDER, 'out_mlp_all.csv'))\n",
    "\n",
    "svm_res = pd.read_csv(os.path.join(RESULTS_FOLDER, 'out_svm.csv'))\n",
    "naive_res = pd.read_csv(os.path.join(RESULTS_FOLDER, 'best_out_naive_bayes.csv'))\n",
    "tree_res = pd.read_csv(os.path.join(RESULTS_FOLDER, 'best_out_tree_based.csv'))\n",
    "\n",
    "svm_val = pd.read_csv(os.path.join(RESULTS_FOLDER, 'out_grid_svm.csv'))\n",
    "naive_val = pd.read_csv(os.path.join(RESULTS_FOLDER, 'out_grid_naive_bayes.csv'))\n",
    "tree_val = pd.read_csv(os.path.join(RESULTS_FOLDER, 'out_grid_tree_based.csv'))"
   ],
   "metadata": {
    "collapsed": false,
    "pycharm": {
     "name": "#%%\n"
    }
   }
  },
  {
   "cell_type": "markdown",
   "source": [
    "## Initialize output DataFrame"
   ],
   "metadata": {
    "collapsed": false,
    "pycharm": {
     "name": "#%% md\n"
    }
   }
  },
  {
   "cell_type": "code",
   "execution_count": 4,
   "outputs": [],
   "source": [
    "df_test_metric = pd.DataFrame()\n",
    "df_train_metric = pd.DataFrame()"
   ],
   "metadata": {
    "collapsed": false,
    "pycharm": {
     "name": "#%%\n"
    }
   }
  },
  {
   "cell_type": "markdown",
   "source": [
    "## Work with results"
   ],
   "metadata": {
    "collapsed": false,
    "pycharm": {
     "name": "#%% md\n"
    }
   }
  },
  {
   "cell_type": "markdown",
   "source": [
    "### Scikit-learn models"
   ],
   "metadata": {
    "collapsed": false,
    "pycharm": {
     "name": "#%% md\n"
    }
   }
  },
  {
   "cell_type": "markdown",
   "source": [
    "#### RandomForestClassifier"
   ],
   "metadata": {
    "collapsed": false,
    "pycharm": {
     "name": "#%% md\n"
    }
   }
  },
  {
   "cell_type": "code",
   "execution_count": 5,
   "outputs": [
    {
     "name": "stdout",
     "output_type": "stream",
     "text": [
      "Best configuration Random forest classifier mean metrics:\n",
      "train f1: 0.7894708757467401 ±0.0028370536720411406\n",
      "validation f1: 0.7813933618457191 ±0.0025529991410781342\n",
      "\n",
      "Best configuration Random forest classifier mean metrics:\n",
      "f1_score: 0.609756989767005 ±0.006529683898881055\n",
      "loss: 0.39225757744490736 ±0.00712946750658302\n",
      "acc: 0.6077424225550925 ±0.007129467506583035\n",
      "\n",
      "Best hyperparams configuration:\n",
      "[\"{'max_depth': 4, 'max_features': 'sqrt', 'n_estimators': 700}\"]\n"
     ]
    }
   ],
   "source": [
    "res_random_forest_train = calculate_statistics_sklearn_train(tree_val)\n",
    "df_train_metric = summary_statistics_model(df_train_metric, res_random_forest_train, 'Random forest classifier',\n",
    "                                           train=True)\n",
    "\n",
    "res_random_forest = calculate_statistics_sklearn(tree_res, 'random_forest_classifier')\n",
    "df_test_metric = summary_statistics_model(df_test_metric, res_random_forest, 'Random forest classifier')"
   ],
   "metadata": {
    "collapsed": false,
    "pycharm": {
     "name": "#%%\n"
    }
   }
  },
  {
   "cell_type": "markdown",
   "source": [
    "#### DecisionTreeClassifier"
   ],
   "metadata": {
    "collapsed": false,
    "pycharm": {
     "name": "#%% md\n"
    }
   }
  },
  {
   "cell_type": "code",
   "execution_count": 6,
   "outputs": [
    {
     "name": "stdout",
     "output_type": "stream",
     "text": [
      "Best configuration Decision tree classifier mean metrics:\n",
      "train f1: 0.9982448027541722 ±0.0001574523340800961\n",
      "validation f1: 0.8668832921611014 ±0.0011549731147417086\n",
      "\n",
      "Best configuration Decision tree classifier mean metrics:\n",
      "f1_score: 0.6402913493313054 ±0.004216781363865863\n",
      "loss: 0.36008162828469237 ±0.004052145718922026\n",
      "acc: 0.6399183717153076 ±0.004052145718922028\n",
      "\n",
      "Best hyperparams configuration:\n",
      "[\"{'criterion': 'entropy', 'max_depth': 15}\"]\n"
     ]
    }
   ],
   "source": [
    "res_decision_tree_train = calculate_statistics_sklearn_train(tree_val, first=False)\n",
    "df_train_metric = summary_statistics_model(df_train_metric, res_decision_tree_train, 'Decision tree classifier',\n",
    "                                           train=True)\n",
    "\n",
    "res_decision_tree = calculate_statistics_sklearn(tree_res, 'decision_tree_classifier')\n",
    "df_test_metric = summary_statistics_model(df_test_metric, res_decision_tree, 'Decision tree classifier')"
   ],
   "metadata": {
    "collapsed": false,
    "pycharm": {
     "name": "#%%\n"
    }
   }
  },
  {
   "cell_type": "markdown",
   "source": [
    "#### GaussianNB"
   ],
   "metadata": {
    "collapsed": false,
    "pycharm": {
     "name": "#%% md\n"
    }
   }
  },
  {
   "cell_type": "code",
   "execution_count": 7,
   "outputs": [
    {
     "name": "stdout",
     "output_type": "stream",
     "text": [
      "Best configuration GaussianNB mean metrics:\n",
      "train f1: 0.7216627770722026 ±0.00336266744134676\n",
      "validation f1: 0.7074634406645496 ±0.003231430093703336\n",
      "\n",
      "Best configuration GaussianNB mean metrics:\n",
      "f1_score: 0.4526802764969494 ±0.010686051270129714\n",
      "loss: 0.5481864029029817 ±0.010409238716856704\n",
      "acc: 0.4518135970970182 ±0.010409238716856686\n",
      "\n",
      "Best hyperparams configuration:\n",
      "[\"{'var_smoothing': 8.111308307896872e-07}\"]\n"
     ]
    }
   ],
   "source": [
    "res_gaussian_nb_train = calculate_statistics_sklearn_train(naive_val)\n",
    "df_train_metric = summary_statistics_model(df_train_metric, res_gaussian_nb_train, 'GaussianNB', train=True)\n",
    "\n",
    "res_gaussian_nb = calculate_statistics_sklearn(naive_res, 'gaussian_nb')\n",
    "df_test_metric = summary_statistics_model(df_test_metric, res_gaussian_nb, 'GaussianNB')"
   ],
   "metadata": {
    "collapsed": false,
    "pycharm": {
     "name": "#%%\n"
    }
   }
  },
  {
   "cell_type": "markdown",
   "source": [
    "#### QDA"
   ],
   "metadata": {
    "collapsed": false,
    "pycharm": {
     "name": "#%% md\n"
    }
   }
  },
  {
   "cell_type": "code",
   "execution_count": 8,
   "outputs": [
    {
     "name": "stdout",
     "output_type": "stream",
     "text": [
      "Best configuration QDA mean metrics:\n",
      "train f1: 0.9870351447504125 ±0.00035963628820091814\n",
      "validation f1: 0.8985859150139989 ±0.0007798478399543219\n",
      "\n",
      "Best configuration QDA mean metrics:\n",
      "f1_score: 0.5217235201683785 ±0.007963795942101407\n",
      "loss: 0.4649740608914607 ±0.00827922547607728\n",
      "acc: 0.5350259391085392 ±0.00827922547607726\n",
      "\n",
      "Best hyperparams configuration:\n",
      "[\"{'reg_param': 0.001, 'tol': 0.0001}\"]\n"
     ]
    }
   ],
   "source": [
    "res_qda_train = calculate_statistics_sklearn_train(naive_val, first=False)\n",
    "df_train_metric = summary_statistics_model(df_train_metric, res_qda_train, 'QDA', train=True)\n",
    "\n",
    "res_qda = calculate_statistics_sklearn(naive_res, 'qda')\n",
    "df_test_metric = summary_statistics_model(df_test_metric, res_qda, 'QDA')"
   ],
   "metadata": {
    "collapsed": false,
    "pycharm": {
     "name": "#%%\n"
    }
   }
  },
  {
   "cell_type": "markdown",
   "source": [
    "#### SVM"
   ],
   "metadata": {
    "collapsed": false,
    "pycharm": {
     "name": "#%% md\n"
    }
   }
  },
  {
   "cell_type": "code",
   "execution_count": 9,
   "outputs": [
    {
     "name": "stdout",
     "output_type": "stream",
     "text": [
      "Best configuration SVM mean metrics:\n",
      "train f1: 0.9999782608688632 ±1.1833105435719024e-05\n",
      "validation f1: 0.9613343635021987 ±0.000923195543662202\n",
      "\n",
      "Best configuration SVM mean metrics:\n",
      "f1_score: 0.8286206857647119 ±0.004227564469616818\n",
      "loss: 0.17076133850717423 ±0.004051273714411658\n",
      "acc: 0.8292386614928257 ±0.004051273714411657\n",
      "\n",
      "Best hyperparams configuration:\n",
      "[\"{'C': 100, 'gamma': 0.01, 'kernel': 'rbf'}\"]\n"
     ]
    }
   ],
   "source": [
    "res_svm_train = calculate_statistics_sklearn_train(svm_val)\n",
    "df_train_metric = summary_statistics_model(df_train_metric, res_svm_train, 'SVM', train=True)\n",
    "\n",
    "res_svm = calculate_statistics_sklearn(svm_res, 'svc')\n",
    "df_test_metric = summary_statistics_model(df_test_metric, res_svm, 'SVM')"
   ],
   "metadata": {
    "collapsed": false,
    "pycharm": {
     "name": "#%%\n"
    }
   }
  },
  {
   "cell_type": "markdown",
   "source": [
    "### MovieNet (MLP)"
   ],
   "metadata": {
    "collapsed": false,
    "pycharm": {
     "name": "#%% md\n"
    }
   }
  },
  {
   "cell_type": "code",
   "execution_count": 10,
   "outputs": [
    {
     "data": {
      "text/plain": "     Unnamed: 0  cfg  fold  loss_test   acc_test   f1_test  mean_loss  \\\n0             0    0     1   0.372040  85.285171  0.853134   0.306360   \n1             1    1     1   0.344320  85.171103  0.852068   0.302731   \n2             2    2     1   0.361184  85.285171  0.853100   0.304689   \n3             3    3     1   0.352550  85.817490  0.858861   0.306855   \n4             4    4     1   2.237197  10.798479  0.097864   0.673969   \n..          ...  ...   ...        ...        ...       ...        ...   \n955         955  187     5   0.481808  80.486877  0.805378   1.271628   \n956         956  188     5   2.295036  16.774439  0.102313   1.276690   \n957         957  189     5   2.289519  16.127805  0.101492   1.281689   \n958         958  190     5   2.261616  19.475086  0.166811   1.286323   \n959         959  191     5   2.267185  24.648155  0.194941   1.290910   \n\n     std_loss  mean_acc_val  std_acc_val  mean_acc_train  std_acc_train  \\\n0    0.017720     79.643519     0.993016       87.469802       0.759901   \n1    0.020831     79.783835     0.788934       87.632241       0.883383   \n2    0.018806     79.536465     0.954451       87.559346       0.787205   \n3    0.018824     79.500103     1.004205       87.455783       0.799693   \n4    0.734426     65.168832    28.681150       73.078158      28.773956   \n..        ...           ...          ...             ...            ...   \n955  0.869597     44.391021    33.047878       50.101529      33.251459   \n956  0.870067     44.191214    33.077768       49.910281      33.267216   \n957  0.870492     43.989620    33.109832       49.726107      33.276257   \n958  0.870557     43.820917    33.105664       49.545093      33.282774   \n959  0.870598     43.663094    33.094053       49.368514      33.285650   \n\n     mean_f1_train  std_f1_train  mean_f1_val  std_f1_val  \n0         0.873412      0.007689     0.797929    0.009758  \n1         0.875075      0.008986     0.799156    0.007691  \n2         0.874340      0.008016     0.796486    0.009295  \n3         0.873303      0.008139     0.795906    0.010032  \n4         0.713885      0.318954     0.647411    0.297186  \n..             ...           ...          ...         ...  \n955       0.466255      0.365353     0.429138    0.345926  \n956       0.464154      0.365526     0.427009    0.346253  \n957       0.462157      0.365599     0.424895    0.346572  \n958       0.460186      0.365651     0.423049    0.346610  \n959       0.458280      0.365650     0.421243    0.346637  \n\n[960 rows x 16 columns]",
      "text/html": "<div>\n<style scoped>\n    .dataframe tbody tr th:only-of-type {\n        vertical-align: middle;\n    }\n\n    .dataframe tbody tr th {\n        vertical-align: top;\n    }\n\n    .dataframe thead th {\n        text-align: right;\n    }\n</style>\n<table border=\"1\" class=\"dataframe\">\n  <thead>\n    <tr style=\"text-align: right;\">\n      <th></th>\n      <th>Unnamed: 0</th>\n      <th>cfg</th>\n      <th>fold</th>\n      <th>loss_test</th>\n      <th>acc_test</th>\n      <th>f1_test</th>\n      <th>mean_loss</th>\n      <th>std_loss</th>\n      <th>mean_acc_val</th>\n      <th>std_acc_val</th>\n      <th>mean_acc_train</th>\n      <th>std_acc_train</th>\n      <th>mean_f1_train</th>\n      <th>std_f1_train</th>\n      <th>mean_f1_val</th>\n      <th>std_f1_val</th>\n    </tr>\n  </thead>\n  <tbody>\n    <tr>\n      <th>0</th>\n      <td>0</td>\n      <td>0</td>\n      <td>1</td>\n      <td>0.372040</td>\n      <td>85.285171</td>\n      <td>0.853134</td>\n      <td>0.306360</td>\n      <td>0.017720</td>\n      <td>79.643519</td>\n      <td>0.993016</td>\n      <td>87.469802</td>\n      <td>0.759901</td>\n      <td>0.873412</td>\n      <td>0.007689</td>\n      <td>0.797929</td>\n      <td>0.009758</td>\n    </tr>\n    <tr>\n      <th>1</th>\n      <td>1</td>\n      <td>1</td>\n      <td>1</td>\n      <td>0.344320</td>\n      <td>85.171103</td>\n      <td>0.852068</td>\n      <td>0.302731</td>\n      <td>0.020831</td>\n      <td>79.783835</td>\n      <td>0.788934</td>\n      <td>87.632241</td>\n      <td>0.883383</td>\n      <td>0.875075</td>\n      <td>0.008986</td>\n      <td>0.799156</td>\n      <td>0.007691</td>\n    </tr>\n    <tr>\n      <th>2</th>\n      <td>2</td>\n      <td>2</td>\n      <td>1</td>\n      <td>0.361184</td>\n      <td>85.285171</td>\n      <td>0.853100</td>\n      <td>0.304689</td>\n      <td>0.018806</td>\n      <td>79.536465</td>\n      <td>0.954451</td>\n      <td>87.559346</td>\n      <td>0.787205</td>\n      <td>0.874340</td>\n      <td>0.008016</td>\n      <td>0.796486</td>\n      <td>0.009295</td>\n    </tr>\n    <tr>\n      <th>3</th>\n      <td>3</td>\n      <td>3</td>\n      <td>1</td>\n      <td>0.352550</td>\n      <td>85.817490</td>\n      <td>0.858861</td>\n      <td>0.306855</td>\n      <td>0.018824</td>\n      <td>79.500103</td>\n      <td>1.004205</td>\n      <td>87.455783</td>\n      <td>0.799693</td>\n      <td>0.873303</td>\n      <td>0.008139</td>\n      <td>0.795906</td>\n      <td>0.010032</td>\n    </tr>\n    <tr>\n      <th>4</th>\n      <td>4</td>\n      <td>4</td>\n      <td>1</td>\n      <td>2.237197</td>\n      <td>10.798479</td>\n      <td>0.097864</td>\n      <td>0.673969</td>\n      <td>0.734426</td>\n      <td>65.168832</td>\n      <td>28.681150</td>\n      <td>73.078158</td>\n      <td>28.773956</td>\n      <td>0.713885</td>\n      <td>0.318954</td>\n      <td>0.647411</td>\n      <td>0.297186</td>\n    </tr>\n    <tr>\n      <th>...</th>\n      <td>...</td>\n      <td>...</td>\n      <td>...</td>\n      <td>...</td>\n      <td>...</td>\n      <td>...</td>\n      <td>...</td>\n      <td>...</td>\n      <td>...</td>\n      <td>...</td>\n      <td>...</td>\n      <td>...</td>\n      <td>...</td>\n      <td>...</td>\n      <td>...</td>\n      <td>...</td>\n    </tr>\n    <tr>\n      <th>955</th>\n      <td>955</td>\n      <td>187</td>\n      <td>5</td>\n      <td>0.481808</td>\n      <td>80.486877</td>\n      <td>0.805378</td>\n      <td>1.271628</td>\n      <td>0.869597</td>\n      <td>44.391021</td>\n      <td>33.047878</td>\n      <td>50.101529</td>\n      <td>33.251459</td>\n      <td>0.466255</td>\n      <td>0.365353</td>\n      <td>0.429138</td>\n      <td>0.345926</td>\n    </tr>\n    <tr>\n      <th>956</th>\n      <td>956</td>\n      <td>188</td>\n      <td>5</td>\n      <td>2.295036</td>\n      <td>16.774439</td>\n      <td>0.102313</td>\n      <td>1.276690</td>\n      <td>0.870067</td>\n      <td>44.191214</td>\n      <td>33.077768</td>\n      <td>49.910281</td>\n      <td>33.267216</td>\n      <td>0.464154</td>\n      <td>0.365526</td>\n      <td>0.427009</td>\n      <td>0.346253</td>\n    </tr>\n    <tr>\n      <th>957</th>\n      <td>957</td>\n      <td>189</td>\n      <td>5</td>\n      <td>2.289519</td>\n      <td>16.127805</td>\n      <td>0.101492</td>\n      <td>1.281689</td>\n      <td>0.870492</td>\n      <td>43.989620</td>\n      <td>33.109832</td>\n      <td>49.726107</td>\n      <td>33.276257</td>\n      <td>0.462157</td>\n      <td>0.365599</td>\n      <td>0.424895</td>\n      <td>0.346572</td>\n    </tr>\n    <tr>\n      <th>958</th>\n      <td>958</td>\n      <td>190</td>\n      <td>5</td>\n      <td>2.261616</td>\n      <td>19.475086</td>\n      <td>0.166811</td>\n      <td>1.286323</td>\n      <td>0.870557</td>\n      <td>43.820917</td>\n      <td>33.105664</td>\n      <td>49.545093</td>\n      <td>33.282774</td>\n      <td>0.460186</td>\n      <td>0.365651</td>\n      <td>0.423049</td>\n      <td>0.346610</td>\n    </tr>\n    <tr>\n      <th>959</th>\n      <td>959</td>\n      <td>191</td>\n      <td>5</td>\n      <td>2.267185</td>\n      <td>24.648155</td>\n      <td>0.194941</td>\n      <td>1.290910</td>\n      <td>0.870598</td>\n      <td>43.663094</td>\n      <td>33.094053</td>\n      <td>49.368514</td>\n      <td>33.285650</td>\n      <td>0.458280</td>\n      <td>0.365650</td>\n      <td>0.421243</td>\n      <td>0.346637</td>\n    </tr>\n  </tbody>\n</table>\n<p>960 rows × 16 columns</p>\n</div>"
     },
     "execution_count": 10,
     "metadata": {},
     "output_type": "execute_result"
    }
   ],
   "source": [
    "mlp_all"
   ],
   "metadata": {
    "collapsed": false,
    "pycharm": {
     "name": "#%%\n"
    }
   }
  },
  {
   "cell_type": "code",
   "execution_count": 11,
   "outputs": [
    {
     "name": "stdout",
     "output_type": "stream",
     "text": [
      "Indices of the best configurations: [0. 1. 2. 3.]\n"
     ]
    }
   ],
   "source": [
    "best_cfg = find_max_f1_cfg(mlp_all)\n",
    "print(f'Indices of the best configurations: {best_cfg}')"
   ],
   "metadata": {
    "collapsed": false,
    "pycharm": {
     "name": "#%%\n"
    }
   }
  },
  {
   "cell_type": "code",
   "execution_count": 12,
   "outputs": [
    {
     "name": "stdout",
     "output_type": "stream",
     "text": [
      "Best configuration MLP mean metrics:\n",
      "train f1: 0.8755459737044162 ±0.0019265183510115194\n",
      "validation f1: 0.7959136321829858 ±0.0008824929662534333\n",
      "\n",
      "Best configuration MLP mean metrics:\n",
      "f1_score: 0.857635556404085 ±0.005182032674694023\n",
      "loss: 0.36285945633844296 ±0.011406530906296307\n",
      "acc: 0.8574580107516775 ±0.005109295770940805\n",
      "\n",
      "Best hyperparams configuration:\n",
      "input_act: LeakyReLU(negative_slope=0.01)\n",
      "hidden_act: LeakyReLU(negative_slope=0.01)\n",
      "hidden_size: 512\n",
      "num_hidden_layers: 3\n",
      "dropout: 0.2\n",
      "batch_norm: False\n",
      "output_fn: None\n",
      "num_epochs: 200\n",
      "starting_lr: 0.001\n",
      "batch_size: 128\n",
      "optim: <class 'torch.optim.adam.Adam'>\n",
      "momentum: 0.6\n",
      "weight_decay: 1e-05\n"
     ]
    }
   ],
   "source": [
    "res_mlp_train = calculate_statistics_mlp_train(3, mlp_all)\n",
    "df_train_metric = summary_statistics_model(df_train_metric, res_mlp_train, 'MLP', train=True)\n",
    "\n",
    "res_mlp = find_best_conf(best_cfg, mlp_all)\n",
    "df_test_metric = summary_statistics_model(df_test_metric, res_mlp, \"MLP\")"
   ],
   "metadata": {
    "collapsed": false,
    "pycharm": {
     "name": "#%%\n"
    }
   }
  },
  {
   "cell_type": "markdown",
   "source": [
    "### Result visualization"
   ],
   "metadata": {
    "collapsed": false,
    "pycharm": {
     "name": "#%% md\n"
    }
   }
  },
  {
   "cell_type": "markdown",
   "source": [
    "#### Train & Validation"
   ],
   "metadata": {
    "collapsed": false,
    "pycharm": {
     "name": "#%% md\n"
    }
   }
  },
  {
   "cell_type": "code",
   "execution_count": 13,
   "outputs": [],
   "source": [
    "metrics = []\n",
    "y_errs = []\n",
    "add_value_array(metrics, df_train_metric, 'metrics', 3)\n",
    "add_value_array(y_errs, df_train_metric, 'interval', 3)"
   ],
   "metadata": {
    "collapsed": false,
    "pycharm": {
     "name": "#%%\n"
    }
   }
  },
  {
   "cell_type": "code",
   "execution_count": 14,
   "outputs": [
    {
     "data": {
      "text/plain": "<Figure size 1152x720 with 1 Axes>",
      "image/png": "[encoded data removed]"
     },
     "metadata": {},
     "output_type": "display_data"
    }
   ],
   "source": [
    "barplot_multiple_columns(groups=['Training', 'Validation'],\n",
    "                         elements_group=df_train_metric['model'].unique(),\n",
    "                         data=metrics,\n",
    "                         yerr=y_errs,\n",
    "                         title='Train/val metrics',\n",
    "                         upper_title=False)"
   ],
   "metadata": {
    "collapsed": false,
    "pycharm": {
     "name": "#%%\n"
    }
   }
  },
  {
   "cell_type": "markdown",
   "source": [
    "#### Test"
   ],
   "metadata": {
    "collapsed": false,
    "pycharm": {
     "name": "#%% md\n"
    }
   }
  },
  {
   "cell_type": "markdown",
   "source": [
    "Since the accuracy values are similar to f1-score values, it isn't useful show this metric in the plot."
   ],
   "metadata": {
    "collapsed": false,
    "pycharm": {
     "name": "#%% md\n"
    }
   }
  },
  {
   "cell_type": "code",
   "execution_count": 15,
   "outputs": [],
   "source": [
    "df_test_metric.drop(columns=['acc_mu', 'acc_ci'], inplace=True)"
   ],
   "metadata": {
    "collapsed": false,
    "pycharm": {
     "name": "#%%\n"
    }
   }
  },
  {
   "cell_type": "code",
   "execution_count": 16,
   "outputs": [],
   "source": [
    "metrics = []\n",
    "y_errs = []\n",
    "add_value_array(metrics, df_test_metric, 'metrics', 3)\n",
    "add_value_array(y_errs, df_test_metric, 'interval', 3)"
   ],
   "metadata": {
    "collapsed": false,
    "pycharm": {
     "name": "#%%\n"
    }
   }
  },
  {
   "cell_type": "code",
   "execution_count": 17,
   "outputs": [
    {
     "data": {
      "text/plain": "<Figure size 1152x720 with 1 Axes>",
      "image/png": "[encoded data removed]"
     },
     "metadata": {},
     "output_type": "display_data"
    }
   ],
   "source": [
    "barplot_multiple_columns(groups=['F1 score ', 'Loss (lower is better)'],\n",
    "                         elements_group=df_test_metric['model'].unique(),\n",
    "                         data=metrics,\n",
    "                         yerr=y_errs,\n",
    "                         title='Test metrics',\n",
    "                         upper_title=False)"
   ],
   "metadata": {
    "collapsed": false,
    "pycharm": {
     "name": "#%%\n"
    }
   }
  }
 ],
 "metadata": {
  "kernelspec": {
   "display_name": "Python 3.10.4 ('analytics')",
   "language": "python",
   "name": "python3"
  },
  "language_info": {
   "codemirror_mode": {
    "name": "ipython",
    "version": 3
   },
   "file_extension": ".py",
   "mimetype": "text/x-python",
   "name": "python",
   "nbconvert_exporter": "python",
   "pygments_lexer": "ipython3",
   "version": "3.10.4"
  },
  "vscode": {
   "interpreter": {
    "hash": "47cc0a8402cc523f6ba566443af0567aa44ce511868ca4db7d50606c33fb677f"
   }
  }
 },
 "nbformat": 4,
 "nbformat_minor": 0
}