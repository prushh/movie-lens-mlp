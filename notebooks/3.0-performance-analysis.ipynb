{
 "cells": [
  {
   "cell_type": "markdown",
   "source": [
    "# Performance analysis"
   ],
   "metadata": {
    "collapsed": false,
    "pycharm": {
     "name": "#%% md\n"
    }
   }
  },
  {
   "cell_type": "markdown",
   "source": [
    "In this notebook all the results obtained will be reported, with particular reference to the best configuration for each model."
   ],
   "metadata": {
    "collapsed": false,
    "pycharm": {
     "name": "#%% md\n"
    }
   }
  },
  {
   "cell_type": "markdown",
   "source": [
    "## Imports"
   ],
   "metadata": {
    "collapsed": false,
    "pycharm": {
     "name": "#%% md\n"
    }
   }
  },
  {
   "cell_type": "code",
   "execution_count": 41,
   "outputs": [],
   "source": [
    "import os.path\n",
    "\n",
    "import pandas as pd\n",
    "\n",
    "from src.utils.const import MODEL_RESULTS_CSV, NETWORK_RESULT_CSV\n",
    "from src.utils.util_notebook import (summary_statistics_model, calculate_statistics_sklearn, find_max_f1_cfg,\n",
    "                                     calculate_statistics_mlp_train, find_best_conf, add_value_array)\n",
    "from src.visualization.visualize import barplot_multiple_columns"
   ],
   "metadata": {
    "collapsed": false,
    "pycharm": {
     "name": "#%%\n"
    }
   }
  },
  {
   "cell_type": "markdown",
   "source": [
    "### Useful path to data"
   ],
   "metadata": {
    "collapsed": false,
    "pycharm": {
     "name": "#%% md\n"
    }
   }
  },
  {
   "cell_type": "code",
   "execution_count": 42,
   "outputs": [],
   "source": [
    "RESULTS_FOLDER = os.path.join('..', MODEL_RESULTS_CSV)\n",
    "MLP_RESULTS_FOLDER = os.path.join('..', NETWORK_RESULT_CSV)"
   ],
   "metadata": {
    "collapsed": false,
    "pycharm": {
     "name": "#%%\n"
    }
   }
  },
  {
   "cell_type": "markdown",
   "source": [
    "## Read output csv"
   ],
   "metadata": {
    "collapsed": false,
    "pycharm": {
     "name": "#%% md\n"
    }
   }
  },
  {
   "cell_type": "code",
   "execution_count": 43,
   "outputs": [],
   "source": [
    "mlp_all = pd.read_csv(os.path.join(MLP_RESULTS_FOLDER, 'out_mlp_all.csv'))\n",
    "\n",
    "svm_res = pd.read_csv(os.path.join(RESULTS_FOLDER, 'best_out_svm.csv'))\n",
    "naive_res = pd.read_csv(os.path.join(RESULTS_FOLDER, 'best_out_naive_bayes.csv'))\n",
    "tree_res = pd.read_csv(os.path.join(RESULTS_FOLDER, 'best_out_tree_based.csv'))\n",
    "\n",
    "svm_val = pd.read_csv(os.path.join(RESULTS_FOLDER, 'out_grid_svm.csv'))\n",
    "naive_val = pd.read_csv(os.path.join(RESULTS_FOLDER, 'out_grid_naive_bayes.csv'))\n",
    "tree_val = pd.read_csv(os.path.join(RESULTS_FOLDER, 'out_grid_tree_based.csv'))"
   ],
   "metadata": {
    "collapsed": false,
    "pycharm": {
     "name": "#%%\n"
    }
   }
  },
  {
   "cell_type": "markdown",
   "source": [
    "## Initialize output DataFrame"
   ],
   "metadata": {
    "collapsed": false,
    "pycharm": {
     "name": "#%% md\n"
    }
   }
  },
  {
   "cell_type": "code",
   "execution_count": 44,
   "outputs": [],
   "source": [
    "df_test_metric = pd.DataFrame()\n",
    "df_train_metric = pd.DataFrame()"
   ],
   "metadata": {
    "collapsed": false,
    "pycharm": {
     "name": "#%%\n"
    }
   }
  },
  {
   "cell_type": "markdown",
   "source": [
    "## Work with results"
   ],
   "metadata": {
    "collapsed": false,
    "pycharm": {
     "name": "#%% md\n"
    }
   }
  },
  {
   "cell_type": "markdown",
   "source": [
    "### Scikit-learn models"
   ],
   "metadata": {
    "collapsed": false,
    "pycharm": {
     "name": "#%% md\n"
    }
   }
  },
  {
   "cell_type": "markdown",
   "source": [
    "#### RandomForestClassifier"
   ],
   "metadata": {
    "collapsed": false,
    "pycharm": {
     "name": "#%% md\n"
    }
   }
  },
  {
   "cell_type": "code",
   "execution_count": 45,
   "outputs": [
    {
     "name": "stdout",
     "output_type": "stream",
     "text": [
      "Best configuration Random forest classifier mean metrics:\n",
      "train f1: 0.962764480256733 ±0.0014806329107555883\n",
      "validation f1: 0.7536210374072028 ±0.0017806481858836031\n",
      "\n",
      "Best configuration Random forest classifier mean metrics:\n",
      "f1_score: 0.7581677986121885 ±0.004976038357881232\n",
      "loss: 0.2413485154615021 ±0.005052478690934511\n",
      "acc: 0.758651484538498 ±0.005052478690934483\n",
      "\n",
      "Best hyperparams configuration:\n",
      "[\"{'model__max_depth': 10, 'model__max_features': 'sqrt', 'model__n_estimators': 700}\"]\n"
     ]
    }
   ],
   "source": [
    "model_samples = tree_val[tree_val['model'] == 'random_forest_classifier']\n",
    "cfg_random_forest_train = find_max_f1_cfg(model_samples, scikit=True)\n",
    "dict_random_forest_train = find_best_conf(cfg_random_forest_train, model_samples, scikit=True)\n",
    "\n",
    "df_train_metric = summary_statistics_model(df_train_metric, dict_random_forest_train, 'Random forest classifier',\n",
    "                                           train=True, scikit=True)\n",
    "\n",
    "res_random_forest = calculate_statistics_sklearn(tree_res, 'random_forest_classifier')\n",
    "df_test_metric = summary_statistics_model(df_test_metric, res_random_forest, 'Random forest classifier')"
   ],
   "metadata": {
    "collapsed": false,
    "pycharm": {
     "name": "#%%\n"
    }
   }
  },
  {
   "cell_type": "markdown",
   "source": [
    "#### DecisionTreeClassifier"
   ],
   "metadata": {
    "collapsed": false,
    "pycharm": {
     "name": "#%% md\n"
    }
   }
  },
  {
   "cell_type": "code",
   "execution_count": 46,
   "outputs": [
    {
     "name": "stdout",
     "output_type": "stream",
     "text": [
      "Best configuration Decision tree classifier mean metrics:\n",
      "train f1: 0.7962856543421747 ±0.0063482908135318655\n",
      "validation f1: 0.664387756599635 ±0.0016535531223144722\n",
      "\n",
      "Best configuration Decision tree classifier mean metrics:\n",
      "f1_score: 0.6692881756512793 ±0.006830406648158318\n",
      "loss: 0.3316353570225056 ±0.006547056860119308\n",
      "acc: 0.6683646429774944 ±0.006547056860119308\n",
      "\n",
      "Best hyperparams configuration:\n",
      "[\"{'model__criterion': 'gini', 'model__max_depth': 10}\"]\n"
     ]
    }
   ],
   "source": [
    "model_samples = tree_val[tree_val['model'] == 'decision_tree_classifier'].reset_index()\n",
    "cfg_decision_tree_train = find_max_f1_cfg(model_samples, scikit=True)\n",
    "dict_decision_tree_train = find_best_conf(cfg_decision_tree_train, model_samples, scikit=True)\n",
    "\n",
    "df_train_metric = summary_statistics_model(df_train_metric, dict_decision_tree_train, 'Decision tree classifier',\n",
    "                                           train=True, scikit=True)\n",
    "\n",
    "res_decision_tree = calculate_statistics_sklearn(tree_res, 'decision_tree_classifier')\n",
    "df_test_metric = summary_statistics_model(df_test_metric, res_decision_tree, 'Decision tree classifier')"
   ],
   "metadata": {
    "collapsed": false,
    "pycharm": {
     "name": "#%%\n"
    }
   }
  },
  {
   "cell_type": "markdown",
   "source": [
    "#### GaussianNB"
   ],
   "metadata": {
    "collapsed": false,
    "pycharm": {
     "name": "#%% md\n"
    }
   }
  },
  {
   "cell_type": "code",
   "execution_count": 47,
   "outputs": [
    {
     "name": "stdout",
     "output_type": "stream",
     "text": [
      "Best configuration GaussianNB mean metrics:\n",
      "train f1: 0.5112353510329939 ±0.0024729441989068935\n",
      "validation f1: 0.45375936744229006 ±0.002407018531210031\n",
      "\n",
      "Best configuration GaussianNB mean metrics:\n",
      "f1_score: 0.4507531837150223 ±0.013700268878737097\n",
      "loss: 0.5496313276745051 ±0.01314559404282683\n",
      "acc: 0.45036867232549493 ±0.013145594042826838\n",
      "\n",
      "Best hyperparams configuration:\n",
      "[\"{'model__var_smoothing': 1.873817422860383e-06}\"]\n"
     ]
    }
   ],
   "source": [
    "model_samples = naive_val[naive_val['model'] == 'gaussian_nb'].reset_index()\n",
    "cfg_gaussian_train = find_max_f1_cfg(model_samples, scikit=True)\n",
    "dict_gaussian_train = find_best_conf(cfg_gaussian_train, model_samples, scikit=True)\n",
    "\n",
    "df_train_metric = summary_statistics_model(df_train_metric, dict_gaussian_train, 'GaussianNB',\n",
    "                                           train=True, scikit=True)\n",
    "\n",
    "res_gaussian_nb = calculate_statistics_sklearn(naive_res, 'gaussian_nb')\n",
    "df_test_metric = summary_statistics_model(df_test_metric, res_gaussian_nb, 'GaussianNB')"
   ],
   "metadata": {
    "collapsed": false,
    "pycharm": {
     "name": "#%%\n"
    }
   }
  },
  {
   "cell_type": "markdown",
   "source": [
    "#### SVM"
   ],
   "metadata": {
    "collapsed": false,
    "pycharm": {
     "name": "#%% md\n"
    }
   }
  },
  {
   "cell_type": "code",
   "execution_count": 48,
   "outputs": [
    {
     "name": "stdout",
     "output_type": "stream",
     "text": [
      "Best configuration SVM mean metrics:\n",
      "train f1: 0.9769132079345578 ±0.0009694186186474346\n",
      "validation f1: 0.8287437828389359 ±0.0016284238655505819\n",
      "\n",
      "Best configuration SVM mean metrics:\n",
      "f1_score: 0.8280352920981382 ±0.00386151531691321\n",
      "loss: 0.17137002170872698 ±0.0038298149122526137\n",
      "acc: 0.8286299782912729 ±0.003829814912252616\n",
      "\n",
      "Best hyperparams configuration:\n",
      "[\"{'model__C': 100, 'model__gamma': 0.01, 'model__kernel': 'rbf'}\"]\n"
     ]
    }
   ],
   "source": [
    "model_samples = svm_val[svm_val['model'] == 'svc'].reset_index()\n",
    "cfg_svm_train = find_max_f1_cfg(model_samples, scikit=True)\n",
    "dict_svm_train = find_best_conf(cfg_svm_train, model_samples, scikit=True)\n",
    "\n",
    "df_train_metric = summary_statistics_model(df_train_metric, dict_svm_train, 'SVM',\n",
    "                                           train=True, scikit=True)\n",
    "\n",
    "res_svm = calculate_statistics_sklearn(svm_res, 'svc')\n",
    "df_test_metric = summary_statistics_model(df_test_metric, res_svm, 'SVM')"
   ],
   "metadata": {
    "collapsed": false,
    "pycharm": {
     "name": "#%%\n"
    }
   }
  },
  {
   "cell_type": "markdown",
   "source": [
    "### MovieNet (MLP)"
   ],
   "metadata": {
    "collapsed": false,
    "pycharm": {
     "name": "#%% md\n"
    }
   }
  },
  {
   "cell_type": "code",
   "execution_count": 49,
   "outputs": [
    {
     "name": "stdout",
     "output_type": "stream",
     "text": [
      "Indices of the best configurations: [0. 1. 2. 3.]\n"
     ]
    }
   ],
   "source": [
    "best_cfg = find_max_f1_cfg(mlp_all)\n",
    "print(f'Indices of the best configurations: {best_cfg}')"
   ],
   "metadata": {
    "collapsed": false,
    "pycharm": {
     "name": "#%%\n"
    }
   }
  },
  {
   "cell_type": "code",
   "execution_count": 50,
   "outputs": [
    {
     "name": "stdout",
     "output_type": "stream",
     "text": [
      "Best configuration MLP mean metrics:\n",
      "train f1: 0.8755459737044162 ±0.0019265183510115194\n",
      "validation f1: 0.7959136321829858 ±0.0008824929662534333\n",
      "\n",
      "Best configuration MLP mean metrics:\n",
      "f1_score: 0.857635556404085 ±0.005182032674694023\n",
      "loss: 0.36285945633844296 ±0.011406530906296307\n",
      "acc: 0.8574580107516775 ±0.005109295770940805\n",
      "\n",
      "Best hyperparams configuration:\n",
      "input_act: LeakyReLU(negative_slope=0.01)\n",
      "hidden_act: LeakyReLU(negative_slope=0.01)\n",
      "hidden_size: 512\n",
      "num_hidden_layers: 3\n",
      "dropout: 0.2\n",
      "batch_norm: False\n",
      "output_fn: None\n",
      "num_epochs: 200\n",
      "starting_lr: 0.001\n",
      "batch_size: 128\n",
      "optim: <class 'torch.optim.adam.Adam'>\n",
      "momentum: 0.6\n",
      "weight_decay: 1e-05\n"
     ]
    }
   ],
   "source": [
    "res_mlp_train = calculate_statistics_mlp_train(3, mlp_all)\n",
    "df_train_metric = summary_statistics_model(df_train_metric, res_mlp_train, 'MLP', train=True)\n",
    "\n",
    "res_mlp = find_best_conf(best_cfg, mlp_all)\n",
    "df_test_metric = summary_statistics_model(df_test_metric, res_mlp, \"MLP\")"
   ],
   "metadata": {
    "collapsed": false,
    "pycharm": {
     "name": "#%%\n"
    }
   }
  },
  {
   "cell_type": "markdown",
   "source": [
    "### Result visualization"
   ],
   "metadata": {
    "collapsed": false,
    "pycharm": {
     "name": "#%% md\n"
    }
   }
  },
  {
   "cell_type": "markdown",
   "source": [
    "#### Train & Validation"
   ],
   "metadata": {
    "collapsed": false,
    "pycharm": {
     "name": "#%% md\n"
    }
   }
  },
  {
   "cell_type": "code",
   "execution_count": 51,
   "outputs": [],
   "source": [
    "metrics = []\n",
    "y_errs = []\n",
    "add_value_array(metrics, df_train_metric, 'metrics', 3)\n",
    "add_value_array(y_errs, df_train_metric, 'interval', 3)"
   ],
   "metadata": {
    "collapsed": false,
    "pycharm": {
     "name": "#%%\n"
    }
   }
  },
  {
   "cell_type": "code",
   "execution_count": 52,
   "outputs": [
    {
     "data": {
      "text/plain": "<Figure size 1152x720 with 1 Axes>",
      "image/png": "[encoded data removed]"
     },
     "metadata": {},
     "output_type": "display_data"
    }
   ],
   "source": [
    "barplot_multiple_columns(groups=['Training', 'Validation'],\n",
    "                         elements_group=df_train_metric['model'].unique(),\n",
    "                         data=metrics,\n",
    "                         yerr=y_errs,\n",
    "                         title='Train/val metrics',\n",
    "                         upper_title=False)"
   ],
   "metadata": {
    "collapsed": false,
    "pycharm": {
     "name": "#%%\n"
    }
   }
  },
  {
   "cell_type": "markdown",
   "source": [
    "#### Test"
   ],
   "metadata": {
    "collapsed": false,
    "pycharm": {
     "name": "#%% md\n"
    }
   }
  },
  {
   "cell_type": "markdown",
   "source": [
    "Since the accuracy values are similar to f1-score values, it isn't useful show this metric in the plot."
   ],
   "metadata": {
    "collapsed": false,
    "pycharm": {
     "name": "#%% md\n"
    }
   }
  },
  {
   "cell_type": "code",
   "execution_count": 53,
   "outputs": [],
   "source": [
    "df_test_metric.drop(columns=['acc_mu', 'acc_ci'], inplace=True)"
   ],
   "metadata": {
    "collapsed": false,
    "pycharm": {
     "name": "#%%\n"
    }
   }
  },
  {
   "cell_type": "code",
   "execution_count": 54,
   "outputs": [],
   "source": [
    "metrics = []\n",
    "y_errs = []\n",
    "add_value_array(metrics, df_test_metric, 'metrics', 3)\n",
    "add_value_array(y_errs, df_test_metric, 'interval', 3)"
   ],
   "metadata": {
    "collapsed": false,
    "pycharm": {
     "name": "#%%\n"
    }
   }
  },
  {
   "cell_type": "code",
   "execution_count": 55,
   "outputs": [
    {
     "data": {
      "text/plain": "<Figure size 1152x720 with 1 Axes>",
      "image/png": "[encoded data removed]"
     },
     "metadata": {},
     "output_type": "display_data"
    }
   ],
   "source": [
    "barplot_multiple_columns(groups=['F1 score ', 'Loss (lower is better)'],\n",
    "                         elements_group=df_test_metric['model'].unique(),\n",
    "                         data=metrics,\n",
    "                         yerr=y_errs,\n",
    "                         title='Test metrics',\n",
    "                         upper_title=False)"
   ],
   "metadata": {
    "collapsed": false,
    "pycharm": {
     "name": "#%%\n"
    }
   }
  },
  {
   "cell_type": "code",
   "execution_count": 56,
   "outputs": [
    {
     "data": {
      "text/plain": "     mean_train_score  mean_test_score  \\\n0            1.000000         0.148072   \n1            1.000000         0.816568   \n2            0.000604         0.000739   \n3            0.993110         0.749463   \n4            1.000000         0.817094   \n..                ...              ...   \n130          1.000000         0.813933   \n131          0.002366         0.001673   \n132          1.000000         0.817986   \n133          0.993567         0.816309   \n134          0.824051         0.709458   \n\n                                                params  fold  \n0    {'model__C': 1, 'model__gamma': 1, 'model__ker...     1  \n1    {'model__C': 1, 'model__gamma': 1, 'model__ker...     1  \n2    {'model__C': 1, 'model__gamma': 1, 'model__ker...     1  \n3    {'model__C': 1, 'model__gamma': 0.1, 'model__k...     1  \n4    {'model__C': 1, 'model__gamma': 0.1, 'model__k...     1  \n..                                                 ...   ...  \n130  {'model__C': 100, 'model__gamma': 0.1, 'model_...     5  \n131  {'model__C': 100, 'model__gamma': 0.1, 'model_...     5  \n132  {'model__C': 100, 'model__gamma': 0.01, 'model...     5  \n133  {'model__C': 100, 'model__gamma': 0.01, 'model...     5  \n134  {'model__C': 100, 'model__gamma': 0.01, 'model...     5  \n\n[135 rows x 4 columns]",
      "text/html": "<div>\n<style scoped>\n    .dataframe tbody tr th:only-of-type {\n        vertical-align: middle;\n    }\n\n    .dataframe tbody tr th {\n        vertical-align: top;\n    }\n\n    .dataframe thead th {\n        text-align: right;\n    }\n</style>\n<table border=\"1\" class=\"dataframe\">\n  <thead>\n    <tr style=\"text-align: right;\">\n      <th></th>\n      <th>mean_train_score</th>\n      <th>mean_test_score</th>\n      <th>params</th>\n      <th>fold</th>\n    </tr>\n  </thead>\n  <tbody>\n    <tr>\n      <th>0</th>\n      <td>1.000000</td>\n      <td>0.148072</td>\n      <td>{'model__C': 1, 'model__gamma': 1, 'model__ker...</td>\n      <td>1</td>\n    </tr>\n    <tr>\n      <th>1</th>\n      <td>1.000000</td>\n      <td>0.816568</td>\n      <td>{'model__C': 1, 'model__gamma': 1, 'model__ker...</td>\n      <td>1</td>\n    </tr>\n    <tr>\n      <th>2</th>\n      <td>0.000604</td>\n      <td>0.000739</td>\n      <td>{'model__C': 1, 'model__gamma': 1, 'model__ker...</td>\n      <td>1</td>\n    </tr>\n    <tr>\n      <th>3</th>\n      <td>0.993110</td>\n      <td>0.749463</td>\n      <td>{'model__C': 1, 'model__gamma': 0.1, 'model__k...</td>\n      <td>1</td>\n    </tr>\n    <tr>\n      <th>4</th>\n      <td>1.000000</td>\n      <td>0.817094</td>\n      <td>{'model__C': 1, 'model__gamma': 0.1, 'model__k...</td>\n      <td>1</td>\n    </tr>\n    <tr>\n      <th>...</th>\n      <td>...</td>\n      <td>...</td>\n      <td>...</td>\n      <td>...</td>\n    </tr>\n    <tr>\n      <th>130</th>\n      <td>1.000000</td>\n      <td>0.813933</td>\n      <td>{'model__C': 100, 'model__gamma': 0.1, 'model_...</td>\n      <td>5</td>\n    </tr>\n    <tr>\n      <th>131</th>\n      <td>0.002366</td>\n      <td>0.001673</td>\n      <td>{'model__C': 100, 'model__gamma': 0.1, 'model_...</td>\n      <td>5</td>\n    </tr>\n    <tr>\n      <th>132</th>\n      <td>1.000000</td>\n      <td>0.817986</td>\n      <td>{'model__C': 100, 'model__gamma': 0.01, 'model...</td>\n      <td>5</td>\n    </tr>\n    <tr>\n      <th>133</th>\n      <td>0.993567</td>\n      <td>0.816309</td>\n      <td>{'model__C': 100, 'model__gamma': 0.01, 'model...</td>\n      <td>5</td>\n    </tr>\n    <tr>\n      <th>134</th>\n      <td>0.824051</td>\n      <td>0.709458</td>\n      <td>{'model__C': 100, 'model__gamma': 0.01, 'model...</td>\n      <td>5</td>\n    </tr>\n  </tbody>\n</table>\n<p>135 rows × 4 columns</p>\n</div>"
     },
     "execution_count": 56,
     "metadata": {},
     "output_type": "execute_result"
    }
   ],
   "source": [
    "svm_val[['mean_train_score', 'mean_test_score', 'params', 'fold']]"
   ],
   "metadata": {
    "collapsed": false,
    "pycharm": {
     "name": "#%%\n"
    }
   }
  },
  {
   "cell_type": "code",
   "execution_count": 57,
   "outputs": [
    {
     "data": {
      "text/plain": "     Unnamed: 0  mean_fit_time  std_fit_time  mean_score_time  std_score_time  \\\n0             0      12.331153      1.121770         1.253826        0.172479   \n1             1      12.664096      1.099654         1.616183        0.215050   \n2             2      12.658410      1.082191         1.375814        0.269919   \n3             3      14.472297      1.214514         1.272273        0.096724   \n4             4      14.547390      1.698433         1.370976        0.244746   \n..          ...            ...           ...              ...             ...   \n595          15     136.653247      4.698907        11.281817        0.771087   \n596          16     135.401775      1.529628        10.982852        0.712494   \n597          17     139.888782      5.665210        10.249603        0.905098   \n598          18     141.043225      2.570429         8.898295        0.366030   \n599          19      72.685464     32.836029         3.967472        1.864379   \n\n     param_model__var_smoothing  \\\n0                      1.000000   \n1                      0.811131   \n2                      0.657933   \n3                      0.533670   \n4                      0.432876   \n..                          ...   \n595                         NaN   \n596                         NaN   \n597                         NaN   \n598                         NaN   \n599                         NaN   \n\n                                              params  split0_test_score  \\\n0                      {'model__var_smoothing': 1.0}           0.094190   \n1       {'model__var_smoothing': 0.8111308307896871}           0.098948   \n2        {'model__var_smoothing': 0.657933224657568}           0.111317   \n3        {'model__var_smoothing': 0.533669923120631}           0.128565   \n4      {'model__var_smoothing': 0.43287612810830584}           0.136901   \n..                                               ...                ...   \n595    {'model__reg_param': 0.01, 'model__tol': 0.1}           0.381736   \n596  {'model__reg_param': 0.1, 'model__tol': 0.0001}           0.217613   \n597   {'model__reg_param': 0.1, 'model__tol': 0.001}           0.221317   \n598    {'model__reg_param': 0.1, 'model__tol': 0.01}           0.219690   \n599     {'model__reg_param': 0.1, 'model__tol': 0.1}           0.218829   \n\n     split1_test_score  split2_test_score  ...  split1_train_score  \\\n0             0.087993           0.083631  ...            0.093299   \n1             0.094692           0.088642  ...            0.103610   \n2             0.097890           0.090294  ...            0.106807   \n3             0.115447           0.109859  ...            0.126021   \n4             0.128857           0.121676  ...            0.137397   \n..                 ...                ...  ...                 ...   \n595           0.395142           0.388919  ...            0.765781   \n596           0.224489           0.204404  ...            0.351748   \n597           0.227343           0.201963  ...            0.353188   \n598           0.224947           0.209571  ...            0.356969   \n599           0.235945           0.213716  ...            0.361360   \n\n     split2_train_score  split3_train_score  split4_train_score  \\\n0              0.088097            0.094037            0.092116   \n1              0.094822            0.100118            0.099157   \n2              0.102122            0.114759            0.106542   \n3              0.112334            0.124040            0.117280   \n4              0.130120            0.139626            0.136125   \n..                  ...                 ...                 ...   \n595            0.767952            0.758325            0.769353   \n596            0.340684            0.349169            0.357367   \n597            0.339630            0.348513            0.355771   \n598            0.344755            0.344655            0.356076   \n599            0.342857            0.349057            0.357132   \n\n     mean_train_score  std_train_score  fold        model  \\\n0            0.093044         0.003092     1  gaussian_nb   \n1            0.099576         0.002818     1  gaussian_nb   \n2            0.108179         0.004259     1  gaussian_nb   \n3            0.121621         0.005945     1  gaussian_nb   \n4            0.136179         0.003231     1  gaussian_nb   \n..                ...              ...   ...          ...   \n595          0.765500         0.003815     5          qda   \n596          0.349466         0.005405     5          qda   \n597          0.349484         0.005514     5          qda   \n598          0.350439         0.005304     5          qda   \n599          0.352712         0.006403     5          qda   \n\n     param_model__reg_param  param_model__tol  \n0                       NaN               NaN  \n1                       NaN               NaN  \n2                       NaN               NaN  \n3                       NaN               NaN  \n4                       NaN               NaN  \n..                      ...               ...  \n595                    0.01            0.1000  \n596                    0.10            0.0001  \n597                    0.10            0.0010  \n598                    0.10            0.0100  \n599                    0.10            0.1000  \n\n[600 rows x 26 columns]",
      "text/html": "<div>\n<style scoped>\n    .dataframe tbody tr th:only-of-type {\n        vertical-align: middle;\n    }\n\n    .dataframe tbody tr th {\n        vertical-align: top;\n    }\n\n    .dataframe thead th {\n        text-align: right;\n    }\n</style>\n<table border=\"1\" class=\"dataframe\">\n  <thead>\n    <tr style=\"text-align: right;\">\n      <th></th>\n      <th>Unnamed: 0</th>\n      <th>mean_fit_time</th>\n      <th>std_fit_time</th>\n      <th>mean_score_time</th>\n      <th>std_score_time</th>\n      <th>param_model__var_smoothing</th>\n      <th>params</th>\n      <th>split0_test_score</th>\n      <th>split1_test_score</th>\n      <th>split2_test_score</th>\n      <th>...</th>\n      <th>split1_train_score</th>\n      <th>split2_train_score</th>\n      <th>split3_train_score</th>\n      <th>split4_train_score</th>\n      <th>mean_train_score</th>\n      <th>std_train_score</th>\n      <th>fold</th>\n      <th>model</th>\n      <th>param_model__reg_param</th>\n      <th>param_model__tol</th>\n    </tr>\n  </thead>\n  <tbody>\n    <tr>\n      <th>0</th>\n      <td>0</td>\n      <td>12.331153</td>\n      <td>1.121770</td>\n      <td>1.253826</td>\n      <td>0.172479</td>\n      <td>1.000000</td>\n      <td>{'model__var_smoothing': 1.0}</td>\n      <td>0.094190</td>\n      <td>0.087993</td>\n      <td>0.083631</td>\n      <td>...</td>\n      <td>0.093299</td>\n      <td>0.088097</td>\n      <td>0.094037</td>\n      <td>0.092116</td>\n      <td>0.093044</td>\n      <td>0.003092</td>\n      <td>1</td>\n      <td>gaussian_nb</td>\n      <td>NaN</td>\n      <td>NaN</td>\n    </tr>\n    <tr>\n      <th>1</th>\n      <td>1</td>\n      <td>12.664096</td>\n      <td>1.099654</td>\n      <td>1.616183</td>\n      <td>0.215050</td>\n      <td>0.811131</td>\n      <td>{'model__var_smoothing': 0.8111308307896871}</td>\n      <td>0.098948</td>\n      <td>0.094692</td>\n      <td>0.088642</td>\n      <td>...</td>\n      <td>0.103610</td>\n      <td>0.094822</td>\n      <td>0.100118</td>\n      <td>0.099157</td>\n      <td>0.099576</td>\n      <td>0.002818</td>\n      <td>1</td>\n      <td>gaussian_nb</td>\n      <td>NaN</td>\n      <td>NaN</td>\n    </tr>\n    <tr>\n      <th>2</th>\n      <td>2</td>\n      <td>12.658410</td>\n      <td>1.082191</td>\n      <td>1.375814</td>\n      <td>0.269919</td>\n      <td>0.657933</td>\n      <td>{'model__var_smoothing': 0.657933224657568}</td>\n      <td>0.111317</td>\n      <td>0.097890</td>\n      <td>0.090294</td>\n      <td>...</td>\n      <td>0.106807</td>\n      <td>0.102122</td>\n      <td>0.114759</td>\n      <td>0.106542</td>\n      <td>0.108179</td>\n      <td>0.004259</td>\n      <td>1</td>\n      <td>gaussian_nb</td>\n      <td>NaN</td>\n      <td>NaN</td>\n    </tr>\n    <tr>\n      <th>3</th>\n      <td>3</td>\n      <td>14.472297</td>\n      <td>1.214514</td>\n      <td>1.272273</td>\n      <td>0.096724</td>\n      <td>0.533670</td>\n      <td>{'model__var_smoothing': 0.533669923120631}</td>\n      <td>0.128565</td>\n      <td>0.115447</td>\n      <td>0.109859</td>\n      <td>...</td>\n      <td>0.126021</td>\n      <td>0.112334</td>\n      <td>0.124040</td>\n      <td>0.117280</td>\n      <td>0.121621</td>\n      <td>0.005945</td>\n      <td>1</td>\n      <td>gaussian_nb</td>\n      <td>NaN</td>\n      <td>NaN</td>\n    </tr>\n    <tr>\n      <th>4</th>\n      <td>4</td>\n      <td>14.547390</td>\n      <td>1.698433</td>\n      <td>1.370976</td>\n      <td>0.244746</td>\n      <td>0.432876</td>\n      <td>{'model__var_smoothing': 0.43287612810830584}</td>\n      <td>0.136901</td>\n      <td>0.128857</td>\n      <td>0.121676</td>\n      <td>...</td>\n      <td>0.137397</td>\n      <td>0.130120</td>\n      <td>0.139626</td>\n      <td>0.136125</td>\n      <td>0.136179</td>\n      <td>0.003231</td>\n      <td>1</td>\n      <td>gaussian_nb</td>\n      <td>NaN</td>\n      <td>NaN</td>\n    </tr>\n    <tr>\n      <th>...</th>\n      <td>...</td>\n      <td>...</td>\n      <td>...</td>\n      <td>...</td>\n      <td>...</td>\n      <td>...</td>\n      <td>...</td>\n      <td>...</td>\n      <td>...</td>\n      <td>...</td>\n      <td>...</td>\n      <td>...</td>\n      <td>...</td>\n      <td>...</td>\n      <td>...</td>\n      <td>...</td>\n      <td>...</td>\n      <td>...</td>\n      <td>...</td>\n      <td>...</td>\n      <td>...</td>\n    </tr>\n    <tr>\n      <th>595</th>\n      <td>15</td>\n      <td>136.653247</td>\n      <td>4.698907</td>\n      <td>11.281817</td>\n      <td>0.771087</td>\n      <td>NaN</td>\n      <td>{'model__reg_param': 0.01, 'model__tol': 0.1}</td>\n      <td>0.381736</td>\n      <td>0.395142</td>\n      <td>0.388919</td>\n      <td>...</td>\n      <td>0.765781</td>\n      <td>0.767952</td>\n      <td>0.758325</td>\n      <td>0.769353</td>\n      <td>0.765500</td>\n      <td>0.003815</td>\n      <td>5</td>\n      <td>qda</td>\n      <td>0.01</td>\n      <td>0.1000</td>\n    </tr>\n    <tr>\n      <th>596</th>\n      <td>16</td>\n      <td>135.401775</td>\n      <td>1.529628</td>\n      <td>10.982852</td>\n      <td>0.712494</td>\n      <td>NaN</td>\n      <td>{'model__reg_param': 0.1, 'model__tol': 0.0001}</td>\n      <td>0.217613</td>\n      <td>0.224489</td>\n      <td>0.204404</td>\n      <td>...</td>\n      <td>0.351748</td>\n      <td>0.340684</td>\n      <td>0.349169</td>\n      <td>0.357367</td>\n      <td>0.349466</td>\n      <td>0.005405</td>\n      <td>5</td>\n      <td>qda</td>\n      <td>0.10</td>\n      <td>0.0001</td>\n    </tr>\n    <tr>\n      <th>597</th>\n      <td>17</td>\n      <td>139.888782</td>\n      <td>5.665210</td>\n      <td>10.249603</td>\n      <td>0.905098</td>\n      <td>NaN</td>\n      <td>{'model__reg_param': 0.1, 'model__tol': 0.001}</td>\n      <td>0.221317</td>\n      <td>0.227343</td>\n      <td>0.201963</td>\n      <td>...</td>\n      <td>0.353188</td>\n      <td>0.339630</td>\n      <td>0.348513</td>\n      <td>0.355771</td>\n      <td>0.349484</td>\n      <td>0.005514</td>\n      <td>5</td>\n      <td>qda</td>\n      <td>0.10</td>\n      <td>0.0010</td>\n    </tr>\n    <tr>\n      <th>598</th>\n      <td>18</td>\n      <td>141.043225</td>\n      <td>2.570429</td>\n      <td>8.898295</td>\n      <td>0.366030</td>\n      <td>NaN</td>\n      <td>{'model__reg_param': 0.1, 'model__tol': 0.01}</td>\n      <td>0.219690</td>\n      <td>0.224947</td>\n      <td>0.209571</td>\n      <td>...</td>\n      <td>0.356969</td>\n      <td>0.344755</td>\n      <td>0.344655</td>\n      <td>0.356076</td>\n      <td>0.350439</td>\n      <td>0.005304</td>\n      <td>5</td>\n      <td>qda</td>\n      <td>0.10</td>\n      <td>0.0100</td>\n    </tr>\n    <tr>\n      <th>599</th>\n      <td>19</td>\n      <td>72.685464</td>\n      <td>32.836029</td>\n      <td>3.967472</td>\n      <td>1.864379</td>\n      <td>NaN</td>\n      <td>{'model__reg_param': 0.1, 'model__tol': 0.1}</td>\n      <td>0.218829</td>\n      <td>0.235945</td>\n      <td>0.213716</td>\n      <td>...</td>\n      <td>0.361360</td>\n      <td>0.342857</td>\n      <td>0.349057</td>\n      <td>0.357132</td>\n      <td>0.352712</td>\n      <td>0.006403</td>\n      <td>5</td>\n      <td>qda</td>\n      <td>0.10</td>\n      <td>0.1000</td>\n    </tr>\n  </tbody>\n</table>\n<p>600 rows × 26 columns</p>\n</div>"
     },
     "execution_count": 57,
     "metadata": {},
     "output_type": "execute_result"
    }
   ],
   "source": [
    "naive_val"
   ],
   "metadata": {
    "collapsed": false,
    "pycharm": {
     "name": "#%%\n"
    }
   }
  },
  {
   "cell_type": "code",
   "execution_count": 58,
   "outputs": [
    {
     "data": {
      "text/plain": "                      model  train_score  val_score  train_ci    val_ci\n0  Random forest classifier     0.962764   0.753621  0.001481  0.001781\n1  Decision tree classifier     0.796286   0.664388  0.006348  0.001654\n2                GaussianNB     0.511235   0.453759  0.002473  0.002407\n3                       SVM     0.976913   0.828744  0.000969  0.001628\n4                       MLP     0.875546   0.795914  0.001927  0.000882",
      "text/html": "<div>\n<style scoped>\n    .dataframe tbody tr th:only-of-type {\n        vertical-align: middle;\n    }\n\n    .dataframe tbody tr th {\n        vertical-align: top;\n    }\n\n    .dataframe thead th {\n        text-align: right;\n    }\n</style>\n<table border=\"1\" class=\"dataframe\">\n  <thead>\n    <tr style=\"text-align: right;\">\n      <th></th>\n      <th>model</th>\n      <th>train_score</th>\n      <th>val_score</th>\n      <th>train_ci</th>\n      <th>val_ci</th>\n    </tr>\n  </thead>\n  <tbody>\n    <tr>\n      <th>0</th>\n      <td>Random forest classifier</td>\n      <td>0.962764</td>\n      <td>0.753621</td>\n      <td>0.001481</td>\n      <td>0.001781</td>\n    </tr>\n    <tr>\n      <th>1</th>\n      <td>Decision tree classifier</td>\n      <td>0.796286</td>\n      <td>0.664388</td>\n      <td>0.006348</td>\n      <td>0.001654</td>\n    </tr>\n    <tr>\n      <th>2</th>\n      <td>GaussianNB</td>\n      <td>0.511235</td>\n      <td>0.453759</td>\n      <td>0.002473</td>\n      <td>0.002407</td>\n    </tr>\n    <tr>\n      <th>3</th>\n      <td>SVM</td>\n      <td>0.976913</td>\n      <td>0.828744</td>\n      <td>0.000969</td>\n      <td>0.001628</td>\n    </tr>\n    <tr>\n      <th>4</th>\n      <td>MLP</td>\n      <td>0.875546</td>\n      <td>0.795914</td>\n      <td>0.001927</td>\n      <td>0.000882</td>\n    </tr>\n  </tbody>\n</table>\n</div>"
     },
     "execution_count": 58,
     "metadata": {},
     "output_type": "execute_result"
    }
   ],
   "source": [
    "df_train_metric"
   ],
   "metadata": {
    "collapsed": false,
    "pycharm": {
     "name": "#%%\n"
    }
   }
  },
  {
   "cell_type": "code",
   "execution_count": 59,
   "outputs": [
    {
     "data": {
      "text/plain": "                      model     f1_mu   loss_mu     f1_ci   loss_ci\n0  Random forest classifier  0.758168  0.241349  0.004976  0.005052\n1  Decision tree classifier  0.669288  0.331635  0.006830  0.006547\n2                GaussianNB  0.450753  0.549631  0.013700  0.013146\n3                       SVM  0.828035  0.171370  0.003862  0.003830\n4                       MLP  0.857636  0.362859  0.005182  0.011407",
      "text/html": "<div>\n<style scoped>\n    .dataframe tbody tr th:only-of-type {\n        vertical-align: middle;\n    }\n\n    .dataframe tbody tr th {\n        vertical-align: top;\n    }\n\n    .dataframe thead th {\n        text-align: right;\n    }\n</style>\n<table border=\"1\" class=\"dataframe\">\n  <thead>\n    <tr style=\"text-align: right;\">\n      <th></th>\n      <th>model</th>\n      <th>f1_mu</th>\n      <th>loss_mu</th>\n      <th>f1_ci</th>\n      <th>loss_ci</th>\n    </tr>\n  </thead>\n  <tbody>\n    <tr>\n      <th>0</th>\n      <td>Random forest classifier</td>\n      <td>0.758168</td>\n      <td>0.241349</td>\n      <td>0.004976</td>\n      <td>0.005052</td>\n    </tr>\n    <tr>\n      <th>1</th>\n      <td>Decision tree classifier</td>\n      <td>0.669288</td>\n      <td>0.331635</td>\n      <td>0.006830</td>\n      <td>0.006547</td>\n    </tr>\n    <tr>\n      <th>2</th>\n      <td>GaussianNB</td>\n      <td>0.450753</td>\n      <td>0.549631</td>\n      <td>0.013700</td>\n      <td>0.013146</td>\n    </tr>\n    <tr>\n      <th>3</th>\n      <td>SVM</td>\n      <td>0.828035</td>\n      <td>0.171370</td>\n      <td>0.003862</td>\n      <td>0.003830</td>\n    </tr>\n    <tr>\n      <th>4</th>\n      <td>MLP</td>\n      <td>0.857636</td>\n      <td>0.362859</td>\n      <td>0.005182</td>\n      <td>0.011407</td>\n    </tr>\n  </tbody>\n</table>\n</div>"
     },
     "execution_count": 59,
     "metadata": {},
     "output_type": "execute_result"
    }
   ],
   "source": [
    "df_test_metric"
   ],
   "metadata": {
    "collapsed": false,
    "pycharm": {
     "name": "#%%\n"
    }
   }
  },
  {
   "cell_type": "code",
   "execution_count": 18,
   "outputs": [
    {
     "data": {
      "text/plain": "     Unnamed: 0  mean_fit_time  std_fit_time  mean_score_time  std_score_time  \\\n0             0      22.866802      1.700084         1.504663        0.166476   \n1             1      24.259131      2.073108         1.525495        0.083802   \n2             2      19.209079      4.414410         1.444932        0.128058   \n3             3      15.251406      0.326039         1.536298        0.145697   \n4             4      16.498645      0.742761         1.689407        0.176715   \n..          ...            ...           ...              ...             ...   \n595          15     106.949659      2.845431         7.879046        0.320346   \n596          16     103.994687      3.559797         8.094422        0.732105   \n597          17     107.485633      1.352551         7.391317        0.302079   \n598          18     104.854066      2.583855         7.652043        0.783735   \n599          19      51.011268     23.214467         3.085071        1.890271   \n\n     param_model__var_smoothing  \\\n0                      1.000000   \n1                      0.811131   \n2                      0.657933   \n3                      0.533670   \n4                      0.432876   \n..                          ...   \n595                         NaN   \n596                         NaN   \n597                         NaN   \n598                         NaN   \n599                         NaN   \n\n                                              params  split0_test_score  \\\n0                      {'model__var_smoothing': 1.0}           0.096832   \n1       {'model__var_smoothing': 0.8111308307896871}           0.103535   \n2        {'model__var_smoothing': 0.657933224657568}           0.112784   \n3        {'model__var_smoothing': 0.533669923120631}           0.119091   \n4      {'model__var_smoothing': 0.43287612810830584}           0.135357   \n..                                               ...                ...   \n595    {'model__reg_param': 0.01, 'model__tol': 0.1}           0.359039   \n596  {'model__reg_param': 0.1, 'model__tol': 0.0001}           0.197867   \n597   {'model__reg_param': 0.1, 'model__tol': 0.001}           0.202573   \n598    {'model__reg_param': 0.1, 'model__tol': 0.01}           0.201886   \n599     {'model__reg_param': 0.1, 'model__tol': 0.1}           0.200202   \n\n     split1_test_score  split2_test_score  ...  split1_train_score  \\\n0             0.087092           0.089134  ...            0.094904   \n1             0.097483           0.088497  ...            0.109394   \n2             0.105471           0.094088  ...            0.111886   \n3             0.112379           0.102830  ...            0.119803   \n4             0.130329           0.124118  ...            0.135104   \n..                 ...                ...  ...                 ...   \n595           0.380513           0.373667  ...            0.754779   \n596           0.199623           0.180170  ...            0.328597   \n597           0.202154           0.187153  ...            0.330790   \n598           0.197883           0.185849  ...            0.320354   \n599           0.202922           0.185528  ...            0.330962   \n\n     split2_train_score  split3_train_score  split4_train_score  \\\n0              0.092279            0.090699            0.090469   \n1              0.098575            0.096606            0.095771   \n2              0.105847            0.112748            0.106754   \n3              0.112605            0.125047            0.118466   \n4              0.131036            0.135471            0.133042   \n..                  ...                 ...                 ...   \n595            0.754982            0.752055            0.759749   \n596            0.310607            0.316110            0.325863   \n597            0.318429            0.326605            0.334279   \n598            0.319463            0.323400            0.335870   \n599            0.311935            0.316970            0.327749   \n\n     mean_train_score  std_train_score  fold        model  \\\n0            0.093544         0.003315     1  gaussian_nb   \n1            0.100212         0.004898     1  gaussian_nb   \n2            0.109894         0.002961     1  gaussian_nb   \n3            0.118700         0.003999     1  gaussian_nb   \n4            0.133537         0.001609     1  gaussian_nb   \n..                ...              ...   ...          ...   \n595          0.755563         0.002500     5          qda   \n596          0.320899         0.006612     5          qda   \n597          0.328080         0.005404     5          qda   \n598          0.325286         0.005967     5          qda   \n599          0.323146         0.007359     5          qda   \n\n     param_model__reg_param  param_model__tol  \n0                       NaN               NaN  \n1                       NaN               NaN  \n2                       NaN               NaN  \n3                       NaN               NaN  \n4                       NaN               NaN  \n..                      ...               ...  \n595                    0.01            0.1000  \n596                    0.10            0.0001  \n597                    0.10            0.0010  \n598                    0.10            0.0100  \n599                    0.10            0.1000  \n\n[600 rows x 26 columns]",
      "text/html": "<div>\n<style scoped>\n    .dataframe tbody tr th:only-of-type {\n        vertical-align: middle;\n    }\n\n    .dataframe tbody tr th {\n        vertical-align: top;\n    }\n\n    .dataframe thead th {\n        text-align: right;\n    }\n</style>\n<table border=\"1\" class=\"dataframe\">\n  <thead>\n    <tr style=\"text-align: right;\">\n      <th></th>\n      <th>Unnamed: 0</th>\n      <th>mean_fit_time</th>\n      <th>std_fit_time</th>\n      <th>mean_score_time</th>\n      <th>std_score_time</th>\n      <th>param_model__var_smoothing</th>\n      <th>params</th>\n      <th>split0_test_score</th>\n      <th>split1_test_score</th>\n      <th>split2_test_score</th>\n      <th>...</th>\n      <th>split1_train_score</th>\n      <th>split2_train_score</th>\n      <th>split3_train_score</th>\n      <th>split4_train_score</th>\n      <th>mean_train_score</th>\n      <th>std_train_score</th>\n      <th>fold</th>\n      <th>model</th>\n      <th>param_model__reg_param</th>\n      <th>param_model__tol</th>\n    </tr>\n  </thead>\n  <tbody>\n    <tr>\n      <th>0</th>\n      <td>0</td>\n      <td>22.866802</td>\n      <td>1.700084</td>\n      <td>1.504663</td>\n      <td>0.166476</td>\n      <td>1.000000</td>\n      <td>{'model__var_smoothing': 1.0}</td>\n      <td>0.096832</td>\n      <td>0.087092</td>\n      <td>0.089134</td>\n      <td>...</td>\n      <td>0.094904</td>\n      <td>0.092279</td>\n      <td>0.090699</td>\n      <td>0.090469</td>\n      <td>0.093544</td>\n      <td>0.003315</td>\n      <td>1</td>\n      <td>gaussian_nb</td>\n      <td>NaN</td>\n      <td>NaN</td>\n    </tr>\n    <tr>\n      <th>1</th>\n      <td>1</td>\n      <td>24.259131</td>\n      <td>2.073108</td>\n      <td>1.525495</td>\n      <td>0.083802</td>\n      <td>0.811131</td>\n      <td>{'model__var_smoothing': 0.8111308307896871}</td>\n      <td>0.103535</td>\n      <td>0.097483</td>\n      <td>0.088497</td>\n      <td>...</td>\n      <td>0.109394</td>\n      <td>0.098575</td>\n      <td>0.096606</td>\n      <td>0.095771</td>\n      <td>0.100212</td>\n      <td>0.004898</td>\n      <td>1</td>\n      <td>gaussian_nb</td>\n      <td>NaN</td>\n      <td>NaN</td>\n    </tr>\n    <tr>\n      <th>2</th>\n      <td>2</td>\n      <td>19.209079</td>\n      <td>4.414410</td>\n      <td>1.444932</td>\n      <td>0.128058</td>\n      <td>0.657933</td>\n      <td>{'model__var_smoothing': 0.657933224657568}</td>\n      <td>0.112784</td>\n      <td>0.105471</td>\n      <td>0.094088</td>\n      <td>...</td>\n      <td>0.111886</td>\n      <td>0.105847</td>\n      <td>0.112748</td>\n      <td>0.106754</td>\n      <td>0.109894</td>\n      <td>0.002961</td>\n      <td>1</td>\n      <td>gaussian_nb</td>\n      <td>NaN</td>\n      <td>NaN</td>\n    </tr>\n    <tr>\n      <th>3</th>\n      <td>3</td>\n      <td>15.251406</td>\n      <td>0.326039</td>\n      <td>1.536298</td>\n      <td>0.145697</td>\n      <td>0.533670</td>\n      <td>{'model__var_smoothing': 0.533669923120631}</td>\n      <td>0.119091</td>\n      <td>0.112379</td>\n      <td>0.102830</td>\n      <td>...</td>\n      <td>0.119803</td>\n      <td>0.112605</td>\n      <td>0.125047</td>\n      <td>0.118466</td>\n      <td>0.118700</td>\n      <td>0.003999</td>\n      <td>1</td>\n      <td>gaussian_nb</td>\n      <td>NaN</td>\n      <td>NaN</td>\n    </tr>\n    <tr>\n      <th>4</th>\n      <td>4</td>\n      <td>16.498645</td>\n      <td>0.742761</td>\n      <td>1.689407</td>\n      <td>0.176715</td>\n      <td>0.432876</td>\n      <td>{'model__var_smoothing': 0.43287612810830584}</td>\n      <td>0.135357</td>\n      <td>0.130329</td>\n      <td>0.124118</td>\n      <td>...</td>\n      <td>0.135104</td>\n      <td>0.131036</td>\n      <td>0.135471</td>\n      <td>0.133042</td>\n      <td>0.133537</td>\n      <td>0.001609</td>\n      <td>1</td>\n      <td>gaussian_nb</td>\n      <td>NaN</td>\n      <td>NaN</td>\n    </tr>\n    <tr>\n      <th>...</th>\n      <td>...</td>\n      <td>...</td>\n      <td>...</td>\n      <td>...</td>\n      <td>...</td>\n      <td>...</td>\n      <td>...</td>\n      <td>...</td>\n      <td>...</td>\n      <td>...</td>\n      <td>...</td>\n      <td>...</td>\n      <td>...</td>\n      <td>...</td>\n      <td>...</td>\n      <td>...</td>\n      <td>...</td>\n      <td>...</td>\n      <td>...</td>\n      <td>...</td>\n      <td>...</td>\n    </tr>\n    <tr>\n      <th>595</th>\n      <td>15</td>\n      <td>106.949659</td>\n      <td>2.845431</td>\n      <td>7.879046</td>\n      <td>0.320346</td>\n      <td>NaN</td>\n      <td>{'model__reg_param': 0.01, 'model__tol': 0.1}</td>\n      <td>0.359039</td>\n      <td>0.380513</td>\n      <td>0.373667</td>\n      <td>...</td>\n      <td>0.754779</td>\n      <td>0.754982</td>\n      <td>0.752055</td>\n      <td>0.759749</td>\n      <td>0.755563</td>\n      <td>0.002500</td>\n      <td>5</td>\n      <td>qda</td>\n      <td>0.01</td>\n      <td>0.1000</td>\n    </tr>\n    <tr>\n      <th>596</th>\n      <td>16</td>\n      <td>103.994687</td>\n      <td>3.559797</td>\n      <td>8.094422</td>\n      <td>0.732105</td>\n      <td>NaN</td>\n      <td>{'model__reg_param': 0.1, 'model__tol': 0.0001}</td>\n      <td>0.197867</td>\n      <td>0.199623</td>\n      <td>0.180170</td>\n      <td>...</td>\n      <td>0.328597</td>\n      <td>0.310607</td>\n      <td>0.316110</td>\n      <td>0.325863</td>\n      <td>0.320899</td>\n      <td>0.006612</td>\n      <td>5</td>\n      <td>qda</td>\n      <td>0.10</td>\n      <td>0.0001</td>\n    </tr>\n    <tr>\n      <th>597</th>\n      <td>17</td>\n      <td>107.485633</td>\n      <td>1.352551</td>\n      <td>7.391317</td>\n      <td>0.302079</td>\n      <td>NaN</td>\n      <td>{'model__reg_param': 0.1, 'model__tol': 0.001}</td>\n      <td>0.202573</td>\n      <td>0.202154</td>\n      <td>0.187153</td>\n      <td>...</td>\n      <td>0.330790</td>\n      <td>0.318429</td>\n      <td>0.326605</td>\n      <td>0.334279</td>\n      <td>0.328080</td>\n      <td>0.005404</td>\n      <td>5</td>\n      <td>qda</td>\n      <td>0.10</td>\n      <td>0.0010</td>\n    </tr>\n    <tr>\n      <th>598</th>\n      <td>18</td>\n      <td>104.854066</td>\n      <td>2.583855</td>\n      <td>7.652043</td>\n      <td>0.783735</td>\n      <td>NaN</td>\n      <td>{'model__reg_param': 0.1, 'model__tol': 0.01}</td>\n      <td>0.201886</td>\n      <td>0.197883</td>\n      <td>0.185849</td>\n      <td>...</td>\n      <td>0.320354</td>\n      <td>0.319463</td>\n      <td>0.323400</td>\n      <td>0.335870</td>\n      <td>0.325286</td>\n      <td>0.005967</td>\n      <td>5</td>\n      <td>qda</td>\n      <td>0.10</td>\n      <td>0.0100</td>\n    </tr>\n    <tr>\n      <th>599</th>\n      <td>19</td>\n      <td>51.011268</td>\n      <td>23.214467</td>\n      <td>3.085071</td>\n      <td>1.890271</td>\n      <td>NaN</td>\n      <td>{'model__reg_param': 0.1, 'model__tol': 0.1}</td>\n      <td>0.200202</td>\n      <td>0.202922</td>\n      <td>0.185528</td>\n      <td>...</td>\n      <td>0.330962</td>\n      <td>0.311935</td>\n      <td>0.316970</td>\n      <td>0.327749</td>\n      <td>0.323146</td>\n      <td>0.007359</td>\n      <td>5</td>\n      <td>qda</td>\n      <td>0.10</td>\n      <td>0.1000</td>\n    </tr>\n  </tbody>\n</table>\n<p>600 rows × 26 columns</p>\n</div>"
     },
     "execution_count": 18,
     "metadata": {},
     "output_type": "execute_result"
    }
   ],
   "source": [
    "naive_val"
   ],
   "metadata": {
    "collapsed": false,
    "pycharm": {
     "name": "#%%\n"
    }
   }
  }
 ],
 "metadata": {
  "kernelspec": {
   "display_name": "Python 3.10.4 ('analytics')",
   "language": "python",
   "name": "python3"
  },
  "language_info": {
   "codemirror_mode": {
    "name": "ipython",
    "version": 3
   },
   "file_extension": ".py",
   "mimetype": "text/x-python",
   "name": "python",
   "nbconvert_exporter": "python",
   "pygments_lexer": "ipython3",
   "version": "3.10.4"
  },
  "vscode": {
   "interpreter": {
    "hash": "47cc0a8402cc523f6ba566443af0567aa44ce511868ca4db7d50606c33fb677f"
   }
  }
 },
 "nbformat": 4,
 "nbformat_minor": 0
}