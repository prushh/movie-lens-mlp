{
 "cells": [
  {
   "cell_type": "markdown",
   "source": [
    "# Read results datasets"
   ],
   "metadata": {
    "collapsed": false,
    "pycharm": {
     "name": "#%% md\n"
    }
   }
  },
  {
   "cell_type": "markdown",
   "source": [
    "In this notebook all the results obtained will be reported, with particular reference to the best configuration for each model."
   ],
   "metadata": {
    "collapsed": false,
    "pycharm": {
     "name": "#%% md\n"
    }
   }
  },
  {
   "cell_type": "markdown",
   "source": [
    "## Imports"
   ],
   "metadata": {
    "collapsed": false,
    "pycharm": {
     "name": "#%% md\n"
    }
   }
  },
  {
   "cell_type": "code",
   "execution_count": 84,
   "outputs": [],
   "source": [
    "import itertools\n",
    "import os.path\n",
    "from typing import List, Dict\n",
    "\n",
    "import pandas as pd\n",
    "\n",
    "from src.models.config import param_layers, param_grid_mlp, param_layers_batch, param_grid_mlp_batch\n",
    "from src.utils.const import MODEL_RESULTS_CSV, NETWORK_RESULT_CSV\n",
    "from typing import Tuple\n",
    "from src.visualization.visualize import barplot_multiple_columns\n",
    "import numpy as np"
   ],
   "metadata": {
    "collapsed": false,
    "pycharm": {
     "name": "#%%\n"
    }
   }
  },
  {
   "cell_type": "markdown",
   "source": [
    "### Useful path to data"
   ],
   "metadata": {
    "collapsed": false,
    "pycharm": {
     "name": "#%% md\n"
    }
   }
  },
  {
   "cell_type": "code",
   "execution_count": 85,
   "outputs": [],
   "source": [
    "RESULTS_FOLDER = os.path.join('..', MODEL_RESULTS_CSV)\n",
    "MLP_RESULTS_FOLDER = os.path.join('..', NETWORK_RESULT_CSV)"
   ],
   "metadata": {
    "collapsed": false,
    "pycharm": {
     "name": "#%%\n"
    }
   }
  },
  {
   "cell_type": "markdown",
   "source": [
    "## Read output csv"
   ],
   "metadata": {
    "collapsed": false,
    "pycharm": {
     "name": "#%% md\n"
    }
   }
  },
  {
   "cell_type": "code",
   "execution_count": 86,
   "outputs": [],
   "source": [
    "mlp_all = pd.read_csv(os.path.join(MLP_RESULTS_FOLDER, 'out_mlp_all.csv'))\n",
    "mlp_batch = pd.read_csv(os.path.join(MLP_RESULTS_FOLDER, 'out_bad_config_batch.csv'))\n",
    "\n",
    "svm_res = pd.read_csv(os.path.join(RESULTS_FOLDER, 'out_svm.csv'))\n",
    "naive_res = pd.read_csv(os.path.join(RESULTS_FOLDER, 'best_out_naive_bayes.csv'))\n",
    "tree_res = pd.read_csv(os.path.join(RESULTS_FOLDER, 'best_out_tree_based.csv'))\n",
    "\n",
    "svm_val = pd.read_csv(os.path.join(RESULTS_FOLDER, 'out_grid_svm.csv'))\n",
    "naive_val = pd.read_csv(os.path.join(RESULTS_FOLDER, 'out_grid_naive_bayes.csv'))\n",
    "tree_val = pd.read_csv(os.path.join(RESULTS_FOLDER, 'out_grid_tree_based.csv'))\n"
   ],
   "metadata": {
    "collapsed": false,
    "pycharm": {
     "name": "#%%\n"
    }
   }
  },
  {
   "cell_type": "markdown",
   "source": [
    "## Find best configuration of MLP"
   ],
   "metadata": {
    "collapsed": false,
    "pycharm": {
     "name": "#%% md\n"
    }
   }
  },
  {
   "cell_type": "markdown",
   "source": [
    "### Utility function to explore results DataFrame"
   ],
   "metadata": {
    "collapsed": false,
    "pycharm": {
     "name": "#%% md\n"
    }
   }
  },
  {
   "cell_type": "markdown",
   "source": [
    "We need to find configuration with the best f1-score for each fold."
   ],
   "metadata": {
    "collapsed": false,
    "pycharm": {
     "name": "#%% md\n"
    }
   }
  },
  {
   "cell_type": "code",
   "execution_count": 87,
   "outputs": [],
   "source": [
    "def find_max_f1_cfg(df: pd.DataFrame) -> List:\n",
    "    cfg = []\n",
    "    for fold in df['fold'].unique():\n",
    "        idx = df[df['fold'] == fold]['f1_test'].idxmax()\n",
    "        cfg.append(df.iloc[idx]['cfg'])\n",
    "    cfgs = np.unique(np.array(cfg))\n",
    "    return cfgs"
   ],
   "metadata": {
    "collapsed": false,
    "pycharm": {
     "name": "#%%\n"
    }
   }
  },
  {
   "cell_type": "code",
   "execution_count": 88,
   "outputs": [
    {
     "name": "stdout",
     "output_type": "stream",
     "text": [
      "Best configuration ID: [ 3. 17. 18. 35.]\n"
     ]
    }
   ],
   "source": [
    "best_cfg = find_max_f1_cfg(mlp_all)\n",
    "print(f'Best configuration ID: {best_cfg}')"
   ],
   "metadata": {
    "collapsed": false,
    "pycharm": {
     "name": "#%%\n"
    }
   }
  },
  {
   "cell_type": "markdown",
   "source": [
    "Having performed cross validation with several test sets, it is possible to obtain the mean value of the specified metric and its confidence interval, with 90% accuracy."
   ],
   "metadata": {
    "collapsed": false,
    "pycharm": {
     "name": "#%% md\n"
    }
   }
  },
  {
   "cell_type": "code",
   "execution_count": 89,
   "outputs": [],
   "source": [
    "def mu_confidence_interval(data: np.ndarray) -> {}:\n",
    "    t = 2.13\n",
    "    mu = np.mean(data)\n",
    "    standard_deviation = np.std(data)\n",
    "    M = data.shape[0]\n",
    "    t_student = t * standard_deviation / np.sqrt(M)\n",
    "    first_interval = mu - t_student\n",
    "    second_interval = mu + t_student\n",
    "    return {\n",
    "        'mu': mu,\n",
    "        't_student': t_student,\n",
    "        'first_interval': first_interval,\n",
    "        'second_interval': second_interval\n",
    "    }"
   ],
   "metadata": {
    "collapsed": false,
    "pycharm": {
     "name": "#%%\n"
    }
   }
  },
  {
   "cell_type": "markdown",
   "source": [
    "In order to find the best configuration between the indexes that we found previously, this function calculate the mean on each configuration between the folds, and select the one which has the higher mean."
   ],
   "metadata": {
    "collapsed": false,
    "pycharm": {
     "name": "#%% md\n"
    }
   }
  },
  {
   "cell_type": "code",
   "execution_count": 90,
   "outputs": [],
   "source": [
    "def find_best_conf(lst_conf, df: pd.DataFrame) -> dict:\n",
    "    conf = []\n",
    "    for idx, cfg in enumerate(lst_conf):\n",
    "        conf.append(\n",
    "            {\n",
    "                'f1': mu_confidence_interval(df[df['cfg'] == cfg]['f1_test']),\n",
    "                'loss': mu_confidence_interval(df[df['cfg'] == cfg]['loss_test']),\n",
    "                'acc': mu_confidence_interval(df[df['cfg'] == cfg]['acc_test'])\n",
    "            }\n",
    "        )\n",
    "        conf[idx]['conf'] = cfg\n",
    "        conf[idx]['acc']['mu'] /= 100\n",
    "        conf[idx]['acc']['t_student'] /= 100\n",
    "    max = conf[0]\n",
    "    for elm in conf:\n",
    "        if max['f1']['mu'] < elm['f1']['mu'] and max['f1']['t_student'] > elm['f1']['t_student']:\n",
    "            max = elm\n",
    "    return max"
   ],
   "metadata": {
    "collapsed": false,
    "pycharm": {
     "name": "#%%\n"
    }
   }
  },
  {
   "cell_type": "markdown",
   "source": [
    "Since in the output files containing the results of the neural network, the configuration is stored via the index, it is necessary to recalculate all configurations and select only the one of interest, specifying the index."
   ],
   "metadata": {
    "collapsed": false,
    "pycharm": {
     "name": "#%% md\n"
    }
   }
  },
  {
   "cell_type": "code",
   "execution_count": 91,
   "outputs": [],
   "source": [
    "def get_best_configuration_mlp(cfg: int, p_layer, p_grid_mlp) -> Tuple:\n",
    "    hyper_parameters_model_all = itertools.product(\n",
    "        p_layer['input_act'],\n",
    "        p_layer['hidden_act'],\n",
    "        p_layer['hidden_size'],\n",
    "        p_layer['num_hidden_layers'],\n",
    "        p_layer['dropout'],\n",
    "        p_layer['batch_norm'],\n",
    "        p_layer['output_fn'],\n",
    "        p_grid_mlp['num_epochs'],\n",
    "        p_grid_mlp['starting_lr'],\n",
    "        p_grid_mlp['batch_size'],\n",
    "        p_grid_mlp['optim'],\n",
    "        p_grid_mlp['momentum'],\n",
    "        p_grid_mlp['weight_decay'],\n",
    "    )\n",
    "    return list(hyper_parameters_model_all)[cfg]"
   ],
   "metadata": {
    "collapsed": false,
    "pycharm": {
     "name": "#%%\n"
    }
   }
  },
  {
   "cell_type": "markdown",
   "source": [
    "Utility function to summary the calculated statistics and the relative configuration."
   ],
   "metadata": {
    "collapsed": false,
    "pycharm": {
     "name": "#%% md\n"
    }
   }
  },
  {
   "cell_type": "code",
   "execution_count": 92,
   "outputs": [],
   "source": [
    "df_test_metric = pd.DataFrame()"
   ],
   "metadata": {
    "collapsed": false,
    "pycharm": {
     "name": "#%%\n"
    }
   }
  },
  {
   "cell_type": "code",
   "execution_count": 93,
   "outputs": [],
   "source": [
    "def summary_statistics_model(df_score: pd.DataFrame, dictionary: Dict, model: str, train: bool = False) -> pd.DataFrame:\n",
    "    if not train:\n",
    "        print(\n",
    "            f\"Best configuration {model} mean metrics:\\n\"\n",
    "            f\"f1_score: {dictionary['f1']['mu']} ±{dictionary['f1']['t_student']}\\n\"\n",
    "            f\"loss: {dictionary['loss']['mu']} ±{dictionary['loss']['t_student']}\\n\"\n",
    "            f\"acc: {dictionary['acc']['mu']} ±{dictionary['acc']['t_student']}\\n\\n\"\n",
    "            f\"Best hyperparams configuration:\"\n",
    "        )\n",
    "        if model == \"mlp\" or model=='MLP':\n",
    "            best_cfg_mlp_all = get_best_configuration_mlp(int(dictionary['conf']), param_layers, param_grid_mlp)\n",
    "            for idx, key in enumerate(param_layers.keys()):\n",
    "                print(f\"{key}: {best_cfg_mlp_all[idx]}\")\n",
    "            for idx, key in enumerate(param_grid_mlp.keys(), 7):\n",
    "                print(f\"{key}: {best_cfg_mlp_all[idx]}\")\n",
    "        else:\n",
    "            print(f\"{dictionary['conf']}\")\n",
    "\n",
    "        new_test_score = pd.DataFrame({\n",
    "            'model': [model],\n",
    "            'f1_mu': [dictionary['f1']['mu']],\n",
    "            'acc_mu': [dictionary['acc']['mu']],\n",
    "            'loss_mu': [dictionary['loss']['mu']],\n",
    "            'f1_ci': [dictionary['f1']['t_student']],\n",
    "            'acc_ci': [dictionary['acc']['t_student']],\n",
    "            'loss_ci': [dictionary['loss']['t_student']],\n",
    "        })\n",
    "        df_score = pd.concat([df_score, new_test_score], ignore_index=True)\n",
    "    else:\n",
    "        print(\n",
    "            f\"Best configuration {model} mean metrics:\\n\"\n",
    "            f\"train f1: {dictionary['train_score']['mu']} ±{dictionary['train_score']['t_student']}\\n\"\n",
    "            f\"validation f1: {dictionary['val_score']['mu']} ±{dictionary['val_score']['t_student']}\\n\"\n",
    "        )\n",
    "        new_test_score = pd.DataFrame({\n",
    "            'model': [model],\n",
    "            'train_score': [dictionary['train_score']['mu']],\n",
    "            'val_score': [dictionary['val_score']['mu']],\n",
    "            'train_ci': [dictionary['train_score']['t_student']],\n",
    "            'val_ci': [dictionary['val_score']['t_student']]\n",
    "        })\n",
    "        df_score = pd.concat([df_score, new_test_score], ignore_index=True)\n",
    "    return df_score"
   ],
   "metadata": {
    "collapsed": false,
    "pycharm": {
     "name": "#%%\n"
    }
   }
  },
  {
   "cell_type": "markdown",
   "source": [
    "### Results best cfg mlp"
   ],
   "metadata": {
    "collapsed": false,
    "pycharm": {
     "name": "#%% md\n"
    }
   }
  },
  {
   "cell_type": "code",
   "execution_count": 94,
   "outputs": [
    {
     "name": "stdout",
     "output_type": "stream",
     "text": [
      "Best configuration MLP mean metrics:\n",
      "f1_score: 0.8592441948011021 ±0.003684042440349958\n",
      "loss: 0.36027745032868336 ±0.007651729397571641\n",
      "acc: 0.8590550846293245 ±0.0036778811434022662\n",
      "\n",
      "Best hyperparams configuration:\n",
      "input_act: LeakyReLU(negative_slope=0.01)\n",
      "hidden_act: LeakyReLU(negative_slope=0.01)\n",
      "hidden_size: 512\n",
      "num_hidden_layers: 3\n",
      "dropout: 0.2\n",
      "batch_norm: False\n",
      "output_fn: None\n",
      "num_epochs: 200\n",
      "starting_lr: 0.001\n",
      "batch_size: 128\n",
      "optim: <class 'torch.optim.adam.Adam'>\n",
      "momentum: 0.9\n",
      "weight_decay: 1e-07\n"
     ]
    }
   ],
   "source": [
    "res_mlp = find_best_conf(best_cfg, mlp_all)\n",
    "df_test_metric = summary_statistics_model(df_test_metric, res_mlp, \"MLP\")"
   ],
   "metadata": {
    "collapsed": false,
    "pycharm": {
     "name": "#%%\n"
    }
   }
  },
  {
   "cell_type": "markdown",
   "source": [
    "#### mlp with different batch_size"
   ],
   "metadata": {
    "collapsed": false,
    "pycharm": {
     "name": "#%% md\n"
    }
   }
  },
  {
   "cell_type": "code",
   "execution_count": 95,
   "outputs": [
    {
     "data": {
      "text/plain": "    Unnamed: 0  cfg  fold  loss_test   acc_test   f1_test  mean_loss  \\\n0            0    0     1   0.348884  87.490494  0.875153   0.296292   \n1            1    1     1  15.091728  20.228137  0.209998   0.291111   \n2            2    2     1   0.356632  85.969582  0.859864   0.288100   \n3            3    3     1  10.582386  25.247148  0.217761   0.297751   \n4            4    4     1   9.631389  25.323194  0.235109   0.319479   \n5            5    5     1   9.227713  16.768061  0.181358   0.361647   \n6            6    6     1   3.288361  29.467681  0.279572   0.423522   \n7            7    7     1   2.779563  24.524715  0.211321   0.519374   \n8            8    8     1   2.800086  12.623574  0.115415   0.629163   \n9            9    9     1   1.757985  31.634981  0.260313   0.741449   \n10          10   10     1   2.182848  24.904943  0.214383   0.858766   \n11          11   11     1   2.276625  24.030418  0.193199   0.975936   \n12          12    0     2   5.146461  22.395437  0.193357   0.418973   \n13          13    1     2   5.980423  19.923954  0.153172   0.429276   \n14          14    2     2   6.758146  19.961977  0.155895   0.442135   \n15          15    3     2   2.586429  36.768061  0.342418   0.464346   \n16          16    4     2   0.725947  69.125475  0.690144   0.498248   \n17          17    5     2   2.603680  33.992395  0.293624   0.533362   \n18          18    6     2   2.735819  26.730038  0.208743   0.579297   \n19          19    7     2   3.059766  21.330798  0.159363   0.647556   \n20          20    8     2   1.021873  57.642586  0.584644   0.729931   \n21          21    9     2   1.395127  45.095057  0.476292   0.825965   \n22          22   10     2   2.002801   5.209125  0.070480   0.931313   \n23          23   11     2   2.283311  19.429658  0.154208   1.041618   \n24          24    0     3   7.328373  20.958539  0.176184   0.389577   \n25          25    1     3   0.507486  78.508939  0.785091   0.381314   \n26          26    2     3   0.528158  77.710156  0.777365   0.382887   \n27          27    3     3   4.159561  28.261696  0.225467   0.393805   \n28          28    4     3   3.305332  28.870293  0.256746   0.420329   \n29          29    5     3   3.619031  25.675162  0.202465   0.459802   \n30          30    6     3   3.170590  24.153671  0.197376   0.515836   \n31          31    7     3   2.687964  23.088627  0.212932   0.590165   \n32          32    8     3   2.161569  23.887410  0.176670   0.693629   \n33          33    9     3   2.168018  22.898440  0.172158   0.798414   \n34          34   10     3   2.169248  14.530240  0.106428   0.917046   \n35          35   11     3   2.308695   5.287181  0.069595   1.030170   \n36          36    0     4   5.065099  25.294789  0.219593   0.441277   \n37          37    1     4   5.782515  20.387980  0.154483   0.430040   \n38          38    2     4   5.432697  23.278813  0.207447   0.432396   \n39          39    3     4   4.900993  21.795359  0.168376   0.447550   \n40          40    4     4   0.746485  67.402054  0.673056   0.475212   \n41          41    5     4   0.752919  67.820464  0.678603   0.507240   \n42          42    6     4   3.929914  22.556105  0.181502   0.550990   \n43          43    7     4   2.639137  25.979460  0.229743   0.621252   \n44          44    8     4   1.100638  51.692659  0.531694   0.711727   \n45          45    9     4   2.068751  29.440852  0.244574   0.803124   \n46          46   10     4   2.143313  15.405097  0.094305   0.910729   \n47          47   11     4   2.243750  23.849372  0.153677   1.022991   \n48          48    0     5   6.898598  24.496006  0.182719   0.377338   \n49          49    1     5   0.512128  79.155572  0.791148   0.371927   \n50          50    2     5   4.171812  25.675162  0.212755   0.378901   \n51          51    3     5   5.728928  15.823507  0.125773   0.394540   \n52          52    4     5   4.419438  20.235831  0.146715   0.421343   \n53          53    5     5   4.151692  19.170787  0.151987   0.461000   \n54          54    6     5   4.136667  16.812476  0.126753   0.518419   \n55          55    7     5   2.378523  31.038418  0.255195   0.599314   \n56          56    8     5   1.888792  29.897299  0.234182   0.699181   \n57          57    9     5   2.130504  24.115633  0.184889   0.804360   \n58          58   10     5   2.214038   6.542412  0.077850   0.922585   \n59          59   11     5   2.289918  17.649296  0.157904   1.035289   \n\n    std_loss  mean_acc_val  std_acc_val  mean_acc_train  std_acc_train  \\\n0   0.010082     75.748691     1.065598       87.939177       0.419147   \n1   0.017379     75.668044     1.487801       88.159382       0.770204   \n2   0.018395     76.100483     1.412868       88.267495       0.791421   \n3   0.024154     76.007135     1.312309       87.834914       1.064710   \n4   0.049000     75.567302     1.564161       86.885441       2.148539   \n5   0.105564     74.345867     3.096015       85.056879       4.587890   \n6   0.180814     72.462558     5.439224       82.368509       7.856307   \n7   0.305257     69.637022     9.057991       78.173929      13.321446   \n8   0.424326     66.231464    12.933324       73.572002      18.108455   \n9   0.525020     62.453530    16.713793       69.171617      21.667389   \n10  0.623161     57.379215    22.643545       64.854171      24.764939   \n11  0.712029     53.839506    24.710867       61.464904      26.243617   \n12  0.009886     66.846529     0.388041       82.206383       0.369503   \n13  0.013054     66.873096     0.657260       81.758975       0.546679   \n14  0.022132     66.660232     1.004669       81.129403       1.036038   \n15  0.043682     66.261370     1.371806       80.185115       1.897173   \n16  0.078755     65.571098     1.908599       78.685795       3.468163   \n17  0.107176     64.974165     2.229877       77.139189       4.723691   \n18  0.150488     63.842546     3.486400       75.140779       6.583755   \n19  0.229137     62.543064     4.763782       72.099724      10.137053   \n20  0.318493     60.731265     6.891439       68.588050      13.801303   \n21  0.417918     57.718551    11.218113       64.776837      17.395204   \n22  0.519505     52.914054    18.583715       60.801532      20.811798   \n23  0.617443     49.492860    21.116016       57.585932      22.606905   \n24  0.012051     70.896653     0.836963       83.428762       0.561053   \n25  0.021347     71.230680     0.994857       83.739994       0.972522   \n26  0.018929     71.243995     1.000415       83.659684       0.865407   \n27  0.025381     71.025783     0.965511       83.169528       1.150365   \n28  0.057932     70.509137     1.467119       81.997688       2.574713   \n29  0.103454     69.698195     2.328537       80.275104       4.533867   \n30  0.168537     68.145290     4.393400       77.902688       7.215433   \n31  0.252465     65.952983     7.138404       74.704544      10.848422   \n32  0.378410     62.855171    11.192532       70.429514      15.851418   \n33  0.477233     59.262529    15.135152       66.356029      19.388682   \n34  0.589764     54.598578    20.694607       62.233763      22.622932   \n35  0.677942     50.883275    23.385035       58.856021      24.388871   \n36  0.021888     67.196018     1.410655       81.316503       0.974864   \n37  0.029475     67.696561     1.262941       81.799673       1.322806   \n38  0.025850     67.684042     1.242965       81.715650       1.156995   \n39  0.040042     67.192695     1.430781       81.017387       1.831648   \n40  0.066459     66.522841     1.940716       79.785896       2.986316   \n41  0.094173     66.047351     2.166565       78.349459       4.226912   \n42  0.138442     65.201558     2.890899       76.409056       6.169005   \n43  0.226942     63.752116     4.721337       73.243651      10.190438   \n44  0.333815     61.432978     7.965589       69.319399      14.691982   \n45  0.419552     58.518759    11.691860       65.584794      17.904682   \n46  0.525245     53.627729    19.102486       61.453219      21.498491   \n47  0.625718     49.972175    22.066202       58.037910      23.496085   \n48  0.024994     72.156304     1.551804       84.051923       1.184271   \n49  0.020232     72.451879     1.347061       84.313150       0.957064   \n50  0.022988     72.606558     1.257203       83.998981       1.050708   \n51  0.034574     72.428639     1.343786       83.303145       1.555568   \n52  0.063262     72.049348     1.444453       82.083722       2.868371   \n53  0.106386     71.186602     2.358205       80.349877       4.703818   \n54  0.172049     69.599980     4.459944       77.853602       7.543312   \n55  0.268897     67.314023     7.383443       74.259178      11.876596   \n56  0.379884     64.406782    10.793322       70.019262      16.417298   \n57  0.479202     60.768238    14.976124       65.845222      19.989480   \n58  0.590385     55.869583    21.093352       61.728704      23.081796   \n59  0.677674     52.133152    23.832184       58.261317      24.927049   \n\n    mean_f1_train  std_f1_train  mean_f1_val  std_f1_val  \n0        0.878682      0.004216     0.757065    0.011735  \n1        0.880869      0.007762     0.756927    0.014912  \n2        0.881971      0.008004     0.761235    0.014060  \n3        0.877645      0.010680     0.760354    0.013071  \n4        0.868086      0.021630     0.755972    0.015597  \n5        0.849603      0.046351     0.743652    0.031136  \n6        0.822076      0.080139     0.725246    0.053595  \n7        0.778544      0.137568     0.697264    0.089535  \n8        0.730337      0.188443     0.663577    0.127865  \n9        0.682587      0.229099     0.625964    0.165758  \n10       0.631712      0.271336     0.574436    0.227254  \n11       0.593732      0.288778     0.536010    0.252861  \n12       0.820802      0.003626     0.665592    0.005782  \n13       0.816312      0.005488     0.666495    0.007748  \n14       0.809994      0.010424     0.664542    0.009922  \n15       0.800492      0.019108     0.660712    0.013681  \n16       0.785456      0.034823     0.653836    0.019056  \n17       0.769765      0.047703     0.648130    0.021968  \n18       0.749112      0.067382     0.637016    0.034274  \n19       0.717480      0.104839     0.624273    0.046724  \n20       0.680397      0.144322     0.606706    0.067220  \n21       0.638348      0.186368     0.576701    0.111211  \n22       0.590779      0.232825     0.527936    0.187196  \n23       0.553173      0.255607     0.490470    0.218370  \n24       0.833257      0.005600     0.707430    0.008743  \n25       0.836420      0.009803     0.711214    0.010030  \n26       0.835634      0.008700     0.711519    0.009980  \n27       0.830719      0.011564     0.709476    0.009555  \n28       0.818892      0.025981     0.704397    0.014500  \n29       0.801510      0.045760     0.696444    0.022943  \n30       0.777245      0.073469     0.681032    0.043560  \n31       0.744102      0.111674     0.659232    0.070897  \n32       0.698967      0.165712     0.628908    0.110375  \n33       0.654455      0.206342     0.593664    0.148840  \n34       0.605057      0.251240     0.543834    0.212423  \n35       0.565301      0.274465     0.505444    0.240443  \n36       0.812053      0.009719     0.668920    0.014919  \n37       0.816867      0.013265     0.674830    0.013574  \n38       0.816053      0.011566     0.674967    0.012754  \n39       0.809089      0.018367     0.670036    0.014525  \n40       0.796735      0.029958     0.663544    0.019256  \n41       0.782252      0.042545     0.659151    0.021360  \n42       0.762346      0.062818     0.651203    0.027882  \n43       0.729432      0.105268     0.637450    0.045049  \n44       0.687814      0.154071     0.614544    0.077803  \n45       0.647055      0.190887     0.585451    0.116160  \n46       0.597343      0.240626     0.534700    0.195206  \n47       0.556259      0.267703     0.494445    0.230066  \n48       0.839522      0.011996     0.720957    0.015444  \n49       0.842231      0.009719     0.723606    0.013940  \n50       0.839120      0.010583     0.725046    0.013419  \n51       0.832154      0.015601     0.723639    0.013664  \n52       0.819911      0.028810     0.719952    0.014509  \n53       0.802386      0.047447     0.711571    0.023146  \n54       0.776903      0.076667     0.695959    0.043852  \n55       0.739652      0.122331     0.673499    0.072574  \n56       0.694921      0.171330     0.645033    0.105864  \n57       0.649739      0.211717     0.608975    0.147818  \n58       0.600550      0.254878     0.559299    0.211312  \n59       0.561227      0.276975     0.519464    0.242803  ",
      "text/html": "<div>\n<style scoped>\n    .dataframe tbody tr th:only-of-type {\n        vertical-align: middle;\n    }\n\n    .dataframe tbody tr th {\n        vertical-align: top;\n    }\n\n    .dataframe thead th {\n        text-align: right;\n    }\n</style>\n<table border=\"1\" class=\"dataframe\">\n  <thead>\n    <tr style=\"text-align: right;\">\n      <th></th>\n      <th>Unnamed: 0</th>\n      <th>cfg</th>\n      <th>fold</th>\n      <th>loss_test</th>\n      <th>acc_test</th>\n      <th>f1_test</th>\n      <th>mean_loss</th>\n      <th>std_loss</th>\n      <th>mean_acc_val</th>\n      <th>std_acc_val</th>\n      <th>mean_acc_train</th>\n      <th>std_acc_train</th>\n      <th>mean_f1_train</th>\n      <th>std_f1_train</th>\n      <th>mean_f1_val</th>\n      <th>std_f1_val</th>\n    </tr>\n  </thead>\n  <tbody>\n    <tr>\n      <th>0</th>\n      <td>0</td>\n      <td>0</td>\n      <td>1</td>\n      <td>0.348884</td>\n      <td>87.490494</td>\n      <td>0.875153</td>\n      <td>0.296292</td>\n      <td>0.010082</td>\n      <td>75.748691</td>\n      <td>1.065598</td>\n      <td>87.939177</td>\n      <td>0.419147</td>\n      <td>0.878682</td>\n      <td>0.004216</td>\n      <td>0.757065</td>\n      <td>0.011735</td>\n    </tr>\n    <tr>\n      <th>1</th>\n      <td>1</td>\n      <td>1</td>\n      <td>1</td>\n      <td>15.091728</td>\n      <td>20.228137</td>\n      <td>0.209998</td>\n      <td>0.291111</td>\n      <td>0.017379</td>\n      <td>75.668044</td>\n      <td>1.487801</td>\n      <td>88.159382</td>\n      <td>0.770204</td>\n      <td>0.880869</td>\n      <td>0.007762</td>\n      <td>0.756927</td>\n      <td>0.014912</td>\n    </tr>\n    <tr>\n      <th>2</th>\n      <td>2</td>\n      <td>2</td>\n      <td>1</td>\n      <td>0.356632</td>\n      <td>85.969582</td>\n      <td>0.859864</td>\n      <td>0.288100</td>\n      <td>0.018395</td>\n      <td>76.100483</td>\n      <td>1.412868</td>\n      <td>88.267495</td>\n      <td>0.791421</td>\n      <td>0.881971</td>\n      <td>0.008004</td>\n      <td>0.761235</td>\n      <td>0.014060</td>\n    </tr>\n    <tr>\n      <th>3</th>\n      <td>3</td>\n      <td>3</td>\n      <td>1</td>\n      <td>10.582386</td>\n      <td>25.247148</td>\n      <td>0.217761</td>\n      <td>0.297751</td>\n      <td>0.024154</td>\n      <td>76.007135</td>\n      <td>1.312309</td>\n      <td>87.834914</td>\n      <td>1.064710</td>\n      <td>0.877645</td>\n      <td>0.010680</td>\n      <td>0.760354</td>\n      <td>0.013071</td>\n    </tr>\n    <tr>\n      <th>4</th>\n      <td>4</td>\n      <td>4</td>\n      <td>1</td>\n      <td>9.631389</td>\n      <td>25.323194</td>\n      <td>0.235109</td>\n      <td>0.319479</td>\n      <td>0.049000</td>\n      <td>75.567302</td>\n      <td>1.564161</td>\n      <td>86.885441</td>\n      <td>2.148539</td>\n      <td>0.868086</td>\n      <td>0.021630</td>\n      <td>0.755972</td>\n      <td>0.015597</td>\n    </tr>\n    <tr>\n      <th>5</th>\n      <td>5</td>\n      <td>5</td>\n      <td>1</td>\n      <td>9.227713</td>\n      <td>16.768061</td>\n      <td>0.181358</td>\n      <td>0.361647</td>\n      <td>0.105564</td>\n      <td>74.345867</td>\n      <td>3.096015</td>\n      <td>85.056879</td>\n      <td>4.587890</td>\n      <td>0.849603</td>\n      <td>0.046351</td>\n      <td>0.743652</td>\n      <td>0.031136</td>\n    </tr>\n    <tr>\n      <th>6</th>\n      <td>6</td>\n      <td>6</td>\n      <td>1</td>\n      <td>3.288361</td>\n      <td>29.467681</td>\n      <td>0.279572</td>\n      <td>0.423522</td>\n      <td>0.180814</td>\n      <td>72.462558</td>\n      <td>5.439224</td>\n      <td>82.368509</td>\n      <td>7.856307</td>\n      <td>0.822076</td>\n      <td>0.080139</td>\n      <td>0.725246</td>\n      <td>0.053595</td>\n    </tr>\n    <tr>\n      <th>7</th>\n      <td>7</td>\n      <td>7</td>\n      <td>1</td>\n      <td>2.779563</td>\n      <td>24.524715</td>\n      <td>0.211321</td>\n      <td>0.519374</td>\n      <td>0.305257</td>\n      <td>69.637022</td>\n      <td>9.057991</td>\n      <td>78.173929</td>\n      <td>13.321446</td>\n      <td>0.778544</td>\n      <td>0.137568</td>\n      <td>0.697264</td>\n      <td>0.089535</td>\n    </tr>\n    <tr>\n      <th>8</th>\n      <td>8</td>\n      <td>8</td>\n      <td>1</td>\n      <td>2.800086</td>\n      <td>12.623574</td>\n      <td>0.115415</td>\n      <td>0.629163</td>\n      <td>0.424326</td>\n      <td>66.231464</td>\n      <td>12.933324</td>\n      <td>73.572002</td>\n      <td>18.108455</td>\n      <td>0.730337</td>\n      <td>0.188443</td>\n      <td>0.663577</td>\n      <td>0.127865</td>\n    </tr>\n    <tr>\n      <th>9</th>\n      <td>9</td>\n      <td>9</td>\n      <td>1</td>\n      <td>1.757985</td>\n      <td>31.634981</td>\n      <td>0.260313</td>\n      <td>0.741449</td>\n      <td>0.525020</td>\n      <td>62.453530</td>\n      <td>16.713793</td>\n      <td>69.171617</td>\n      <td>21.667389</td>\n      <td>0.682587</td>\n      <td>0.229099</td>\n      <td>0.625964</td>\n      <td>0.165758</td>\n    </tr>\n    <tr>\n      <th>10</th>\n      <td>10</td>\n      <td>10</td>\n      <td>1</td>\n      <td>2.182848</td>\n      <td>24.904943</td>\n      <td>0.214383</td>\n      <td>0.858766</td>\n      <td>0.623161</td>\n      <td>57.379215</td>\n      <td>22.643545</td>\n      <td>64.854171</td>\n      <td>24.764939</td>\n      <td>0.631712</td>\n      <td>0.271336</td>\n      <td>0.574436</td>\n      <td>0.227254</td>\n    </tr>\n    <tr>\n      <th>11</th>\n      <td>11</td>\n      <td>11</td>\n      <td>1</td>\n      <td>2.276625</td>\n      <td>24.030418</td>\n      <td>0.193199</td>\n      <td>0.975936</td>\n      <td>0.712029</td>\n      <td>53.839506</td>\n      <td>24.710867</td>\n      <td>61.464904</td>\n      <td>26.243617</td>\n      <td>0.593732</td>\n      <td>0.288778</td>\n      <td>0.536010</td>\n      <td>0.252861</td>\n    </tr>\n    <tr>\n      <th>12</th>\n      <td>12</td>\n      <td>0</td>\n      <td>2</td>\n      <td>5.146461</td>\n      <td>22.395437</td>\n      <td>0.193357</td>\n      <td>0.418973</td>\n      <td>0.009886</td>\n      <td>66.846529</td>\n      <td>0.388041</td>\n      <td>82.206383</td>\n      <td>0.369503</td>\n      <td>0.820802</td>\n      <td>0.003626</td>\n      <td>0.665592</td>\n      <td>0.005782</td>\n    </tr>\n    <tr>\n      <th>13</th>\n      <td>13</td>\n      <td>1</td>\n      <td>2</td>\n      <td>5.980423</td>\n      <td>19.923954</td>\n      <td>0.153172</td>\n      <td>0.429276</td>\n      <td>0.013054</td>\n      <td>66.873096</td>\n      <td>0.657260</td>\n      <td>81.758975</td>\n      <td>0.546679</td>\n      <td>0.816312</td>\n      <td>0.005488</td>\n      <td>0.666495</td>\n      <td>0.007748</td>\n    </tr>\n    <tr>\n      <th>14</th>\n      <td>14</td>\n      <td>2</td>\n      <td>2</td>\n      <td>6.758146</td>\n      <td>19.961977</td>\n      <td>0.155895</td>\n      <td>0.442135</td>\n      <td>0.022132</td>\n      <td>66.660232</td>\n      <td>1.004669</td>\n      <td>81.129403</td>\n      <td>1.036038</td>\n      <td>0.809994</td>\n      <td>0.010424</td>\n      <td>0.664542</td>\n      <td>0.009922</td>\n    </tr>\n    <tr>\n      <th>15</th>\n      <td>15</td>\n      <td>3</td>\n      <td>2</td>\n      <td>2.586429</td>\n      <td>36.768061</td>\n      <td>0.342418</td>\n      <td>0.464346</td>\n      <td>0.043682</td>\n      <td>66.261370</td>\n      <td>1.371806</td>\n      <td>80.185115</td>\n      <td>1.897173</td>\n      <td>0.800492</td>\n      <td>0.019108</td>\n      <td>0.660712</td>\n      <td>0.013681</td>\n    </tr>\n    <tr>\n      <th>16</th>\n      <td>16</td>\n      <td>4</td>\n      <td>2</td>\n      <td>0.725947</td>\n      <td>69.125475</td>\n      <td>0.690144</td>\n      <td>0.498248</td>\n      <td>0.078755</td>\n      <td>65.571098</td>\n      <td>1.908599</td>\n      <td>78.685795</td>\n      <td>3.468163</td>\n      <td>0.785456</td>\n      <td>0.034823</td>\n      <td>0.653836</td>\n      <td>0.019056</td>\n    </tr>\n    <tr>\n      <th>17</th>\n      <td>17</td>\n      <td>5</td>\n      <td>2</td>\n      <td>2.603680</td>\n      <td>33.992395</td>\n      <td>0.293624</td>\n      <td>0.533362</td>\n      <td>0.107176</td>\n      <td>64.974165</td>\n      <td>2.229877</td>\n      <td>77.139189</td>\n      <td>4.723691</td>\n      <td>0.769765</td>\n      <td>0.047703</td>\n      <td>0.648130</td>\n      <td>0.021968</td>\n    </tr>\n    <tr>\n      <th>18</th>\n      <td>18</td>\n      <td>6</td>\n      <td>2</td>\n      <td>2.735819</td>\n      <td>26.730038</td>\n      <td>0.208743</td>\n      <td>0.579297</td>\n      <td>0.150488</td>\n      <td>63.842546</td>\n      <td>3.486400</td>\n      <td>75.140779</td>\n      <td>6.583755</td>\n      <td>0.749112</td>\n      <td>0.067382</td>\n      <td>0.637016</td>\n      <td>0.034274</td>\n    </tr>\n    <tr>\n      <th>19</th>\n      <td>19</td>\n      <td>7</td>\n      <td>2</td>\n      <td>3.059766</td>\n      <td>21.330798</td>\n      <td>0.159363</td>\n      <td>0.647556</td>\n      <td>0.229137</td>\n      <td>62.543064</td>\n      <td>4.763782</td>\n      <td>72.099724</td>\n      <td>10.137053</td>\n      <td>0.717480</td>\n      <td>0.104839</td>\n      <td>0.624273</td>\n      <td>0.046724</td>\n    </tr>\n    <tr>\n      <th>20</th>\n      <td>20</td>\n      <td>8</td>\n      <td>2</td>\n      <td>1.021873</td>\n      <td>57.642586</td>\n      <td>0.584644</td>\n      <td>0.729931</td>\n      <td>0.318493</td>\n      <td>60.731265</td>\n      <td>6.891439</td>\n      <td>68.588050</td>\n      <td>13.801303</td>\n      <td>0.680397</td>\n      <td>0.144322</td>\n      <td>0.606706</td>\n      <td>0.067220</td>\n    </tr>\n    <tr>\n      <th>21</th>\n      <td>21</td>\n      <td>9</td>\n      <td>2</td>\n      <td>1.395127</td>\n      <td>45.095057</td>\n      <td>0.476292</td>\n      <td>0.825965</td>\n      <td>0.417918</td>\n      <td>57.718551</td>\n      <td>11.218113</td>\n      <td>64.776837</td>\n      <td>17.395204</td>\n      <td>0.638348</td>\n      <td>0.186368</td>\n      <td>0.576701</td>\n      <td>0.111211</td>\n    </tr>\n    <tr>\n      <th>22</th>\n      <td>22</td>\n      <td>10</td>\n      <td>2</td>\n      <td>2.002801</td>\n      <td>5.209125</td>\n      <td>0.070480</td>\n      <td>0.931313</td>\n      <td>0.519505</td>\n      <td>52.914054</td>\n      <td>18.583715</td>\n      <td>60.801532</td>\n      <td>20.811798</td>\n      <td>0.590779</td>\n      <td>0.232825</td>\n      <td>0.527936</td>\n      <td>0.187196</td>\n    </tr>\n    <tr>\n      <th>23</th>\n      <td>23</td>\n      <td>11</td>\n      <td>2</td>\n      <td>2.283311</td>\n      <td>19.429658</td>\n      <td>0.154208</td>\n      <td>1.041618</td>\n      <td>0.617443</td>\n      <td>49.492860</td>\n      <td>21.116016</td>\n      <td>57.585932</td>\n      <td>22.606905</td>\n      <td>0.553173</td>\n      <td>0.255607</td>\n      <td>0.490470</td>\n      <td>0.218370</td>\n    </tr>\n    <tr>\n      <th>24</th>\n      <td>24</td>\n      <td>0</td>\n      <td>3</td>\n      <td>7.328373</td>\n      <td>20.958539</td>\n      <td>0.176184</td>\n      <td>0.389577</td>\n      <td>0.012051</td>\n      <td>70.896653</td>\n      <td>0.836963</td>\n      <td>83.428762</td>\n      <td>0.561053</td>\n      <td>0.833257</td>\n      <td>0.005600</td>\n      <td>0.707430</td>\n      <td>0.008743</td>\n    </tr>\n    <tr>\n      <th>25</th>\n      <td>25</td>\n      <td>1</td>\n      <td>3</td>\n      <td>0.507486</td>\n      <td>78.508939</td>\n      <td>0.785091</td>\n      <td>0.381314</td>\n      <td>0.021347</td>\n      <td>71.230680</td>\n      <td>0.994857</td>\n      <td>83.739994</td>\n      <td>0.972522</td>\n      <td>0.836420</td>\n      <td>0.009803</td>\n      <td>0.711214</td>\n      <td>0.010030</td>\n    </tr>\n    <tr>\n      <th>26</th>\n      <td>26</td>\n      <td>2</td>\n      <td>3</td>\n      <td>0.528158</td>\n      <td>77.710156</td>\n      <td>0.777365</td>\n      <td>0.382887</td>\n      <td>0.018929</td>\n      <td>71.243995</td>\n      <td>1.000415</td>\n      <td>83.659684</td>\n      <td>0.865407</td>\n      <td>0.835634</td>\n      <td>0.008700</td>\n      <td>0.711519</td>\n      <td>0.009980</td>\n    </tr>\n    <tr>\n      <th>27</th>\n      <td>27</td>\n      <td>3</td>\n      <td>3</td>\n      <td>4.159561</td>\n      <td>28.261696</td>\n      <td>0.225467</td>\n      <td>0.393805</td>\n      <td>0.025381</td>\n      <td>71.025783</td>\n      <td>0.965511</td>\n      <td>83.169528</td>\n      <td>1.150365</td>\n      <td>0.830719</td>\n      <td>0.011564</td>\n      <td>0.709476</td>\n      <td>0.009555</td>\n    </tr>\n    <tr>\n      <th>28</th>\n      <td>28</td>\n      <td>4</td>\n      <td>3</td>\n      <td>3.305332</td>\n      <td>28.870293</td>\n      <td>0.256746</td>\n      <td>0.420329</td>\n      <td>0.057932</td>\n      <td>70.509137</td>\n      <td>1.467119</td>\n      <td>81.997688</td>\n      <td>2.574713</td>\n      <td>0.818892</td>\n      <td>0.025981</td>\n      <td>0.704397</td>\n      <td>0.014500</td>\n    </tr>\n    <tr>\n      <th>29</th>\n      <td>29</td>\n      <td>5</td>\n      <td>3</td>\n      <td>3.619031</td>\n      <td>25.675162</td>\n      <td>0.202465</td>\n      <td>0.459802</td>\n      <td>0.103454</td>\n      <td>69.698195</td>\n      <td>2.328537</td>\n      <td>80.275104</td>\n      <td>4.533867</td>\n      <td>0.801510</td>\n      <td>0.045760</td>\n      <td>0.696444</td>\n      <td>0.022943</td>\n    </tr>\n    <tr>\n      <th>30</th>\n      <td>30</td>\n      <td>6</td>\n      <td>3</td>\n      <td>3.170590</td>\n      <td>24.153671</td>\n      <td>0.197376</td>\n      <td>0.515836</td>\n      <td>0.168537</td>\n      <td>68.145290</td>\n      <td>4.393400</td>\n      <td>77.902688</td>\n      <td>7.215433</td>\n      <td>0.777245</td>\n      <td>0.073469</td>\n      <td>0.681032</td>\n      <td>0.043560</td>\n    </tr>\n    <tr>\n      <th>31</th>\n      <td>31</td>\n      <td>7</td>\n      <td>3</td>\n      <td>2.687964</td>\n      <td>23.088627</td>\n      <td>0.212932</td>\n      <td>0.590165</td>\n      <td>0.252465</td>\n      <td>65.952983</td>\n      <td>7.138404</td>\n      <td>74.704544</td>\n      <td>10.848422</td>\n      <td>0.744102</td>\n      <td>0.111674</td>\n      <td>0.659232</td>\n      <td>0.070897</td>\n    </tr>\n    <tr>\n      <th>32</th>\n      <td>32</td>\n      <td>8</td>\n      <td>3</td>\n      <td>2.161569</td>\n      <td>23.887410</td>\n      <td>0.176670</td>\n      <td>0.693629</td>\n      <td>0.378410</td>\n      <td>62.855171</td>\n      <td>11.192532</td>\n      <td>70.429514</td>\n      <td>15.851418</td>\n      <td>0.698967</td>\n      <td>0.165712</td>\n      <td>0.628908</td>\n      <td>0.110375</td>\n    </tr>\n    <tr>\n      <th>33</th>\n      <td>33</td>\n      <td>9</td>\n      <td>3</td>\n      <td>2.168018</td>\n      <td>22.898440</td>\n      <td>0.172158</td>\n      <td>0.798414</td>\n      <td>0.477233</td>\n      <td>59.262529</td>\n      <td>15.135152</td>\n      <td>66.356029</td>\n      <td>19.388682</td>\n      <td>0.654455</td>\n      <td>0.206342</td>\n      <td>0.593664</td>\n      <td>0.148840</td>\n    </tr>\n    <tr>\n      <th>34</th>\n      <td>34</td>\n      <td>10</td>\n      <td>3</td>\n      <td>2.169248</td>\n      <td>14.530240</td>\n      <td>0.106428</td>\n      <td>0.917046</td>\n      <td>0.589764</td>\n      <td>54.598578</td>\n      <td>20.694607</td>\n      <td>62.233763</td>\n      <td>22.622932</td>\n      <td>0.605057</td>\n      <td>0.251240</td>\n      <td>0.543834</td>\n      <td>0.212423</td>\n    </tr>\n    <tr>\n      <th>35</th>\n      <td>35</td>\n      <td>11</td>\n      <td>3</td>\n      <td>2.308695</td>\n      <td>5.287181</td>\n      <td>0.069595</td>\n      <td>1.030170</td>\n      <td>0.677942</td>\n      <td>50.883275</td>\n      <td>23.385035</td>\n      <td>58.856021</td>\n      <td>24.388871</td>\n      <td>0.565301</td>\n      <td>0.274465</td>\n      <td>0.505444</td>\n      <td>0.240443</td>\n    </tr>\n    <tr>\n      <th>36</th>\n      <td>36</td>\n      <td>0</td>\n      <td>4</td>\n      <td>5.065099</td>\n      <td>25.294789</td>\n      <td>0.219593</td>\n      <td>0.441277</td>\n      <td>0.021888</td>\n      <td>67.196018</td>\n      <td>1.410655</td>\n      <td>81.316503</td>\n      <td>0.974864</td>\n      <td>0.812053</td>\n      <td>0.009719</td>\n      <td>0.668920</td>\n      <td>0.014919</td>\n    </tr>\n    <tr>\n      <th>37</th>\n      <td>37</td>\n      <td>1</td>\n      <td>4</td>\n      <td>5.782515</td>\n      <td>20.387980</td>\n      <td>0.154483</td>\n      <td>0.430040</td>\n      <td>0.029475</td>\n      <td>67.696561</td>\n      <td>1.262941</td>\n      <td>81.799673</td>\n      <td>1.322806</td>\n      <td>0.816867</td>\n      <td>0.013265</td>\n      <td>0.674830</td>\n      <td>0.013574</td>\n    </tr>\n    <tr>\n      <th>38</th>\n      <td>38</td>\n      <td>2</td>\n      <td>4</td>\n      <td>5.432697</td>\n      <td>23.278813</td>\n      <td>0.207447</td>\n      <td>0.432396</td>\n      <td>0.025850</td>\n      <td>67.684042</td>\n      <td>1.242965</td>\n      <td>81.715650</td>\n      <td>1.156995</td>\n      <td>0.816053</td>\n      <td>0.011566</td>\n      <td>0.674967</td>\n      <td>0.012754</td>\n    </tr>\n    <tr>\n      <th>39</th>\n      <td>39</td>\n      <td>3</td>\n      <td>4</td>\n      <td>4.900993</td>\n      <td>21.795359</td>\n      <td>0.168376</td>\n      <td>0.447550</td>\n      <td>0.040042</td>\n      <td>67.192695</td>\n      <td>1.430781</td>\n      <td>81.017387</td>\n      <td>1.831648</td>\n      <td>0.809089</td>\n      <td>0.018367</td>\n      <td>0.670036</td>\n      <td>0.014525</td>\n    </tr>\n    <tr>\n      <th>40</th>\n      <td>40</td>\n      <td>4</td>\n      <td>4</td>\n      <td>0.746485</td>\n      <td>67.402054</td>\n      <td>0.673056</td>\n      <td>0.475212</td>\n      <td>0.066459</td>\n      <td>66.522841</td>\n      <td>1.940716</td>\n      <td>79.785896</td>\n      <td>2.986316</td>\n      <td>0.796735</td>\n      <td>0.029958</td>\n      <td>0.663544</td>\n      <td>0.019256</td>\n    </tr>\n    <tr>\n      <th>41</th>\n      <td>41</td>\n      <td>5</td>\n      <td>4</td>\n      <td>0.752919</td>\n      <td>67.820464</td>\n      <td>0.678603</td>\n      <td>0.507240</td>\n      <td>0.094173</td>\n      <td>66.047351</td>\n      <td>2.166565</td>\n      <td>78.349459</td>\n      <td>4.226912</td>\n      <td>0.782252</td>\n      <td>0.042545</td>\n      <td>0.659151</td>\n      <td>0.021360</td>\n    </tr>\n    <tr>\n      <th>42</th>\n      <td>42</td>\n      <td>6</td>\n      <td>4</td>\n      <td>3.929914</td>\n      <td>22.556105</td>\n      <td>0.181502</td>\n      <td>0.550990</td>\n      <td>0.138442</td>\n      <td>65.201558</td>\n      <td>2.890899</td>\n      <td>76.409056</td>\n      <td>6.169005</td>\n      <td>0.762346</td>\n      <td>0.062818</td>\n      <td>0.651203</td>\n      <td>0.027882</td>\n    </tr>\n    <tr>\n      <th>43</th>\n      <td>43</td>\n      <td>7</td>\n      <td>4</td>\n      <td>2.639137</td>\n      <td>25.979460</td>\n      <td>0.229743</td>\n      <td>0.621252</td>\n      <td>0.226942</td>\n      <td>63.752116</td>\n      <td>4.721337</td>\n      <td>73.243651</td>\n      <td>10.190438</td>\n      <td>0.729432</td>\n      <td>0.105268</td>\n      <td>0.637450</td>\n      <td>0.045049</td>\n    </tr>\n    <tr>\n      <th>44</th>\n      <td>44</td>\n      <td>8</td>\n      <td>4</td>\n      <td>1.100638</td>\n      <td>51.692659</td>\n      <td>0.531694</td>\n      <td>0.711727</td>\n      <td>0.333815</td>\n      <td>61.432978</td>\n      <td>7.965589</td>\n      <td>69.319399</td>\n      <td>14.691982</td>\n      <td>0.687814</td>\n      <td>0.154071</td>\n      <td>0.614544</td>\n      <td>0.077803</td>\n    </tr>\n    <tr>\n      <th>45</th>\n      <td>45</td>\n      <td>9</td>\n      <td>4</td>\n      <td>2.068751</td>\n      <td>29.440852</td>\n      <td>0.244574</td>\n      <td>0.803124</td>\n      <td>0.419552</td>\n      <td>58.518759</td>\n      <td>11.691860</td>\n      <td>65.584794</td>\n      <td>17.904682</td>\n      <td>0.647055</td>\n      <td>0.190887</td>\n      <td>0.585451</td>\n      <td>0.116160</td>\n    </tr>\n    <tr>\n      <th>46</th>\n      <td>46</td>\n      <td>10</td>\n      <td>4</td>\n      <td>2.143313</td>\n      <td>15.405097</td>\n      <td>0.094305</td>\n      <td>0.910729</td>\n      <td>0.525245</td>\n      <td>53.627729</td>\n      <td>19.102486</td>\n      <td>61.453219</td>\n      <td>21.498491</td>\n      <td>0.597343</td>\n      <td>0.240626</td>\n      <td>0.534700</td>\n      <td>0.195206</td>\n    </tr>\n    <tr>\n      <th>47</th>\n      <td>47</td>\n      <td>11</td>\n      <td>4</td>\n      <td>2.243750</td>\n      <td>23.849372</td>\n      <td>0.153677</td>\n      <td>1.022991</td>\n      <td>0.625718</td>\n      <td>49.972175</td>\n      <td>22.066202</td>\n      <td>58.037910</td>\n      <td>23.496085</td>\n      <td>0.556259</td>\n      <td>0.267703</td>\n      <td>0.494445</td>\n      <td>0.230066</td>\n    </tr>\n    <tr>\n      <th>48</th>\n      <td>48</td>\n      <td>0</td>\n      <td>5</td>\n      <td>6.898598</td>\n      <td>24.496006</td>\n      <td>0.182719</td>\n      <td>0.377338</td>\n      <td>0.024994</td>\n      <td>72.156304</td>\n      <td>1.551804</td>\n      <td>84.051923</td>\n      <td>1.184271</td>\n      <td>0.839522</td>\n      <td>0.011996</td>\n      <td>0.720957</td>\n      <td>0.015444</td>\n    </tr>\n    <tr>\n      <th>49</th>\n      <td>49</td>\n      <td>1</td>\n      <td>5</td>\n      <td>0.512128</td>\n      <td>79.155572</td>\n      <td>0.791148</td>\n      <td>0.371927</td>\n      <td>0.020232</td>\n      <td>72.451879</td>\n      <td>1.347061</td>\n      <td>84.313150</td>\n      <td>0.957064</td>\n      <td>0.842231</td>\n      <td>0.009719</td>\n      <td>0.723606</td>\n      <td>0.013940</td>\n    </tr>\n    <tr>\n      <th>50</th>\n      <td>50</td>\n      <td>2</td>\n      <td>5</td>\n      <td>4.171812</td>\n      <td>25.675162</td>\n      <td>0.212755</td>\n      <td>0.378901</td>\n      <td>0.022988</td>\n      <td>72.606558</td>\n      <td>1.257203</td>\n      <td>83.998981</td>\n      <td>1.050708</td>\n      <td>0.839120</td>\n      <td>0.010583</td>\n      <td>0.725046</td>\n      <td>0.013419</td>\n    </tr>\n    <tr>\n      <th>51</th>\n      <td>51</td>\n      <td>3</td>\n      <td>5</td>\n      <td>5.728928</td>\n      <td>15.823507</td>\n      <td>0.125773</td>\n      <td>0.394540</td>\n      <td>0.034574</td>\n      <td>72.428639</td>\n      <td>1.343786</td>\n      <td>83.303145</td>\n      <td>1.555568</td>\n      <td>0.832154</td>\n      <td>0.015601</td>\n      <td>0.723639</td>\n      <td>0.013664</td>\n    </tr>\n    <tr>\n      <th>52</th>\n      <td>52</td>\n      <td>4</td>\n      <td>5</td>\n      <td>4.419438</td>\n      <td>20.235831</td>\n      <td>0.146715</td>\n      <td>0.421343</td>\n      <td>0.063262</td>\n      <td>72.049348</td>\n      <td>1.444453</td>\n      <td>82.083722</td>\n      <td>2.868371</td>\n      <td>0.819911</td>\n      <td>0.028810</td>\n      <td>0.719952</td>\n      <td>0.014509</td>\n    </tr>\n    <tr>\n      <th>53</th>\n      <td>53</td>\n      <td>5</td>\n      <td>5</td>\n      <td>4.151692</td>\n      <td>19.170787</td>\n      <td>0.151987</td>\n      <td>0.461000</td>\n      <td>0.106386</td>\n      <td>71.186602</td>\n      <td>2.358205</td>\n      <td>80.349877</td>\n      <td>4.703818</td>\n      <td>0.802386</td>\n      <td>0.047447</td>\n      <td>0.711571</td>\n      <td>0.023146</td>\n    </tr>\n    <tr>\n      <th>54</th>\n      <td>54</td>\n      <td>6</td>\n      <td>5</td>\n      <td>4.136667</td>\n      <td>16.812476</td>\n      <td>0.126753</td>\n      <td>0.518419</td>\n      <td>0.172049</td>\n      <td>69.599980</td>\n      <td>4.459944</td>\n      <td>77.853602</td>\n      <td>7.543312</td>\n      <td>0.776903</td>\n      <td>0.076667</td>\n      <td>0.695959</td>\n      <td>0.043852</td>\n    </tr>\n    <tr>\n      <th>55</th>\n      <td>55</td>\n      <td>7</td>\n      <td>5</td>\n      <td>2.378523</td>\n      <td>31.038418</td>\n      <td>0.255195</td>\n      <td>0.599314</td>\n      <td>0.268897</td>\n      <td>67.314023</td>\n      <td>7.383443</td>\n      <td>74.259178</td>\n      <td>11.876596</td>\n      <td>0.739652</td>\n      <td>0.122331</td>\n      <td>0.673499</td>\n      <td>0.072574</td>\n    </tr>\n    <tr>\n      <th>56</th>\n      <td>56</td>\n      <td>8</td>\n      <td>5</td>\n      <td>1.888792</td>\n      <td>29.897299</td>\n      <td>0.234182</td>\n      <td>0.699181</td>\n      <td>0.379884</td>\n      <td>64.406782</td>\n      <td>10.793322</td>\n      <td>70.019262</td>\n      <td>16.417298</td>\n      <td>0.694921</td>\n      <td>0.171330</td>\n      <td>0.645033</td>\n      <td>0.105864</td>\n    </tr>\n    <tr>\n      <th>57</th>\n      <td>57</td>\n      <td>9</td>\n      <td>5</td>\n      <td>2.130504</td>\n      <td>24.115633</td>\n      <td>0.184889</td>\n      <td>0.804360</td>\n      <td>0.479202</td>\n      <td>60.768238</td>\n      <td>14.976124</td>\n      <td>65.845222</td>\n      <td>19.989480</td>\n      <td>0.649739</td>\n      <td>0.211717</td>\n      <td>0.608975</td>\n      <td>0.147818</td>\n    </tr>\n    <tr>\n      <th>58</th>\n      <td>58</td>\n      <td>10</td>\n      <td>5</td>\n      <td>2.214038</td>\n      <td>6.542412</td>\n      <td>0.077850</td>\n      <td>0.922585</td>\n      <td>0.590385</td>\n      <td>55.869583</td>\n      <td>21.093352</td>\n      <td>61.728704</td>\n      <td>23.081796</td>\n      <td>0.600550</td>\n      <td>0.254878</td>\n      <td>0.559299</td>\n      <td>0.211312</td>\n    </tr>\n    <tr>\n      <th>59</th>\n      <td>59</td>\n      <td>11</td>\n      <td>5</td>\n      <td>2.289918</td>\n      <td>17.649296</td>\n      <td>0.157904</td>\n      <td>1.035289</td>\n      <td>0.677674</td>\n      <td>52.133152</td>\n      <td>23.832184</td>\n      <td>58.261317</td>\n      <td>24.927049</td>\n      <td>0.561227</td>\n      <td>0.276975</td>\n      <td>0.519464</td>\n      <td>0.242803</td>\n    </tr>\n  </tbody>\n</table>\n</div>"
     },
     "execution_count": 95,
     "metadata": {},
     "output_type": "execute_result"
    }
   ],
   "source": [
    "mlp_batch"
   ],
   "metadata": {
    "collapsed": false,
    "pycharm": {
     "name": "#%%\n"
    }
   }
  },
  {
   "cell_type": "code",
   "execution_count": 96,
   "outputs": [],
   "source": [
    "df = pd.DataFrame()"
   ],
   "metadata": {
    "collapsed": false,
    "pycharm": {
     "name": "#%%\n"
    }
   }
  },
  {
   "cell_type": "code",
   "execution_count": 97,
   "outputs": [
    {
     "name": "stdout",
     "output_type": "stream",
     "text": [
      "    index  batch_size   f1_mean  f1_confidence  loss_mean  loss_confidence  \\\n",
      "0       0           8  0.329401       0.260314   4.957483         2.359422   \n",
      "1       1          16  0.418778       0.287931   5.574856         5.077947   \n",
      "2       2          32  0.442665       0.294064   3.449489         2.465728   \n",
      "3       3          64  0.215959       0.069326   5.591659         2.573179   \n",
      "4       4         128  0.400354       0.221605   3.765718         3.113048   \n",
      "5       5         256  0.301607       0.185134   4.071007         2.693087   \n",
      "6       6         512  0.198789       0.046889   3.452270         0.488705   \n",
      "7       7        1024  0.213711       0.029936   2.708991         0.209804   \n",
      "8       8        2048  0.328521       0.182858   1.794592         0.636614   \n",
      "9       9        4096  0.267645       0.104423   1.904077         0.278835   \n",
      "10     10        8192  0.112689       0.049888   2.142450         0.069970   \n",
      "11     11       16384  0.145716       0.038888   2.280460         0.020239   \n",
      "\n",
      "     acc_mean  acc_confidence  \n",
      "0   36.127053       24.506901  \n",
      "1   43.640917       27.371690  \n",
      "2   46.519138       27.637795  \n",
      "3   25.579154        6.626836  \n",
      "4   42.191369       20.452689  \n",
      "5   32.685374       17.674282  \n",
      "6   23.943994        4.066056  \n",
      "7   25.192404        3.147186  \n",
      "8   35.148706       16.173715  \n",
      "9   30.636993        7.547245  \n",
      "10  13.318363        6.759121  \n",
      "11  18.049185        6.521442  \n"
     ]
    }
   ],
   "source": [
    "for idx in mlp_batch['cfg'].unique():\n",
    "    config = get_best_configuration_mlp(idx, param_layers_batch, param_grid_mlp_batch)\n",
    "    batch_size = config[9]\n",
    "    f1_dict = mu_confidence_interval(mlp_batch[mlp_batch['cfg'] == idx]['f1_test'])\n",
    "    loss_dict = mu_confidence_interval(mlp_batch[mlp_batch['cfg'] == idx]['loss_test'])\n",
    "    acc_dict = mu_confidence_interval(mlp_batch[mlp_batch['cfg'] == idx]['acc_test'])\n",
    "\n",
    "    new_sample = pd.DataFrame({\n",
    "        'index': [idx],\n",
    "        'batch_size': [batch_size],\n",
    "        'f1_mean': [f1_dict['mu']],\n",
    "        'f1_confidence': [f1_dict['t_student']],\n",
    "        'loss_mean': [loss_dict['mu']],\n",
    "        'loss_confidence': [loss_dict['t_student']],\n",
    "        'acc_mean': [acc_dict['mu']],\n",
    "        'acc_confidence': [acc_dict['t_student']]\n",
    "\n",
    "    })\n",
    "    df = pd.concat([df, new_sample], ignore_index=True)\n",
    "print(df)"
   ],
   "metadata": {
    "collapsed": false,
    "pycharm": {
     "name": "#%%\n"
    }
   }
  },
  {
   "cell_type": "code",
   "execution_count": 98,
   "outputs": [],
   "source": [
    "res_mlp = find_best_conf(best_cfg, mlp_all)\n",
    "# df_test_metric = summary_statistics_model(df_test_metric, res_mlp, \"mlp\")"
   ],
   "metadata": {
    "collapsed": false,
    "pycharm": {
     "name": "#%%\n"
    }
   }
  },
  {
   "cell_type": "markdown",
   "source": [
    "#### mlp with different batch_size"
   ],
   "metadata": {
    "collapsed": false,
    "pycharm": {
     "name": "#%% md\n"
    }
   }
  },
  {
   "cell_type": "code",
   "execution_count": 99,
   "outputs": [
    {
     "data": {
      "text/plain": "    Unnamed: 0  cfg  fold  loss_test   acc_test   f1_test  mean_loss  \\\n0            0    0     1   0.348884  87.490494  0.875153   0.296292   \n1            1    1     1  15.091728  20.228137  0.209998   0.291111   \n2            2    2     1   0.356632  85.969582  0.859864   0.288100   \n3            3    3     1  10.582386  25.247148  0.217761   0.297751   \n4            4    4     1   9.631389  25.323194  0.235109   0.319479   \n5            5    5     1   9.227713  16.768061  0.181358   0.361647   \n6            6    6     1   3.288361  29.467681  0.279572   0.423522   \n7            7    7     1   2.779563  24.524715  0.211321   0.519374   \n8            8    8     1   2.800086  12.623574  0.115415   0.629163   \n9            9    9     1   1.757985  31.634981  0.260313   0.741449   \n10          10   10     1   2.182848  24.904943  0.214383   0.858766   \n11          11   11     1   2.276625  24.030418  0.193199   0.975936   \n12          12    0     2   5.146461  22.395437  0.193357   0.418973   \n13          13    1     2   5.980423  19.923954  0.153172   0.429276   \n14          14    2     2   6.758146  19.961977  0.155895   0.442135   \n15          15    3     2   2.586429  36.768061  0.342418   0.464346   \n16          16    4     2   0.725947  69.125475  0.690144   0.498248   \n17          17    5     2   2.603680  33.992395  0.293624   0.533362   \n18          18    6     2   2.735819  26.730038  0.208743   0.579297   \n19          19    7     2   3.059766  21.330798  0.159363   0.647556   \n20          20    8     2   1.021873  57.642586  0.584644   0.729931   \n21          21    9     2   1.395127  45.095057  0.476292   0.825965   \n22          22   10     2   2.002801   5.209125  0.070480   0.931313   \n23          23   11     2   2.283311  19.429658  0.154208   1.041618   \n24          24    0     3   7.328373  20.958539  0.176184   0.389577   \n25          25    1     3   0.507486  78.508939  0.785091   0.381314   \n26          26    2     3   0.528158  77.710156  0.777365   0.382887   \n27          27    3     3   4.159561  28.261696  0.225467   0.393805   \n28          28    4     3   3.305332  28.870293  0.256746   0.420329   \n29          29    5     3   3.619031  25.675162  0.202465   0.459802   \n30          30    6     3   3.170590  24.153671  0.197376   0.515836   \n31          31    7     3   2.687964  23.088627  0.212932   0.590165   \n32          32    8     3   2.161569  23.887410  0.176670   0.693629   \n33          33    9     3   2.168018  22.898440  0.172158   0.798414   \n34          34   10     3   2.169248  14.530240  0.106428   0.917046   \n35          35   11     3   2.308695   5.287181  0.069595   1.030170   \n36          36    0     4   5.065099  25.294789  0.219593   0.441277   \n37          37    1     4   5.782515  20.387980  0.154483   0.430040   \n38          38    2     4   5.432697  23.278813  0.207447   0.432396   \n39          39    3     4   4.900993  21.795359  0.168376   0.447550   \n40          40    4     4   0.746485  67.402054  0.673056   0.475212   \n41          41    5     4   0.752919  67.820464  0.678603   0.507240   \n42          42    6     4   3.929914  22.556105  0.181502   0.550990   \n43          43    7     4   2.639137  25.979460  0.229743   0.621252   \n44          44    8     4   1.100638  51.692659  0.531694   0.711727   \n45          45    9     4   2.068751  29.440852  0.244574   0.803124   \n46          46   10     4   2.143313  15.405097  0.094305   0.910729   \n47          47   11     4   2.243750  23.849372  0.153677   1.022991   \n48          48    0     5   6.898598  24.496006  0.182719   0.377338   \n49          49    1     5   0.512128  79.155572  0.791148   0.371927   \n50          50    2     5   4.171812  25.675162  0.212755   0.378901   \n51          51    3     5   5.728928  15.823507  0.125773   0.394540   \n52          52    4     5   4.419438  20.235831  0.146715   0.421343   \n53          53    5     5   4.151692  19.170787  0.151987   0.461000   \n54          54    6     5   4.136667  16.812476  0.126753   0.518419   \n55          55    7     5   2.378523  31.038418  0.255195   0.599314   \n56          56    8     5   1.888792  29.897299  0.234182   0.699181   \n57          57    9     5   2.130504  24.115633  0.184889   0.804360   \n58          58   10     5   2.214038   6.542412  0.077850   0.922585   \n59          59   11     5   2.289918  17.649296  0.157904   1.035289   \n\n    std_loss  mean_acc_val  std_acc_val  mean_acc_train  std_acc_train  \\\n0   0.010082     75.748691     1.065598       87.939177       0.419147   \n1   0.017379     75.668044     1.487801       88.159382       0.770204   \n2   0.018395     76.100483     1.412868       88.267495       0.791421   \n3   0.024154     76.007135     1.312309       87.834914       1.064710   \n4   0.049000     75.567302     1.564161       86.885441       2.148539   \n5   0.105564     74.345867     3.096015       85.056879       4.587890   \n6   0.180814     72.462558     5.439224       82.368509       7.856307   \n7   0.305257     69.637022     9.057991       78.173929      13.321446   \n8   0.424326     66.231464    12.933324       73.572002      18.108455   \n9   0.525020     62.453530    16.713793       69.171617      21.667389   \n10  0.623161     57.379215    22.643545       64.854171      24.764939   \n11  0.712029     53.839506    24.710867       61.464904      26.243617   \n12  0.009886     66.846529     0.388041       82.206383       0.369503   \n13  0.013054     66.873096     0.657260       81.758975       0.546679   \n14  0.022132     66.660232     1.004669       81.129403       1.036038   \n15  0.043682     66.261370     1.371806       80.185115       1.897173   \n16  0.078755     65.571098     1.908599       78.685795       3.468163   \n17  0.107176     64.974165     2.229877       77.139189       4.723691   \n18  0.150488     63.842546     3.486400       75.140779       6.583755   \n19  0.229137     62.543064     4.763782       72.099724      10.137053   \n20  0.318493     60.731265     6.891439       68.588050      13.801303   \n21  0.417918     57.718551    11.218113       64.776837      17.395204   \n22  0.519505     52.914054    18.583715       60.801532      20.811798   \n23  0.617443     49.492860    21.116016       57.585932      22.606905   \n24  0.012051     70.896653     0.836963       83.428762       0.561053   \n25  0.021347     71.230680     0.994857       83.739994       0.972522   \n26  0.018929     71.243995     1.000415       83.659684       0.865407   \n27  0.025381     71.025783     0.965511       83.169528       1.150365   \n28  0.057932     70.509137     1.467119       81.997688       2.574713   \n29  0.103454     69.698195     2.328537       80.275104       4.533867   \n30  0.168537     68.145290     4.393400       77.902688       7.215433   \n31  0.252465     65.952983     7.138404       74.704544      10.848422   \n32  0.378410     62.855171    11.192532       70.429514      15.851418   \n33  0.477233     59.262529    15.135152       66.356029      19.388682   \n34  0.589764     54.598578    20.694607       62.233763      22.622932   \n35  0.677942     50.883275    23.385035       58.856021      24.388871   \n36  0.021888     67.196018     1.410655       81.316503       0.974864   \n37  0.029475     67.696561     1.262941       81.799673       1.322806   \n38  0.025850     67.684042     1.242965       81.715650       1.156995   \n39  0.040042     67.192695     1.430781       81.017387       1.831648   \n40  0.066459     66.522841     1.940716       79.785896       2.986316   \n41  0.094173     66.047351     2.166565       78.349459       4.226912   \n42  0.138442     65.201558     2.890899       76.409056       6.169005   \n43  0.226942     63.752116     4.721337       73.243651      10.190438   \n44  0.333815     61.432978     7.965589       69.319399      14.691982   \n45  0.419552     58.518759    11.691860       65.584794      17.904682   \n46  0.525245     53.627729    19.102486       61.453219      21.498491   \n47  0.625718     49.972175    22.066202       58.037910      23.496085   \n48  0.024994     72.156304     1.551804       84.051923       1.184271   \n49  0.020232     72.451879     1.347061       84.313150       0.957064   \n50  0.022988     72.606558     1.257203       83.998981       1.050708   \n51  0.034574     72.428639     1.343786       83.303145       1.555568   \n52  0.063262     72.049348     1.444453       82.083722       2.868371   \n53  0.106386     71.186602     2.358205       80.349877       4.703818   \n54  0.172049     69.599980     4.459944       77.853602       7.543312   \n55  0.268897     67.314023     7.383443       74.259178      11.876596   \n56  0.379884     64.406782    10.793322       70.019262      16.417298   \n57  0.479202     60.768238    14.976124       65.845222      19.989480   \n58  0.590385     55.869583    21.093352       61.728704      23.081796   \n59  0.677674     52.133152    23.832184       58.261317      24.927049   \n\n    mean_f1_train  std_f1_train  mean_f1_val  std_f1_val  \n0        0.878682      0.004216     0.757065    0.011735  \n1        0.880869      0.007762     0.756927    0.014912  \n2        0.881971      0.008004     0.761235    0.014060  \n3        0.877645      0.010680     0.760354    0.013071  \n4        0.868086      0.021630     0.755972    0.015597  \n5        0.849603      0.046351     0.743652    0.031136  \n6        0.822076      0.080139     0.725246    0.053595  \n7        0.778544      0.137568     0.697264    0.089535  \n8        0.730337      0.188443     0.663577    0.127865  \n9        0.682587      0.229099     0.625964    0.165758  \n10       0.631712      0.271336     0.574436    0.227254  \n11       0.593732      0.288778     0.536010    0.252861  \n12       0.820802      0.003626     0.665592    0.005782  \n13       0.816312      0.005488     0.666495    0.007748  \n14       0.809994      0.010424     0.664542    0.009922  \n15       0.800492      0.019108     0.660712    0.013681  \n16       0.785456      0.034823     0.653836    0.019056  \n17       0.769765      0.047703     0.648130    0.021968  \n18       0.749112      0.067382     0.637016    0.034274  \n19       0.717480      0.104839     0.624273    0.046724  \n20       0.680397      0.144322     0.606706    0.067220  \n21       0.638348      0.186368     0.576701    0.111211  \n22       0.590779      0.232825     0.527936    0.187196  \n23       0.553173      0.255607     0.490470    0.218370  \n24       0.833257      0.005600     0.707430    0.008743  \n25       0.836420      0.009803     0.711214    0.010030  \n26       0.835634      0.008700     0.711519    0.009980  \n27       0.830719      0.011564     0.709476    0.009555  \n28       0.818892      0.025981     0.704397    0.014500  \n29       0.801510      0.045760     0.696444    0.022943  \n30       0.777245      0.073469     0.681032    0.043560  \n31       0.744102      0.111674     0.659232    0.070897  \n32       0.698967      0.165712     0.628908    0.110375  \n33       0.654455      0.206342     0.593664    0.148840  \n34       0.605057      0.251240     0.543834    0.212423  \n35       0.565301      0.274465     0.505444    0.240443  \n36       0.812053      0.009719     0.668920    0.014919  \n37       0.816867      0.013265     0.674830    0.013574  \n38       0.816053      0.011566     0.674967    0.012754  \n39       0.809089      0.018367     0.670036    0.014525  \n40       0.796735      0.029958     0.663544    0.019256  \n41       0.782252      0.042545     0.659151    0.021360  \n42       0.762346      0.062818     0.651203    0.027882  \n43       0.729432      0.105268     0.637450    0.045049  \n44       0.687814      0.154071     0.614544    0.077803  \n45       0.647055      0.190887     0.585451    0.116160  \n46       0.597343      0.240626     0.534700    0.195206  \n47       0.556259      0.267703     0.494445    0.230066  \n48       0.839522      0.011996     0.720957    0.015444  \n49       0.842231      0.009719     0.723606    0.013940  \n50       0.839120      0.010583     0.725046    0.013419  \n51       0.832154      0.015601     0.723639    0.013664  \n52       0.819911      0.028810     0.719952    0.014509  \n53       0.802386      0.047447     0.711571    0.023146  \n54       0.776903      0.076667     0.695959    0.043852  \n55       0.739652      0.122331     0.673499    0.072574  \n56       0.694921      0.171330     0.645033    0.105864  \n57       0.649739      0.211717     0.608975    0.147818  \n58       0.600550      0.254878     0.559299    0.211312  \n59       0.561227      0.276975     0.519464    0.242803  ",
      "text/html": "<div>\n<style scoped>\n    .dataframe tbody tr th:only-of-type {\n        vertical-align: middle;\n    }\n\n    .dataframe tbody tr th {\n        vertical-align: top;\n    }\n\n    .dataframe thead th {\n        text-align: right;\n    }\n</style>\n<table border=\"1\" class=\"dataframe\">\n  <thead>\n    <tr style=\"text-align: right;\">\n      <th></th>\n      <th>Unnamed: 0</th>\n      <th>cfg</th>\n      <th>fold</th>\n      <th>loss_test</th>\n      <th>acc_test</th>\n      <th>f1_test</th>\n      <th>mean_loss</th>\n      <th>std_loss</th>\n      <th>mean_acc_val</th>\n      <th>std_acc_val</th>\n      <th>mean_acc_train</th>\n      <th>std_acc_train</th>\n      <th>mean_f1_train</th>\n      <th>std_f1_train</th>\n      <th>mean_f1_val</th>\n      <th>std_f1_val</th>\n    </tr>\n  </thead>\n  <tbody>\n    <tr>\n      <th>0</th>\n      <td>0</td>\n      <td>0</td>\n      <td>1</td>\n      <td>0.348884</td>\n      <td>87.490494</td>\n      <td>0.875153</td>\n      <td>0.296292</td>\n      <td>0.010082</td>\n      <td>75.748691</td>\n      <td>1.065598</td>\n      <td>87.939177</td>\n      <td>0.419147</td>\n      <td>0.878682</td>\n      <td>0.004216</td>\n      <td>0.757065</td>\n      <td>0.011735</td>\n    </tr>\n    <tr>\n      <th>1</th>\n      <td>1</td>\n      <td>1</td>\n      <td>1</td>\n      <td>15.091728</td>\n      <td>20.228137</td>\n      <td>0.209998</td>\n      <td>0.291111</td>\n      <td>0.017379</td>\n      <td>75.668044</td>\n      <td>1.487801</td>\n      <td>88.159382</td>\n      <td>0.770204</td>\n      <td>0.880869</td>\n      <td>0.007762</td>\n      <td>0.756927</td>\n      <td>0.014912</td>\n    </tr>\n    <tr>\n      <th>2</th>\n      <td>2</td>\n      <td>2</td>\n      <td>1</td>\n      <td>0.356632</td>\n      <td>85.969582</td>\n      <td>0.859864</td>\n      <td>0.288100</td>\n      <td>0.018395</td>\n      <td>76.100483</td>\n      <td>1.412868</td>\n      <td>88.267495</td>\n      <td>0.791421</td>\n      <td>0.881971</td>\n      <td>0.008004</td>\n      <td>0.761235</td>\n      <td>0.014060</td>\n    </tr>\n    <tr>\n      <th>3</th>\n      <td>3</td>\n      <td>3</td>\n      <td>1</td>\n      <td>10.582386</td>\n      <td>25.247148</td>\n      <td>0.217761</td>\n      <td>0.297751</td>\n      <td>0.024154</td>\n      <td>76.007135</td>\n      <td>1.312309</td>\n      <td>87.834914</td>\n      <td>1.064710</td>\n      <td>0.877645</td>\n      <td>0.010680</td>\n      <td>0.760354</td>\n      <td>0.013071</td>\n    </tr>\n    <tr>\n      <th>4</th>\n      <td>4</td>\n      <td>4</td>\n      <td>1</td>\n      <td>9.631389</td>\n      <td>25.323194</td>\n      <td>0.235109</td>\n      <td>0.319479</td>\n      <td>0.049000</td>\n      <td>75.567302</td>\n      <td>1.564161</td>\n      <td>86.885441</td>\n      <td>2.148539</td>\n      <td>0.868086</td>\n      <td>0.021630</td>\n      <td>0.755972</td>\n      <td>0.015597</td>\n    </tr>\n    <tr>\n      <th>5</th>\n      <td>5</td>\n      <td>5</td>\n      <td>1</td>\n      <td>9.227713</td>\n      <td>16.768061</td>\n      <td>0.181358</td>\n      <td>0.361647</td>\n      <td>0.105564</td>\n      <td>74.345867</td>\n      <td>3.096015</td>\n      <td>85.056879</td>\n      <td>4.587890</td>\n      <td>0.849603</td>\n      <td>0.046351</td>\n      <td>0.743652</td>\n      <td>0.031136</td>\n    </tr>\n    <tr>\n      <th>6</th>\n      <td>6</td>\n      <td>6</td>\n      <td>1</td>\n      <td>3.288361</td>\n      <td>29.467681</td>\n      <td>0.279572</td>\n      <td>0.423522</td>\n      <td>0.180814</td>\n      <td>72.462558</td>\n      <td>5.439224</td>\n      <td>82.368509</td>\n      <td>7.856307</td>\n      <td>0.822076</td>\n      <td>0.080139</td>\n      <td>0.725246</td>\n      <td>0.053595</td>\n    </tr>\n    <tr>\n      <th>7</th>\n      <td>7</td>\n      <td>7</td>\n      <td>1</td>\n      <td>2.779563</td>\n      <td>24.524715</td>\n      <td>0.211321</td>\n      <td>0.519374</td>\n      <td>0.305257</td>\n      <td>69.637022</td>\n      <td>9.057991</td>\n      <td>78.173929</td>\n      <td>13.321446</td>\n      <td>0.778544</td>\n      <td>0.137568</td>\n      <td>0.697264</td>\n      <td>0.089535</td>\n    </tr>\n    <tr>\n      <th>8</th>\n      <td>8</td>\n      <td>8</td>\n      <td>1</td>\n      <td>2.800086</td>\n      <td>12.623574</td>\n      <td>0.115415</td>\n      <td>0.629163</td>\n      <td>0.424326</td>\n      <td>66.231464</td>\n      <td>12.933324</td>\n      <td>73.572002</td>\n      <td>18.108455</td>\n      <td>0.730337</td>\n      <td>0.188443</td>\n      <td>0.663577</td>\n      <td>0.127865</td>\n    </tr>\n    <tr>\n      <th>9</th>\n      <td>9</td>\n      <td>9</td>\n      <td>1</td>\n      <td>1.757985</td>\n      <td>31.634981</td>\n      <td>0.260313</td>\n      <td>0.741449</td>\n      <td>0.525020</td>\n      <td>62.453530</td>\n      <td>16.713793</td>\n      <td>69.171617</td>\n      <td>21.667389</td>\n      <td>0.682587</td>\n      <td>0.229099</td>\n      <td>0.625964</td>\n      <td>0.165758</td>\n    </tr>\n    <tr>\n      <th>10</th>\n      <td>10</td>\n      <td>10</td>\n      <td>1</td>\n      <td>2.182848</td>\n      <td>24.904943</td>\n      <td>0.214383</td>\n      <td>0.858766</td>\n      <td>0.623161</td>\n      <td>57.379215</td>\n      <td>22.643545</td>\n      <td>64.854171</td>\n      <td>24.764939</td>\n      <td>0.631712</td>\n      <td>0.271336</td>\n      <td>0.574436</td>\n      <td>0.227254</td>\n    </tr>\n    <tr>\n      <th>11</th>\n      <td>11</td>\n      <td>11</td>\n      <td>1</td>\n      <td>2.276625</td>\n      <td>24.030418</td>\n      <td>0.193199</td>\n      <td>0.975936</td>\n      <td>0.712029</td>\n      <td>53.839506</td>\n      <td>24.710867</td>\n      <td>61.464904</td>\n      <td>26.243617</td>\n      <td>0.593732</td>\n      <td>0.288778</td>\n      <td>0.536010</td>\n      <td>0.252861</td>\n    </tr>\n    <tr>\n      <th>12</th>\n      <td>12</td>\n      <td>0</td>\n      <td>2</td>\n      <td>5.146461</td>\n      <td>22.395437</td>\n      <td>0.193357</td>\n      <td>0.418973</td>\n      <td>0.009886</td>\n      <td>66.846529</td>\n      <td>0.388041</td>\n      <td>82.206383</td>\n      <td>0.369503</td>\n      <td>0.820802</td>\n      <td>0.003626</td>\n      <td>0.665592</td>\n      <td>0.005782</td>\n    </tr>\n    <tr>\n      <th>13</th>\n      <td>13</td>\n      <td>1</td>\n      <td>2</td>\n      <td>5.980423</td>\n      <td>19.923954</td>\n      <td>0.153172</td>\n      <td>0.429276</td>\n      <td>0.013054</td>\n      <td>66.873096</td>\n      <td>0.657260</td>\n      <td>81.758975</td>\n      <td>0.546679</td>\n      <td>0.816312</td>\n      <td>0.005488</td>\n      <td>0.666495</td>\n      <td>0.007748</td>\n    </tr>\n    <tr>\n      <th>14</th>\n      <td>14</td>\n      <td>2</td>\n      <td>2</td>\n      <td>6.758146</td>\n      <td>19.961977</td>\n      <td>0.155895</td>\n      <td>0.442135</td>\n      <td>0.022132</td>\n      <td>66.660232</td>\n      <td>1.004669</td>\n      <td>81.129403</td>\n      <td>1.036038</td>\n      <td>0.809994</td>\n      <td>0.010424</td>\n      <td>0.664542</td>\n      <td>0.009922</td>\n    </tr>\n    <tr>\n      <th>15</th>\n      <td>15</td>\n      <td>3</td>\n      <td>2</td>\n      <td>2.586429</td>\n      <td>36.768061</td>\n      <td>0.342418</td>\n      <td>0.464346</td>\n      <td>0.043682</td>\n      <td>66.261370</td>\n      <td>1.371806</td>\n      <td>80.185115</td>\n      <td>1.897173</td>\n      <td>0.800492</td>\n      <td>0.019108</td>\n      <td>0.660712</td>\n      <td>0.013681</td>\n    </tr>\n    <tr>\n      <th>16</th>\n      <td>16</td>\n      <td>4</td>\n      <td>2</td>\n      <td>0.725947</td>\n      <td>69.125475</td>\n      <td>0.690144</td>\n      <td>0.498248</td>\n      <td>0.078755</td>\n      <td>65.571098</td>\n      <td>1.908599</td>\n      <td>78.685795</td>\n      <td>3.468163</td>\n      <td>0.785456</td>\n      <td>0.034823</td>\n      <td>0.653836</td>\n      <td>0.019056</td>\n    </tr>\n    <tr>\n      <th>17</th>\n      <td>17</td>\n      <td>5</td>\n      <td>2</td>\n      <td>2.603680</td>\n      <td>33.992395</td>\n      <td>0.293624</td>\n      <td>0.533362</td>\n      <td>0.107176</td>\n      <td>64.974165</td>\n      <td>2.229877</td>\n      <td>77.139189</td>\n      <td>4.723691</td>\n      <td>0.769765</td>\n      <td>0.047703</td>\n      <td>0.648130</td>\n      <td>0.021968</td>\n    </tr>\n    <tr>\n      <th>18</th>\n      <td>18</td>\n      <td>6</td>\n      <td>2</td>\n      <td>2.735819</td>\n      <td>26.730038</td>\n      <td>0.208743</td>\n      <td>0.579297</td>\n      <td>0.150488</td>\n      <td>63.842546</td>\n      <td>3.486400</td>\n      <td>75.140779</td>\n      <td>6.583755</td>\n      <td>0.749112</td>\n      <td>0.067382</td>\n      <td>0.637016</td>\n      <td>0.034274</td>\n    </tr>\n    <tr>\n      <th>19</th>\n      <td>19</td>\n      <td>7</td>\n      <td>2</td>\n      <td>3.059766</td>\n      <td>21.330798</td>\n      <td>0.159363</td>\n      <td>0.647556</td>\n      <td>0.229137</td>\n      <td>62.543064</td>\n      <td>4.763782</td>\n      <td>72.099724</td>\n      <td>10.137053</td>\n      <td>0.717480</td>\n      <td>0.104839</td>\n      <td>0.624273</td>\n      <td>0.046724</td>\n    </tr>\n    <tr>\n      <th>20</th>\n      <td>20</td>\n      <td>8</td>\n      <td>2</td>\n      <td>1.021873</td>\n      <td>57.642586</td>\n      <td>0.584644</td>\n      <td>0.729931</td>\n      <td>0.318493</td>\n      <td>60.731265</td>\n      <td>6.891439</td>\n      <td>68.588050</td>\n      <td>13.801303</td>\n      <td>0.680397</td>\n      <td>0.144322</td>\n      <td>0.606706</td>\n      <td>0.067220</td>\n    </tr>\n    <tr>\n      <th>21</th>\n      <td>21</td>\n      <td>9</td>\n      <td>2</td>\n      <td>1.395127</td>\n      <td>45.095057</td>\n      <td>0.476292</td>\n      <td>0.825965</td>\n      <td>0.417918</td>\n      <td>57.718551</td>\n      <td>11.218113</td>\n      <td>64.776837</td>\n      <td>17.395204</td>\n      <td>0.638348</td>\n      <td>0.186368</td>\n      <td>0.576701</td>\n      <td>0.111211</td>\n    </tr>\n    <tr>\n      <th>22</th>\n      <td>22</td>\n      <td>10</td>\n      <td>2</td>\n      <td>2.002801</td>\n      <td>5.209125</td>\n      <td>0.070480</td>\n      <td>0.931313</td>\n      <td>0.519505</td>\n      <td>52.914054</td>\n      <td>18.583715</td>\n      <td>60.801532</td>\n      <td>20.811798</td>\n      <td>0.590779</td>\n      <td>0.232825</td>\n      <td>0.527936</td>\n      <td>0.187196</td>\n    </tr>\n    <tr>\n      <th>23</th>\n      <td>23</td>\n      <td>11</td>\n      <td>2</td>\n      <td>2.283311</td>\n      <td>19.429658</td>\n      <td>0.154208</td>\n      <td>1.041618</td>\n      <td>0.617443</td>\n      <td>49.492860</td>\n      <td>21.116016</td>\n      <td>57.585932</td>\n      <td>22.606905</td>\n      <td>0.553173</td>\n      <td>0.255607</td>\n      <td>0.490470</td>\n      <td>0.218370</td>\n    </tr>\n    <tr>\n      <th>24</th>\n      <td>24</td>\n      <td>0</td>\n      <td>3</td>\n      <td>7.328373</td>\n      <td>20.958539</td>\n      <td>0.176184</td>\n      <td>0.389577</td>\n      <td>0.012051</td>\n      <td>70.896653</td>\n      <td>0.836963</td>\n      <td>83.428762</td>\n      <td>0.561053</td>\n      <td>0.833257</td>\n      <td>0.005600</td>\n      <td>0.707430</td>\n      <td>0.008743</td>\n    </tr>\n    <tr>\n      <th>25</th>\n      <td>25</td>\n      <td>1</td>\n      <td>3</td>\n      <td>0.507486</td>\n      <td>78.508939</td>\n      <td>0.785091</td>\n      <td>0.381314</td>\n      <td>0.021347</td>\n      <td>71.230680</td>\n      <td>0.994857</td>\n      <td>83.739994</td>\n      <td>0.972522</td>\n      <td>0.836420</td>\n      <td>0.009803</td>\n      <td>0.711214</td>\n      <td>0.010030</td>\n    </tr>\n    <tr>\n      <th>26</th>\n      <td>26</td>\n      <td>2</td>\n      <td>3</td>\n      <td>0.528158</td>\n      <td>77.710156</td>\n      <td>0.777365</td>\n      <td>0.382887</td>\n      <td>0.018929</td>\n      <td>71.243995</td>\n      <td>1.000415</td>\n      <td>83.659684</td>\n      <td>0.865407</td>\n      <td>0.835634</td>\n      <td>0.008700</td>\n      <td>0.711519</td>\n      <td>0.009980</td>\n    </tr>\n    <tr>\n      <th>27</th>\n      <td>27</td>\n      <td>3</td>\n      <td>3</td>\n      <td>4.159561</td>\n      <td>28.261696</td>\n      <td>0.225467</td>\n      <td>0.393805</td>\n      <td>0.025381</td>\n      <td>71.025783</td>\n      <td>0.965511</td>\n      <td>83.169528</td>\n      <td>1.150365</td>\n      <td>0.830719</td>\n      <td>0.011564</td>\n      <td>0.709476</td>\n      <td>0.009555</td>\n    </tr>\n    <tr>\n      <th>28</th>\n      <td>28</td>\n      <td>4</td>\n      <td>3</td>\n      <td>3.305332</td>\n      <td>28.870293</td>\n      <td>0.256746</td>\n      <td>0.420329</td>\n      <td>0.057932</td>\n      <td>70.509137</td>\n      <td>1.467119</td>\n      <td>81.997688</td>\n      <td>2.574713</td>\n      <td>0.818892</td>\n      <td>0.025981</td>\n      <td>0.704397</td>\n      <td>0.014500</td>\n    </tr>\n    <tr>\n      <th>29</th>\n      <td>29</td>\n      <td>5</td>\n      <td>3</td>\n      <td>3.619031</td>\n      <td>25.675162</td>\n      <td>0.202465</td>\n      <td>0.459802</td>\n      <td>0.103454</td>\n      <td>69.698195</td>\n      <td>2.328537</td>\n      <td>80.275104</td>\n      <td>4.533867</td>\n      <td>0.801510</td>\n      <td>0.045760</td>\n      <td>0.696444</td>\n      <td>0.022943</td>\n    </tr>\n    <tr>\n      <th>30</th>\n      <td>30</td>\n      <td>6</td>\n      <td>3</td>\n      <td>3.170590</td>\n      <td>24.153671</td>\n      <td>0.197376</td>\n      <td>0.515836</td>\n      <td>0.168537</td>\n      <td>68.145290</td>\n      <td>4.393400</td>\n      <td>77.902688</td>\n      <td>7.215433</td>\n      <td>0.777245</td>\n      <td>0.073469</td>\n      <td>0.681032</td>\n      <td>0.043560</td>\n    </tr>\n    <tr>\n      <th>31</th>\n      <td>31</td>\n      <td>7</td>\n      <td>3</td>\n      <td>2.687964</td>\n      <td>23.088627</td>\n      <td>0.212932</td>\n      <td>0.590165</td>\n      <td>0.252465</td>\n      <td>65.952983</td>\n      <td>7.138404</td>\n      <td>74.704544</td>\n      <td>10.848422</td>\n      <td>0.744102</td>\n      <td>0.111674</td>\n      <td>0.659232</td>\n      <td>0.070897</td>\n    </tr>\n    <tr>\n      <th>32</th>\n      <td>32</td>\n      <td>8</td>\n      <td>3</td>\n      <td>2.161569</td>\n      <td>23.887410</td>\n      <td>0.176670</td>\n      <td>0.693629</td>\n      <td>0.378410</td>\n      <td>62.855171</td>\n      <td>11.192532</td>\n      <td>70.429514</td>\n      <td>15.851418</td>\n      <td>0.698967</td>\n      <td>0.165712</td>\n      <td>0.628908</td>\n      <td>0.110375</td>\n    </tr>\n    <tr>\n      <th>33</th>\n      <td>33</td>\n      <td>9</td>\n      <td>3</td>\n      <td>2.168018</td>\n      <td>22.898440</td>\n      <td>0.172158</td>\n      <td>0.798414</td>\n      <td>0.477233</td>\n      <td>59.262529</td>\n      <td>15.135152</td>\n      <td>66.356029</td>\n      <td>19.388682</td>\n      <td>0.654455</td>\n      <td>0.206342</td>\n      <td>0.593664</td>\n      <td>0.148840</td>\n    </tr>\n    <tr>\n      <th>34</th>\n      <td>34</td>\n      <td>10</td>\n      <td>3</td>\n      <td>2.169248</td>\n      <td>14.530240</td>\n      <td>0.106428</td>\n      <td>0.917046</td>\n      <td>0.589764</td>\n      <td>54.598578</td>\n      <td>20.694607</td>\n      <td>62.233763</td>\n      <td>22.622932</td>\n      <td>0.605057</td>\n      <td>0.251240</td>\n      <td>0.543834</td>\n      <td>0.212423</td>\n    </tr>\n    <tr>\n      <th>35</th>\n      <td>35</td>\n      <td>11</td>\n      <td>3</td>\n      <td>2.308695</td>\n      <td>5.287181</td>\n      <td>0.069595</td>\n      <td>1.030170</td>\n      <td>0.677942</td>\n      <td>50.883275</td>\n      <td>23.385035</td>\n      <td>58.856021</td>\n      <td>24.388871</td>\n      <td>0.565301</td>\n      <td>0.274465</td>\n      <td>0.505444</td>\n      <td>0.240443</td>\n    </tr>\n    <tr>\n      <th>36</th>\n      <td>36</td>\n      <td>0</td>\n      <td>4</td>\n      <td>5.065099</td>\n      <td>25.294789</td>\n      <td>0.219593</td>\n      <td>0.441277</td>\n      <td>0.021888</td>\n      <td>67.196018</td>\n      <td>1.410655</td>\n      <td>81.316503</td>\n      <td>0.974864</td>\n      <td>0.812053</td>\n      <td>0.009719</td>\n      <td>0.668920</td>\n      <td>0.014919</td>\n    </tr>\n    <tr>\n      <th>37</th>\n      <td>37</td>\n      <td>1</td>\n      <td>4</td>\n      <td>5.782515</td>\n      <td>20.387980</td>\n      <td>0.154483</td>\n      <td>0.430040</td>\n      <td>0.029475</td>\n      <td>67.696561</td>\n      <td>1.262941</td>\n      <td>81.799673</td>\n      <td>1.322806</td>\n      <td>0.816867</td>\n      <td>0.013265</td>\n      <td>0.674830</td>\n      <td>0.013574</td>\n    </tr>\n    <tr>\n      <th>38</th>\n      <td>38</td>\n      <td>2</td>\n      <td>4</td>\n      <td>5.432697</td>\n      <td>23.278813</td>\n      <td>0.207447</td>\n      <td>0.432396</td>\n      <td>0.025850</td>\n      <td>67.684042</td>\n      <td>1.242965</td>\n      <td>81.715650</td>\n      <td>1.156995</td>\n      <td>0.816053</td>\n      <td>0.011566</td>\n      <td>0.674967</td>\n      <td>0.012754</td>\n    </tr>\n    <tr>\n      <th>39</th>\n      <td>39</td>\n      <td>3</td>\n      <td>4</td>\n      <td>4.900993</td>\n      <td>21.795359</td>\n      <td>0.168376</td>\n      <td>0.447550</td>\n      <td>0.040042</td>\n      <td>67.192695</td>\n      <td>1.430781</td>\n      <td>81.017387</td>\n      <td>1.831648</td>\n      <td>0.809089</td>\n      <td>0.018367</td>\n      <td>0.670036</td>\n      <td>0.014525</td>\n    </tr>\n    <tr>\n      <th>40</th>\n      <td>40</td>\n      <td>4</td>\n      <td>4</td>\n      <td>0.746485</td>\n      <td>67.402054</td>\n      <td>0.673056</td>\n      <td>0.475212</td>\n      <td>0.066459</td>\n      <td>66.522841</td>\n      <td>1.940716</td>\n      <td>79.785896</td>\n      <td>2.986316</td>\n      <td>0.796735</td>\n      <td>0.029958</td>\n      <td>0.663544</td>\n      <td>0.019256</td>\n    </tr>\n    <tr>\n      <th>41</th>\n      <td>41</td>\n      <td>5</td>\n      <td>4</td>\n      <td>0.752919</td>\n      <td>67.820464</td>\n      <td>0.678603</td>\n      <td>0.507240</td>\n      <td>0.094173</td>\n      <td>66.047351</td>\n      <td>2.166565</td>\n      <td>78.349459</td>\n      <td>4.226912</td>\n      <td>0.782252</td>\n      <td>0.042545</td>\n      <td>0.659151</td>\n      <td>0.021360</td>\n    </tr>\n    <tr>\n      <th>42</th>\n      <td>42</td>\n      <td>6</td>\n      <td>4</td>\n      <td>3.929914</td>\n      <td>22.556105</td>\n      <td>0.181502</td>\n      <td>0.550990</td>\n      <td>0.138442</td>\n      <td>65.201558</td>\n      <td>2.890899</td>\n      <td>76.409056</td>\n      <td>6.169005</td>\n      <td>0.762346</td>\n      <td>0.062818</td>\n      <td>0.651203</td>\n      <td>0.027882</td>\n    </tr>\n    <tr>\n      <th>43</th>\n      <td>43</td>\n      <td>7</td>\n      <td>4</td>\n      <td>2.639137</td>\n      <td>25.979460</td>\n      <td>0.229743</td>\n      <td>0.621252</td>\n      <td>0.226942</td>\n      <td>63.752116</td>\n      <td>4.721337</td>\n      <td>73.243651</td>\n      <td>10.190438</td>\n      <td>0.729432</td>\n      <td>0.105268</td>\n      <td>0.637450</td>\n      <td>0.045049</td>\n    </tr>\n    <tr>\n      <th>44</th>\n      <td>44</td>\n      <td>8</td>\n      <td>4</td>\n      <td>1.100638</td>\n      <td>51.692659</td>\n      <td>0.531694</td>\n      <td>0.711727</td>\n      <td>0.333815</td>\n      <td>61.432978</td>\n      <td>7.965589</td>\n      <td>69.319399</td>\n      <td>14.691982</td>\n      <td>0.687814</td>\n      <td>0.154071</td>\n      <td>0.614544</td>\n      <td>0.077803</td>\n    </tr>\n    <tr>\n      <th>45</th>\n      <td>45</td>\n      <td>9</td>\n      <td>4</td>\n      <td>2.068751</td>\n      <td>29.440852</td>\n      <td>0.244574</td>\n      <td>0.803124</td>\n      <td>0.419552</td>\n      <td>58.518759</td>\n      <td>11.691860</td>\n      <td>65.584794</td>\n      <td>17.904682</td>\n      <td>0.647055</td>\n      <td>0.190887</td>\n      <td>0.585451</td>\n      <td>0.116160</td>\n    </tr>\n    <tr>\n      <th>46</th>\n      <td>46</td>\n      <td>10</td>\n      <td>4</td>\n      <td>2.143313</td>\n      <td>15.405097</td>\n      <td>0.094305</td>\n      <td>0.910729</td>\n      <td>0.525245</td>\n      <td>53.627729</td>\n      <td>19.102486</td>\n      <td>61.453219</td>\n      <td>21.498491</td>\n      <td>0.597343</td>\n      <td>0.240626</td>\n      <td>0.534700</td>\n      <td>0.195206</td>\n    </tr>\n    <tr>\n      <th>47</th>\n      <td>47</td>\n      <td>11</td>\n      <td>4</td>\n      <td>2.243750</td>\n      <td>23.849372</td>\n      <td>0.153677</td>\n      <td>1.022991</td>\n      <td>0.625718</td>\n      <td>49.972175</td>\n      <td>22.066202</td>\n      <td>58.037910</td>\n      <td>23.496085</td>\n      <td>0.556259</td>\n      <td>0.267703</td>\n      <td>0.494445</td>\n      <td>0.230066</td>\n    </tr>\n    <tr>\n      <th>48</th>\n      <td>48</td>\n      <td>0</td>\n      <td>5</td>\n      <td>6.898598</td>\n      <td>24.496006</td>\n      <td>0.182719</td>\n      <td>0.377338</td>\n      <td>0.024994</td>\n      <td>72.156304</td>\n      <td>1.551804</td>\n      <td>84.051923</td>\n      <td>1.184271</td>\n      <td>0.839522</td>\n      <td>0.011996</td>\n      <td>0.720957</td>\n      <td>0.015444</td>\n    </tr>\n    <tr>\n      <th>49</th>\n      <td>49</td>\n      <td>1</td>\n      <td>5</td>\n      <td>0.512128</td>\n      <td>79.155572</td>\n      <td>0.791148</td>\n      <td>0.371927</td>\n      <td>0.020232</td>\n      <td>72.451879</td>\n      <td>1.347061</td>\n      <td>84.313150</td>\n      <td>0.957064</td>\n      <td>0.842231</td>\n      <td>0.009719</td>\n      <td>0.723606</td>\n      <td>0.013940</td>\n    </tr>\n    <tr>\n      <th>50</th>\n      <td>50</td>\n      <td>2</td>\n      <td>5</td>\n      <td>4.171812</td>\n      <td>25.675162</td>\n      <td>0.212755</td>\n      <td>0.378901</td>\n      <td>0.022988</td>\n      <td>72.606558</td>\n      <td>1.257203</td>\n      <td>83.998981</td>\n      <td>1.050708</td>\n      <td>0.839120</td>\n      <td>0.010583</td>\n      <td>0.725046</td>\n      <td>0.013419</td>\n    </tr>\n    <tr>\n      <th>51</th>\n      <td>51</td>\n      <td>3</td>\n      <td>5</td>\n      <td>5.728928</td>\n      <td>15.823507</td>\n      <td>0.125773</td>\n      <td>0.394540</td>\n      <td>0.034574</td>\n      <td>72.428639</td>\n      <td>1.343786</td>\n      <td>83.303145</td>\n      <td>1.555568</td>\n      <td>0.832154</td>\n      <td>0.015601</td>\n      <td>0.723639</td>\n      <td>0.013664</td>\n    </tr>\n    <tr>\n      <th>52</th>\n      <td>52</td>\n      <td>4</td>\n      <td>5</td>\n      <td>4.419438</td>\n      <td>20.235831</td>\n      <td>0.146715</td>\n      <td>0.421343</td>\n      <td>0.063262</td>\n      <td>72.049348</td>\n      <td>1.444453</td>\n      <td>82.083722</td>\n      <td>2.868371</td>\n      <td>0.819911</td>\n      <td>0.028810</td>\n      <td>0.719952</td>\n      <td>0.014509</td>\n    </tr>\n    <tr>\n      <th>53</th>\n      <td>53</td>\n      <td>5</td>\n      <td>5</td>\n      <td>4.151692</td>\n      <td>19.170787</td>\n      <td>0.151987</td>\n      <td>0.461000</td>\n      <td>0.106386</td>\n      <td>71.186602</td>\n      <td>2.358205</td>\n      <td>80.349877</td>\n      <td>4.703818</td>\n      <td>0.802386</td>\n      <td>0.047447</td>\n      <td>0.711571</td>\n      <td>0.023146</td>\n    </tr>\n    <tr>\n      <th>54</th>\n      <td>54</td>\n      <td>6</td>\n      <td>5</td>\n      <td>4.136667</td>\n      <td>16.812476</td>\n      <td>0.126753</td>\n      <td>0.518419</td>\n      <td>0.172049</td>\n      <td>69.599980</td>\n      <td>4.459944</td>\n      <td>77.853602</td>\n      <td>7.543312</td>\n      <td>0.776903</td>\n      <td>0.076667</td>\n      <td>0.695959</td>\n      <td>0.043852</td>\n    </tr>\n    <tr>\n      <th>55</th>\n      <td>55</td>\n      <td>7</td>\n      <td>5</td>\n      <td>2.378523</td>\n      <td>31.038418</td>\n      <td>0.255195</td>\n      <td>0.599314</td>\n      <td>0.268897</td>\n      <td>67.314023</td>\n      <td>7.383443</td>\n      <td>74.259178</td>\n      <td>11.876596</td>\n      <td>0.739652</td>\n      <td>0.122331</td>\n      <td>0.673499</td>\n      <td>0.072574</td>\n    </tr>\n    <tr>\n      <th>56</th>\n      <td>56</td>\n      <td>8</td>\n      <td>5</td>\n      <td>1.888792</td>\n      <td>29.897299</td>\n      <td>0.234182</td>\n      <td>0.699181</td>\n      <td>0.379884</td>\n      <td>64.406782</td>\n      <td>10.793322</td>\n      <td>70.019262</td>\n      <td>16.417298</td>\n      <td>0.694921</td>\n      <td>0.171330</td>\n      <td>0.645033</td>\n      <td>0.105864</td>\n    </tr>\n    <tr>\n      <th>57</th>\n      <td>57</td>\n      <td>9</td>\n      <td>5</td>\n      <td>2.130504</td>\n      <td>24.115633</td>\n      <td>0.184889</td>\n      <td>0.804360</td>\n      <td>0.479202</td>\n      <td>60.768238</td>\n      <td>14.976124</td>\n      <td>65.845222</td>\n      <td>19.989480</td>\n      <td>0.649739</td>\n      <td>0.211717</td>\n      <td>0.608975</td>\n      <td>0.147818</td>\n    </tr>\n    <tr>\n      <th>58</th>\n      <td>58</td>\n      <td>10</td>\n      <td>5</td>\n      <td>2.214038</td>\n      <td>6.542412</td>\n      <td>0.077850</td>\n      <td>0.922585</td>\n      <td>0.590385</td>\n      <td>55.869583</td>\n      <td>21.093352</td>\n      <td>61.728704</td>\n      <td>23.081796</td>\n      <td>0.600550</td>\n      <td>0.254878</td>\n      <td>0.559299</td>\n      <td>0.211312</td>\n    </tr>\n    <tr>\n      <th>59</th>\n      <td>59</td>\n      <td>11</td>\n      <td>5</td>\n      <td>2.289918</td>\n      <td>17.649296</td>\n      <td>0.157904</td>\n      <td>1.035289</td>\n      <td>0.677674</td>\n      <td>52.133152</td>\n      <td>23.832184</td>\n      <td>58.261317</td>\n      <td>24.927049</td>\n      <td>0.561227</td>\n      <td>0.276975</td>\n      <td>0.519464</td>\n      <td>0.242803</td>\n    </tr>\n  </tbody>\n</table>\n</div>"
     },
     "execution_count": 99,
     "metadata": {},
     "output_type": "execute_result"
    }
   ],
   "source": [
    "mlp_batch"
   ],
   "metadata": {
    "collapsed": false,
    "pycharm": {
     "name": "#%%\n"
    }
   }
  },
  {
   "cell_type": "markdown",
   "source": [
    "## Scikit learn best cfg"
   ],
   "metadata": {
    "collapsed": false,
    "pycharm": {
     "name": "#%% md\n"
    }
   }
  },
  {
   "cell_type": "code",
   "execution_count": 100,
   "outputs": [],
   "source": [
    "def calculate_statistics_sklearn(df: pd.DataFrame, model: str) -> Dict:\n",
    "    res = {'f1': mu_confidence_interval(df[df['model'] == model]['f1_test']),\n",
    "           'loss': mu_confidence_interval(df[df['model'] == model]['loss_test']),\n",
    "           'acc': mu_confidence_interval(df[df['model'] == model]['acc_test']),\n",
    "           'conf': df[df['model'] == model]['cfg'].unique()}\n",
    "    return res"
   ],
   "metadata": {
    "collapsed": false,
    "pycharm": {
     "name": "#%%\n"
    }
   }
  },
  {
   "cell_type": "markdown",
   "source": [
    "### Tree based"
   ],
   "metadata": {
    "collapsed": false,
    "pycharm": {
     "name": "#%% md\n"
    }
   }
  },
  {
   "cell_type": "markdown",
   "source": [
    "#### Random forest"
   ],
   "metadata": {
    "collapsed": false,
    "pycharm": {
     "name": "#%% md\n"
    }
   }
  },
  {
   "cell_type": "code",
   "execution_count": 101,
   "outputs": [
    {
     "name": "stdout",
     "output_type": "stream",
     "text": [
      "Best configuration Random forest classifier mean metrics:\n",
      "f1_score: 0.609756989767005 ±0.006529683898881055\n",
      "loss: 0.39225757744490736 ±0.00712946750658302\n",
      "acc: 0.6077424225550925 ±0.007129467506583035\n",
      "\n",
      "Best hyperparams configuration:\n",
      "[\"{'max_depth': 4, 'max_features': 'sqrt', 'n_estimators': 700}\"]\n"
     ]
    }
   ],
   "source": [
    "res_random_forest = calculate_statistics_sklearn(tree_res, 'random_forest_classifier')\n",
    "df_test_metric = summary_statistics_model(df_test_metric, res_random_forest, 'Random forest classifier')"
   ],
   "metadata": {
    "collapsed": false,
    "pycharm": {
     "name": "#%%\n"
    }
   }
  },
  {
   "cell_type": "markdown",
   "source": [
    "#### Decision tree"
   ],
   "metadata": {
    "collapsed": false,
    "pycharm": {
     "name": "#%% md\n"
    }
   }
  },
  {
   "cell_type": "code",
   "execution_count": 102,
   "outputs": [
    {
     "name": "stdout",
     "output_type": "stream",
     "text": [
      "Best configuration Decision tree classifier mean metrics:\n",
      "f1_score: 0.6402913493313054 ±0.004216781363865863\n",
      "loss: 0.36008162828469237 ±0.004052145718922026\n",
      "acc: 0.6399183717153076 ±0.004052145718922028\n",
      "\n",
      "Best hyperparams configuration:\n",
      "[\"{'criterion': 'entropy', 'max_depth': 15}\"]\n"
     ]
    }
   ],
   "source": [
    "res_decision_tree = calculate_statistics_sklearn(tree_res, 'decision_tree_classifier')\n",
    "df_test_metric = summary_statistics_model(df_test_metric, res_decision_tree, 'Decision tree classifier')"
   ],
   "metadata": {
    "collapsed": false,
    "pycharm": {
     "name": "#%%\n"
    }
   }
  },
  {
   "cell_type": "markdown",
   "source": [
    "## Naive bayes"
   ],
   "metadata": {
    "collapsed": false,
    "pycharm": {
     "name": "#%% md\n"
    }
   }
  },
  {
   "cell_type": "markdown",
   "source": [
    "#### Gaussian naive bayes"
   ],
   "metadata": {
    "collapsed": false,
    "pycharm": {
     "name": "#%% md\n"
    }
   }
  },
  {
   "cell_type": "code",
   "execution_count": 103,
   "outputs": [
    {
     "name": "stdout",
     "output_type": "stream",
     "text": [
      "Best configuration GaussianNB mean metrics:\n",
      "f1_score: 0.4526802764969494 ±0.010686051270129714\n",
      "loss: 0.5481864029029817 ±0.010409238716856704\n",
      "acc: 0.4518135970970182 ±0.010409238716856686\n",
      "\n",
      "Best hyperparams configuration:\n",
      "[\"{'var_smoothing': 8.111308307896872e-07}\"]\n"
     ]
    }
   ],
   "source": [
    "res_gaussian_nb = calculate_statistics_sklearn(naive_res, 'gaussian_nb')\n",
    "df_test_metric = summary_statistics_model(df_test_metric, res_gaussian_nb, 'GaussianNB')"
   ],
   "metadata": {
    "collapsed": false,
    "pycharm": {
     "name": "#%%\n"
    }
   }
  },
  {
   "cell_type": "markdown",
   "source": [
    "#### QDA"
   ],
   "metadata": {
    "collapsed": false,
    "pycharm": {
     "name": "#%% md\n"
    }
   }
  },
  {
   "cell_type": "code",
   "execution_count": 104,
   "outputs": [
    {
     "name": "stdout",
     "output_type": "stream",
     "text": [
      "Best configuration QDA mean metrics:\n",
      "f1_score: 0.5217235201683785 ±0.007963795942101407\n",
      "loss: 0.4649740608914607 ±0.00827922547607728\n",
      "acc: 0.5350259391085392 ±0.00827922547607726\n",
      "\n",
      "Best hyperparams configuration:\n",
      "[\"{'reg_param': 0.001, 'tol': 0.0001}\"]\n"
     ]
    }
   ],
   "source": [
    "res_qda = calculate_statistics_sklearn(naive_res, 'qda')\n",
    "df_test_metric = summary_statistics_model(df_test_metric, res_qda, 'QDA')"
   ],
   "metadata": {
    "collapsed": false,
    "pycharm": {
     "name": "#%%\n"
    }
   }
  },
  {
   "cell_type": "markdown",
   "source": [
    "## SVM"
   ],
   "metadata": {
    "collapsed": false,
    "pycharm": {
     "name": "#%% md\n"
    }
   }
  },
  {
   "cell_type": "code",
   "execution_count": 105,
   "outputs": [
    {
     "name": "stdout",
     "output_type": "stream",
     "text": [
      "Best configuration SVM mean metrics:\n",
      "f1_score: 0.8286206857647119 ±0.004227564469616818\n",
      "loss: 0.17076133850717423 ±0.004051273714411658\n",
      "acc: 0.8292386614928257 ±0.004051273714411657\n",
      "\n",
      "Best hyperparams configuration:\n",
      "[\"{'C': 100, 'gamma': 0.01, 'kernel': 'rbf'}\"]\n"
     ]
    }
   ],
   "source": [
    "res_svm = calculate_statistics_sklearn(svm_res, 'svc')\n",
    "df_test_metric = summary_statistics_model(df_test_metric, res_svm, 'SVM')"
   ],
   "metadata": {
    "collapsed": false,
    "pycharm": {
     "name": "#%%\n"
    }
   }
  },
  {
   "cell_type": "code",
   "execution_count": 106,
   "outputs": [],
   "source": [
    "\n",
    "# TODO: change function and params name? Return new list or use reference (it works)?\n",
    "def add_value_array(old_list: List, df_test: pd.DataFrame, col_name: str) -> None:\n",
    "    for model_name in df_test['model'].unique():\n",
    "        if col_name == 'metrics':\n",
    "            metric_value = df_test[df_test['model'] == model_name].iloc[:, 1:4].iloc[0]\n",
    "        else:\n",
    "            metric_value = df_test[df_test['model'] == model_name].iloc[:, 4:].iloc[0]\n",
    "\n",
    "        old_list.append(np.array(metric_value))\n"
   ],
   "metadata": {
    "collapsed": false,
    "pycharm": {
     "name": "#%%\n"
    }
   }
  },
  {
   "cell_type": "markdown",
   "source": [
    "### Preparing data to plot"
   ],
   "metadata": {
    "collapsed": false,
    "pycharm": {
     "name": "#%% md\n"
    }
   }
  },
  {
   "cell_type": "code",
   "execution_count": 107,
   "outputs": [],
   "source": [
    "metrics = []\n",
    "y_errs = []\n",
    "add_value_array(metrics, df_test_metric, 'metrics')\n",
    "add_value_array(y_errs, df_test_metric, 'interval')"
   ],
   "metadata": {
    "collapsed": false,
    "pycharm": {
     "name": "#%%\n"
    }
   }
  },
  {
   "cell_type": "code",
   "execution_count": 108,
   "outputs": [
    {
     "data": {
      "text/plain": "<Figure size 1152x720 with 1 Axes>",
      "image/png": "[encoded data removed]"
     },
     "metadata": {},
     "output_type": "display_data"
    }
   ],
   "source": [
    "barplot_multiple_columns(groups=['F1 score ', 'Accuracy', 'Loss (lower is better)'],\n",
    "                         elements_group=df_test_metric['model'].unique(), data=metrics, yerr=y_errs,\n",
    "                         title='Test metrics',\n",
    "                         upper_title=False)"
   ],
   "metadata": {
    "collapsed": false,
    "pycharm": {
     "name": "#%%\n"
    }
   }
  },
  {
   "cell_type": "markdown",
   "source": [
    "## Train & Validation"
   ],
   "metadata": {
    "collapsed": false,
    "pycharm": {
     "name": "#%% md\n"
    }
   }
  },
  {
   "cell_type": "code",
   "execution_count": 109,
   "outputs": [],
   "source": [
    "df_train_metric=pd.DataFrame()"
   ],
   "metadata": {
    "collapsed": false,
    "pycharm": {
     "name": "#%%\n"
    }
   }
  },
  {
   "cell_type": "markdown",
   "source": [
    "### MLP"
   ],
   "metadata": {
    "collapsed": false,
    "pycharm": {
     "name": "#%% md\n"
    }
   }
  },
  {
   "cell_type": "code",
   "execution_count": 110,
   "outputs": [],
   "source": [
    "def calculate_statistics_mlp_train(cfg:int, df: pd.DataFrame) -> dict:\n",
    "\n",
    "    res = {'train_score': mu_confidence_interval(df[df['cfg'] == cfg]['mean_f1_train']),\n",
    "               'val_score': mu_confidence_interval(df[df['cfg'] == cfg]['mean_f1_val']),\n",
    "               }\n",
    "    return res"
   ],
   "metadata": {
    "collapsed": false,
    "pycharm": {
     "name": "#%%\n"
    }
   }
  },
  {
   "cell_type": "code",
   "execution_count": 111,
   "outputs": [
    {
     "name": "stdout",
     "output_type": "stream",
     "text": [
      "Best configuration MLP mean metrics:\n",
      "train f1: 0.8755459737044162 ±0.0019265183510115194\n",
      "validation f1: 0.7959136321829858 ±0.0008824929662534333\n",
      "\n"
     ]
    }
   ],
   "source": [
    "res_mlp_train = calculate_statistics_mlp_train(3,mlp_all)\n",
    "df_train_metric = summary_statistics_model(df_train_metric, res_mlp_train, 'MLP', train=True)"
   ],
   "metadata": {
    "collapsed": false,
    "pycharm": {
     "name": "#%%\n"
    }
   }
  },
  {
   "cell_type": "markdown",
   "source": [
    "### Scikit-learn"
   ],
   "metadata": {
    "collapsed": false,
    "pycharm": {
     "name": "#%% md\n"
    }
   }
  },
  {
   "cell_type": "code",
   "execution_count": 112,
   "outputs": [],
   "source": [
    "def calculate_statistics_sklearn_train(df: pd.DataFrame,first:bool=True) -> Dict:\n",
    "    if first:\n",
    "        res = {'train_score': mu_confidence_interval(df['mean_train_score'].iloc[0:5]),\n",
    "               'val_score': mu_confidence_interval(df['mean_test_score'].iloc[0:5]),\n",
    "               }\n",
    "    else:\n",
    "        res = {'train_score': mu_confidence_interval(df['mean_train_score'].iloc[5:10]),\n",
    "               'val_score': mu_confidence_interval(df['mean_test_score'].iloc[5:10]),\n",
    "               }\n",
    "    return res"
   ],
   "metadata": {
    "collapsed": false,
    "pycharm": {
     "name": "#%%\n"
    }
   }
  },
  {
   "cell_type": "markdown",
   "source": [
    "#### SVM"
   ],
   "metadata": {
    "collapsed": false,
    "pycharm": {
     "name": "#%% md\n"
    }
   }
  },
  {
   "cell_type": "code",
   "execution_count": 113,
   "outputs": [
    {
     "name": "stdout",
     "output_type": "stream",
     "text": [
      "Best configuration SVM mean metrics:\n",
      "train f1: 0.9999782608688632 ±1.1833105435719024e-05\n",
      "validation f1: 0.9613343635021987 ±0.000923195543662202\n",
      "\n"
     ]
    }
   ],
   "source": [
    "res_svm_train = calculate_statistics_sklearn_train(svm_val)\n",
    "df_train_metric = summary_statistics_model(df_train_metric, res_svm_train, 'SVM', train=True)"
   ],
   "metadata": {
    "collapsed": false,
    "pycharm": {
     "name": "#%%\n"
    }
   }
  },
  {
   "cell_type": "markdown",
   "source": [
    "#### Random forest classifier"
   ],
   "metadata": {
    "collapsed": false,
    "pycharm": {
     "name": "#%% md\n"
    }
   }
  },
  {
   "cell_type": "code",
   "execution_count": 114,
   "outputs": [
    {
     "name": "stdout",
     "output_type": "stream",
     "text": [
      "Best configuration Random forest classifier mean metrics:\n",
      "train f1: 0.7894708757467401 ±0.0028370536720411406\n",
      "validation f1: 0.7813933618457191 ±0.0025529991410781342\n",
      "\n"
     ]
    }
   ],
   "source": [
    "res_random_forest_train = calculate_statistics_sklearn_train(tree_val)\n",
    "df_train_metric = summary_statistics_model(df_train_metric, res_random_forest_train, 'Random forest classifier', train=True)"
   ],
   "metadata": {
    "collapsed": false,
    "pycharm": {
     "name": "#%%\n"
    }
   }
  },
  {
   "cell_type": "markdown",
   "source": [
    "#### Decision tree classifier"
   ],
   "metadata": {
    "collapsed": false,
    "pycharm": {
     "name": "#%% md\n"
    }
   }
  },
  {
   "cell_type": "code",
   "execution_count": 115,
   "outputs": [
    {
     "name": "stdout",
     "output_type": "stream",
     "text": [
      "Best configuration Decision tree classifier mean metrics:\n",
      "train f1: 0.9982448027541722 ±0.0001574523340800961\n",
      "validation f1: 0.8668832921611014 ±0.0011549731147417086\n",
      "\n"
     ]
    }
   ],
   "source": [
    "res_decision_tree_train = calculate_statistics_sklearn_train(tree_val,first=False)\n",
    "df_train_metric = summary_statistics_model(df_train_metric, res_decision_tree_train, 'Decision tree classifier', train=True)"
   ],
   "metadata": {
    "collapsed": false,
    "pycharm": {
     "name": "#%%\n"
    }
   }
  },
  {
   "cell_type": "markdown",
   "source": [
    "#### GaussianNB"
   ],
   "metadata": {
    "collapsed": false,
    "pycharm": {
     "name": "#%% md\n"
    }
   }
  },
  {
   "cell_type": "code",
   "execution_count": 116,
   "outputs": [
    {
     "name": "stdout",
     "output_type": "stream",
     "text": [
      "Best configuration GaussianNB mean metrics:\n",
      "train f1: 0.7216627770722026 ±0.00336266744134676\n",
      "validation f1: 0.7074634406645496 ±0.003231430093703336\n",
      "\n"
     ]
    }
   ],
   "source": [
    "res_gaussian_nb_train = calculate_statistics_sklearn_train(naive_val)\n",
    "df_train_metric = summary_statistics_model(df_train_metric, res_gaussian_nb_train, 'GaussianNB', train=True)"
   ],
   "metadata": {
    "collapsed": false,
    "pycharm": {
     "name": "#%%\n"
    }
   }
  },
  {
   "cell_type": "markdown",
   "source": [
    "#### QDA"
   ],
   "metadata": {
    "collapsed": false,
    "pycharm": {
     "name": "#%% md\n"
    }
   }
  },
  {
   "cell_type": "code",
   "execution_count": 117,
   "outputs": [
    {
     "name": "stdout",
     "output_type": "stream",
     "text": [
      "Best configuration QDA mean metrics:\n",
      "train f1: 0.9870351447504125 ±0.00035963628820091814\n",
      "validation f1: 0.8985859150139989 ±0.0007798478399543219\n",
      "\n"
     ]
    }
   ],
   "source": [
    "res_qda_train = calculate_statistics_sklearn_train(naive_val,first=False)\n",
    "df_train_metric = summary_statistics_model(df_train_metric, res_qda_train, 'QDA', train=True)"
   ],
   "metadata": {
    "collapsed": false,
    "pycharm": {
     "name": "#%%\n"
    }
   }
  },
  {
   "cell_type": "code",
   "execution_count": 118,
   "outputs": [
    {
     "name": "stdout",
     "output_type": "stream",
     "text": [
      "[array([0.87554597, 0.79591363]), array([0.99997826, 0.96133436]), array([0.78947088, 0.78139336]), array([0.9982448 , 0.86688329]), array([0.72166278, 0.70746344]), array([0.98703514, 0.89858592])]\n",
      "[array([0.00192652, 0.00088249]), array([1.18331054e-05, 9.23195544e-04]), array([0.00283705, 0.002553  ]), array([0.00015745, 0.00115497]), array([0.00336267, 0.00323143]), array([0.00035964, 0.00077985])]\n"
     ]
    }
   ],
   "source": [
    "# TODO: change function and params name? Return new list or use reference (it works)?\n",
    "def add_value_array_train(old_list: List, df_test: pd.DataFrame, col_name: str) -> None:\n",
    "    for model_name in df_test['model'].unique():\n",
    "        if col_name == 'metrics':\n",
    "            metric_value = df_test[df_test['model'] == model_name].iloc[:, 1:3].iloc[0]\n",
    "        else:\n",
    "            metric_value = df_test[df_test['model'] == model_name].iloc[:, 3:].iloc[0]\n",
    "\n",
    "        old_list.append(np.array(metric_value))\n",
    "\n",
    "\n",
    "metrics = []\n",
    "add_value_array_train(metrics, df_train_metric, 'metrics')\n",
    "print(metrics)\n",
    "\n",
    "y_errs = []\n",
    "add_value_array_train(y_errs, df_train_metric, 'interval')\n",
    "print(y_errs)"
   ],
   "metadata": {
    "collapsed": false,
    "pycharm": {
     "name": "#%%\n"
    }
   }
  },
  {
   "cell_type": "code",
   "execution_count": 119,
   "outputs": [
    {
     "data": {
      "text/plain": "<Figure size 1152x720 with 1 Axes>",
      "image/png": "[encoded data removed]"
     },
     "metadata": {},
     "output_type": "display_data"
    }
   ],
   "source": [
    "barplot_multiple_columns(groups=['Training', 'Validation'],\n",
    "                         elements_group=df_train_metric['model'].unique(), data=metrics, yerr=y_errs,\n",
    "                         title='Train/val metrics',\n",
    "                         upper_title=False)"
   ],
   "metadata": {
    "collapsed": false,
    "pycharm": {
     "name": "#%%\n"
    }
   }
  }
 ],
 "metadata": {
  "kernelspec": {
   "display_name": "Python 3",
   "language": "python",
   "name": "python3"
  },
  "language_info": {
   "codemirror_mode": {
    "name": "ipython",
    "version": 2
   },
   "file_extension": ".py",
   "mimetype": "text/x-python",
   "name": "python",
   "nbconvert_exporter": "python",
   "pygments_lexer": "ipython2",
   "version": "2.7.6"
  }
 },
 "nbformat": 4,
 "nbformat_minor": 0
}