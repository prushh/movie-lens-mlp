{
 "cells": [
  {
   "cell_type": "markdown",
   "source": [
    "# Read results datasets"
   ],
   "metadata": {
    "collapsed": false,
    "pycharm": {
     "name": "#%% md\n"
    }
   }
  },
  {
   "cell_type": "markdown",
   "source": [
    "## Imports"
   ],
   "metadata": {
    "collapsed": false,
    "pycharm": {
     "name": "#%% md\n"
    }
   }
  },
  {
   "cell_type": "code",
   "execution_count": 30,
   "outputs": [],
   "source": [
    "import itertools\n",
    "import os.path\n",
    "from typing import List, Dict\n",
    "\n",
    "import numpy as np\n",
    "import pandas as pd\n",
    "\n",
    "from src.models.config import param_layers, param_grid_mlp\n",
    "from src.utils.const import MODEL_RESULTS_CSV\n",
    "from typing import Tuple"
   ],
   "metadata": {
    "collapsed": false,
    "pycharm": {
     "name": "#%%\n"
    }
   }
  },
  {
   "cell_type": "markdown",
   "source": [
    "### Useful path to data"
   ],
   "metadata": {
    "collapsed": false,
    "pycharm": {
     "name": "#%% md\n"
    }
   }
  },
  {
   "cell_type": "code",
   "execution_count": 2,
   "outputs": [],
   "source": [
    "RESULTS_FOLDER = os.path.join('..', MODEL_RESULTS_CSV)"
   ],
   "metadata": {
    "collapsed": false,
    "pycharm": {
     "name": "#%%\n"
    }
   }
  },
  {
   "cell_type": "markdown",
   "source": [
    "## Read output csv"
   ],
   "metadata": {
    "collapsed": false,
    "pycharm": {
     "name": "#%% md\n"
    }
   }
  },
  {
   "cell_type": "code",
   "execution_count": 3,
   "outputs": [],
   "source": [
    "mlp_all = pd.read_csv(os.path.join(RESULTS_FOLDER, 'out_mlp_all.csv'))\n",
    "svm_res = pd.read_csv(os.path.join(RESULTS_FOLDER, 'out_svm.csv'))\n",
    "naive_res = pd.read_csv(os.path.join(RESULTS_FOLDER, 'best_out_naive_bayes.csv'))\n",
    "tree_res = pd.read_csv(os.path.join(RESULTS_FOLDER, 'best_out_tree_based.csv'))"
   ],
   "metadata": {
    "collapsed": false,
    "pycharm": {
     "name": "#%%\n"
    }
   }
  },
  {
   "cell_type": "markdown",
   "source": [
    "## Find best configuration of MLP"
   ],
   "metadata": {
    "collapsed": false,
    "pycharm": {
     "name": "#%% md\n"
    }
   }
  },
  {
   "cell_type": "markdown",
   "source": [
    "### Utility function to explore results DataFrame"
   ],
   "metadata": {
    "collapsed": false,
    "pycharm": {
     "name": "#%% md\n"
    }
   }
  },
  {
   "cell_type": "markdown",
   "source": [
    "Find best configuration for each fold"
   ],
   "metadata": {
    "collapsed": false,
    "pycharm": {
     "name": "#%% md\n"
    }
   }
  },
  {
   "cell_type": "code",
   "execution_count": 4,
   "outputs": [],
   "source": [
    "def find_max_f1_cfg(df: pd.DataFrame) -> List:\n",
    "    cfg = []\n",
    "    for fold in df['fold'].unique():\n",
    "        idx = df[df['fold'] == fold]['f1_test'].idxmax()\n",
    "        cfg.append(df.iloc[idx]['cfg'])\n",
    "    cfgs = np.unique(np.array(cfg))\n",
    "    return cfgs"
   ],
   "metadata": {
    "collapsed": false,
    "pycharm": {
     "name": "#%%\n"
    }
   }
  },
  {
   "cell_type": "code",
   "execution_count": 5,
   "outputs": [
    {
     "name": "stdout",
     "output_type": "stream",
     "text": [
      "Best configuration ID: [ 3. 17. 18. 35.]\n"
     ]
    }
   ],
   "source": [
    "best_cfg = find_max_f1_cfg(mlp_all)\n",
    "print(f'Best configuration ID: {best_cfg}')"
   ],
   "metadata": {
    "collapsed": false,
    "pycharm": {
     "name": "#%%\n"
    }
   }
  },
  {
   "cell_type": "markdown",
   "source": [
    "Function that calculate the mean and the confidence interval with an accuracy of 90%"
   ],
   "metadata": {
    "collapsed": false,
    "pycharm": {
     "name": "#%% md\n"
    }
   }
  },
  {
   "cell_type": "code",
   "execution_count": 6,
   "outputs": [],
   "source": [
    "def mu_confidence_interval(data: np.ndarray) -> {}:\n",
    "    t = 1.64\n",
    "    mu = np.mean(data)\n",
    "    standard_deviation = np.std(data)\n",
    "    M = data.shape[0]\n",
    "    t_student = t * standard_deviation / np.sqrt(M)\n",
    "    first_interval = mu - t_student\n",
    "    second_interval = mu + t_student\n",
    "    return {\n",
    "        'mu': mu,\n",
    "        't_student': t_student,\n",
    "        'first_interval': first_interval,\n",
    "        'second_interval': second_interval\n",
    "    }"
   ],
   "metadata": {
    "collapsed": false,
    "pycharm": {
     "name": "#%%\n"
    }
   }
  },
  {
   "cell_type": "markdown",
   "source": [
    "In order to find the best configuration between the indexes that we found previously, this function calculate the mean on each configuration between the folds, and select the one which has the higher mean."
   ],
   "metadata": {
    "collapsed": false,
    "pycharm": {
     "name": "#%% md\n"
    }
   }
  },
  {
   "cell_type": "code",
   "execution_count": 27,
   "outputs": [],
   "source": [
    "def find_best_conf(lst_conf, df: pd.DataFrame) -> dict:\n",
    "    conf = []\n",
    "    for idx, cfg in enumerate(lst_conf):\n",
    "        conf.append(\n",
    "            {\n",
    "                'f1': mu_confidence_interval(df[df['cfg'] == cfg]['f1_test']),\n",
    "                'loss': mu_confidence_interval(df[df['cfg'] == cfg]['f1_test']),\n",
    "                'acc': mu_confidence_interval(df[df['cfg'] == cfg]['f1_test'])\n",
    "            }\n",
    "        )\n",
    "        conf[idx]['conf'] = cfg\n",
    "    max = conf[0]\n",
    "\n",
    "    for elm in conf:\n",
    "        if max['f1']['mu'] < elm['f1']['mu']:\n",
    "            max = elm\n",
    "    return max"
   ],
   "metadata": {
    "collapsed": false,
    "pycharm": {
     "name": "#%%\n"
    }
   }
  },
  {
   "cell_type": "markdown",
   "source": [
    "Find hyperparam configuration from the index."
   ],
   "metadata": {
    "collapsed": false,
    "pycharm": {
     "name": "#%% md\n"
    }
   }
  },
  {
   "cell_type": "code",
   "execution_count": 33,
   "outputs": [],
   "source": [
    "def get_best_configuration_mlp(cfg:int)->Tuple:\n",
    "    hyper_parameters_model_all = itertools.product(\n",
    "        param_layers['input_act'],\n",
    "        param_layers['hidden_act'],\n",
    "        param_layers['hidden_size'],\n",
    "        param_layers['num_hidden_layers'],\n",
    "        param_layers['dropout'],\n",
    "        param_layers['batch_norm'],\n",
    "        param_layers['output_fn'],\n",
    "        param_grid_mlp['num_epochs'],\n",
    "        param_grid_mlp['starting_lr'],\n",
    "        param_grid_mlp['batch_size'],\n",
    "        param_grid_mlp['optim'],\n",
    "        param_grid_mlp['momentum'],\n",
    "        param_grid_mlp['weight_decay'],\n",
    "    )\n",
    "    return list(hyper_parameters_model_all)[cfg]"
   ],
   "metadata": {
    "collapsed": false,
    "pycharm": {
     "name": "#%%\n"
    }
   }
  },
  {
   "cell_type": "markdown",
   "source": [
    "Utility function to print the calculated statistics and the relative configuration"
   ],
   "metadata": {
    "collapsed": false,
    "pycharm": {
     "name": "#%% md\n"
    }
   }
  },
  {
   "cell_type": "code",
   "execution_count": 39,
   "outputs": [],
   "source": [
    "def print_statistics_model(dictionary: Dict, model: str):\n",
    "    print(\n",
    "        f\"Best configuration {model} mean metrics:\\n\"\n",
    "        f\"f1_score: {dictionary['f1']['mu']} ±{dictionary['f1']['t_student']}\\n\"\n",
    "        f\"loss: {dictionary['loss']['mu']} ±{dictionary['loss']['t_student']}\\n\"\n",
    "        f\"acc: {dictionary['acc']['mu']} ±{dictionary['acc']['t_student']}\\n\\n\"\n",
    "        f\"Best hyperparams configuration:\"\n",
    "        )\n",
    "    if model== \"MLP\":\n",
    "        best_cfg_mlp_all=get_best_configuration_mlp(int(dictionary['conf']))\n",
    "        for idx, key in enumerate(param_layers.keys()):\n",
    "            print(f\"{key}: {best_cfg_mlp_all[idx]}\")\n",
    "        for idx, key in enumerate(param_grid_mlp.keys(), 7):\n",
    "            print(f\"{key}: {best_cfg_mlp_all[idx]}\")\n",
    "    else:\n",
    "        print(f\"{dictionary['conf']}\")"
   ],
   "metadata": {
    "collapsed": false,
    "pycharm": {
     "name": "#%%\n"
    }
   }
  },
  {
   "cell_type": "markdown",
   "source": [
    "### Results best cfg mlp"
   ],
   "metadata": {
    "collapsed": false,
    "pycharm": {
     "name": "#%% md\n"
    }
   }
  },
  {
   "cell_type": "code",
   "execution_count": 40,
   "outputs": [
    {
     "name": "stdout",
     "output_type": "stream",
     "text": [
      "Best configuration MLP mean metrics:\n",
      "f1_score: 0.8610175579840659 ±0.007531035084099725\n",
      "loss: 0.8610175579840659 ±0.007531035084099725\n",
      "acc: 0.8610175579840659 ±0.007531035084099725\n",
      "\n",
      "Best hyperparams configuration:\n",
      "input_act: LeakyReLU(negative_slope=0.01)\n",
      "hidden_act: LeakyReLU(negative_slope=0.01)\n",
      "hidden_size: 512\n",
      "num_hidden_layers: 3\n",
      "dropout: 0.2\n",
      "batch_norm: True\n",
      "output_fn: None\n",
      "num_epochs: 200\n",
      "starting_lr: 0.001\n",
      "batch_size: 128\n",
      "optim: <class 'torch.optim.adam.Adam'>\n",
      "momentum: 0.9\n",
      "weight_decay: 1e-05\n"
     ]
    }
   ],
   "source": [
    "res_mlp = find_best_conf(best_cfg, mlp_all)\n",
    "print_statistics_model(res_mlp, \"MLP\")"
   ],
   "metadata": {
    "collapsed": false,
    "pycharm": {
     "name": "#%%\n"
    }
   }
  },
  {
   "cell_type": "markdown",
   "source": [
    "## Scikit learn best cfg"
   ],
   "metadata": {
    "collapsed": false,
    "pycharm": {
     "name": "#%% md\n"
    }
   }
  },
  {
   "cell_type": "code",
   "execution_count": 11,
   "outputs": [],
   "source": [
    "def calculate_statistics_sklearn(df: pd.DataFrame, model: str) -> Dict:\n",
    "    res = {'f1': mu_confidence_interval(df[df['model'] == model]['f1_test']),\n",
    "           'loss': mu_confidence_interval(df[df['model'] == model]['loss_test']),\n",
    "           'acc': mu_confidence_interval(df[df['model'] == model]['acc_test']),\n",
    "           'conf': df[df['model'] == model]['cfg'].unique()}\n",
    "    return res"
   ],
   "metadata": {
    "collapsed": false,
    "pycharm": {
     "name": "#%%\n"
    }
   }
  },
  {
   "cell_type": "markdown",
   "source": [
    "### Tree based"
   ],
   "metadata": {
    "collapsed": false,
    "pycharm": {
     "name": "#%% md\n"
    }
   }
  },
  {
   "cell_type": "markdown",
   "source": [
    "#### Random forest"
   ],
   "metadata": {
    "collapsed": false,
    "pycharm": {
     "name": "#%% md\n"
    }
   }
  },
  {
   "cell_type": "code",
   "execution_count": 13,
   "outputs": [
    {
     "name": "stdout",
     "output_type": "stream",
     "text": [
      "Best configuration random forest classifier mean metrics:\n",
      "f1_score: 0.609756989767005 ±0.005027550044208888\n",
      "loss: 0.39225757744490736 ±0.005489355263284579\n",
      "acc: 0.6077424225550925 ±0.00548935526328459\n",
      "\n",
      "Best hyperparams configuration:\n",
      "[\"{'max_depth': 4, 'max_features': 'sqrt', 'n_estimators': 700}\"]\n"
     ]
    }
   ],
   "source": [
    "res_random_forest = calculate_statistics_sklearn(tree_res, 'random_forest_classifier')\n",
    "print_statistics_model(res_random_forest, 'random forest classifier')"
   ],
   "metadata": {
    "collapsed": false,
    "pycharm": {
     "name": "#%%\n"
    }
   }
  },
  {
   "cell_type": "markdown",
   "source": [
    "#### Decision tree"
   ],
   "metadata": {
    "collapsed": false,
    "pycharm": {
     "name": "#%% md\n"
    }
   }
  },
  {
   "cell_type": "code",
   "execution_count": 14,
   "outputs": [
    {
     "name": "stdout",
     "output_type": "stream",
     "text": [
      "Best configuration decision tree classifier mean metrics:\n",
      "f1_score: 0.6402913493313054 ±0.003246723679220664\n",
      "loss: 0.36008162828469237 ±0.003119961961986912\n",
      "acc: 0.6399183717153076 ±0.0031199619619869134\n",
      "\n",
      "Best hyperparams configuration:\n",
      "[\"{'criterion': 'entropy', 'max_depth': 15}\"]\n"
     ]
    }
   ],
   "source": [
    "res_decision_tree = calculate_statistics_sklearn(tree_res, 'decision_tree_classifier')\n",
    "print_statistics_model(res_decision_tree, 'decision tree classifier')"
   ],
   "metadata": {
    "collapsed": false,
    "pycharm": {
     "name": "#%%\n"
    }
   }
  },
  {
   "cell_type": "markdown",
   "source": [
    "## Naive bayes"
   ],
   "metadata": {
    "collapsed": false,
    "pycharm": {
     "name": "#%% md\n"
    }
   }
  },
  {
   "cell_type": "markdown",
   "source": [
    "#### Gaussian naive bayes"
   ],
   "metadata": {
    "collapsed": false,
    "pycharm": {
     "name": "#%% md\n"
    }
   }
  },
  {
   "cell_type": "code",
   "execution_count": 15,
   "outputs": [
    {
     "name": "stdout",
     "output_type": "stream",
     "text": [
      "Best configuration gaussianNB mean metrics:\n",
      "f1_score: 0.4526802764969494 ±0.008227757785451987\n",
      "loss: 0.5481864029029817 ±0.008014625115326288\n",
      "acc: 0.4518135970970182 ±0.008014625115326274\n",
      "\n",
      "Best hyperparams configuration:\n",
      "[\"{'var_smoothing': 8.111308307896872e-07}\"]\n"
     ]
    }
   ],
   "source": [
    "res_gaussian_nb = calculate_statistics_sklearn(naive_res, 'gaussian_nb')\n",
    "print_statistics_model(res_gaussian_nb, 'gaussianNB')"
   ],
   "metadata": {
    "collapsed": false,
    "pycharm": {
     "name": "#%%\n"
    }
   }
  },
  {
   "cell_type": "markdown",
   "source": [
    "#### QDA"
   ],
   "metadata": {
    "collapsed": false,
    "pycharm": {
     "name": "#%% md\n"
    }
   }
  },
  {
   "cell_type": "code",
   "execution_count": 16,
   "outputs": [
    {
     "name": "stdout",
     "output_type": "stream",
     "text": [
      "Best configuration QDA mean metrics:\n",
      "f1_score: 0.5217235201683785 ±0.006131748988284651\n",
      "loss: 0.4649740608914607 ±0.0063746149205477646\n",
      "acc: 0.5350259391085392 ±0.00637461492054775\n",
      "\n",
      "Best hyperparams configuration:\n",
      "[\"{'reg_param': 0.001, 'tol': 0.0001}\"]\n"
     ]
    }
   ],
   "source": [
    "res_qda = calculate_statistics_sklearn(naive_res, 'qda')\n",
    "print_statistics_model(res_qda, 'QDA')"
   ],
   "metadata": {
    "collapsed": false,
    "pycharm": {
     "name": "#%%\n"
    }
   }
  },
  {
   "cell_type": "markdown",
   "source": [
    "## SVM"
   ],
   "metadata": {
    "collapsed": false,
    "pycharm": {
     "name": "#%% md\n"
    }
   }
  },
  {
   "cell_type": "code",
   "execution_count": 20,
   "outputs": [
    {
     "name": "stdout",
     "output_type": "stream",
     "text": [
      "Best configuration SVM mean metrics:\n",
      "f1_score: 0.8286206857647119 ±0.003255026164399803\n",
      "loss: 0.17076133850717423 ±0.0031192905594531074\n",
      "acc: 0.8292386614928257 ±0.0031192905594531065\n",
      "\n",
      "Best hyperparams configuration:\n",
      "[\"{'C': 100, 'gamma': 0.01, 'kernel': 'rbf'}\"]\n"
     ]
    }
   ],
   "source": [
    "res_svm = calculate_statistics_sklearn(svm_res, 'svc')\n",
    "print_statistics_model(res_svm, 'SVM')"
   ],
   "metadata": {
    "collapsed": false,
    "pycharm": {
     "name": "#%%\n"
    }
   }
  }
 ],
 "metadata": {
  "kernelspec": {
   "display_name": "Python 3",
   "language": "python",
   "name": "python3"
  },
  "language_info": {
   "codemirror_mode": {
    "name": "ipython",
    "version": 2
   },
   "file_extension": ".py",
   "mimetype": "text/x-python",
   "name": "python",
   "nbconvert_exporter": "python",
   "pygments_lexer": "ipython2",
   "version": "2.7.6"
  }
 },
 "nbformat": 4,
 "nbformat_minor": 0
}