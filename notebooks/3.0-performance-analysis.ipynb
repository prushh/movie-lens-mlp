{
 "cells": [
  {
   "cell_type": "markdown",
   "source": [
    "# Read results datasets"
   ],
   "metadata": {
    "collapsed": false,
    "pycharm": {
     "name": "#%% md\n"
    }
   }
  },
  {
   "cell_type": "code",
   "execution_count": 1,
   "outputs": [],
   "source": [
    "import itertools\n",
    "import os.path\n",
    "from typing import List\n",
    "\n",
    "import numpy as np\n",
    "import pandas as pd\n",
    "\n",
    "from src.models.config import param_layers, param_grid_mlp\n",
    "from src.utils.const import MODEL_RESULTS_CSV"
   ],
   "metadata": {
    "collapsed": false,
    "pycharm": {
     "name": "#%%\n"
    }
   }
  },
  {
   "cell_type": "code",
   "execution_count": 2,
   "outputs": [],
   "source": [
    "RESULTS_FOLDER=os.path.join('..',MODEL_RESULTS_CSV)"
   ],
   "metadata": {
    "collapsed": false,
    "pycharm": {
     "name": "#%%\n"
    }
   }
  },
  {
   "cell_type": "code",
   "execution_count": 3,
   "outputs": [],
   "source": [
    "mlp= pd.read_csv(os.path.join(RESULTS_FOLDER,'out_mlp_all.csv'))"
   ],
   "metadata": {
    "collapsed": false,
    "pycharm": {
     "name": "#%%\n"
    }
   }
  },
  {
   "cell_type": "code",
   "execution_count": 4,
   "outputs": [],
   "source": [
    "svm_res= pd.read_csv(os.path.join(RESULTS_FOLDER,'out_svm.csv'))"
   ],
   "metadata": {
    "collapsed": false,
    "pycharm": {
     "name": "#%%\n"
    }
   }
  },
  {
   "cell_type": "code",
   "execution_count": 5,
   "outputs": [],
   "source": [
    "naive_res= pd.read_csv(os.path.join(RESULTS_FOLDER,'best_out_naive_bayes.csv'))"
   ],
   "metadata": {
    "collapsed": false,
    "pycharm": {
     "name": "#%%\n"
    }
   }
  },
  {
   "cell_type": "code",
   "execution_count": 6,
   "outputs": [],
   "source": [
    "tree_res= pd.read_csv(os.path.join(RESULTS_FOLDER,'best_out_tree_based.csv'))"
   ],
   "metadata": {
    "collapsed": false,
    "pycharm": {
     "name": "#%%\n"
    }
   }
  },
  {
   "cell_type": "code",
   "execution_count": 7,
   "outputs": [
    {
     "data": {
      "text/plain": "     Unnamed: 0  cfg  fold  loss_test   acc_test   f1_test  mean_loss  \\\n0             0    0     1   0.372040  85.285171  0.853134   0.306360   \n1             1    1     1   0.344320  85.171103  0.852068   0.302731   \n2             2    2     1   0.361184  85.285171  0.853100   0.304689   \n3             3    3     1   0.352550  85.817490  0.858861   0.306855   \n4             4    4     1   2.237197  10.798479  0.097864   0.673969   \n..          ...  ...   ...        ...        ...       ...        ...   \n955         955  187     5   0.481808  80.486877  0.805378   1.271628   \n956         956  188     5   2.295036  16.774439  0.102313   1.276690   \n957         957  189     5   2.289519  16.127805  0.101492   1.281689   \n958         958  190     5   2.261616  19.475086  0.166811   1.286323   \n959         959  191     5   2.267185  24.648155  0.194941   1.290910   \n\n     std_loss  mean_acc_val  std_acc_val  mean_acc_train  std_acc_train  \\\n0    0.017720     79.643519     0.993016       87.469802       0.759901   \n1    0.020831     79.783835     0.788934       87.632241       0.883383   \n2    0.018806     79.536465     0.954451       87.559346       0.787205   \n3    0.018824     79.500103     1.004205       87.455783       0.799693   \n4    0.734426     65.168832    28.681150       73.078158      28.773956   \n..        ...           ...          ...             ...            ...   \n955  0.869597     44.391021    33.047878       50.101529      33.251459   \n956  0.870067     44.191214    33.077768       49.910281      33.267216   \n957  0.870492     43.989620    33.109832       49.726107      33.276257   \n958  0.870557     43.820917    33.105664       49.545093      33.282774   \n959  0.870598     43.663094    33.094053       49.368514      33.285650   \n\n     mean_f1_train  std_f1_train  mean_f1_val  std_f1_val  \n0         0.873412      0.007689     0.797929    0.009758  \n1         0.875075      0.008986     0.799156    0.007691  \n2         0.874340      0.008016     0.796486    0.009295  \n3         0.873303      0.008139     0.795906    0.010032  \n4         0.713885      0.318954     0.647411    0.297186  \n..             ...           ...          ...         ...  \n955       0.466255      0.365353     0.429138    0.345926  \n956       0.464154      0.365526     0.427009    0.346253  \n957       0.462157      0.365599     0.424895    0.346572  \n958       0.460186      0.365651     0.423049    0.346610  \n959       0.458280      0.365650     0.421243    0.346637  \n\n[960 rows x 16 columns]",
      "text/html": "<div>\n<style scoped>\n    .dataframe tbody tr th:only-of-type {\n        vertical-align: middle;\n    }\n\n    .dataframe tbody tr th {\n        vertical-align: top;\n    }\n\n    .dataframe thead th {\n        text-align: right;\n    }\n</style>\n<table border=\"1\" class=\"dataframe\">\n  <thead>\n    <tr style=\"text-align: right;\">\n      <th></th>\n      <th>Unnamed: 0</th>\n      <th>cfg</th>\n      <th>fold</th>\n      <th>loss_test</th>\n      <th>acc_test</th>\n      <th>f1_test</th>\n      <th>mean_loss</th>\n      <th>std_loss</th>\n      <th>mean_acc_val</th>\n      <th>std_acc_val</th>\n      <th>mean_acc_train</th>\n      <th>std_acc_train</th>\n      <th>mean_f1_train</th>\n      <th>std_f1_train</th>\n      <th>mean_f1_val</th>\n      <th>std_f1_val</th>\n    </tr>\n  </thead>\n  <tbody>\n    <tr>\n      <th>0</th>\n      <td>0</td>\n      <td>0</td>\n      <td>1</td>\n      <td>0.372040</td>\n      <td>85.285171</td>\n      <td>0.853134</td>\n      <td>0.306360</td>\n      <td>0.017720</td>\n      <td>79.643519</td>\n      <td>0.993016</td>\n      <td>87.469802</td>\n      <td>0.759901</td>\n      <td>0.873412</td>\n      <td>0.007689</td>\n      <td>0.797929</td>\n      <td>0.009758</td>\n    </tr>\n    <tr>\n      <th>1</th>\n      <td>1</td>\n      <td>1</td>\n      <td>1</td>\n      <td>0.344320</td>\n      <td>85.171103</td>\n      <td>0.852068</td>\n      <td>0.302731</td>\n      <td>0.020831</td>\n      <td>79.783835</td>\n      <td>0.788934</td>\n      <td>87.632241</td>\n      <td>0.883383</td>\n      <td>0.875075</td>\n      <td>0.008986</td>\n      <td>0.799156</td>\n      <td>0.007691</td>\n    </tr>\n    <tr>\n      <th>2</th>\n      <td>2</td>\n      <td>2</td>\n      <td>1</td>\n      <td>0.361184</td>\n      <td>85.285171</td>\n      <td>0.853100</td>\n      <td>0.304689</td>\n      <td>0.018806</td>\n      <td>79.536465</td>\n      <td>0.954451</td>\n      <td>87.559346</td>\n      <td>0.787205</td>\n      <td>0.874340</td>\n      <td>0.008016</td>\n      <td>0.796486</td>\n      <td>0.009295</td>\n    </tr>\n    <tr>\n      <th>3</th>\n      <td>3</td>\n      <td>3</td>\n      <td>1</td>\n      <td>0.352550</td>\n      <td>85.817490</td>\n      <td>0.858861</td>\n      <td>0.306855</td>\n      <td>0.018824</td>\n      <td>79.500103</td>\n      <td>1.004205</td>\n      <td>87.455783</td>\n      <td>0.799693</td>\n      <td>0.873303</td>\n      <td>0.008139</td>\n      <td>0.795906</td>\n      <td>0.010032</td>\n    </tr>\n    <tr>\n      <th>4</th>\n      <td>4</td>\n      <td>4</td>\n      <td>1</td>\n      <td>2.237197</td>\n      <td>10.798479</td>\n      <td>0.097864</td>\n      <td>0.673969</td>\n      <td>0.734426</td>\n      <td>65.168832</td>\n      <td>28.681150</td>\n      <td>73.078158</td>\n      <td>28.773956</td>\n      <td>0.713885</td>\n      <td>0.318954</td>\n      <td>0.647411</td>\n      <td>0.297186</td>\n    </tr>\n    <tr>\n      <th>...</th>\n      <td>...</td>\n      <td>...</td>\n      <td>...</td>\n      <td>...</td>\n      <td>...</td>\n      <td>...</td>\n      <td>...</td>\n      <td>...</td>\n      <td>...</td>\n      <td>...</td>\n      <td>...</td>\n      <td>...</td>\n      <td>...</td>\n      <td>...</td>\n      <td>...</td>\n      <td>...</td>\n    </tr>\n    <tr>\n      <th>955</th>\n      <td>955</td>\n      <td>187</td>\n      <td>5</td>\n      <td>0.481808</td>\n      <td>80.486877</td>\n      <td>0.805378</td>\n      <td>1.271628</td>\n      <td>0.869597</td>\n      <td>44.391021</td>\n      <td>33.047878</td>\n      <td>50.101529</td>\n      <td>33.251459</td>\n      <td>0.466255</td>\n      <td>0.365353</td>\n      <td>0.429138</td>\n      <td>0.345926</td>\n    </tr>\n    <tr>\n      <th>956</th>\n      <td>956</td>\n      <td>188</td>\n      <td>5</td>\n      <td>2.295036</td>\n      <td>16.774439</td>\n      <td>0.102313</td>\n      <td>1.276690</td>\n      <td>0.870067</td>\n      <td>44.191214</td>\n      <td>33.077768</td>\n      <td>49.910281</td>\n      <td>33.267216</td>\n      <td>0.464154</td>\n      <td>0.365526</td>\n      <td>0.427009</td>\n      <td>0.346253</td>\n    </tr>\n    <tr>\n      <th>957</th>\n      <td>957</td>\n      <td>189</td>\n      <td>5</td>\n      <td>2.289519</td>\n      <td>16.127805</td>\n      <td>0.101492</td>\n      <td>1.281689</td>\n      <td>0.870492</td>\n      <td>43.989620</td>\n      <td>33.109832</td>\n      <td>49.726107</td>\n      <td>33.276257</td>\n      <td>0.462157</td>\n      <td>0.365599</td>\n      <td>0.424895</td>\n      <td>0.346572</td>\n    </tr>\n    <tr>\n      <th>958</th>\n      <td>958</td>\n      <td>190</td>\n      <td>5</td>\n      <td>2.261616</td>\n      <td>19.475086</td>\n      <td>0.166811</td>\n      <td>1.286323</td>\n      <td>0.870557</td>\n      <td>43.820917</td>\n      <td>33.105664</td>\n      <td>49.545093</td>\n      <td>33.282774</td>\n      <td>0.460186</td>\n      <td>0.365651</td>\n      <td>0.423049</td>\n      <td>0.346610</td>\n    </tr>\n    <tr>\n      <th>959</th>\n      <td>959</td>\n      <td>191</td>\n      <td>5</td>\n      <td>2.267185</td>\n      <td>24.648155</td>\n      <td>0.194941</td>\n      <td>1.290910</td>\n      <td>0.870598</td>\n      <td>43.663094</td>\n      <td>33.094053</td>\n      <td>49.368514</td>\n      <td>33.285650</td>\n      <td>0.458280</td>\n      <td>0.365650</td>\n      <td>0.421243</td>\n      <td>0.346637</td>\n    </tr>\n  </tbody>\n</table>\n<p>960 rows × 16 columns</p>\n</div>"
     },
     "execution_count": 7,
     "metadata": {},
     "output_type": "execute_result"
    }
   ],
   "source": [
    "mlp"
   ],
   "metadata": {
    "collapsed": false,
    "pycharm": {
     "name": "#%%\n"
    }
   }
  },
  {
   "cell_type": "code",
   "execution_count": 8,
   "outputs": [],
   "source": [
    "def find_max_f1_cfg(df:pd.DataFrame)-> List:\n",
    "    cfg=[]\n",
    "    for fold in df['fold'].unique():\n",
    "        idx=df[df['fold']==fold]['f1_test'].idxmax()\n",
    "        cfg.append(df.iloc[idx]['cfg'])\n",
    "    cfgs=np.unique(np.array(cfg))\n",
    "    return cfgs"
   ],
   "metadata": {
    "collapsed": false,
    "pycharm": {
     "name": "#%%\n"
    }
   }
  },
  {
   "cell_type": "code",
   "execution_count": 9,
   "outputs": [],
   "source": [
    "best_cfg=find_max_f1_cfg(mlp)"
   ],
   "metadata": {
    "collapsed": false,
    "pycharm": {
     "name": "#%%\n"
    }
   }
  },
  {
   "cell_type": "code",
   "execution_count": 10,
   "outputs": [],
   "source": [
    "def mu_confidence_interval(data: np.ndarray) -> {}:\n",
    "    t = 1.64\n",
    "    mu = np.mean(data)\n",
    "    standard_deviation = np.std(data)\n",
    "    M = data.shape[0]\n",
    "    t_student = t * standard_deviation / np.sqrt(M)\n",
    "    first_interval = mu - t_student\n",
    "    second_interval = mu + t_student\n",
    "    return {\n",
    "        'mu': mu,\n",
    "        't_student': t_student,\n",
    "        'first_interval': first_interval,\n",
    "        'second_interval': second_interval\n",
    "    }"
   ],
   "metadata": {
    "collapsed": false,
    "pycharm": {
     "name": "#%%\n"
    }
   }
  },
  {
   "cell_type": "code",
   "execution_count": 11,
   "outputs": [],
   "source": [
    "def find_best_conf(lst_conf, df:pd.DataFrame)-> dict:\n",
    "    conf=[]\n",
    "    for idx,cfg in enumerate(lst_conf):\n",
    "\n",
    "        conf.append(mu_confidence_interval(df[df['cfg']==cfg]['f1_test']))\n",
    "        conf[idx]['cfg']=cfg\n",
    "    max=conf[0]\n",
    "\n",
    "    for elm in conf:\n",
    "        if max['mu']<elm['mu']:\n",
    "            max=elm\n",
    "    return max"
   ],
   "metadata": {
    "collapsed": false,
    "pycharm": {
     "name": "#%%\n"
    }
   }
  },
  {
   "cell_type": "markdown",
   "source": [
    "### Results best cfg mlp"
   ],
   "metadata": {
    "collapsed": false,
    "pycharm": {
     "name": "#%% md\n"
    }
   }
  },
  {
   "cell_type": "code",
   "execution_count": 12,
   "outputs": [
    {
     "data": {
      "text/plain": "{'mu': 0.8610175579840659,\n 't_student': 0.007531035084099725,\n 'first_interval': 0.8534865228999662,\n 'second_interval': 0.8685485930681656,\n 'cfg': 18.0}"
     },
     "execution_count": 12,
     "metadata": {},
     "output_type": "execute_result"
    }
   ],
   "source": [
    "res_mlp=find_best_conf(best_cfg,mlp)\n",
    "res_mlp"
   ],
   "metadata": {
    "collapsed": false,
    "pycharm": {
     "name": "#%%\n"
    }
   }
  },
  {
   "cell_type": "code",
   "execution_count": 14,
   "outputs": [],
   "source": [
    "hyper_parameters_model_all = itertools.product(\n",
    "            param_layers['input_act'],\n",
    "            param_layers['hidden_act'],\n",
    "            param_layers['hidden_size'],\n",
    "            param_layers['num_hidden_layers'],\n",
    "            param_layers['dropout'],\n",
    "            param_layers['batch_norm'],\n",
    "            param_layers['output_fn'],\n",
    "            param_grid_mlp['starting_lr'],\n",
    "            param_grid_mlp['num_epochs'],\n",
    "            param_grid_mlp['batch_size'],\n",
    "            param_grid_mlp['optim'],\n",
    "            param_grid_mlp['momentum'],\n",
    "            param_grid_mlp['weight_decay'],\n",
    "        )"
   ],
   "metadata": {
    "collapsed": false,
    "pycharm": {
     "name": "#%%\n"
    }
   }
  },
  {
   "cell_type": "markdown",
   "source": [
    "### Find best cfg mlp"
   ],
   "metadata": {
    "collapsed": false,
    "pycharm": {
     "name": "#%% md\n"
    }
   }
  },
  {
   "cell_type": "code",
   "execution_count": 15,
   "outputs": [
    {
     "data": {
      "text/plain": "(LeakyReLU(negative_slope=0.01),\n LeakyReLU(negative_slope=0.01),\n 512,\n 3,\n 0.2,\n True,\n None,\n 0.001,\n 1,\n 128,\n torch.optim.adam.Adam,\n 0.9,\n 1e-05)"
     },
     "execution_count": 15,
     "metadata": {},
     "output_type": "execute_result"
    }
   ],
   "source": [
    "list(hyper_parameters_model_all)[int(res_mlp['cfg'])]"
   ],
   "metadata": {
    "collapsed": false,
    "pycharm": {
     "name": "#%%\n"
    }
   }
  },
  {
   "cell_type": "markdown",
   "source": [
    "## Scikit learn best cfg"
   ],
   "metadata": {
    "collapsed": false,
    "pycharm": {
     "name": "#%% md\n"
    }
   }
  },
  {
   "cell_type": "markdown",
   "source": [
    "### Tree based"
   ],
   "metadata": {
    "collapsed": false,
    "pycharm": {
     "name": "#%% md\n"
    }
   }
  },
  {
   "cell_type": "markdown",
   "source": [
    "#### Random forest"
   ],
   "metadata": {
    "collapsed": false,
    "pycharm": {
     "name": "#%% md\n"
    }
   }
  },
  {
   "cell_type": "code",
   "execution_count": 35,
   "outputs": [
    {
     "name": "stdout",
     "output_type": "stream",
     "text": [
      "[\"{'max_depth': 4, 'max_features': 'sqrt', 'n_estimators': 700}\"]\n"
     ]
    }
   ],
   "source": [
    "print(tree_res[tree_res['model']=='random_forest_classifier']['cfg'].unique())"
   ],
   "metadata": {
    "collapsed": false,
    "pycharm": {
     "name": "#%%\n"
    }
   }
  },
  {
   "cell_type": "code",
   "execution_count": 27,
   "outputs": [
    {
     "name": "stdout",
     "output_type": "stream",
     "text": [
      "random forest : {'mu': 0.609756989767005, 't_student': 0.005027550044208888, 'first_interval': 0.6047294397227961, 'second_interval': 0.6147845398112138} \n"
     ]
    }
   ],
   "source": [
    "print(f\"random forest : {mu_confidence_interval(tree_res[tree_res['model']=='random_forest_classifier']['f1_test'])} \")"
   ],
   "metadata": {
    "collapsed": false,
    "pycharm": {
     "name": "#%%\n"
    }
   }
  },
  {
   "cell_type": "markdown",
   "source": [
    "#### Decision tree"
   ],
   "metadata": {
    "collapsed": false,
    "pycharm": {
     "name": "#%% md\n"
    }
   }
  },
  {
   "cell_type": "code",
   "execution_count": 36,
   "outputs": [
    {
     "name": "stdout",
     "output_type": "stream",
     "text": [
      "[\"{'criterion': 'entropy', 'max_depth': 15}\"]\n"
     ]
    }
   ],
   "source": [
    "print(tree_res[tree_res['model']=='decision_tree_classifier']['cfg'].unique())"
   ],
   "metadata": {
    "collapsed": false,
    "pycharm": {
     "name": "#%%\n"
    }
   }
  },
  {
   "cell_type": "code",
   "execution_count": 29,
   "outputs": [
    {
     "name": "stdout",
     "output_type": "stream",
     "text": [
      "random forest : {'mu': 0.6402913493313054, 't_student': 0.003246723679220664, 'first_interval': 0.6370446256520848, 'second_interval': 0.643538073010526} \n"
     ]
    }
   ],
   "source": [
    "print(f\"decision tree classifier : {mu_confidence_interval(tree_res[tree_res['model']=='decision_tree_classifier']['f1_test'])} \")"
   ],
   "metadata": {
    "collapsed": false,
    "pycharm": {
     "name": "#%%\n"
    }
   }
  },
  {
   "cell_type": "markdown",
   "source": [
    "## Naive bayes"
   ],
   "metadata": {
    "collapsed": false,
    "pycharm": {
     "name": "#%% md\n"
    }
   }
  },
  {
   "cell_type": "markdown",
   "source": [
    "#### Gaussian naive bayes"
   ],
   "metadata": {
    "collapsed": false,
    "pycharm": {
     "name": "#%% md\n"
    }
   }
  },
  {
   "cell_type": "code",
   "execution_count": 37,
   "outputs": [
    {
     "name": "stdout",
     "output_type": "stream",
     "text": [
      "[\"{'var_smoothing': 8.111308307896872e-07}\"]\n"
     ]
    }
   ],
   "source": [
    "print(naive_res[naive_res['model']=='gaussian_nb']['cfg'].unique())"
   ],
   "metadata": {
    "collapsed": false,
    "pycharm": {
     "name": "#%%\n"
    }
   }
  },
  {
   "cell_type": "code",
   "execution_count": 30,
   "outputs": [
    {
     "name": "stdout",
     "output_type": "stream",
     "text": [
      "gaussian_nb : {'mu': 0.4526802764969494, 't_student': 0.008227757785451987, 'first_interval': 0.44445251871149744, 'second_interval': 0.4609080342824014} \n"
     ]
    }
   ],
   "source": [
    "print(f\"gaussian_nb : {mu_confidence_interval(naive_res[naive_res['model']=='gaussian_nb']['f1_test'])} \")"
   ],
   "metadata": {
    "collapsed": false,
    "pycharm": {
     "name": "#%%\n"
    }
   }
  },
  {
   "cell_type": "markdown",
   "source": [
    "#### QDA"
   ],
   "metadata": {
    "collapsed": false,
    "pycharm": {
     "name": "#%% md\n"
    }
   }
  },
  {
   "cell_type": "code",
   "execution_count": 38,
   "outputs": [
    {
     "name": "stdout",
     "output_type": "stream",
     "text": [
      "[\"{'reg_param': 0.001, 'tol': 0.0001}\"]\n"
     ]
    }
   ],
   "source": [
    "print(naive_res[naive_res['model']=='qda']['cfg'].unique())"
   ],
   "metadata": {
    "collapsed": false,
    "pycharm": {
     "name": "#%%\n"
    }
   }
  },
  {
   "cell_type": "code",
   "execution_count": 34,
   "outputs": [
    {
     "name": "stdout",
     "output_type": "stream",
     "text": [
      "qda : {'mu': 0.5217235201683785, 't_student': 0.006131748988284651, 'first_interval': 0.5155917711800939, 'second_interval': 0.5278552691566631} \n"
     ]
    }
   ],
   "source": [
    "print(f\"qda : {mu_confidence_interval(naive_res[naive_res['model']=='qda']['f1_test'])} \")"
   ],
   "metadata": {
    "collapsed": false,
    "pycharm": {
     "name": "#%%\n"
    }
   }
  },
  {
   "cell_type": "markdown",
   "source": [
    "## SVM"
   ],
   "metadata": {
    "collapsed": false,
    "pycharm": {
     "name": "#%% md\n"
    }
   }
  },
  {
   "cell_type": "code",
   "execution_count": 40,
   "outputs": [
    {
     "name": "stdout",
     "output_type": "stream",
     "text": [
      "[\"{'C': 100, 'gamma': 0.01, 'kernel': 'rbf'}\"]\n"
     ]
    }
   ],
   "source": [
    "print(svm_res['cfg'].unique())"
   ],
   "metadata": {
    "collapsed": false,
    "pycharm": {
     "name": "#%%\n"
    }
   }
  },
  {
   "cell_type": "code",
   "execution_count": 33,
   "outputs": [
    {
     "name": "stdout",
     "output_type": "stream",
     "text": [
      "SVM : {'mu': 0.8286206857647119, 't_student': 0.003255026164399803, 'first_interval': 0.8253656596003122, 'second_interval': 0.8318757119291117} \n"
     ]
    }
   ],
   "source": [
    "print(f\"SVM : {mu_confidence_interval(svm_res['f1_test'])} \")"
   ],
   "metadata": {
    "collapsed": false,
    "pycharm": {
     "name": "#%%\n"
    }
   }
  }
 ],
 "metadata": {
  "kernelspec": {
   "display_name": "Python 3",
   "language": "python",
   "name": "python3"
  },
  "language_info": {
   "codemirror_mode": {
    "name": "ipython",
    "version": 2
   },
   "file_extension": ".py",
   "mimetype": "text/x-python",
   "name": "python",
   "nbconvert_exporter": "python",
   "pygments_lexer": "ipython2",
   "version": "2.7.6"
  }
 },
 "nbformat": 4,
 "nbformat_minor": 0
}