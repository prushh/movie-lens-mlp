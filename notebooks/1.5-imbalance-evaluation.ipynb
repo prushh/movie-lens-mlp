{
 "cells": [
  {
   "cell_type": "markdown",
   "source": [
    "# Imbalance evaluation"
   ],
   "metadata": {
    "collapsed": false,
    "pycharm": {
     "name": "#%% md\n"
    }
   }
  },
  {
   "cell_type": "markdown",
   "source": [
    "Since the dataset we are working on is very unbalanced, we will analyse possible balancing techniques and empirically evaluate the best one."
   ],
   "metadata": {
    "collapsed": false,
    "pycharm": {
     "name": "#%% md\n"
    }
   }
  },
  {
   "cell_type": "markdown",
   "source": [
    "## Imports"
   ],
   "metadata": {
    "collapsed": false,
    "pycharm": {
     "name": "#%% md\n"
    }
   }
  },
  {
   "cell_type": "code",
   "execution_count": null,
   "outputs": [],
   "source": [
    "import os\n",
    "from torch import utils\n",
    "import torch\n",
    "import numpy as np\n",
    "import pandas as pd\n",
    "from sklearn import ensemble\n",
    "from imblearn.combine import SMOTETomek, SMOTEENN\n",
    "from imblearn.over_sampling import SMOTE, RandomOverSampler\n",
    "from imblearn.under_sampling import TomekLinks, EditedNearestNeighbours\n",
    "from sklearn import tree, svm\n",
    "from sklearn.compose import ColumnTransformer\n",
    "from sklearn.discriminant_analysis import QuadraticDiscriminantAnalysis\n",
    "from sklearn.model_selection import train_test_split, cross_validate, StratifiedKFold\n",
    "from sklearn.naive_bayes import GaussianNB\n",
    "from sklearn.pipeline import Pipeline\n",
    "from sklearn.preprocessing import MinMaxScaler\n",
    "from src.utils.const import DATA_DIR, SEED\n",
    "from src.utils.util_models import fix_random\n",
    "from src.visualization.visualize import barplot_multiple_columns, show_class_distribution\n",
    "from sklearn.metrics import f1_score"
   ],
   "metadata": {
    "collapsed": false,
    "pycharm": {
     "name": "#%%\n",
     "is_executing": true
    }
   }
  },
  {
   "cell_type": "markdown",
   "source": [
    "### Useful path to data"
   ],
   "metadata": {
    "collapsed": false,
    "pycharm": {
     "name": "#%% md\n"
    }
   }
  },
  {
   "cell_type": "code",
   "execution_count": null,
   "outputs": [],
   "source": [
    "ROOT_DIR = os.path.join(os.getcwd(), '..')\n",
    "PROCESSED_DIR = os.path.join(ROOT_DIR, DATA_DIR, 'processed')"
   ],
   "metadata": {
    "collapsed": false,
    "pycharm": {
     "name": "#%%\n"
    }
   }
  },
  {
   "cell_type": "markdown",
   "source": [
    "### Fix random seed"
   ],
   "metadata": {
    "collapsed": false,
    "pycharm": {
     "name": "#%% md\n"
    }
   }
  },
  {
   "cell_type": "code",
   "execution_count": null,
   "outputs": [],
   "source": [
    "fix_random(SEED)"
   ],
   "metadata": {
    "collapsed": false,
    "pycharm": {
     "name": "#%%\n"
    }
   }
  },
  {
   "cell_type": "markdown",
   "source": [
    "## Read final dataset"
   ],
   "metadata": {
    "collapsed": false,
    "pycharm": {
     "name": "#%% md\n"
    }
   }
  },
  {
   "cell_type": "code",
   "execution_count": null,
   "outputs": [],
   "source": [
    "final = pd.read_parquet(os.path.join(PROCESSED_DIR, 'final.parquet'))"
   ],
   "metadata": {
    "collapsed": false,
    "pycharm": {
     "name": "#%%\n"
    }
   }
  },
  {
   "cell_type": "markdown",
   "source": [
    "### Discretize target feature"
   ],
   "metadata": {
    "collapsed": false,
    "pycharm": {
     "name": "#%% md\n"
    }
   }
  },
  {
   "cell_type": "code",
   "execution_count": null,
   "outputs": [],
   "source": [
    "final = (final\n",
    "         .assign(rating_discrete=pd.cut(final.loc[:, 'rating_mean'], bins=10, labels=False))\n",
    "         .astype({'rating_discrete': 'int32'})\n",
    "         .drop(columns=['rating_mean']))"
   ],
   "metadata": {
    "collapsed": false,
    "pycharm": {
     "name": "#%%\n"
    }
   }
  },
  {
   "cell_type": "markdown",
   "source": [
    "## Showing the imbalance"
   ],
   "metadata": {
    "collapsed": false,
    "pycharm": {
     "name": "#%% md\n"
    }
   }
  },
  {
   "cell_type": "markdown",
   "source": [
    "### Separate train/test"
   ],
   "metadata": {
    "collapsed": false,
    "pycharm": {
     "name": "#%% md\n"
    }
   }
  },
  {
   "cell_type": "code",
   "execution_count": null,
   "outputs": [],
   "source": [
    "data = final.loc[:, final.columns != 'rating_discrete']\n",
    "target = final['rating_discrete']\n",
    "train_data, test_data, train_target, test_target = train_test_split(data, target, test_size=0.2,\n",
    "                                                                    stratify=final['rating_discrete'])"
   ],
   "metadata": {
    "collapsed": false,
    "pycharm": {
     "name": "#%%\n"
    }
   }
  },
  {
   "cell_type": "markdown",
   "source": [
    "### Show class distribution"
   ],
   "metadata": {
    "collapsed": false,
    "pycharm": {
     "name": "#%% md\n"
    }
   }
  },
  {
   "cell_type": "markdown",
   "source": [
    "We count the number of samples for each class in order to understand their distribution."
   ],
   "metadata": {
    "collapsed": false,
    "pycharm": {
     "name": "#%% md\n"
    }
   }
  },
  {
   "cell_type": "code",
   "execution_count": null,
   "outputs": [],
   "source": [
    "distribution = (train_target\n",
    "                .reset_index()\n",
    "                .groupby('rating_discrete').agg('count')\n",
    "                .reset_index()\n",
    "                .rename(columns={'index': 'count'}))\n",
    "\n",
    "labels = [f'{round(i, 2)}-{round(i + 0.45, 2)}' for i in np.arange(0.5, 5, 0.45)]"
   ],
   "metadata": {
    "collapsed": false,
    "pycharm": {
     "name": "#%%\n"
    }
   }
  },
  {
   "cell_type": "markdown",
   "source": [
    "For any experiment, we provide two kind of plot: bar-plot and pie-chart."
   ],
   "metadata": {
    "collapsed": false,
    "pycharm": {
     "name": "#%% md\n"
    }
   }
  },
  {
   "cell_type": "code",
   "execution_count": null,
   "outputs": [],
   "source": [
    "barplot_multiple_columns(['Train set'], labels, distribution['count'], 'Class distribution')"
   ],
   "metadata": {
    "collapsed": false,
    "pycharm": {
     "name": "#%%\n"
    }
   }
  },
  {
   "cell_type": "code",
   "execution_count": null,
   "outputs": [],
   "source": [
    "show_class_distribution(train_target)"
   ],
   "metadata": {
    "collapsed": false,
    "pycharm": {
     "name": "#%%\n"
    }
   }
  },
  {
   "cell_type": "markdown",
   "source": [
    "## Start experiments"
   ],
   "metadata": {
    "collapsed": false,
    "pycharm": {
     "name": "#%% md\n"
    }
   }
  },
  {
   "cell_type": "markdown",
   "source": [
    "### Models"
   ],
   "metadata": {
    "collapsed": false,
    "pycharm": {
     "name": "#%% md\n"
    }
   }
  },
  {
   "cell_type": "markdown",
   "source": [
    "A dictionary containing all the models is defined in order to check the balancing techniques on each of them."
   ],
   "metadata": {
    "collapsed": false,
    "pycharm": {
     "name": "#%% md\n"
    }
   }
  },
  {
   "cell_type": "code",
   "execution_count": null,
   "outputs": [],
   "source": [
    "models = {\n",
    "    'random_forest': ensemble.RandomForestClassifier(),\n",
    "    'decision_tree': tree.DecisionTreeClassifier(),\n",
    "    'gaussian_nb': GaussianNB(),\n",
    "    'quadratic_discriminant': QuadraticDiscriminantAnalysis(),\n",
    "    'svm': svm.SVC()\n",
    "}"
   ],
   "metadata": {
    "collapsed": false,
    "pycharm": {
     "name": "#%%\n"
    }
   }
  },
  {
   "cell_type": "markdown",
   "source": [
    "### Test function"
   ],
   "metadata": {
    "collapsed": false,
    "pycharm": {
     "name": "#%% md\n"
    }
   }
  },
  {
   "cell_type": "markdown",
   "source": [
    "The performance of each previously specified model with respect to the chosen balancing technique is saved in a DataFrame."
   ],
   "metadata": {
    "collapsed": false,
    "pycharm": {
     "name": "#%% md\n"
    }
   }
  },
  {
   "cell_type": "code",
   "execution_count": null,
   "outputs": [],
   "source": [
    "def try_sample(df: pd.DataFrame, train_data_inside, train_target_inside, test_data_inside, test_target_inside,\n",
    "               balance: str) -> pd.DataFrame:\n",
    "    # Define evaluation procedure (here we use Stratified K-Fold CV)\n",
    "\n",
    "    cv = StratifiedKFold(n_splits=3)\n",
    "    # Evaluate model\n",
    "    scoring = ['f1_weighted']\n",
    "\n",
    "    for elm in models.items():\n",
    "        scores = cross_validate(elm[1], train_data_inside, train_target_inside, scoring=scoring, cv=cv, n_jobs=-1,\n",
    "                                return_estimator=True)\n",
    "\n",
    "        #gathering best estimator from cross validation\n",
    "        best_estimator_index = np.argmax(scores['test_f1_weighted'])\n",
    "        estimator = scores['estimator'][best_estimator_index]\n",
    "\n",
    "        # testing the estimator\n",
    "        y_pred = estimator.predict(test_data_inside)\n",
    "        f1_test = f1_score(test_target_inside, y_pred, average='weighted')\n",
    "\n",
    "        # summarize performance\n",
    "        new_sample = pd.DataFrame(\n",
    "            {'balance': [balance], 'model_name': [elm[0]], 'mean_f1_val': [np.mean(scores['test_f1_weighted'])],\n",
    "             'f1_score_test': [f1_test]})\n",
    "        df = pd.concat([df, new_sample])\n",
    "\n",
    "    print(df[df['balance'] == balance])\n",
    "\n",
    "    return df"
   ],
   "metadata": {
    "collapsed": false,
    "pycharm": {
     "name": "#%%\n"
    }
   }
  },
  {
   "cell_type": "markdown",
   "source": [
    "## Transformations"
   ],
   "metadata": {
    "collapsed": false,
    "pycharm": {
     "name": "#%% md\n"
    }
   }
  },
  {
   "cell_type": "markdown",
   "source": [
    "We have seen how min-max scaling is the best transformation technique in our dataset, so let us use the built-in functions to implement it."
   ],
   "metadata": {
    "collapsed": false,
    "pycharm": {
     "name": "#%% md\n"
    }
   }
  },
  {
   "cell_type": "code",
   "execution_count": null,
   "outputs": [],
   "source": [
    "features = [\n",
    "    'year',\n",
    "    'title_length',\n",
    "    'runtime',\n",
    "    'rating_count',\n",
    "    'tag_count'\n",
    "]\n",
    "\n",
    "scaler = ColumnTransformer(\n",
    "    remainder='passthrough',\n",
    "    transformers=[\n",
    "        ('minmax', MinMaxScaler(), features)\n",
    "    ])\n",
    "\n",
    "pipe = Pipeline(steps=[\n",
    "    ('scaler', scaler)\n",
    "])\n",
    "\n",
    "pipe.fit(train_data)\n",
    "train_data_proc = pipe.transform(train_data)\n",
    "test_data_proc = pipe.transform(test_data)"
   ],
   "metadata": {
    "collapsed": false,
    "pycharm": {
     "name": "#%%\n"
    }
   }
  },
  {
   "cell_type": "markdown",
   "source": [
    "## Use imbalanced-learn methods"
   ],
   "metadata": {
    "collapsed": false,
    "pycharm": {
     "name": "#%% md\n"
    }
   }
  },
  {
   "cell_type": "markdown",
   "source": [
    "## Define dataframe"
   ],
   "metadata": {
    "collapsed": false,
    "pycharm": {
     "name": "#%% md\n"
    }
   }
  },
  {
   "cell_type": "code",
   "execution_count": null,
   "outputs": [],
   "source": [
    "df = pd.DataFrame()"
   ],
   "metadata": {
    "collapsed": false,
    "pycharm": {
     "name": "#%%\n"
    }
   }
  },
  {
   "cell_type": "markdown",
   "source": [
    "### SMOTE"
   ],
   "metadata": {
    "collapsed": false,
    "pycharm": {
     "name": "#%% md\n"
    }
   }
  },
  {
   "cell_type": "code",
   "execution_count": null,
   "outputs": [],
   "source": [
    "smt = SMOTE(k_neighbors=4)\n",
    "train_data_smt_proc, train_target_smt_proc = smt.fit_resample(train_data_proc, train_target)\n",
    "df = try_sample(df, train_data_smt_proc, train_target_smt_proc, test_data_proc, test_target, 'SMOTE')"
   ],
   "metadata": {
    "collapsed": false,
    "pycharm": {
     "name": "#%%\n"
    }
   }
  },
  {
   "cell_type": "markdown",
   "source": [
    "### SMOTETomek"
   ],
   "metadata": {
    "collapsed": false,
    "pycharm": {
     "name": "#%% md\n"
    }
   }
  },
  {
   "cell_type": "code",
   "execution_count": null,
   "outputs": [],
   "source": [
    "smt_tom = SMOTETomek(smote=SMOTE(k_neighbors=4), tomek=TomekLinks(sampling_strategy='majority'))\n",
    "train_data_smt_tom, train_target_smt_tom = smt_tom.fit_resample(train_data, train_target)\n",
    "df = try_sample(df, train_data_smt_tom, train_target_smt_tom, test_data_proc, test_target, 'SMOTETomek')"
   ],
   "metadata": {
    "collapsed": false,
    "pycharm": {
     "name": "#%%\n"
    }
   }
  },
  {
   "cell_type": "markdown",
   "source": [
    "### SMOTEENN"
   ],
   "metadata": {
    "collapsed": false,
    "pycharm": {
     "name": "#%% md\n"
    }
   }
  },
  {
   "cell_type": "code",
   "execution_count": null,
   "outputs": [],
   "source": [
    "smt_enn = SMOTEENN(smote=SMOTE(k_neighbors=4), enn=EditedNearestNeighbours(n_neighbors=4))\n",
    "train_data_smt_enn_proc, train_target_smt_enn_proc = smt_enn.fit_resample(train_data_proc, train_target)\n",
    "df = try_sample(df, train_data_smt_enn_proc, train_target_smt_enn_proc, test_data_proc, test_target, 'SMOTEENN')"
   ],
   "metadata": {
    "collapsed": false,
    "pycharm": {
     "name": "#%%\n"
    }
   }
  },
  {
   "cell_type": "markdown",
   "source": [
    "### RandomOverSampler"
   ],
   "metadata": {
    "collapsed": false,
    "pycharm": {
     "name": "#%% md\n"
    }
   }
  },
  {
   "cell_type": "code",
   "execution_count": null,
   "outputs": [],
   "source": [
    "rnd_over = RandomOverSampler()\n",
    "train_data_rnd_over_proc, train_target_rnd_over_proc = rnd_over.fit_resample(train_data_proc, train_target)\n",
    "df = try_sample(df, train_data_rnd_over_proc, train_target_rnd_over_proc, test_data_proc, test_target,\n",
    "                'RandomOverSampler')"
   ],
   "metadata": {
    "collapsed": false,
    "pycharm": {
     "name": "#%%\n"
    }
   }
  },
  {
   "cell_type": "markdown",
   "source": [
    "### SMOTE with threshold"
   ],
   "metadata": {
    "collapsed": false,
    "pycharm": {
     "name": "#%% md\n"
    }
   }
  },
  {
   "cell_type": "markdown",
   "source": [
    "#### Calculate min threshold"
   ],
   "metadata": {
    "collapsed": false,
    "pycharm": {
     "name": "#%% md\n"
    }
   }
  },
  {
   "cell_type": "code",
   "execution_count": null,
   "outputs": [],
   "source": [
    "bins_count = train_target.value_counts()\n",
    "for i in range(len(bins_count)):\n",
    "    if bins_count[i] <= 500:\n",
    "        bins_count[i] = 500\n",
    "\n",
    "bin_sizes = bins_count.to_dict()"
   ],
   "metadata": {
    "collapsed": false,
    "pycharm": {
     "name": "#%%\n"
    }
   }
  },
  {
   "cell_type": "code",
   "execution_count": null,
   "outputs": [],
   "source": [
    "smt_new = SMOTE(k_neighbors=4, sampling_strategy=bin_sizes)\n",
    "train_data_smt_new, train_target_smt_new = smt_new.fit_resample(train_data_proc, train_target)\n",
    "df = try_sample(df, train_data_smt_new, train_target_smt_new, test_data_proc, test_target, 'SMOTE_threshold')"
   ],
   "metadata": {
    "collapsed": false,
    "pycharm": {
     "name": "#%%\n"
    }
   }
  },
  {
   "cell_type": "markdown",
   "source": [
    "## Comparison between models"
   ],
   "metadata": {
    "collapsed": false,
    "pycharm": {
     "name": "#%% md\n"
    }
   }
  },
  {
   "cell_type": "markdown",
   "source": [
    "It is necessary to prepare the datas as follow:\n",
    "- for each row it must contains the values of each group, since we have 5 groups it must contains 5 elements\n",
    "- the number of rows must be equal to the number of columns of each group"
   ],
   "metadata": {
    "collapsed": false,
    "pycharm": {
     "name": "#%% md\n"
    }
   }
  },
  {
   "cell_type": "code",
   "execution_count": null,
   "outputs": [],
   "source": [
    "data = []\n",
    "for elm in df['balance'].unique():\n",
    "    data.append(df[df['balance'] == elm]['f1_score_test'].to_numpy())"
   ],
   "metadata": {
    "collapsed": false,
    "pycharm": {
     "name": "#%%\n"
    }
   }
  },
  {
   "cell_type": "code",
   "execution_count": null,
   "outputs": [],
   "source": [
    "barplot_multiple_columns(df['model_name'].unique(), df['balance'].unique(), data,\n",
    "                         'Comparison of balancing strategy between models')"
   ],
   "metadata": {
    "collapsed": false,
    "pycharm": {
     "name": "#%%\n"
    }
   }
  },
  {
   "cell_type": "markdown",
   "source": [
    "## Show class distribution with the best balancing method"
   ],
   "metadata": {
    "collapsed": false,
    "pycharm": {
     "name": "#%% md\n"
    }
   }
  },
  {
   "cell_type": "code",
   "execution_count": null,
   "outputs": [],
   "source": [
    "show_class_distribution(train_target_smt_tom)"
   ],
   "metadata": {
    "collapsed": false,
    "pycharm": {
     "name": "#%%\n"
    }
   }
  },
  {
   "cell_type": "markdown",
   "source": [
    "## Balancer MLP"
   ],
   "metadata": {
    "collapsed": false,
    "pycharm": {
     "name": "#%% md\n"
    }
   }
  },
  {
   "cell_type": "markdown",
   "source": [
    "The torch library for handling data imbalance provides other techniques, in particular the choice was made to weight each sample according to its class using WeightedRandomSampler."
   ],
   "metadata": {
    "collapsed": false,
    "pycharm": {
     "name": "#%% md\n"
    }
   }
  },
  {
   "cell_type": "code",
   "execution_count": null,
   "outputs": [],
   "source": [
    "def balancer(train_target_tmp: np.ndarray) -> utils.data.WeightedRandomSampler:\n",
    "    counts = np.bincount(train_target_tmp)\n",
    "    # Is the class populated?\n",
    "    if counts.any(0):\n",
    "        np.seterr(divide='ignore')\n",
    "        labels_weights = 1. / counts\n",
    "        labels_weights[np.isinf(labels_weights)] = 0\n",
    "    else:\n",
    "        np.seterr(divide=None)\n",
    "        labels_weights = 1. / counts\n",
    "    weights = torch.tensor(labels_weights[train_target_tmp], dtype=torch.float)\n",
    "    print(weights)\n",
    "    return utils.data.WeightedRandomSampler(weights, len(weights), replacement=True)"
   ],
   "metadata": {
    "collapsed": false,
    "pycharm": {
     "name": "#%%\n"
    }
   }
  },
  {
   "cell_type": "code",
   "execution_count": null,
   "outputs": [],
   "source": [
    "sampler = balancer(train_target)"
   ],
   "metadata": {
    "collapsed": false,
    "pycharm": {
     "name": "#%%\n"
    }
   }
  }
 ],
 "metadata": {
  "kernelspec": {
   "name": "python38164bited6274c624204f37ae07345ca0d62202",
   "language": "python",
   "display_name": "Python 3.8.1 64-bit"
  },
  "language_info": {
   "codemirror_mode": {
    "name": "ipython",
    "version": 2
   },
   "file_extension": ".py",
   "mimetype": "text/x-python",
   "name": "python",
   "nbconvert_exporter": "python",
   "pygments_lexer": "ipython2",
   "version": "2.7.6"
  }
 },
 "nbformat": 4,
 "nbformat_minor": 0
}