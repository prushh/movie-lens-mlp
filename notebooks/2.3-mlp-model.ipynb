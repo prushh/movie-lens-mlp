{
 "cells": [
  {
   "cell_type": "markdown",
   "source": [
    "# Network model (MLP)"
   ],
   "metadata": {
    "collapsed": false,
    "pycharm": {
     "name": "#%% md\n"
    }
   }
  },
  {
   "cell_type": "code",
   "execution_count": null,
   "outputs": [],
   "source": [
    "% matplotlib inline\n",
    "% load_ext autoreload\n",
    "% autoreload 2"
   ],
   "metadata": {
    "collapsed": false,
    "pycharm": {
     "name": "#%%\n"
    }
   }
  },
  {
   "cell_type": "markdown",
   "source": [
    "## Imports"
   ],
   "metadata": {
    "collapsed": false,
    "pycharm": {
     "name": "#%% md\n"
    }
   }
  },
  {
   "cell_type": "code",
   "execution_count": null,
   "outputs": [],
   "source": [
    "import os\n",
    "\n",
    "import numpy as np\n",
    "import pandas as pd\n",
    "import torch\n",
    "from matplotlib import pyplot as plt\n",
    "from sklearn.model_selection import train_test_split\n",
    "from sklearn.preprocessing import MinMaxScaler\n",
    "from sklearn.discriminant_analysis import LinearDiscriminantAnalysis\n",
    "\n",
    "from src.data.dataset import MovieDataset\n",
    "from src.utils.const import DATA_DIR, SEED"
   ],
   "metadata": {
    "collapsed": false,
    "pycharm": {
     "name": "#%%\n"
    }
   }
  },
  {
   "cell_type": "markdown",
   "source": [
    "### Useful path to data"
   ],
   "metadata": {
    "collapsed": false,
    "pycharm": {
     "name": "#%% md\n"
    }
   }
  },
  {
   "cell_type": "code",
   "execution_count": null,
   "outputs": [],
   "source": [
    "ROOT_DIR = os.path.join(os.getcwd(), '..')\n",
    "PROCESSED_DIR = os.path.join(ROOT_DIR, DATA_DIR, 'processed')"
   ],
   "metadata": {
    "collapsed": false,
    "pycharm": {
     "name": "#%%\n"
    }
   }
  },
  {
   "cell_type": "markdown",
   "source": [
    "### Repeatability"
   ],
   "metadata": {
    "collapsed": false,
    "pycharm": {
     "name": "#%% md\n"
    }
   }
  },
  {
   "cell_type": "code",
   "execution_count": null,
   "outputs": [],
   "source": [
    "np.random.seed(SEED)\n",
    "torch.manual_seed(SEED)\n",
    "torch.cuda.manual_seed(SEED)\n",
    "torch.use_deterministic_algorithms(True)"
   ],
   "metadata": {
    "collapsed": false,
    "pycharm": {
     "name": "#%%\n"
    }
   }
  },
  {
   "cell_type": "markdown",
   "source": [
    "## Import final dataset"
   ],
   "metadata": {
    "collapsed": false,
    "pycharm": {
     "name": "#%% md\n"
    }
   }
  },
  {
   "cell_type": "code",
   "execution_count": null,
   "outputs": [],
   "source": [
    "df = pd.read_parquet(os.path.join(PROCESSED_DIR, 'final.parquet'))"
   ],
   "metadata": {
    "collapsed": false,
    "pycharm": {
     "name": "#%%\n"
    }
   }
  },
  {
   "cell_type": "markdown",
   "source": [
    "## Work with Dataset"
   ],
   "metadata": {
    "collapsed": false,
    "pycharm": {
     "name": "#%% md\n"
    }
   }
  },
  {
   "cell_type": "code",
   "execution_count": null,
   "outputs": [],
   "source": [
    "dataset = MovieDataset(df)"
   ],
   "metadata": {
    "collapsed": false,
    "pycharm": {
     "name": "#%%\n"
    }
   }
  },
  {
   "cell_type": "code",
   "execution_count": null,
   "outputs": [],
   "source": [
    "samples = np.arange(len(dataset))\n",
    "train_idx_tmp, test_idx = train_test_split(samples, test_size=0.2, stratify=dataset.y)\n",
    "train_idx, val_idx = train_test_split(train_idx_tmp, test_size=0.1, stratify=dataset.y[train_idx_tmp])"
   ],
   "metadata": {
    "collapsed": false,
    "pycharm": {
     "name": "#%%\n"
    }
   }
  },
  {
   "cell_type": "markdown",
   "source": [
    "### Scaler"
   ],
   "metadata": {
    "collapsed": false,
    "pycharm": {
     "name": "#%% md\n"
    }
   }
  },
  {
   "cell_type": "code",
   "execution_count": null,
   "outputs": [],
   "source": [
    "def overview(data):\n",
    "    train_data = data.X[train_idx]\n",
    "    test_data = data.X[test_idx]\n",
    "    val_data = data.X[val_idx]\n",
    "\n",
    "    plt.scatter(\n",
    "        train_data[:, dataset.map_columns['year']],\n",
    "        train_data[:, dataset.map_columns['title_length']],\n",
    "        c='r'\n",
    "    )\n",
    "    plt.scatter(\n",
    "        test_data[:, dataset.map_columns['year']],\n",
    "        test_data[:, dataset.map_columns['title_length']],\n",
    "        c='g'\n",
    "    )\n",
    "    plt.scatter(\n",
    "        val_data[:, dataset.map_columns['year']],\n",
    "        val_data[:, dataset.map_columns['title_length']],\n",
    "        c='b'\n",
    "    )"
   ],
   "metadata": {
    "collapsed": false,
    "pycharm": {
     "name": "#%%\n"
    }
   }
  },
  {
   "cell_type": "code",
   "execution_count": null,
   "outputs": [],
   "source": [
    "overview(dataset)"
   ],
   "metadata": {
    "collapsed": false,
    "pycharm": {
     "name": "#%%\n"
    }
   }
  },
  {
   "cell_type": "code",
   "execution_count": null,
   "outputs": [],
   "source": [
    "scaler = MinMaxScaler()\n",
    "# scaler = StandardScaler()\n",
    "features = [\n",
    "    dataset.map_columns['year'],\n",
    "    dataset.map_columns['title_length'],\n",
    "    dataset.map_columns['runtime'],\n",
    "    dataset.map_columns['rating_count']\n",
    "]\n",
    "dataset.scale(train_idx, test_idx, val_idx, scaler, features)"
   ],
   "metadata": {
    "collapsed": false,
    "pycharm": {
     "name": "#%%\n"
    }
   }
  },
  {
   "cell_type": "code",
   "execution_count": null,
   "outputs": [],
   "source": [
    "overview(dataset)"
   ],
   "metadata": {
    "collapsed": false,
    "pycharm": {
     "name": "#%%\n"
    }
   }
  },
  {
   "cell_type": "markdown",
   "source": [
    "### Normalization"
   ],
   "metadata": {
    "collapsed": false,
    "pycharm": {
     "name": "#%% md\n"
    }
   }
  },
  {
   "cell_type": "code",
   "execution_count": null,
   "outputs": [],
   "source": [
    "def overview_norm(data):\n",
    "    train_data = data.X[train_idx]\n",
    "    test_data = data.X[test_idx]\n",
    "    val_data = data.X[val_idx]\n",
    "\n",
    "    plt.scatter(\n",
    "        train_data[:, dataset.map_columns['year']],\n",
    "        train_data[:, dataset.map_columns['title_length']],\n",
    "        c='r'\n",
    "    )\n",
    "    plt.scatter(\n",
    "        test_data[:, dataset.map_columns['year']],\n",
    "        test_data[:, dataset.map_columns['title_length']],\n",
    "        c='g'\n",
    "    )\n",
    "    plt.scatter(\n",
    "        val_data[:, dataset.map_columns['year']],\n",
    "        val_data[:, dataset.map_columns['title_length']],\n",
    "        c='b'\n",
    "    )"
   ],
   "metadata": {
    "collapsed": false,
    "pycharm": {
     "name": "#%%\n"
    }
   }
  },
  {
   "cell_type": "code",
   "execution_count": null,
   "outputs": [],
   "source": [
    "dataset.normalize(train_idx, test_idx, val_idx, norm='max')"
   ],
   "metadata": {
    "collapsed": false,
    "pycharm": {
     "name": "#%%\n"
    }
   }
  },
  {
   "cell_type": "code",
   "execution_count": null,
   "outputs": [],
   "source": [
    "overview_norm(dataset)"
   ],
   "metadata": {
    "collapsed": false,
    "pycharm": {
     "name": "#%%\n"
    }
   }
  },
  {
   "cell_type": "code",
   "execution_count": 3,
   "outputs": [],
   "source": [
    "% load_ext tensorboard"
   ],
   "metadata": {
    "collapsed": false,
    "pycharm": {
     "name": "#%%\n"
    }
   }
  },
  {
   "cell_type": "code",
   "execution_count": 4,
   "outputs": [
    {
     "data": {
      "text/plain": "Launching TensorBoard..."
     },
     "metadata": {},
     "output_type": "display_data"
    }
   ],
   "source": [
    "% tensorboard --logdir../ src / models / network / logs"
   ],
   "metadata": {
    "collapsed": false,
    "pycharm": {
     "name": "#%%\n"
    }
   }
  },
  {
   "cell_type": "code",
   "execution_count": 48,
   "outputs": [],
   "source": [
    "from src.models.config import param_layers, param_grid_mlp\n",
    "import itertools\n",
    "\n",
    "hyper_parameters_model = itertools.product(\n",
    "    param_layers['input_act'],\n",
    "    param_layers['hidden_act'],\n",
    "    param_layers['hidden_size'],\n",
    "    param_layers['num_hidden_layers'],\n",
    "    param_layers['dropout'],\n",
    "    param_layers['batch_norm'],\n",
    "    param_layers['output_fn'],\n",
    "    param_grid_mlp['starting_lr'],\n",
    "    param_grid_mlp['num_epochs'],\n",
    "    param_grid_mlp['batch_size'],\n",
    "    param_grid_mlp['optim'],\n",
    "    param_grid_mlp['momentum'],\n",
    "    param_grid_mlp['weight_decay'],\n",
    ")"
   ],
   "metadata": {
    "collapsed": false,
    "pycharm": {
     "name": "#%%\n"
    }
   }
  },
  {
   "cell_type": "code",
   "execution_count": 45,
   "outputs": [],
   "source": [
    "def get_set_params(prod, num_sets: int, selected_set: int):\n",
    "    if selected_set > num_sets:\n",
    "        selected_set = num_sets - 1\n",
    "\n",
    "\n",
    "    def chunkify(lst, n):\n",
    "        return [lst[i::n] for i in range(n)]\n",
    "\n",
    "\n",
    "    tagged_list = [(index,) + element for index, element in enumerate(list(prod))]\n",
    "    return chunkify(tagged_list, num_sets)[selected_set]"
   ],
   "metadata": {
    "collapsed": false,
    "pycharm": {
     "name": "#%%\n"
    }
   }
  },
  {
   "cell_type": "code",
   "execution_count": 49,
   "outputs": [
    {
     "data": {
      "text/plain": "[(0,\n  ReLU(),\n  LeakyReLU(negative_slope=0.01),\n  512,\n  5,\n  0.2,\n  False,\n  None,\n  0.001,\n  200,\n  128,\n  torch.optim.adam.Adam,\n  0.9,\n  1e-06)]"
     },
     "execution_count": 49,
     "metadata": {},
     "output_type": "execute_result"
    }
   ],
   "source": [
    "get_set_params(hyper_parameters_model, 2, 0)"
   ],
   "metadata": {
    "collapsed": false,
    "pycharm": {
     "name": "#%%\n"
    }
   }
  }
 ],
 "metadata": {
  "kernelspec": {
   "display_name": "Python 3",
   "language": "python",
   "name": "python3"
  },
  "language_info": {
   "codemirror_mode": {
    "name": "ipython",
    "version": 2
   },
   "file_extension": ".py",
   "mimetype": "text/x-python",
   "name": "python",
   "nbconvert_exporter": "python",
   "pygments_lexer": "ipython2",
   "version": "2.7.6"
  }
 },
 "nbformat": 4,
 "nbformat_minor": 0
}