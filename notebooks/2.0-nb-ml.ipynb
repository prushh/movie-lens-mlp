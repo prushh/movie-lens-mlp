{
 "cells": [
  {
   "cell_type": "markdown",
   "source": [
    "# NB methods"
   ],
   "metadata": {
    "collapsed": false,
    "pycharm": {
     "name": "#%% md\n"
    }
   }
  },
  {
   "cell_type": "markdown",
   "source": [
    "## Imports"
   ],
   "metadata": {
    "collapsed": false,
    "pycharm": {
     "name": "#%% md\n"
    }
   }
  },
  {
   "cell_type": "code",
   "execution_count": null,
   "outputs": [],
   "source": [
    "import os\n",
    "\n",
    "import numpy as np\n",
    "import pandas as pd\n",
    "from sklearn.model_selection import train_test_split\n",
    "from sklearn.naive_bayes import GaussianNB\n",
    "from torch.utils.data import Subset\n",
    "\n",
    "from src.data.preprocessing import preprocessing\n",
    "from src.utils.const import DATA_DIR"
   ],
   "metadata": {
    "collapsed": false,
    "pycharm": {
     "name": "#%%\n"
    }
   }
  },
  {
   "cell_type": "markdown",
   "source": [
    "### Useful path to data"
   ],
   "metadata": {
    "collapsed": false,
    "pycharm": {
     "name": "#%% md\n"
    }
   }
  },
  {
   "cell_type": "code",
   "execution_count": null,
   "outputs": [],
   "source": [
    "ROOT_DIR = os.path.join(os.getcwd(), '..')\n",
    "RAW_DIR = os.path.join(ROOT_DIR, DATA_DIR, 'raw')\n",
    "INTERIM_DIR = os.path.join(ROOT_DIR, DATA_DIR, 'interim')\n",
    "PROCESSED_DIR = os.path.join(ROOT_DIR, DATA_DIR, 'processed')"
   ],
   "metadata": {
    "collapsed": false,
    "pycharm": {
     "name": "#%%\n"
    }
   }
  },
  {
   "cell_type": "markdown",
   "source": [
    "## Import final.parquet"
   ],
   "metadata": {
    "collapsed": false,
    "pycharm": {
     "name": "#%% md\n"
    }
   }
  },
  {
   "cell_type": "code",
   "execution_count": null,
   "outputs": [],
   "source": [
    "final = preprocessing()"
   ],
   "metadata": {
    "collapsed": false,
    "pycharm": {
     "name": "#%%\n"
    }
   }
  },
  {
   "cell_type": "code",
   "execution_count": null,
   "outputs": [],
   "source": [
    "final = pd.read_parquet(os.path.join(PROCESSED_DIR, 'final.parquet'))"
   ],
   "metadata": {
    "collapsed": false,
    "pycharm": {
     "name": "#%%\n"
    }
   }
  },
  {
   "cell_type": "code",
   "execution_count": null,
   "outputs": [],
   "source": [
    "train_idx, val_idx = train_test_split(\n",
    "    np.arange(len(final)), test_size=0.2, random_state=42)\n",
    "train_subset = Subset(final, train_idx)\n",
    "test_subset = Subset(final, val_idx)\n",
    "train_x = train_subset.loc[:, final.columns != 'rating_mean']\n",
    "train_y = train_subset.loc[:, final.columns == 'rating_mean']\n",
    "test_x = test_subset.loc[:, final.columns != 'rating_mean']\n",
    "test_y = test_subset.loc[:, final.columns == 'rating_mean']"
   ],
   "metadata": {
    "collapsed": false,
    "pycharm": {
     "name": "#%%\n"
    }
   }
  },
  {
   "cell_type": "code",
   "execution_count": null,
   "outputs": [],
   "source": [
    "gnb = GaussianNB()\n",
    "gnb.fit(train_x,train_y).predict(test_x)\n",
    "print(\"Avg accuracy: \", gnb.score(test_x, test_y))\n",
    "print(\"Mean of the Gaussian Estimators\")\n",
    "print(gnb.theta_)\n",
    "print(\"Std Dev of the Gaussian Estimators\")\n",
    "print(gnb.sigma_)"
   ],
   "metadata": {
    "collapsed": false,
    "pycharm": {
     "name": "#%%\n"
    }
   }
  }
 ],
 "metadata": {
  "kernelspec": {
   "display_name": "Python 3",
   "language": "python",
   "name": "python3"
  },
  "language_info": {
   "codemirror_mode": {
    "name": "ipython",
    "version": 2
   },
   "file_extension": ".py",
   "mimetype": "text/x-python",
   "name": "python",
   "nbconvert_exporter": "python",
   "pygments_lexer": "ipython2",
   "version": "2.7.6"
  }
 },
 "nbformat": 4,
 "nbformat_minor": 0
}